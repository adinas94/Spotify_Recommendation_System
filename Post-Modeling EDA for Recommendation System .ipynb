{
 "cells": [
  {
   "cell_type": "code",
   "execution_count": null,
   "metadata": {},
   "outputs": [],
   "source": [
    "##Post modeling EDA should be on the predictions and see how those compare to the original \n",
    "# if there are a lot of songs that have the same rating like all the songs have 5, with the probability predicted ratings it gives\n",
    "#more variety in the songs raitngs results \n",
    "# this is happening because we have one rating per track and that ratingi s binary therefore having the preidcted probability ratings intsead it gives more context \n",
    "#as to which songs are actually better or not and therefore my recommendations are stronger "
   ]
  },
  {
   "cell_type": "markdown",
   "metadata": {},
   "source": [
    "# Post-Modeling EDA for Recommendation System "
   ]
  },
  {
   "cell_type": "code",
   "execution_count": 2,
   "metadata": {},
   "outputs": [],
   "source": [
    "#Import relevant packages\n",
    "import pandas as pd\n",
    "import seaborn as sns\n",
    "import numpy as np\n",
    "\n",
    "import matplotlib.pyplot as plt\n",
    "%matplotlib inline"
   ]
  },
  {
   "cell_type": "code",
   "execution_count": 3,
   "metadata": {},
   "outputs": [
    {
     "data": {
      "text/html": [
       "<div>\n",
       "<style scoped>\n",
       "    .dataframe tbody tr th:only-of-type {\n",
       "        vertical-align: middle;\n",
       "    }\n",
       "\n",
       "    .dataframe tbody tr th {\n",
       "        vertical-align: top;\n",
       "    }\n",
       "\n",
       "    .dataframe thead th {\n",
       "        text-align: right;\n",
       "    }\n",
       "</style>\n",
       "<table border=\"1\" class=\"dataframe\">\n",
       "  <thead>\n",
       "    <tr style=\"text-align: right;\">\n",
       "      <th></th>\n",
       "      <th>Unnamed: 0</th>\n",
       "      <th>artist_id</th>\n",
       "      <th>track_id</th>\n",
       "      <th>estimatedrating</th>\n",
       "    </tr>\n",
       "  </thead>\n",
       "  <tbody>\n",
       "    <tr>\n",
       "      <th>0</th>\n",
       "      <td>0</td>\n",
       "      <td>6jJ0s89eD6GaHleKKya26X</td>\n",
       "      <td>4lCv7b86sLynZbXhfScfm2</td>\n",
       "      <td>2.879891</td>\n",
       "    </tr>\n",
       "    <tr>\n",
       "      <th>1</th>\n",
       "      <td>1</td>\n",
       "      <td>6jJ0s89eD6GaHleKKya26X</td>\n",
       "      <td>6tS3XVuOyu10897O3ae7bi</td>\n",
       "      <td>2.962680</td>\n",
       "    </tr>\n",
       "  </tbody>\n",
       "</table>\n",
       "</div>"
      ],
      "text/plain": [
       "   Unnamed: 0               artist_id                track_id  estimatedrating\n",
       "0           0  6jJ0s89eD6GaHleKKya26X  4lCv7b86sLynZbXhfScfm2         2.879891\n",
       "1           1  6jJ0s89eD6GaHleKKya26X  6tS3XVuOyu10897O3ae7bi         2.962680"
      ]
     },
     "execution_count": 3,
     "metadata": {},
     "output_type": "execute_result"
    }
   ],
   "source": [
    "#Read the saved 'estimated' file which is a dataframe containing predicted movie ratings\n",
    "est = pd.read_csv('df_estimated')\n",
    "est.head(2)"
   ]
  },
  {
   "cell_type": "code",
   "execution_count": 4,
   "metadata": {},
   "outputs": [
    {
     "name": "stdout",
     "output_type": "stream",
     "text": [
      "<class 'pandas.core.frame.DataFrame'>\n",
      "RangeIndex: 16265730 entries, 0 to 16265729\n",
      "Data columns (total 3 columns):\n",
      "artist_id          object\n",
      "track_id           object\n",
      "estimatedrating    float64\n",
      "dtypes: float64(1), object(2)\n",
      "memory usage: 372.3+ MB\n"
     ]
    }
   ],
   "source": [
    "#Drop unnecessary columns \n",
    "est.drop(['Unnamed: 0'], axis=1, inplace=True)\n",
    "#Explore remaining columns \n",
    "est.info()"
   ]
  },
  {
   "cell_type": "code",
   "execution_count": 5,
   "metadata": {},
   "outputs": [
    {
     "data": {
      "text/plain": [
       "artist_id          0\n",
       "track_id           0\n",
       "estimatedrating    0\n",
       "dtype: int64"
      ]
     },
     "execution_count": 5,
     "metadata": {},
     "output_type": "execute_result"
    }
   ],
   "source": [
    "#Check for NA values \n",
    "est.isna().sum()"
   ]
  },
  {
   "cell_type": "code",
   "execution_count": 6,
   "metadata": {},
   "outputs": [
    {
     "data": {
      "text/plain": [
       "artist_id              2327\n",
       "track_id               6990\n",
       "estimatedrating    11567221\n",
       "dtype: int64"
      ]
     },
     "execution_count": 6,
     "metadata": {},
     "output_type": "execute_result"
    }
   ],
   "source": [
    "#Check how many unique values of each column \n",
    "est.nunique()"
   ]
  },
  {
   "cell_type": "code",
   "execution_count": null,
   "metadata": {},
   "outputs": [],
   "source": []
  }
 ],
 "metadata": {
  "kernelspec": {
   "display_name": "Python 3",
   "language": "python",
   "name": "python3"
  },
  "language_info": {
   "codemirror_mode": {
    "name": "ipython",
    "version": 3
   },
   "file_extension": ".py",
   "mimetype": "text/x-python",
   "name": "python",
   "nbconvert_exporter": "python",
   "pygments_lexer": "ipython3",
   "version": "3.6.9"
  }
 },
 "nbformat": 4,
 "nbformat_minor": 4
}
