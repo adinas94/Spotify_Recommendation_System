{
 "cells": [
  {
   "cell_type": "code",
   "execution_count": 1,
   "metadata": {},
   "outputs": [],
   "source": [
    "##Post modeling EDA should be on the predictions and see how those compare to the original \n",
    "# if there are a lot of songs that have the same rating like all the songs have 5, with the probability predicted ratings it gives\n",
    "#more variety in the songs raitngs results \n",
    "# this is happening because we have one rating per track and that ratingi s binary therefore having the preidcted probability ratings intsead it gives more context \n",
    "#as to which songs are actually better or not and therefore my recommendations are stronger "
   ]
  },
  {
   "cell_type": "markdown",
   "metadata": {},
   "source": [
    "#Make a notebook of which notebooks are needed for this file "
   ]
  },
  {
   "cell_type": "markdown",
   "metadata": {},
   "source": [
    "# Post-Modeling EDA for Recommendation System "
   ]
  },
  {
   "cell_type": "code",
   "execution_count": 1,
   "metadata": {},
   "outputs": [],
   "source": [
    "#Import relevant packages\n",
    "import pandas as pd\n",
    "import seaborn as sns\n",
    "import numpy as np\n",
    "\n",
    "import matplotlib.pyplot as plt\n",
    "%matplotlib inline"
   ]
  },
  {
   "cell_type": "code",
   "execution_count": 2,
   "metadata": {},
   "outputs": [],
   "source": [
    "est = pd.read_csv('df_estimated')\n",
    "# est.drop(['Unnamed: 0'], axis=1, inplace=True)"
   ]
  },
  {
   "cell_type": "code",
   "execution_count": 3,
   "metadata": {
    "scrolled": true
   },
   "outputs": [
    {
     "data": {
      "text/html": [
       "<div>\n",
       "<style scoped>\n",
       "    .dataframe tbody tr th:only-of-type {\n",
       "        vertical-align: middle;\n",
       "    }\n",
       "\n",
       "    .dataframe tbody tr th {\n",
       "        vertical-align: top;\n",
       "    }\n",
       "\n",
       "    .dataframe thead th {\n",
       "        text-align: right;\n",
       "    }\n",
       "</style>\n",
       "<table border=\"1\" class=\"dataframe\">\n",
       "  <thead>\n",
       "    <tr style=\"text-align: right;\">\n",
       "      <th></th>\n",
       "      <th>Unnamed: 0</th>\n",
       "      <th>artist_id</th>\n",
       "      <th>track_id</th>\n",
       "      <th>estimatedrating</th>\n",
       "    </tr>\n",
       "  </thead>\n",
       "  <tbody>\n",
       "    <tr>\n",
       "      <th>0</th>\n",
       "      <td>0</td>\n",
       "      <td>6jJ0s89eD6GaHleKKya26X</td>\n",
       "      <td>4lCv7b86sLynZbXhfScfm2</td>\n",
       "      <td>2.882593</td>\n",
       "    </tr>\n",
       "    <tr>\n",
       "      <th>1</th>\n",
       "      <td>1</td>\n",
       "      <td>6jJ0s89eD6GaHleKKya26X</td>\n",
       "      <td>6tS3XVuOyu10897O3ae7bi</td>\n",
       "      <td>2.962649</td>\n",
       "    </tr>\n",
       "  </tbody>\n",
       "</table>\n",
       "</div>"
      ],
      "text/plain": [
       "   Unnamed: 0               artist_id                track_id  estimatedrating\n",
       "0           0  6jJ0s89eD6GaHleKKya26X  4lCv7b86sLynZbXhfScfm2         2.882593\n",
       "1           1  6jJ0s89eD6GaHleKKya26X  6tS3XVuOyu10897O3ae7bi         2.962649"
      ]
     },
     "execution_count": 3,
     "metadata": {},
     "output_type": "execute_result"
    }
   ],
   "source": [
    "est.head(2)"
   ]
  },
  {
   "cell_type": "code",
   "execution_count": 4,
   "metadata": {},
   "outputs": [
    {
     "data": {
      "text/plain": [
       "(16265730, 4)"
      ]
     },
     "execution_count": 4,
     "metadata": {},
     "output_type": "execute_result"
    }
   ],
   "source": [
    "est.shape"
   ]
  },
  {
   "cell_type": "code",
   "execution_count": 23,
   "metadata": {},
   "outputs": [
    {
     "data": {
      "text/plain": [
       "artist_id          0\n",
       "track_id           0\n",
       "estimatedrating    0\n",
       "dtype: int64"
      ]
     },
     "execution_count": 23,
     "metadata": {},
     "output_type": "execute_result"
    }
   ],
   "source": [
    "#Check for NA values \n",
    "est.isna().sum()"
   ]
  },
  {
   "cell_type": "code",
   "execution_count": 24,
   "metadata": {},
   "outputs": [
    {
     "data": {
      "text/plain": [
       "artist_id           2327\n",
       "track_id            6990\n",
       "estimatedrating    76413\n",
       "dtype: int64"
      ]
     },
     "execution_count": 24,
     "metadata": {},
     "output_type": "execute_result"
    }
   ],
   "source": [
    "#Check how many unique values of each column \n",
    "est.nunique()"
   ]
  },
  {
   "cell_type": "code",
   "execution_count": 25,
   "metadata": {
    "scrolled": true
   },
   "outputs": [
    {
     "data": {
      "text/html": [
       "<div>\n",
       "<style scoped>\n",
       "    .dataframe tbody tr th:only-of-type {\n",
       "        vertical-align: middle;\n",
       "    }\n",
       "\n",
       "    .dataframe tbody tr th {\n",
       "        vertical-align: top;\n",
       "    }\n",
       "\n",
       "    .dataframe thead th {\n",
       "        text-align: right;\n",
       "    }\n",
       "</style>\n",
       "<table border=\"1\" class=\"dataframe\">\n",
       "  <thead>\n",
       "    <tr style=\"text-align: right;\">\n",
       "      <th></th>\n",
       "      <th>artist</th>\n",
       "      <th>artist_id</th>\n",
       "      <th>album</th>\n",
       "      <th>track_name</th>\n",
       "      <th>is_explicit</th>\n",
       "      <th>track_id</th>\n",
       "      <th>danceability</th>\n",
       "      <th>energy</th>\n",
       "      <th>key</th>\n",
       "      <th>loudness</th>\n",
       "      <th>...</th>\n",
       "      <th>genre_electronic</th>\n",
       "      <th>genre_hip hop</th>\n",
       "      <th>genre_house</th>\n",
       "      <th>genre_indie</th>\n",
       "      <th>genre_pop</th>\n",
       "      <th>genre_punk</th>\n",
       "      <th>genre_r&amp;b</th>\n",
       "      <th>genre_rap</th>\n",
       "      <th>genre_rock</th>\n",
       "      <th>genre_soul</th>\n",
       "    </tr>\n",
       "  </thead>\n",
       "  <tbody>\n",
       "    <tr>\n",
       "      <th>0</th>\n",
       "      <td>Katy Perry</td>\n",
       "      <td>6jJ0s89eD6GaHleKKya26X</td>\n",
       "      <td>Katy Perry - Teenage Dream: The Complete Confe...</td>\n",
       "      <td>Firework</td>\n",
       "      <td>0</td>\n",
       "      <td>4lCv7b86sLynZbXhfScfm2</td>\n",
       "      <td>0.638</td>\n",
       "      <td>0.826</td>\n",
       "      <td>8</td>\n",
       "      <td>-4.968</td>\n",
       "      <td>...</td>\n",
       "      <td>0</td>\n",
       "      <td>0</td>\n",
       "      <td>0</td>\n",
       "      <td>0</td>\n",
       "      <td>0</td>\n",
       "      <td>0</td>\n",
       "      <td>0</td>\n",
       "      <td>0</td>\n",
       "      <td>0</td>\n",
       "      <td>0</td>\n",
       "    </tr>\n",
       "    <tr>\n",
       "      <th>1</th>\n",
       "      <td>Katy Perry</td>\n",
       "      <td>6jJ0s89eD6GaHleKKya26X</td>\n",
       "      <td>Katy Perry - Teenage Dream: The Complete Confe...</td>\n",
       "      <td>California Gurls</td>\n",
       "      <td>0</td>\n",
       "      <td>6tS3XVuOyu10897O3ae7bi</td>\n",
       "      <td>0.791</td>\n",
       "      <td>0.754</td>\n",
       "      <td>0</td>\n",
       "      <td>-3.729</td>\n",
       "      <td>...</td>\n",
       "      <td>0</td>\n",
       "      <td>0</td>\n",
       "      <td>0</td>\n",
       "      <td>0</td>\n",
       "      <td>0</td>\n",
       "      <td>0</td>\n",
       "      <td>0</td>\n",
       "      <td>0</td>\n",
       "      <td>0</td>\n",
       "      <td>0</td>\n",
       "    </tr>\n",
       "  </tbody>\n",
       "</table>\n",
       "<p>2 rows × 39 columns</p>\n",
       "</div>"
      ],
      "text/plain": [
       "       artist               artist_id  \\\n",
       "0  Katy Perry  6jJ0s89eD6GaHleKKya26X   \n",
       "1  Katy Perry  6jJ0s89eD6GaHleKKya26X   \n",
       "\n",
       "                                               album        track_name  \\\n",
       "0  Katy Perry - Teenage Dream: The Complete Confe...          Firework   \n",
       "1  Katy Perry - Teenage Dream: The Complete Confe...  California Gurls   \n",
       "\n",
       "   is_explicit                track_id  danceability  energy  key  loudness  \\\n",
       "0            0  4lCv7b86sLynZbXhfScfm2         0.638   0.826    8    -4.968   \n",
       "1            0  6tS3XVuOyu10897O3ae7bi         0.791   0.754    0    -3.729   \n",
       "\n",
       "   ...  genre_electronic  genre_hip hop  genre_house  genre_indie  genre_pop  \\\n",
       "0  ...                 0              0            0            0          0   \n",
       "1  ...                 0              0            0            0          0   \n",
       "\n",
       "   genre_punk  genre_r&b  genre_rap  genre_rock  genre_soul  \n",
       "0           0          0          0           0           0  \n",
       "1           0          0          0           0           0  \n",
       "\n",
       "[2 rows x 39 columns]"
      ]
     },
     "execution_count": 25,
     "metadata": {},
     "output_type": "execute_result"
    }
   ],
   "source": [
    "act = pd.read_csv('modelingdata')\n",
    "act.drop(['Unnamed: 0'], axis=1, inplace=True)\n",
    "act.head(2)"
   ]
  },
  {
   "cell_type": "code",
   "execution_count": 48,
   "metadata": {},
   "outputs": [
    {
     "name": "stdout",
     "output_type": "stream",
     "text": [
      "<class 'pandas.core.frame.DataFrame'>\n",
      "RangeIndex: 7041 entries, 0 to 7040\n",
      "Data columns (total 39 columns):\n",
      "artist              7041 non-null object\n",
      "artist_id           7041 non-null object\n",
      "album               7041 non-null object\n",
      "track_name          7041 non-null object\n",
      "is_explicit         7041 non-null int64\n",
      "track_id            7041 non-null object\n",
      "danceability        7041 non-null float64\n",
      "energy              7041 non-null float64\n",
      "key                 7041 non-null int64\n",
      "loudness            7041 non-null float64\n",
      "mode                7041 non-null int64\n",
      "speechiness         7041 non-null float64\n",
      "acousticness        7041 non-null float64\n",
      "instrumentalness    7041 non-null float64\n",
      "liveness            7041 non-null float64\n",
      "valence             7041 non-null float64\n",
      "tempo               7041 non-null float64\n",
      "duration_ms         7041 non-null int64\n",
      "ratings             7041 non-null int64\n",
      "decade_1960         7041 non-null int64\n",
      "decade_1970         7041 non-null int64\n",
      "decade_1980         7041 non-null int64\n",
      "decade_1990         7041 non-null int64\n",
      "decade_2000         7041 non-null int64\n",
      "decade_2010         7041 non-null int64\n",
      "genrecategory       7041 non-null object\n",
      "genre_acoustic      7041 non-null int64\n",
      "genre_country       7041 non-null int64\n",
      "genre_dance         7041 non-null int64\n",
      "genre_electronic    7041 non-null int64\n",
      "genre_hip hop       7041 non-null int64\n",
      "genre_house         7041 non-null int64\n",
      "genre_indie         7041 non-null int64\n",
      "genre_pop           7041 non-null int64\n",
      "genre_punk          7041 non-null int64\n",
      "genre_r&b           7041 non-null int64\n",
      "genre_rap           7041 non-null int64\n",
      "genre_rock          7041 non-null int64\n",
      "genre_soul          7041 non-null int64\n",
      "dtypes: float64(9), int64(24), object(6)\n",
      "memory usage: 2.1+ MB\n"
     ]
    }
   ],
   "source": [
    "act.info()"
   ]
  },
  {
   "cell_type": "code",
   "execution_count": 26,
   "metadata": {},
   "outputs": [
    {
     "data": {
      "text/plain": [
       "artist              0\n",
       "artist_id           0\n",
       "album               0\n",
       "track_name          0\n",
       "is_explicit         0\n",
       "track_id            0\n",
       "danceability        0\n",
       "energy              0\n",
       "key                 0\n",
       "loudness            0\n",
       "mode                0\n",
       "speechiness         0\n",
       "acousticness        0\n",
       "instrumentalness    0\n",
       "liveness            0\n",
       "valence             0\n",
       "tempo               0\n",
       "duration_ms         0\n",
       "ratings             0\n",
       "decade_1960         0\n",
       "decade_1970         0\n",
       "decade_1980         0\n",
       "decade_1990         0\n",
       "decade_2000         0\n",
       "decade_2010         0\n",
       "genrecategory       0\n",
       "genre_acoustic      0\n",
       "genre_country       0\n",
       "genre_dance         0\n",
       "genre_electronic    0\n",
       "genre_hip hop       0\n",
       "genre_house         0\n",
       "genre_indie         0\n",
       "genre_pop           0\n",
       "genre_punk          0\n",
       "genre_r&b           0\n",
       "genre_rap           0\n",
       "genre_rock          0\n",
       "genre_soul          0\n",
       "dtype: int64"
      ]
     },
     "execution_count": 26,
     "metadata": {},
     "output_type": "execute_result"
    }
   ],
   "source": [
    "act.isna().sum()"
   ]
  },
  {
   "cell_type": "code",
   "execution_count": 27,
   "metadata": {},
   "outputs": [],
   "source": [
    "df_inner = act.merge(est, how='inner')"
   ]
  },
  {
   "cell_type": "code",
   "execution_count": 29,
   "metadata": {},
   "outputs": [
    {
     "data": {
      "text/html": [
       "<div>\n",
       "<style scoped>\n",
       "    .dataframe tbody tr th:only-of-type {\n",
       "        vertical-align: middle;\n",
       "    }\n",
       "\n",
       "    .dataframe tbody tr th {\n",
       "        vertical-align: top;\n",
       "    }\n",
       "\n",
       "    .dataframe thead th {\n",
       "        text-align: right;\n",
       "    }\n",
       "</style>\n",
       "<table border=\"1\" class=\"dataframe\">\n",
       "  <thead>\n",
       "    <tr style=\"text-align: right;\">\n",
       "      <th></th>\n",
       "      <th>artist</th>\n",
       "      <th>artist_id</th>\n",
       "      <th>album</th>\n",
       "      <th>track_name</th>\n",
       "      <th>is_explicit</th>\n",
       "      <th>track_id</th>\n",
       "      <th>danceability</th>\n",
       "      <th>energy</th>\n",
       "      <th>key</th>\n",
       "      <th>loudness</th>\n",
       "      <th>...</th>\n",
       "      <th>genre_hip hop</th>\n",
       "      <th>genre_house</th>\n",
       "      <th>genre_indie</th>\n",
       "      <th>genre_pop</th>\n",
       "      <th>genre_punk</th>\n",
       "      <th>genre_r&amp;b</th>\n",
       "      <th>genre_rap</th>\n",
       "      <th>genre_rock</th>\n",
       "      <th>genre_soul</th>\n",
       "      <th>estimatedrating</th>\n",
       "    </tr>\n",
       "  </thead>\n",
       "  <tbody>\n",
       "    <tr>\n",
       "      <th>0</th>\n",
       "      <td>OneRepublic</td>\n",
       "      <td>5Pwc4xIPtQLFEnJriah9YJ</td>\n",
       "      <td>Oh My My</td>\n",
       "      <td>Choke</td>\n",
       "      <td>0</td>\n",
       "      <td>5xtliWYBVT4cKo9BtBn43B</td>\n",
       "      <td>0.582</td>\n",
       "      <td>0.607</td>\n",
       "      <td>4</td>\n",
       "      <td>-6.397</td>\n",
       "      <td>...</td>\n",
       "      <td>0</td>\n",
       "      <td>0</td>\n",
       "      <td>0</td>\n",
       "      <td>0</td>\n",
       "      <td>0</td>\n",
       "      <td>0</td>\n",
       "      <td>0</td>\n",
       "      <td>0</td>\n",
       "      <td>0</td>\n",
       "      <td>2.816513</td>\n",
       "    </tr>\n",
       "    <tr>\n",
       "      <th>1</th>\n",
       "      <td>Christina Perri</td>\n",
       "      <td>7H55rcKCfwqkyDFH9wpKM6</td>\n",
       "      <td>head or heart</td>\n",
       "      <td>burning gold</td>\n",
       "      <td>0</td>\n",
       "      <td>3YcBWPQumjC7k0HDcsOMXz</td>\n",
       "      <td>0.565</td>\n",
       "      <td>0.673</td>\n",
       "      <td>4</td>\n",
       "      <td>-5.851</td>\n",
       "      <td>...</td>\n",
       "      <td>0</td>\n",
       "      <td>0</td>\n",
       "      <td>0</td>\n",
       "      <td>0</td>\n",
       "      <td>0</td>\n",
       "      <td>0</td>\n",
       "      <td>0</td>\n",
       "      <td>0</td>\n",
       "      <td>0</td>\n",
       "      <td>2.818815</td>\n",
       "    </tr>\n",
       "    <tr>\n",
       "      <th>2</th>\n",
       "      <td>Sia</td>\n",
       "      <td>5WUlDfRSoLAfcVSX1WnrxN</td>\n",
       "      <td>1000 Forms Of Fear</td>\n",
       "      <td>Eye of the Needle</td>\n",
       "      <td>0</td>\n",
       "      <td>2ejeiQQcxOONtMDgV2GXSu</td>\n",
       "      <td>0.495</td>\n",
       "      <td>0.700</td>\n",
       "      <td>4</td>\n",
       "      <td>-5.639</td>\n",
       "      <td>...</td>\n",
       "      <td>0</td>\n",
       "      <td>0</td>\n",
       "      <td>0</td>\n",
       "      <td>0</td>\n",
       "      <td>0</td>\n",
       "      <td>0</td>\n",
       "      <td>0</td>\n",
       "      <td>0</td>\n",
       "      <td>0</td>\n",
       "      <td>2.767651</td>\n",
       "    </tr>\n",
       "    <tr>\n",
       "      <th>3</th>\n",
       "      <td>Ellie Goulding</td>\n",
       "      <td>0X2BH1fck6amBIoJhDVmmJ</td>\n",
       "      <td>Halcyon Days</td>\n",
       "      <td>Burn</td>\n",
       "      <td>0</td>\n",
       "      <td>2GgxS8bUT5G25QJTsfSv0R</td>\n",
       "      <td>0.559</td>\n",
       "      <td>0.777</td>\n",
       "      <td>1</td>\n",
       "      <td>-5.031</td>\n",
       "      <td>...</td>\n",
       "      <td>0</td>\n",
       "      <td>0</td>\n",
       "      <td>0</td>\n",
       "      <td>0</td>\n",
       "      <td>0</td>\n",
       "      <td>0</td>\n",
       "      <td>0</td>\n",
       "      <td>0</td>\n",
       "      <td>0</td>\n",
       "      <td>2.836772</td>\n",
       "    </tr>\n",
       "    <tr>\n",
       "      <th>4</th>\n",
       "      <td>Ellie Goulding</td>\n",
       "      <td>0X2BH1fck6amBIoJhDVmmJ</td>\n",
       "      <td>Delirium (Deluxe)</td>\n",
       "      <td>Army</td>\n",
       "      <td>1</td>\n",
       "      <td>1PzKBUHhyD035EQM9GNMfV</td>\n",
       "      <td>0.425</td>\n",
       "      <td>0.635</td>\n",
       "      <td>11</td>\n",
       "      <td>-7.384</td>\n",
       "      <td>...</td>\n",
       "      <td>0</td>\n",
       "      <td>0</td>\n",
       "      <td>0</td>\n",
       "      <td>0</td>\n",
       "      <td>0</td>\n",
       "      <td>0</td>\n",
       "      <td>0</td>\n",
       "      <td>0</td>\n",
       "      <td>0</td>\n",
       "      <td>2.806922</td>\n",
       "    </tr>\n",
       "  </tbody>\n",
       "</table>\n",
       "<p>5 rows × 40 columns</p>\n",
       "</div>"
      ],
      "text/plain": [
       "            artist               artist_id               album  \\\n",
       "0      OneRepublic  5Pwc4xIPtQLFEnJriah9YJ            Oh My My   \n",
       "1  Christina Perri  7H55rcKCfwqkyDFH9wpKM6       head or heart   \n",
       "2              Sia  5WUlDfRSoLAfcVSX1WnrxN  1000 Forms Of Fear   \n",
       "3   Ellie Goulding  0X2BH1fck6amBIoJhDVmmJ        Halcyon Days   \n",
       "4   Ellie Goulding  0X2BH1fck6amBIoJhDVmmJ   Delirium (Deluxe)   \n",
       "\n",
       "          track_name  is_explicit                track_id  danceability  \\\n",
       "0              Choke            0  5xtliWYBVT4cKo9BtBn43B         0.582   \n",
       "1       burning gold            0  3YcBWPQumjC7k0HDcsOMXz         0.565   \n",
       "2  Eye of the Needle            0  2ejeiQQcxOONtMDgV2GXSu         0.495   \n",
       "3               Burn            0  2GgxS8bUT5G25QJTsfSv0R         0.559   \n",
       "4               Army            1  1PzKBUHhyD035EQM9GNMfV         0.425   \n",
       "\n",
       "   energy  key  loudness  ...  genre_hip hop  genre_house  genre_indie  \\\n",
       "0   0.607    4    -6.397  ...              0            0            0   \n",
       "1   0.673    4    -5.851  ...              0            0            0   \n",
       "2   0.700    4    -5.639  ...              0            0            0   \n",
       "3   0.777    1    -5.031  ...              0            0            0   \n",
       "4   0.635   11    -7.384  ...              0            0            0   \n",
       "\n",
       "   genre_pop  genre_punk  genre_r&b  genre_rap  genre_rock  genre_soul  \\\n",
       "0          0           0          0          0           0           0   \n",
       "1          0           0          0          0           0           0   \n",
       "2          0           0          0          0           0           0   \n",
       "3          0           0          0          0           0           0   \n",
       "4          0           0          0          0           0           0   \n",
       "\n",
       "   estimatedrating  \n",
       "0         2.816513  \n",
       "1         2.818815  \n",
       "2         2.767651  \n",
       "3         2.836772  \n",
       "4         2.806922  \n",
       "\n",
       "[5 rows x 40 columns]"
      ]
     },
     "execution_count": 29,
     "metadata": {},
     "output_type": "execute_result"
    }
   ],
   "source": [
    "df_inner.head()"
   ]
  },
  {
   "cell_type": "code",
   "execution_count": 30,
   "metadata": {},
   "outputs": [
    {
     "name": "stdout",
     "output_type": "stream",
     "text": [
      "<class 'pandas.core.frame.DataFrame'>\n",
      "Int64Index: 52 entries, 0 to 51\n",
      "Data columns (total 40 columns):\n",
      "artist              52 non-null object\n",
      "artist_id           52 non-null object\n",
      "album               52 non-null object\n",
      "track_name          52 non-null object\n",
      "is_explicit         52 non-null int64\n",
      "track_id            52 non-null object\n",
      "danceability        52 non-null float64\n",
      "energy              52 non-null float64\n",
      "key                 52 non-null int64\n",
      "loudness            52 non-null float64\n",
      "mode                52 non-null int64\n",
      "speechiness         52 non-null float64\n",
      "acousticness        52 non-null float64\n",
      "instrumentalness    52 non-null float64\n",
      "liveness            52 non-null float64\n",
      "valence             52 non-null float64\n",
      "tempo               52 non-null float64\n",
      "duration_ms         52 non-null int64\n",
      "ratings             52 non-null int64\n",
      "decade_1960         52 non-null int64\n",
      "decade_1970         52 non-null int64\n",
      "decade_1980         52 non-null int64\n",
      "decade_1990         52 non-null int64\n",
      "decade_2000         52 non-null int64\n",
      "decade_2010         52 non-null int64\n",
      "genrecategory       52 non-null object\n",
      "genre_acoustic      52 non-null int64\n",
      "genre_country       52 non-null int64\n",
      "genre_dance         52 non-null int64\n",
      "genre_electronic    52 non-null int64\n",
      "genre_hip hop       52 non-null int64\n",
      "genre_house         52 non-null int64\n",
      "genre_indie         52 non-null int64\n",
      "genre_pop           52 non-null int64\n",
      "genre_punk          52 non-null int64\n",
      "genre_r&b           52 non-null int64\n",
      "genre_rap           52 non-null int64\n",
      "genre_rock          52 non-null int64\n",
      "genre_soul          52 non-null int64\n",
      "estimatedrating     52 non-null float64\n",
      "dtypes: float64(10), int64(24), object(6)\n",
      "memory usage: 16.7+ KB\n"
     ]
    }
   ],
   "source": [
    "df_inner.info()"
   ]
  },
  {
   "cell_type": "code",
   "execution_count": 31,
   "metadata": {},
   "outputs": [
    {
     "data": {
      "text/plain": [
       "(52, 40)"
      ]
     },
     "execution_count": 31,
     "metadata": {},
     "output_type": "execute_result"
    }
   ],
   "source": [
    "df_inner.shape"
   ]
  },
  {
   "cell_type": "code",
   "execution_count": 32,
   "metadata": {},
   "outputs": [
    {
     "data": {
      "text/plain": [
       "track_name\n",
       "Through Glass                                             3.458569\n",
       "Liberation (with Cee-Lo)                                  3.420394\n",
       "Ms. Jackson                                               3.408362\n",
       "Landed                                                    3.316422\n",
       "Angst In My Pants                                         3.239669\n",
       "I'm Your Man                                              3.225619\n",
       "We Belong                                                 3.040178\n",
       "Wouldn't It Be Nice - Remastered                          2.919446\n",
       "Never Giving Up                                           2.843679\n",
       "Burn                                                      2.836772\n",
       "burning gold                                              2.818815\n",
       "Land of 1000 Dances                                       2.817937\n",
       "Choke                                                     2.816513\n",
       "Love Never Felt So Good                                   2.812239\n",
       "Army                                                      2.806922\n",
       "I'm Not The Only One                                      2.785849\n",
       "You're Such A                                             2.769278\n",
       "Eye of the Needle                                         2.767651\n",
       "Wild Fire - Recorded at Spotify Studios NYC               2.765988\n",
       "Miley                                                     2.746428\n",
       "Wake Up                                                   2.726675\n",
       "Send Me on My Way                                         2.702931\n",
       "Stars                                                     2.700164\n",
       "#SELFIE                                                   2.679678\n",
       "Keep It Undercover - Theme Song From \"K.C. Undercover\"    2.676483\n",
       "Whippin (feat. Felix Snow)                                2.669048\n",
       "Better Now                                                2.664033\n",
       "Drinkin' Too Much                                         2.660844\n",
       "Give It Time                                              2.660415\n",
       "We The People....                                         2.584764\n",
       "There's a Place                                           2.584353\n",
       "Long Progression                                          2.575585\n",
       "Heartless                                                 2.571705\n",
       "Cruel                                                     2.549581\n",
       "Comfortable (feat. X Ambassadors)                         2.536413\n",
       "Save the World / Don't Worry Child                        2.530829\n",
       "The Lion Sleeps Tonight                                   2.506701\n",
       "Serotonia                                                 2.503728\n",
       "Cut To Black                                              2.495906\n",
       "Demons                                                    2.495232\n",
       "Love That Girl                                            2.466783\n",
       "Hometown                                                  2.434538\n",
       "Sweet Relief                                              2.433905\n",
       "Hot Blood                                                 2.425050\n",
       "Pocket Full Of Gold                                       2.416809\n",
       "Talk To Me                                                2.411122\n",
       "FVR                                                       2.399880\n",
       "June                                                      2.390036\n",
       "Third of May / Ōdaigahara - Edit                          2.378279\n",
       "HandClap                                                  2.366741\n",
       "Say You Love Me                                           2.267484\n",
       "We Try but We Don't Fit In                                2.222320\n",
       "Name: estimatedrating, dtype: float64"
      ]
     },
     "execution_count": 32,
     "metadata": {},
     "output_type": "execute_result"
    }
   ],
   "source": [
    "df_inner.groupby('track_name').mean()['estimatedrating'].sort_values(ascending=False)"
   ]
  },
  {
   "cell_type": "code",
   "execution_count": 34,
   "metadata": {},
   "outputs": [
    {
     "name": "stderr",
     "output_type": "stream",
     "text": [
      "/Users/adinasteinman/opt/anaconda3/envs/learn-env/lib/python3.6/site-packages/seaborn/_decorators.py:43: FutureWarning: Pass the following variables as keyword args: x, y. From version 0.12, the only valid positional argument will be `data`, and passing other arguments without an explicit keyword will result in an error or misinterpretation.\n",
      "  FutureWarning\n"
     ]
    },
    {
     "data": {
      "image/png": "[encoded data removed]",
      "text/plain": [
       "<Figure size 720x360 with 1 Axes>"
      ]
     },
     "metadata": {
      "needs_background": "light"
     },
     "output_type": "display_data"
    }
   ],
   "source": [
    "#Plot the top 10 predicted highest rated movies\n",
    "plt.figure(figsize=(10,5))\n",
    "topsongs = df_inner.groupby('track_name').mean()['estimatedrating'].sort_values(ascending=False).head(10)\n",
    "sns.barplot(topsongs.index, topsongs.values)\n",
    "plt.title('Top 10 Predicted Highest Rated Tracks')\n",
    "plt.xticks(rotation=80);"
   ]
  },
  {
   "cell_type": "code",
   "execution_count": 35,
   "metadata": {},
   "outputs": [
    {
     "data": {
      "image/png": "[encoded data removed]",
      "text/plain": [
       "<Figure size 432x288 with 1 Axes>"
      ]
     },
     "metadata": {
      "needs_background": "light"
     },
     "output_type": "display_data"
    }
   ],
   "source": [
    "#Plot a histogram of the frequency of certain estimated rating values\n",
    "plt.hist(df_inner['estimatedrating'],bins=30)\n",
    "plt.xlabel('Value of Estimated rating')\n",
    "plt.ylabel('Frequency of Estimated ratings')\n",
    "plt.show()"
   ]
  },
  {
   "cell_type": "code",
   "execution_count": null,
   "metadata": {},
   "outputs": [],
   "source": [
    "##Below two cells may not be relevant if all trhe values are one - recheck this on full dataset "
   ]
  },
  {
   "cell_type": "code",
   "execution_count": 36,
   "metadata": {
    "scrolled": true
   },
   "outputs": [
    {
     "data": {
      "text/plain": [
       "track_name\n",
       "burning gold                                              1\n",
       "You're Such A                                             1\n",
       "Landed                                                    1\n",
       "Land of 1000 Dances                                       1\n",
       "Keep It Undercover - Theme Song From \"K.C. Undercover\"    1\n",
       "June                                                      1\n",
       "I'm Your Man                                              1\n",
       "I'm Not The Only One                                      1\n",
       "Hot Blood                                                 1\n",
       "Hometown                                                  1\n",
       "Heartless                                                 1\n",
       "HandClap                                                  1\n",
       "Give It Time                                              1\n",
       "FVR                                                       1\n",
       "Eye of the Needle                                         1\n",
       "Drinkin' Too Much                                         1\n",
       "Demons                                                    1\n",
       "Cut To Black                                              1\n",
       "Cruel                                                     1\n",
       "Comfortable (feat. X Ambassadors)                         1\n",
       "Choke                                                     1\n",
       "Burn                                                      1\n",
       "Better Now                                                1\n",
       "Army                                                      1\n",
       "Angst In My Pants                                         1\n",
       "Liberation (with Cee-Lo)                                  1\n",
       "Long Progression                                          1\n",
       "Love Never Felt So Good                                   1\n",
       "The Lion Sleeps Tonight                                   1\n",
       "Wouldn't It Be Nice - Remastered                          1\n",
       "Wild Fire - Recorded at Spotify Studios NYC               1\n",
       "Whippin (feat. Felix Snow)                                1\n",
       "We Try but We Don't Fit In                                1\n",
       "We The People....                                         1\n",
       "We Belong                                                 1\n",
       "Wake Up                                                   1\n",
       "Through Glass                                             1\n",
       "Third of May / Ōdaigahara - Edit                          1\n",
       "There's a Place                                           1\n",
       "Talk To Me                                                1\n",
       "Love That Girl                                            1\n",
       "Sweet Relief                                              1\n",
       "Stars                                                     1\n",
       "Serotonia                                                 1\n",
       "Send Me on My Way                                         1\n",
       "Say You Love Me                                           1\n",
       "Save the World / Don't Worry Child                        1\n",
       "Pocket Full Of Gold                                       1\n",
       "Never Giving Up                                           1\n",
       "Ms. Jackson                                               1\n",
       "Miley                                                     1\n",
       "#SELFIE                                                   1\n",
       "dtype: int64"
      ]
     },
     "execution_count": 36,
     "metadata": {},
     "output_type": "execute_result"
    }
   ],
   "source": [
    "df_inner.groupby('track_name').size().sort_values(ascending=False)"
   ]
  },
  {
   "cell_type": "code",
   "execution_count": 39,
   "metadata": {},
   "outputs": [
    {
     "name": "stderr",
     "output_type": "stream",
     "text": [
      "/Users/adinasteinman/opt/anaconda3/envs/learn-env/lib/python3.6/site-packages/seaborn/_decorators.py:43: FutureWarning: Pass the following variables as keyword args: x, y. From version 0.12, the only valid positional argument will be `data`, and passing other arguments without an explicit keyword will result in an error or misinterpretation.\n",
      "  FutureWarning\n"
     ]
    },
    {
     "data": {
      "image/png": "[encoded data removed]",
      "text/plain": [
       "<Figure size 720x360 with 1 Axes>"
      ]
     },
     "metadata": {
      "needs_background": "light"
     },
     "output_type": "display_data"
    }
   ],
   "source": [
    "\n",
    "#Plot the top 10 most watched movies\n",
    "plt.figure(figsize=(10,5))\n",
    "toptracks = df_inner.groupby('track_name').size().sort_values(ascending=False).head(10)\n",
    "sns.barplot(toptracks.index, toptracks.values)\n",
    "plt.title('Top 10 most-listened tracks')\n",
    "plt.xticks(rotation=80);"
   ]
  },
  {
   "cell_type": "code",
   "execution_count": 40,
   "metadata": {},
   "outputs": [],
   "source": [
    "df_left = act.merge(est, how='outer')"
   ]
  },
  {
   "cell_type": "code",
   "execution_count": 44,
   "metadata": {},
   "outputs": [
    {
     "name": "stdout",
     "output_type": "stream",
     "text": [
      "<class 'pandas.core.frame.DataFrame'>\n",
      "Int64Index: 106989 entries, 0 to 106988\n",
      "Data columns (total 40 columns):\n",
      "artist              7041 non-null object\n",
      "artist_id           106989 non-null object\n",
      "album               7041 non-null object\n",
      "track_name          7041 non-null object\n",
      "is_explicit         7041 non-null float64\n",
      "track_id            106989 non-null object\n",
      "danceability        7041 non-null float64\n",
      "energy              7041 non-null float64\n",
      "key                 7041 non-null float64\n",
      "loudness            7041 non-null float64\n",
      "mode                7041 non-null float64\n",
      "speechiness         7041 non-null float64\n",
      "acousticness        7041 non-null float64\n",
      "instrumentalness    7041 non-null float64\n",
      "liveness            7041 non-null float64\n",
      "valence             7041 non-null float64\n",
      "tempo               7041 non-null float64\n",
      "duration_ms         7041 non-null float64\n",
      "ratings             7041 non-null float64\n",
      "decade_1960         7041 non-null float64\n",
      "decade_1970         7041 non-null float64\n",
      "decade_1980         7041 non-null float64\n",
      "decade_1990         7041 non-null float64\n",
      "decade_2000         7041 non-null float64\n",
      "decade_2010         7041 non-null float64\n",
      "genrecategory       7041 non-null object\n",
      "genre_acoustic      7041 non-null float64\n",
      "genre_country       7041 non-null float64\n",
      "genre_dance         7041 non-null float64\n",
      "genre_electronic    7041 non-null float64\n",
      "genre_hip hop       7041 non-null float64\n",
      "genre_house         7041 non-null float64\n",
      "genre_indie         7041 non-null float64\n",
      "genre_pop           7041 non-null float64\n",
      "genre_punk          7041 non-null float64\n",
      "genre_r&b           7041 non-null float64\n",
      "genre_rap           7041 non-null float64\n",
      "genre_rock          7041 non-null float64\n",
      "genre_soul          7041 non-null float64\n",
      "estimatedrating     100000 non-null float64\n",
      "dtypes: float64(34), object(6)\n",
      "memory usage: 33.5+ MB\n"
     ]
    }
   ],
   "source": [
    "df_left.info()"
   ]
  },
  {
   "cell_type": "code",
   "execution_count": 43,
   "metadata": {
    "scrolled": true
   },
   "outputs": [
    {
     "data": {
      "text/plain": [
       "artist_id    0\n",
       "track_id     0\n",
       "dtype: int64"
      ]
     },
     "execution_count": 43,
     "metadata": {},
     "output_type": "execute_result"
    }
   ],
   "source": [
    "#Check for. NA values for artist_id and track_id \n",
    "df_left[['artist_id', 'track_id']].isna().sum()"
   ]
  },
  {
   "cell_type": "code",
   "execution_count": 47,
   "metadata": {
    "scrolled": true
   },
   "outputs": [
    {
     "data": {
      "text/plain": [
       "0     3\n",
       "1     2\n",
       "2     3\n",
       "3     4\n",
       "4     3\n",
       "5     3\n",
       "6     4\n",
       "7     4\n",
       "8     2\n",
       "9     4\n",
       "10    3\n",
       "11    3\n",
       "12    1\n",
       "13    2\n",
       "14    4\n",
       "15    3\n",
       "16    4\n",
       "17    1\n",
       "18    4\n",
       "19    5\n",
       "20    3\n",
       "21    3\n",
       "22    2\n",
       "23    4\n",
       "24    4\n",
       "25    4\n",
       "26    4\n",
       "27    2\n",
       "28    2\n",
       "29    1\n",
       "30    3\n",
       "31    2\n",
       "32    2\n",
       "33    2\n",
       "34    2\n",
       "35    3\n",
       "36    3\n",
       "37    2\n",
       "38    2\n",
       "39    1\n",
       "40    5\n",
       "41    3\n",
       "42    3\n",
       "43    3\n",
       "44    3\n",
       "45    2\n",
       "46    2\n",
       "47    3\n",
       "48    1\n",
       "49    2\n",
       "50    4\n",
       "51    3\n",
       "Name: ratings, dtype: int64"
      ]
     },
     "execution_count": 47,
     "metadata": {},
     "output_type": "execute_result"
    }
   ],
   "source": [
    "df_inner['ratings']"
   ]
  },
  {
   "cell_type": "code",
   "execution_count": 52,
   "metadata": {},
   "outputs": [
    {
     "data": {
      "text/plain": [
       "0     2.816513\n",
       "1     2.818815\n",
       "2     2.767651\n",
       "3     2.836772\n",
       "4     2.806922\n",
       "5     2.466783\n",
       "6     2.812239\n",
       "7     2.434538\n",
       "8     2.700164\n",
       "9     2.495232\n",
       "10    2.416809\n",
       "11    2.530829\n",
       "12    2.785849\n",
       "13    2.575585\n",
       "14    2.726675\n",
       "15    2.676483\n",
       "16    2.702931\n",
       "17    2.660844\n",
       "18    2.919446\n",
       "19    3.408362\n",
       "20    3.420394\n",
       "21    2.817937\n",
       "22    2.584353\n",
       "23    3.040178\n",
       "24    2.769278\n",
       "25    2.425050\n",
       "26    2.679678\n",
       "27    2.378279\n",
       "28    2.765988\n",
       "29    2.267484\n",
       "30    2.669048\n",
       "31    2.222320\n",
       "32    2.495906\n",
       "33    2.549581\n",
       "34    2.536413\n",
       "35    2.366741\n",
       "36    2.746428\n",
       "37    2.411122\n",
       "38    2.660415\n",
       "39    2.399880\n",
       "40    2.664033\n",
       "41    2.503728\n",
       "42    3.225619\n",
       "43    2.506701\n",
       "44    3.316422\n",
       "45    2.843679\n",
       "46    2.571705\n",
       "47    2.584764\n",
       "48    2.390036\n",
       "49    2.433905\n",
       "50    3.458569\n",
       "51    3.239669\n",
       "Name: estimatedrating, dtype: float64"
      ]
     },
     "execution_count": 52,
     "metadata": {},
     "output_type": "execute_result"
    }
   ],
   "source": [
    "df_inner['estimatedrating']"
   ]
  },
  {
   "cell_type": "code",
   "execution_count": 53,
   "metadata": {},
   "outputs": [
    {
     "name": "stdout",
     "output_type": "stream",
     "text": [
      "<class 'pandas.core.frame.DataFrame'>\n",
      "Int64Index: 52 entries, 0 to 51\n",
      "Data columns (total 40 columns):\n",
      "artist              52 non-null object\n",
      "artist_id           52 non-null object\n",
      "album               52 non-null object\n",
      "track_name          52 non-null object\n",
      "is_explicit         52 non-null int64\n",
      "track_id            52 non-null object\n",
      "danceability        52 non-null float64\n",
      "energy              52 non-null float64\n",
      "key                 52 non-null int64\n",
      "loudness            52 non-null float64\n",
      "mode                52 non-null int64\n",
      "speechiness         52 non-null float64\n",
      "acousticness        52 non-null float64\n",
      "instrumentalness    52 non-null float64\n",
      "liveness            52 non-null float64\n",
      "valence             52 non-null float64\n",
      "tempo               52 non-null float64\n",
      "duration_ms         52 non-null int64\n",
      "ratings             52 non-null int64\n",
      "decade_1960         52 non-null int64\n",
      "decade_1970         52 non-null int64\n",
      "decade_1980         52 non-null int64\n",
      "decade_1990         52 non-null int64\n",
      "decade_2000         52 non-null int64\n",
      "decade_2010         52 non-null int64\n",
      "genrecategory       52 non-null object\n",
      "genre_acoustic      52 non-null int64\n",
      "genre_country       52 non-null int64\n",
      "genre_dance         52 non-null int64\n",
      "genre_electronic    52 non-null int64\n",
      "genre_hip hop       52 non-null int64\n",
      "genre_house         52 non-null int64\n",
      "genre_indie         52 non-null int64\n",
      "genre_pop           52 non-null int64\n",
      "genre_punk          52 non-null int64\n",
      "genre_r&b           52 non-null int64\n",
      "genre_rap           52 non-null int64\n",
      "genre_rock          52 non-null int64\n",
      "genre_soul          52 non-null int64\n",
      "estimatedrating     52 non-null float64\n",
      "dtypes: float64(10), int64(24), object(6)\n",
      "memory usage: 16.7+ KB\n"
     ]
    }
   ],
   "source": [
    "df_inner.info()"
   ]
  },
  {
   "cell_type": "code",
   "execution_count": 58,
   "metadata": {},
   "outputs": [],
   "source": [
    "matrix = df_inner.drop(['genrecategory', 'is_explicit', 'track_id', 'danceability', \n",
    "                  'energy', 'key', 'loudness', 'mode', 'speechiness', 'acousticness', \n",
    "                  'instrumentalness', 'liveness', 'valence', 'tempo', \n",
    "                  'duration_ms', 'ratings', 'decade_1960', 'decade_1970', \n",
    "                  'decade_1980', 'decade_1990', 'decade_2000', 'decade_2010', \n",
    "                  'artist_id', 'artist', 'album', 'estimatedrating'], axis=1)"
   ]
  },
  {
   "cell_type": "code",
   "execution_count": 59,
   "metadata": {},
   "outputs": [
    {
     "name": "stdout",
     "output_type": "stream",
     "text": [
      "<class 'pandas.core.frame.DataFrame'>\n",
      "Int64Index: 52 entries, 0 to 51\n",
      "Data columns (total 14 columns):\n",
      "track_name          52 non-null object\n",
      "genre_acoustic      52 non-null int64\n",
      "genre_country       52 non-null int64\n",
      "genre_dance         52 non-null int64\n",
      "genre_electronic    52 non-null int64\n",
      "genre_hip hop       52 non-null int64\n",
      "genre_house         52 non-null int64\n",
      "genre_indie         52 non-null int64\n",
      "genre_pop           52 non-null int64\n",
      "genre_punk          52 non-null int64\n",
      "genre_r&b           52 non-null int64\n",
      "genre_rap           52 non-null int64\n",
      "genre_rock          52 non-null int64\n",
      "genre_soul          52 non-null int64\n",
      "dtypes: int64(13), object(1)\n",
      "memory usage: 6.1+ KB\n"
     ]
    }
   ],
   "source": [
    "matrix.info()"
   ]
  },
  {
   "cell_type": "code",
   "execution_count": 61,
   "metadata": {
    "collapsed": true
   },
   "outputs": [
    {
     "name": "stderr",
     "output_type": "stream",
     "text": [
      "/Users/adinasteinman/opt/anaconda3/envs/learn-env/lib/python3.6/site-packages/seaborn/_decorators.py:43: FutureWarning: Pass the following variables as keyword args: x, y. From version 0.12, the only valid positional argument will be `data`, and passing other arguments without an explicit keyword will result in an error or misinterpretation.\n",
      "  FutureWarning\n"
     ]
    },
    {
     "ename": "ValueError",
     "evalue": "min() arg is an empty sequence",
     "output_type": "error",
     "traceback": [
      "\u001b[0;31m---------------------------------------------------------------------------\u001b[0m",
      "\u001b[0;31mValueError\u001b[0m                                Traceback (most recent call last)",
      "\u001b[0;32m<ipython-input-61-f519f6a12df8>\u001b[0m in \u001b[0;36m<module>\u001b[0;34m()\u001b[0m\n\u001b[1;32m      4\u001b[0m     \u001b[0mplt\u001b[0m\u001b[0;34m.\u001b[0m\u001b[0mfigure\u001b[0m\u001b[0;34m(\u001b[0m\u001b[0mfigsize\u001b[0m\u001b[0;34m=\u001b[0m\u001b[0;34m(\u001b[0m\u001b[0;36m8\u001b[0m\u001b[0;34m,\u001b[0m\u001b[0;36m8\u001b[0m\u001b[0;34m)\u001b[0m\u001b[0;34m)\u001b[0m\u001b[0;34m\u001b[0m\u001b[0;34m\u001b[0m\u001b[0m\n\u001b[1;32m      5\u001b[0m     \u001b[0mtopsongs\u001b[0m \u001b[0;34m=\u001b[0m \u001b[0mx\u001b[0m\u001b[0;34m.\u001b[0m\u001b[0mgroupby\u001b[0m\u001b[0;34m(\u001b[0m\u001b[0;34m'track_name'\u001b[0m\u001b[0;34m)\u001b[0m\u001b[0;34m.\u001b[0m\u001b[0msize\u001b[0m\u001b[0;34m(\u001b[0m\u001b[0;34m)\u001b[0m\u001b[0;34m.\u001b[0m\u001b[0msort_values\u001b[0m\u001b[0;34m(\u001b[0m\u001b[0mascending\u001b[0m\u001b[0;34m=\u001b[0m\u001b[0;32mFalse\u001b[0m\u001b[0;34m)\u001b[0m\u001b[0;34m.\u001b[0m\u001b[0mhead\u001b[0m\u001b[0;34m(\u001b[0m\u001b[0;36m2\u001b[0m\u001b[0;34m)\u001b[0m\u001b[0;34m\u001b[0m\u001b[0;34m\u001b[0m\u001b[0m\n\u001b[0;32m----> 6\u001b[0;31m     \u001b[0msns\u001b[0m\u001b[0;34m.\u001b[0m\u001b[0mbarplot\u001b[0m\u001b[0;34m(\u001b[0m\u001b[0mtopsongs\u001b[0m\u001b[0;34m.\u001b[0m\u001b[0mindex\u001b[0m\u001b[0;34m,\u001b[0m \u001b[0mtopsongs\u001b[0m\u001b[0;34m.\u001b[0m\u001b[0mvalues\u001b[0m\u001b[0;34m)\u001b[0m\u001b[0;34m\u001b[0m\u001b[0;34m\u001b[0m\u001b[0m\n\u001b[0m\u001b[1;32m      7\u001b[0m     \u001b[0mplt\u001b[0m\u001b[0;34m.\u001b[0m\u001b[0mtitle\u001b[0m\u001b[0;34m(\u001b[0m\u001b[0;34m'Top 10 most-listened '\u001b[0m\u001b[0;34m+\u001b[0m\u001b[0mgen\u001b[0m\u001b[0;34m[\u001b[0m\u001b[0;36m6\u001b[0m\u001b[0;34m:\u001b[0m\u001b[0;34m]\u001b[0m\u001b[0;34m+\u001b[0m\u001b[0;34m' tracks'\u001b[0m\u001b[0;34m)\u001b[0m\u001b[0;34m\u001b[0m\u001b[0;34m\u001b[0m\u001b[0m\n\u001b[1;32m      8\u001b[0m     \u001b[0mplt\u001b[0m\u001b[0;34m.\u001b[0m\u001b[0mxticks\u001b[0m\u001b[0;34m(\u001b[0m\u001b[0mrotation\u001b[0m\u001b[0;34m=\u001b[0m\u001b[0;36m80\u001b[0m\u001b[0;34m)\u001b[0m\u001b[0;34m;\u001b[0m\u001b[0;34m\u001b[0m\u001b[0;34m\u001b[0m\u001b[0m\n",
      "\u001b[0;32m/Users/adinasteinman/opt/anaconda3/envs/learn-env/lib/python3.6/site-packages/seaborn/_decorators.py\u001b[0m in \u001b[0;36minner_f\u001b[0;34m(*args, **kwargs)\u001b[0m\n\u001b[1;32m     44\u001b[0m             )\n\u001b[1;32m     45\u001b[0m         \u001b[0mkwargs\u001b[0m\u001b[0;34m.\u001b[0m\u001b[0mupdate\u001b[0m\u001b[0;34m(\u001b[0m\u001b[0;34m{\u001b[0m\u001b[0mk\u001b[0m\u001b[0;34m:\u001b[0m \u001b[0marg\u001b[0m \u001b[0;32mfor\u001b[0m \u001b[0mk\u001b[0m\u001b[0;34m,\u001b[0m \u001b[0marg\u001b[0m \u001b[0;32min\u001b[0m \u001b[0mzip\u001b[0m\u001b[0;34m(\u001b[0m\u001b[0msig\u001b[0m\u001b[0;34m.\u001b[0m\u001b[0mparameters\u001b[0m\u001b[0;34m,\u001b[0m \u001b[0margs\u001b[0m\u001b[0;34m)\u001b[0m\u001b[0;34m}\u001b[0m\u001b[0;34m)\u001b[0m\u001b[0;34m\u001b[0m\u001b[0;34m\u001b[0m\u001b[0m\n\u001b[0;32m---> 46\u001b[0;31m         \u001b[0;32mreturn\u001b[0m \u001b[0mf\u001b[0m\u001b[0;34m(\u001b[0m\u001b[0;34m**\u001b[0m\u001b[0mkwargs\u001b[0m\u001b[0;34m)\u001b[0m\u001b[0;34m\u001b[0m\u001b[0;34m\u001b[0m\u001b[0m\n\u001b[0m\u001b[1;32m     47\u001b[0m     \u001b[0;32mreturn\u001b[0m \u001b[0minner_f\u001b[0m\u001b[0;34m\u001b[0m\u001b[0;34m\u001b[0m\u001b[0m\n\u001b[1;32m     48\u001b[0m \u001b[0;34m\u001b[0m\u001b[0m\n",
      "\u001b[0;32m/Users/adinasteinman/opt/anaconda3/envs/learn-env/lib/python3.6/site-packages/seaborn/categorical.py\u001b[0m in \u001b[0;36mbarplot\u001b[0;34m(x, y, hue, data, order, hue_order, estimator, ci, n_boot, units, seed, orient, color, palette, saturation, errcolor, errwidth, capsize, dodge, ax, **kwargs)\u001b[0m\n\u001b[1;32m   3170\u001b[0m                           \u001b[0mestimator\u001b[0m\u001b[0;34m,\u001b[0m \u001b[0mci\u001b[0m\u001b[0;34m,\u001b[0m \u001b[0mn_boot\u001b[0m\u001b[0;34m,\u001b[0m \u001b[0munits\u001b[0m\u001b[0;34m,\u001b[0m \u001b[0mseed\u001b[0m\u001b[0;34m,\u001b[0m\u001b[0;34m\u001b[0m\u001b[0;34m\u001b[0m\u001b[0m\n\u001b[1;32m   3171\u001b[0m                           \u001b[0morient\u001b[0m\u001b[0;34m,\u001b[0m \u001b[0mcolor\u001b[0m\u001b[0;34m,\u001b[0m \u001b[0mpalette\u001b[0m\u001b[0;34m,\u001b[0m \u001b[0msaturation\u001b[0m\u001b[0;34m,\u001b[0m\u001b[0;34m\u001b[0m\u001b[0;34m\u001b[0m\u001b[0m\n\u001b[0;32m-> 3172\u001b[0;31m                           errcolor, errwidth, capsize, dodge)\n\u001b[0m\u001b[1;32m   3173\u001b[0m \u001b[0;34m\u001b[0m\u001b[0m\n\u001b[1;32m   3174\u001b[0m     \u001b[0;32mif\u001b[0m \u001b[0max\u001b[0m \u001b[0;32mis\u001b[0m \u001b[0;32mNone\u001b[0m\u001b[0;34m:\u001b[0m\u001b[0;34m\u001b[0m\u001b[0;34m\u001b[0m\u001b[0m\n",
      "\u001b[0;32m/Users/adinasteinman/opt/anaconda3/envs/learn-env/lib/python3.6/site-packages/seaborn/categorical.py\u001b[0m in \u001b[0;36m__init__\u001b[0;34m(self, x, y, hue, data, order, hue_order, estimator, ci, n_boot, units, seed, orient, color, palette, saturation, errcolor, errwidth, capsize, dodge)\u001b[0m\n\u001b[1;32m   1584\u001b[0m         self.establish_variables(x, y, hue, data, orient,\n\u001b[1;32m   1585\u001b[0m                                  order, hue_order, units)\n\u001b[0;32m-> 1586\u001b[0;31m         \u001b[0mself\u001b[0m\u001b[0;34m.\u001b[0m\u001b[0mestablish_colors\u001b[0m\u001b[0;34m(\u001b[0m\u001b[0mcolor\u001b[0m\u001b[0;34m,\u001b[0m \u001b[0mpalette\u001b[0m\u001b[0;34m,\u001b[0m \u001b[0msaturation\u001b[0m\u001b[0;34m)\u001b[0m\u001b[0;34m\u001b[0m\u001b[0;34m\u001b[0m\u001b[0m\n\u001b[0m\u001b[1;32m   1587\u001b[0m         \u001b[0mself\u001b[0m\u001b[0;34m.\u001b[0m\u001b[0mestimate_statistic\u001b[0m\u001b[0;34m(\u001b[0m\u001b[0mestimator\u001b[0m\u001b[0;34m,\u001b[0m \u001b[0mci\u001b[0m\u001b[0;34m,\u001b[0m \u001b[0mn_boot\u001b[0m\u001b[0;34m,\u001b[0m \u001b[0mseed\u001b[0m\u001b[0;34m)\u001b[0m\u001b[0;34m\u001b[0m\u001b[0;34m\u001b[0m\u001b[0m\n\u001b[1;32m   1588\u001b[0m \u001b[0;34m\u001b[0m\u001b[0m\n",
      "\u001b[0;32m/Users/adinasteinman/opt/anaconda3/envs/learn-env/lib/python3.6/site-packages/seaborn/categorical.py\u001b[0m in \u001b[0;36mestablish_colors\u001b[0;34m(self, color, palette, saturation)\u001b[0m\n\u001b[1;32m    317\u001b[0m         \u001b[0;31m# Determine the gray color to use for the lines framing the plot\u001b[0m\u001b[0;34m\u001b[0m\u001b[0;34m\u001b[0m\u001b[0;34m\u001b[0m\u001b[0m\n\u001b[1;32m    318\u001b[0m         \u001b[0mlight_vals\u001b[0m \u001b[0;34m=\u001b[0m \u001b[0;34m[\u001b[0m\u001b[0mcolorsys\u001b[0m\u001b[0;34m.\u001b[0m\u001b[0mrgb_to_hls\u001b[0m\u001b[0;34m(\u001b[0m\u001b[0;34m*\u001b[0m\u001b[0mc\u001b[0m\u001b[0;34m)\u001b[0m\u001b[0;34m[\u001b[0m\u001b[0;36m1\u001b[0m\u001b[0;34m]\u001b[0m \u001b[0;32mfor\u001b[0m \u001b[0mc\u001b[0m \u001b[0;32min\u001b[0m \u001b[0mrgb_colors\u001b[0m\u001b[0;34m]\u001b[0m\u001b[0;34m\u001b[0m\u001b[0;34m\u001b[0m\u001b[0m\n\u001b[0;32m--> 319\u001b[0;31m         \u001b[0mlum\u001b[0m \u001b[0;34m=\u001b[0m \u001b[0mmin\u001b[0m\u001b[0;34m(\u001b[0m\u001b[0mlight_vals\u001b[0m\u001b[0;34m)\u001b[0m \u001b[0;34m*\u001b[0m \u001b[0;36m.6\u001b[0m\u001b[0;34m\u001b[0m\u001b[0;34m\u001b[0m\u001b[0m\n\u001b[0m\u001b[1;32m    320\u001b[0m         \u001b[0mgray\u001b[0m \u001b[0;34m=\u001b[0m \u001b[0mmpl\u001b[0m\u001b[0;34m.\u001b[0m\u001b[0mcolors\u001b[0m\u001b[0;34m.\u001b[0m\u001b[0mrgb2hex\u001b[0m\u001b[0;34m(\u001b[0m\u001b[0;34m(\u001b[0m\u001b[0mlum\u001b[0m\u001b[0;34m,\u001b[0m \u001b[0mlum\u001b[0m\u001b[0;34m,\u001b[0m \u001b[0mlum\u001b[0m\u001b[0;34m)\u001b[0m\u001b[0;34m)\u001b[0m\u001b[0;34m\u001b[0m\u001b[0;34m\u001b[0m\u001b[0m\n\u001b[1;32m    321\u001b[0m \u001b[0;34m\u001b[0m\u001b[0m\n",
      "\u001b[0;31mValueError\u001b[0m: min() arg is an empty sequence"
     ]
    },
    {
     "data": {
      "text/plain": [
       "<Figure size 576x576 with 0 Axes>"
      ]
     },
     "metadata": {},
     "output_type": "display_data"
    }
   ],
   "source": [
    "# #Create a loop that will plot the top 10 most watched movies.  \n",
    "# for gen in matrix.columns[1:]:\n",
    "#     x = matrix[(matrix[gen]==True)]\n",
    "#     plt.figure(figsize=(8,8))\n",
    "#     topsongs = x.groupby('track_name').size().sort_values(ascending=False).head(2)\n",
    "#     sns.barplot(topsongs.index, topsongs.values)\n",
    "#     plt.title('Top 10 most-listened '+gen[6:]+' tracks')\n",
    "#     plt.xticks(rotation=80);"
   ]
  },
  {
   "cell_type": "code",
   "execution_count": 66,
   "metadata": {},
   "outputs": [],
   "source": [
    "matrix2 = df_inner.drop(['genrecategory', 'is_explicit', 'track_id', 'danceability', \n",
    "                  'energy', 'key', 'loudness', 'mode', 'speechiness', 'acousticness', \n",
    "                  'instrumentalness', 'liveness', 'valence', 'tempo', \n",
    "                  'duration_ms', 'ratings', 'decade_1960', 'decade_1970', \n",
    "                  'decade_1980', 'decade_1990', 'decade_2000', 'decade_2010', \n",
    "                  'artist_id', 'artist', 'album'], axis=1)"
   ]
  },
  {
   "cell_type": "code",
   "execution_count": 70,
   "metadata": {},
   "outputs": [
    {
     "data": {
      "text/html": [
       "<div>\n",
       "<style scoped>\n",
       "    .dataframe tbody tr th:only-of-type {\n",
       "        vertical-align: middle;\n",
       "    }\n",
       "\n",
       "    .dataframe tbody tr th {\n",
       "        vertical-align: top;\n",
       "    }\n",
       "\n",
       "    .dataframe thead th {\n",
       "        text-align: right;\n",
       "    }\n",
       "</style>\n",
       "<table border=\"1\" class=\"dataframe\">\n",
       "  <thead>\n",
       "    <tr style=\"text-align: right;\">\n",
       "      <th></th>\n",
       "      <th>track_name</th>\n",
       "      <th>genre_acoustic</th>\n",
       "      <th>genre_country</th>\n",
       "      <th>genre_dance</th>\n",
       "      <th>genre_electronic</th>\n",
       "      <th>genre_hip hop</th>\n",
       "      <th>genre_house</th>\n",
       "      <th>genre_indie</th>\n",
       "      <th>genre_pop</th>\n",
       "      <th>genre_punk</th>\n",
       "      <th>genre_r&amp;b</th>\n",
       "      <th>genre_rap</th>\n",
       "      <th>genre_rock</th>\n",
       "      <th>genre_soul</th>\n",
       "      <th>estimatedrating</th>\n",
       "    </tr>\n",
       "  </thead>\n",
       "  <tbody>\n",
       "    <tr>\n",
       "      <th>0</th>\n",
       "      <td>Choke</td>\n",
       "      <td>0</td>\n",
       "      <td>0</td>\n",
       "      <td>1</td>\n",
       "      <td>0</td>\n",
       "      <td>0</td>\n",
       "      <td>0</td>\n",
       "      <td>0</td>\n",
       "      <td>0</td>\n",
       "      <td>0</td>\n",
       "      <td>0</td>\n",
       "      <td>0</td>\n",
       "      <td>0</td>\n",
       "      <td>0</td>\n",
       "      <td>2.816513</td>\n",
       "    </tr>\n",
       "    <tr>\n",
       "      <th>1</th>\n",
       "      <td>burning gold</td>\n",
       "      <td>0</td>\n",
       "      <td>0</td>\n",
       "      <td>1</td>\n",
       "      <td>0</td>\n",
       "      <td>0</td>\n",
       "      <td>0</td>\n",
       "      <td>0</td>\n",
       "      <td>0</td>\n",
       "      <td>0</td>\n",
       "      <td>0</td>\n",
       "      <td>0</td>\n",
       "      <td>0</td>\n",
       "      <td>0</td>\n",
       "      <td>2.818815</td>\n",
       "    </tr>\n",
       "  </tbody>\n",
       "</table>\n",
       "</div>"
      ],
      "text/plain": [
       "     track_name  genre_acoustic  genre_country  genre_dance  genre_electronic  \\\n",
       "0         Choke               0              0            1                 0   \n",
       "1  burning gold               0              0            1                 0   \n",
       "\n",
       "   genre_hip hop  genre_house  genre_indie  genre_pop  genre_punk  genre_r&b  \\\n",
       "0              0            0            0          0           0          0   \n",
       "1              0            0            0          0           0          0   \n",
       "\n",
       "   genre_rap  genre_rock  genre_soul  estimatedrating  \n",
       "0          0           0           0         2.816513  \n",
       "1          0           0           0         2.818815  "
      ]
     },
     "execution_count": 70,
     "metadata": {},
     "output_type": "execute_result"
    }
   ],
   "source": [
    "matrix2.head(2)"
   ]
  },
  {
   "cell_type": "code",
   "execution_count": 72,
   "metadata": {},
   "outputs": [
    {
     "name": "stderr",
     "output_type": "stream",
     "text": [
      "/Users/adinasteinman/opt/anaconda3/envs/learn-env/lib/python3.6/site-packages/seaborn/_decorators.py:43: FutureWarning: Pass the following variables as keyword args: x, y. From version 0.12, the only valid positional argument will be `data`, and passing other arguments without an explicit keyword will result in an error or misinterpretation.\n",
      "  FutureWarning\n",
      "/Users/adinasteinman/opt/anaconda3/envs/learn-env/lib/python3.6/site-packages/seaborn/_decorators.py:43: FutureWarning: Pass the following variables as keyword args: x, y. From version 0.12, the only valid positional argument will be `data`, and passing other arguments without an explicit keyword will result in an error or misinterpretation.\n",
      "  FutureWarning\n",
      "/Users/adinasteinman/opt/anaconda3/envs/learn-env/lib/python3.6/site-packages/seaborn/_decorators.py:43: FutureWarning: Pass the following variables as keyword args: x, y. From version 0.12, the only valid positional argument will be `data`, and passing other arguments without an explicit keyword will result in an error or misinterpretation.\n",
      "  FutureWarning\n",
      "/Users/adinasteinman/opt/anaconda3/envs/learn-env/lib/python3.6/site-packages/seaborn/_decorators.py:43: FutureWarning: Pass the following variables as keyword args: x, y. From version 0.12, the only valid positional argument will be `data`, and passing other arguments without an explicit keyword will result in an error or misinterpretation.\n",
      "  FutureWarning\n",
      "/Users/adinasteinman/opt/anaconda3/envs/learn-env/lib/python3.6/site-packages/seaborn/_decorators.py:43: FutureWarning: Pass the following variables as keyword args: x, y. From version 0.12, the only valid positional argument will be `data`, and passing other arguments without an explicit keyword will result in an error or misinterpretation.\n",
      "  FutureWarning\n"
     ]
    },
    {
     "ename": "ValueError",
     "evalue": "min() arg is an empty sequence",
     "output_type": "error",
     "traceback": [
      "\u001b[0;31m---------------------------------------------------------------------------\u001b[0m",
      "\u001b[0;31mValueError\u001b[0m                                Traceback (most recent call last)",
      "\u001b[0;32m<ipython-input-72-99149a593e5d>\u001b[0m in \u001b[0;36m<module>\u001b[0;34m()\u001b[0m\n\u001b[1;32m      3\u001b[0m     \u001b[0mplt\u001b[0m\u001b[0;34m.\u001b[0m\u001b[0mfigure\u001b[0m\u001b[0;34m(\u001b[0m\u001b[0mfigsize\u001b[0m\u001b[0;34m=\u001b[0m\u001b[0;34m(\u001b[0m\u001b[0;36m8\u001b[0m\u001b[0;34m,\u001b[0m\u001b[0;36m8\u001b[0m\u001b[0;34m)\u001b[0m\u001b[0;34m)\u001b[0m\u001b[0;34m\u001b[0m\u001b[0;34m\u001b[0m\u001b[0m\n\u001b[1;32m      4\u001b[0m     \u001b[0mtopsongs\u001b[0m \u001b[0;34m=\u001b[0m \u001b[0mx\u001b[0m\u001b[0;34m.\u001b[0m\u001b[0mgroupby\u001b[0m\u001b[0;34m(\u001b[0m\u001b[0;34m'track_name'\u001b[0m\u001b[0;34m)\u001b[0m\u001b[0;34m.\u001b[0m\u001b[0mmean\u001b[0m\u001b[0;34m(\u001b[0m\u001b[0;34m)\u001b[0m\u001b[0;34m[\u001b[0m\u001b[0;34m'estimatedrating'\u001b[0m\u001b[0;34m]\u001b[0m\u001b[0;34m.\u001b[0m\u001b[0msort_values\u001b[0m\u001b[0;34m(\u001b[0m\u001b[0mascending\u001b[0m\u001b[0;34m=\u001b[0m\u001b[0;32mFalse\u001b[0m\u001b[0;34m)\u001b[0m\u001b[0;34m.\u001b[0m\u001b[0mhead\u001b[0m\u001b[0;34m(\u001b[0m\u001b[0;36m10\u001b[0m\u001b[0;34m)\u001b[0m\u001b[0;34m\u001b[0m\u001b[0;34m\u001b[0m\u001b[0m\n\u001b[0;32m----> 5\u001b[0;31m     \u001b[0msns\u001b[0m\u001b[0;34m.\u001b[0m\u001b[0mbarplot\u001b[0m\u001b[0;34m(\u001b[0m\u001b[0mtopsongs\u001b[0m\u001b[0;34m.\u001b[0m\u001b[0mindex\u001b[0m\u001b[0;34m,\u001b[0m \u001b[0mtopsongs\u001b[0m\u001b[0;34m.\u001b[0m\u001b[0mvalues\u001b[0m\u001b[0;34m)\u001b[0m\u001b[0;34m\u001b[0m\u001b[0;34m\u001b[0m\u001b[0m\n\u001b[0m\u001b[1;32m      6\u001b[0m     \u001b[0mplt\u001b[0m\u001b[0;34m.\u001b[0m\u001b[0mtitle\u001b[0m\u001b[0;34m(\u001b[0m\u001b[0;34m'Top 10 Highest Model-Rated '\u001b[0m\u001b[0;34m+\u001b[0m\u001b[0mgen\u001b[0m\u001b[0;34m[\u001b[0m\u001b[0;36m6\u001b[0m\u001b[0;34m:\u001b[0m\u001b[0;34m]\u001b[0m\u001b[0;34m+\u001b[0m\u001b[0;34m' Tracks'\u001b[0m\u001b[0;34m)\u001b[0m\u001b[0;34m\u001b[0m\u001b[0;34m\u001b[0m\u001b[0m\n\u001b[1;32m      7\u001b[0m     \u001b[0mplt\u001b[0m\u001b[0;34m.\u001b[0m\u001b[0mxticks\u001b[0m\u001b[0;34m(\u001b[0m\u001b[0mrotation\u001b[0m\u001b[0;34m=\u001b[0m\u001b[0;36m80\u001b[0m\u001b[0;34m)\u001b[0m\u001b[0;34m;\u001b[0m\u001b[0;34m\u001b[0m\u001b[0;34m\u001b[0m\u001b[0m\n",
      "\u001b[0;32m/Users/adinasteinman/opt/anaconda3/envs/learn-env/lib/python3.6/site-packages/seaborn/_decorators.py\u001b[0m in \u001b[0;36minner_f\u001b[0;34m(*args, **kwargs)\u001b[0m\n\u001b[1;32m     44\u001b[0m             )\n\u001b[1;32m     45\u001b[0m         \u001b[0mkwargs\u001b[0m\u001b[0;34m.\u001b[0m\u001b[0mupdate\u001b[0m\u001b[0;34m(\u001b[0m\u001b[0;34m{\u001b[0m\u001b[0mk\u001b[0m\u001b[0;34m:\u001b[0m \u001b[0marg\u001b[0m \u001b[0;32mfor\u001b[0m \u001b[0mk\u001b[0m\u001b[0;34m,\u001b[0m \u001b[0marg\u001b[0m \u001b[0;32min\u001b[0m \u001b[0mzip\u001b[0m\u001b[0;34m(\u001b[0m\u001b[0msig\u001b[0m\u001b[0;34m.\u001b[0m\u001b[0mparameters\u001b[0m\u001b[0;34m,\u001b[0m \u001b[0margs\u001b[0m\u001b[0;34m)\u001b[0m\u001b[0;34m}\u001b[0m\u001b[0;34m)\u001b[0m\u001b[0;34m\u001b[0m\u001b[0;34m\u001b[0m\u001b[0m\n\u001b[0;32m---> 46\u001b[0;31m         \u001b[0;32mreturn\u001b[0m \u001b[0mf\u001b[0m\u001b[0;34m(\u001b[0m\u001b[0;34m**\u001b[0m\u001b[0mkwargs\u001b[0m\u001b[0;34m)\u001b[0m\u001b[0;34m\u001b[0m\u001b[0;34m\u001b[0m\u001b[0m\n\u001b[0m\u001b[1;32m     47\u001b[0m     \u001b[0;32mreturn\u001b[0m \u001b[0minner_f\u001b[0m\u001b[0;34m\u001b[0m\u001b[0;34m\u001b[0m\u001b[0m\n\u001b[1;32m     48\u001b[0m \u001b[0;34m\u001b[0m\u001b[0m\n",
      "\u001b[0;32m/Users/adinasteinman/opt/anaconda3/envs/learn-env/lib/python3.6/site-packages/seaborn/categorical.py\u001b[0m in \u001b[0;36mbarplot\u001b[0;34m(x, y, hue, data, order, hue_order, estimator, ci, n_boot, units, seed, orient, color, palette, saturation, errcolor, errwidth, capsize, dodge, ax, **kwargs)\u001b[0m\n\u001b[1;32m   3170\u001b[0m                           \u001b[0mestimator\u001b[0m\u001b[0;34m,\u001b[0m \u001b[0mci\u001b[0m\u001b[0;34m,\u001b[0m \u001b[0mn_boot\u001b[0m\u001b[0;34m,\u001b[0m \u001b[0munits\u001b[0m\u001b[0;34m,\u001b[0m \u001b[0mseed\u001b[0m\u001b[0;34m,\u001b[0m\u001b[0;34m\u001b[0m\u001b[0;34m\u001b[0m\u001b[0m\n\u001b[1;32m   3171\u001b[0m                           \u001b[0morient\u001b[0m\u001b[0;34m,\u001b[0m \u001b[0mcolor\u001b[0m\u001b[0;34m,\u001b[0m \u001b[0mpalette\u001b[0m\u001b[0;34m,\u001b[0m \u001b[0msaturation\u001b[0m\u001b[0;34m,\u001b[0m\u001b[0;34m\u001b[0m\u001b[0;34m\u001b[0m\u001b[0m\n\u001b[0;32m-> 3172\u001b[0;31m                           errcolor, errwidth, capsize, dodge)\n\u001b[0m\u001b[1;32m   3173\u001b[0m \u001b[0;34m\u001b[0m\u001b[0m\n\u001b[1;32m   3174\u001b[0m     \u001b[0;32mif\u001b[0m \u001b[0max\u001b[0m \u001b[0;32mis\u001b[0m \u001b[0;32mNone\u001b[0m\u001b[0;34m:\u001b[0m\u001b[0;34m\u001b[0m\u001b[0;34m\u001b[0m\u001b[0m\n",
      "\u001b[0;32m/Users/adinasteinman/opt/anaconda3/envs/learn-env/lib/python3.6/site-packages/seaborn/categorical.py\u001b[0m in \u001b[0;36m__init__\u001b[0;34m(self, x, y, hue, data, order, hue_order, estimator, ci, n_boot, units, seed, orient, color, palette, saturation, errcolor, errwidth, capsize, dodge)\u001b[0m\n\u001b[1;32m   1584\u001b[0m         self.establish_variables(x, y, hue, data, orient,\n\u001b[1;32m   1585\u001b[0m                                  order, hue_order, units)\n\u001b[0;32m-> 1586\u001b[0;31m         \u001b[0mself\u001b[0m\u001b[0;34m.\u001b[0m\u001b[0mestablish_colors\u001b[0m\u001b[0;34m(\u001b[0m\u001b[0mcolor\u001b[0m\u001b[0;34m,\u001b[0m \u001b[0mpalette\u001b[0m\u001b[0;34m,\u001b[0m \u001b[0msaturation\u001b[0m\u001b[0;34m)\u001b[0m\u001b[0;34m\u001b[0m\u001b[0;34m\u001b[0m\u001b[0m\n\u001b[0m\u001b[1;32m   1587\u001b[0m         \u001b[0mself\u001b[0m\u001b[0;34m.\u001b[0m\u001b[0mestimate_statistic\u001b[0m\u001b[0;34m(\u001b[0m\u001b[0mestimator\u001b[0m\u001b[0;34m,\u001b[0m \u001b[0mci\u001b[0m\u001b[0;34m,\u001b[0m \u001b[0mn_boot\u001b[0m\u001b[0;34m,\u001b[0m \u001b[0mseed\u001b[0m\u001b[0;34m)\u001b[0m\u001b[0;34m\u001b[0m\u001b[0;34m\u001b[0m\u001b[0m\n\u001b[1;32m   1588\u001b[0m \u001b[0;34m\u001b[0m\u001b[0m\n",
      "\u001b[0;32m/Users/adinasteinman/opt/anaconda3/envs/learn-env/lib/python3.6/site-packages/seaborn/categorical.py\u001b[0m in \u001b[0;36mestablish_colors\u001b[0;34m(self, color, palette, saturation)\u001b[0m\n\u001b[1;32m    317\u001b[0m         \u001b[0;31m# Determine the gray color to use for the lines framing the plot\u001b[0m\u001b[0;34m\u001b[0m\u001b[0;34m\u001b[0m\u001b[0;34m\u001b[0m\u001b[0m\n\u001b[1;32m    318\u001b[0m         \u001b[0mlight_vals\u001b[0m \u001b[0;34m=\u001b[0m \u001b[0;34m[\u001b[0m\u001b[0mcolorsys\u001b[0m\u001b[0;34m.\u001b[0m\u001b[0mrgb_to_hls\u001b[0m\u001b[0;34m(\u001b[0m\u001b[0;34m*\u001b[0m\u001b[0mc\u001b[0m\u001b[0;34m)\u001b[0m\u001b[0;34m[\u001b[0m\u001b[0;36m1\u001b[0m\u001b[0;34m]\u001b[0m \u001b[0;32mfor\u001b[0m \u001b[0mc\u001b[0m \u001b[0;32min\u001b[0m \u001b[0mrgb_colors\u001b[0m\u001b[0;34m]\u001b[0m\u001b[0;34m\u001b[0m\u001b[0;34m\u001b[0m\u001b[0m\n\u001b[0;32m--> 319\u001b[0;31m         \u001b[0mlum\u001b[0m \u001b[0;34m=\u001b[0m \u001b[0mmin\u001b[0m\u001b[0;34m(\u001b[0m\u001b[0mlight_vals\u001b[0m\u001b[0;34m)\u001b[0m \u001b[0;34m*\u001b[0m \u001b[0;36m.6\u001b[0m\u001b[0;34m\u001b[0m\u001b[0;34m\u001b[0m\u001b[0m\n\u001b[0m\u001b[1;32m    320\u001b[0m         \u001b[0mgray\u001b[0m \u001b[0;34m=\u001b[0m \u001b[0mmpl\u001b[0m\u001b[0;34m.\u001b[0m\u001b[0mcolors\u001b[0m\u001b[0;34m.\u001b[0m\u001b[0mrgb2hex\u001b[0m\u001b[0;34m(\u001b[0m\u001b[0;34m(\u001b[0m\u001b[0mlum\u001b[0m\u001b[0;34m,\u001b[0m \u001b[0mlum\u001b[0m\u001b[0;34m,\u001b[0m \u001b[0mlum\u001b[0m\u001b[0;34m)\u001b[0m\u001b[0;34m)\u001b[0m\u001b[0;34m\u001b[0m\u001b[0;34m\u001b[0m\u001b[0m\n\u001b[1;32m    321\u001b[0m \u001b[0;34m\u001b[0m\u001b[0m\n",
      "\u001b[0;31mValueError\u001b[0m: min() arg is an empty sequence"
     ]
    },
    {
     "data": {
      "image/png": "[encoded data removed]",
      "text/plain": [
       "<Figure size 576x576 with 1 Axes>"
      ]
     },
     "metadata": {
      "needs_background": "light"
     },
     "output_type": "display_data"
    },
    {
     "data": {
      "image/png": "[encoded data removed]",
      "text/plain": [
       "<Figure size 576x576 with 1 Axes>"
      ]
     },
     "metadata": {
      "needs_background": "light"
     },
     "output_type": "display_data"
    },
    {
     "data": {
      "image/png": "[encoded data removed]",
      "text/plain": [
       "<Figure size 576x576 with 1 Axes>"
      ]
     },
     "metadata": {
      "needs_background": "light"
     },
     "output_type": "display_data"
    },
    {
     "data": {
      "image/png": "[encoded data removed]",
      "text/plain": [
       "<Figure size 576x576 with 1 Axes>"
      ]
     },
     "metadata": {
      "needs_background": "light"
     },
     "output_type": "display_data"
    },
    {
     "data": {
      "text/plain": [
       "<Figure size 576x576 with 0 Axes>"
      ]
     },
     "metadata": {},
     "output_type": "display_data"
    }
   ],
   "source": [
    "for gen in matrix2.columns[2:]:\n",
    "    x = matrix2[(matrix2[gen]==True)]\n",
    "    plt.figure(figsize=(8,8))\n",
    "    topsongs = x.groupby('track_name').mean()['estimatedrating'].sort_values(ascending=False).head(10)\n",
    "    sns.barplot(topsongs.index, topsongs.values)\n",
    "    plt.title('Top 10 Highest Model-Rated '+gen[6:]+' Tracks')\n",
    "    plt.xticks(rotation=80);"
   ]
  },
  {
   "cell_type": "code",
   "execution_count": null,
   "metadata": {},
   "outputs": [],
   "source": [
    "##Any other post-model EDA to add? "
   ]
  }
 ],
 "metadata": {
  "kernelspec": {
   "display_name": "Python 3",
   "language": "python",
   "name": "python3"
  },
  "language_info": {
   "codemirror_mode": {
    "name": "ipython",
    "version": 3
   },
   "file_extension": ".py",
   "mimetype": "text/x-python",
   "name": "python",
   "nbconvert_exporter": "python",
   "pygments_lexer": "ipython3",
   "version": "3.6.9"
  }
 },
 "nbformat": 4,
 "nbformat_minor": 4
}
