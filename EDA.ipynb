{
 "cells": [
  {
   "cell_type": "code",
   "execution_count": 1,
   "metadata": {},
   "outputs": [],
   "source": [
    "#Import necessary packages\n",
    "import pandas as pd\n",
    "import seaborn as sns\n",
    "import matplotlib.pyplot as plt\n",
    "%matplotlib inline"
   ]
  },
  {
   "cell_type": "code",
   "execution_count": 2,
   "metadata": {},
   "outputs": [],
   "source": [
    "#Import DataFrames\n",
    "playlist = pd.read_csv('playlistdf')\n",
    "playlist.drop(['Unnamed: 0'], axis=1, inplace=True)\n",
    "audio = pd.read_csv('dfaudio')\n",
    "audio.drop(['Unnamed: 0'], axis=1, inplace=True)"
   ]
  },
  {
   "cell_type": "markdown",
   "metadata": {},
   "source": [
    "### Data Cleaning"
   ]
  },
  {
   "cell_type": "code",
   "execution_count": 3,
   "metadata": {
    "scrolled": true
   },
   "outputs": [
    {
     "data": {
      "text/html": [
       "<div>\n",
       "<style scoped>\n",
       "    .dataframe tbody tr th:only-of-type {\n",
       "        vertical-align: middle;\n",
       "    }\n",
       "\n",
       "    .dataframe tbody tr th {\n",
       "        vertical-align: top;\n",
       "    }\n",
       "\n",
       "    .dataframe thead th {\n",
       "        text-align: right;\n",
       "    }\n",
       "</style>\n",
       "<table border=\"1\" class=\"dataframe\">\n",
       "  <thead>\n",
       "    <tr style=\"text-align: right;\">\n",
       "      <th></th>\n",
       "      <th>artist</th>\n",
       "      <th>artist_id</th>\n",
       "      <th>album</th>\n",
       "      <th>track_name</th>\n",
       "      <th>release_date</th>\n",
       "      <th>popularity</th>\n",
       "      <th>is_explicit</th>\n",
       "      <th>track_id</th>\n",
       "    </tr>\n",
       "  </thead>\n",
       "  <tbody>\n",
       "    <tr>\n",
       "      <th>0</th>\n",
       "      <td>Katy Perry</td>\n",
       "      <td>6jJ0s89eD6GaHleKKya26X</td>\n",
       "      <td>Katy Perry - Teenage Dream: The Complete Confe...</td>\n",
       "      <td>Firework</td>\n",
       "      <td>2012-03-12</td>\n",
       "      <td>72</td>\n",
       "      <td>False</td>\n",
       "      <td>4lCv7b86sLynZbXhfScfm2</td>\n",
       "    </tr>\n",
       "    <tr>\n",
       "      <th>1</th>\n",
       "      <td>OneRepublic</td>\n",
       "      <td>5Pwc4xIPtQLFEnJriah9YJ</td>\n",
       "      <td>Dreaming Out Loud</td>\n",
       "      <td>All We Are</td>\n",
       "      <td>2007-01-01</td>\n",
       "      <td>39</td>\n",
       "      <td>False</td>\n",
       "      <td>1Jx69b09LKTuBQxkEiFfVX</td>\n",
       "    </tr>\n",
       "    <tr>\n",
       "      <th>2</th>\n",
       "      <td>Amy Winehouse</td>\n",
       "      <td>6Q192DXotxtaysaqNPy5yR</td>\n",
       "      <td>Back To Black</td>\n",
       "      <td>Wake Up Alone</td>\n",
       "      <td>2006-01-01</td>\n",
       "      <td>0</td>\n",
       "      <td>False</td>\n",
       "      <td>4u83mwF5tUuWlXS86UOXdu</td>\n",
       "    </tr>\n",
       "    <tr>\n",
       "      <th>3</th>\n",
       "      <td>The Script</td>\n",
       "      <td>3AQRLZ9PuTAozP28Skbq8V</td>\n",
       "      <td>The Script</td>\n",
       "      <td>The Man Who Can't Be Moved</td>\n",
       "      <td>2008-09-08</td>\n",
       "      <td>57</td>\n",
       "      <td>False</td>\n",
       "      <td>4Musyaro0NM5Awx8b5c627</td>\n",
       "    </tr>\n",
       "    <tr>\n",
       "      <th>4</th>\n",
       "      <td>Adele</td>\n",
       "      <td>4dpARuHxo51G3z768sgnrY</td>\n",
       "      <td>21</td>\n",
       "      <td>Rolling in the Deep</td>\n",
       "      <td>2011-01-19</td>\n",
       "      <td>55</td>\n",
       "      <td>False</td>\n",
       "      <td>1CkvWZme3pRgbzaxZnTl5X</td>\n",
       "    </tr>\n",
       "  </tbody>\n",
       "</table>\n",
       "</div>"
      ],
      "text/plain": [
       "          artist               artist_id  \\\n",
       "0     Katy Perry  6jJ0s89eD6GaHleKKya26X   \n",
       "1    OneRepublic  5Pwc4xIPtQLFEnJriah9YJ   \n",
       "2  Amy Winehouse  6Q192DXotxtaysaqNPy5yR   \n",
       "3     The Script  3AQRLZ9PuTAozP28Skbq8V   \n",
       "4          Adele  4dpARuHxo51G3z768sgnrY   \n",
       "\n",
       "                                               album  \\\n",
       "0  Katy Perry - Teenage Dream: The Complete Confe...   \n",
       "1                                  Dreaming Out Loud   \n",
       "2                                      Back To Black   \n",
       "3                                         The Script   \n",
       "4                                                 21   \n",
       "\n",
       "                   track_name release_date  popularity  is_explicit  \\\n",
       "0                    Firework   2012-03-12          72        False   \n",
       "1                  All We Are   2007-01-01          39        False   \n",
       "2               Wake Up Alone   2006-01-01           0        False   \n",
       "3  The Man Who Can't Be Moved   2008-09-08          57        False   \n",
       "4         Rolling in the Deep   2011-01-19          55        False   \n",
       "\n",
       "                 track_id  \n",
       "0  4lCv7b86sLynZbXhfScfm2  \n",
       "1  1Jx69b09LKTuBQxkEiFfVX  \n",
       "2  4u83mwF5tUuWlXS86UOXdu  \n",
       "3  4Musyaro0NM5Awx8b5c627  \n",
       "4  1CkvWZme3pRgbzaxZnTl5X  "
      ]
     },
     "execution_count": 3,
     "metadata": {},
     "output_type": "execute_result"
    }
   ],
   "source": [
    "#Explore first 5 rows of playlist dataset \n",
    "playlist.head()"
   ]
  },
  {
   "cell_type": "code",
   "execution_count": 4,
   "metadata": {},
   "outputs": [
    {
     "data": {
      "text/html": [
       "<div>\n",
       "<style scoped>\n",
       "    .dataframe tbody tr th:only-of-type {\n",
       "        vertical-align: middle;\n",
       "    }\n",
       "\n",
       "    .dataframe tbody tr th {\n",
       "        vertical-align: top;\n",
       "    }\n",
       "\n",
       "    .dataframe thead th {\n",
       "        text-align: right;\n",
       "    }\n",
       "</style>\n",
       "<table border=\"1\" class=\"dataframe\">\n",
       "  <thead>\n",
       "    <tr style=\"text-align: right;\">\n",
       "      <th></th>\n",
       "      <th>danceability</th>\n",
       "      <th>energy</th>\n",
       "      <th>key</th>\n",
       "      <th>loudness</th>\n",
       "      <th>mode</th>\n",
       "      <th>speechiness</th>\n",
       "      <th>acousticness</th>\n",
       "      <th>instrumentalness</th>\n",
       "      <th>liveness</th>\n",
       "      <th>valence</th>\n",
       "      <th>tempo</th>\n",
       "      <th>type</th>\n",
       "      <th>id</th>\n",
       "      <th>uri</th>\n",
       "      <th>track_href</th>\n",
       "      <th>analysis_url</th>\n",
       "      <th>duration_ms</th>\n",
       "      <th>time_signature</th>\n",
       "    </tr>\n",
       "  </thead>\n",
       "  <tbody>\n",
       "    <tr>\n",
       "      <th>0</th>\n",
       "      <td>0.638</td>\n",
       "      <td>0.826</td>\n",
       "      <td>8</td>\n",
       "      <td>-4.968</td>\n",
       "      <td>1</td>\n",
       "      <td>0.0479</td>\n",
       "      <td>0.1390</td>\n",
       "      <td>0.000000</td>\n",
       "      <td>0.0803</td>\n",
       "      <td>0.649</td>\n",
       "      <td>124.072</td>\n",
       "      <td>audio_features</td>\n",
       "      <td>4lCv7b86sLynZbXhfScfm2</td>\n",
       "      <td>spotify:track:4lCv7b86sLynZbXhfScfm2</td>\n",
       "      <td>https://api.spotify.com/v1/tracks/4lCv7b86sLyn...</td>\n",
       "      <td>https://api.spotify.com/v1/audio-analysis/4lCv...</td>\n",
       "      <td>227880</td>\n",
       "      <td>4</td>\n",
       "    </tr>\n",
       "    <tr>\n",
       "      <th>1</th>\n",
       "      <td>0.397</td>\n",
       "      <td>0.817</td>\n",
       "      <td>2</td>\n",
       "      <td>-5.495</td>\n",
       "      <td>1</td>\n",
       "      <td>0.0420</td>\n",
       "      <td>0.0966</td>\n",
       "      <td>0.000008</td>\n",
       "      <td>0.3160</td>\n",
       "      <td>0.416</td>\n",
       "      <td>158.004</td>\n",
       "      <td>audio_features</td>\n",
       "      <td>1Jx69b09LKTuBQxkEiFfVX</td>\n",
       "      <td>spotify:track:1Jx69b09LKTuBQxkEiFfVX</td>\n",
       "      <td>https://api.spotify.com/v1/tracks/1Jx69b09LKTu...</td>\n",
       "      <td>https://api.spotify.com/v1/audio-analysis/1Jx6...</td>\n",
       "      <td>266227</td>\n",
       "      <td>4</td>\n",
       "    </tr>\n",
       "    <tr>\n",
       "      <th>2</th>\n",
       "      <td>0.384</td>\n",
       "      <td>0.527</td>\n",
       "      <td>11</td>\n",
       "      <td>-5.294</td>\n",
       "      <td>0</td>\n",
       "      <td>0.0269</td>\n",
       "      <td>0.5420</td>\n",
       "      <td>0.000000</td>\n",
       "      <td>0.1560</td>\n",
       "      <td>0.222</td>\n",
       "      <td>100.730</td>\n",
       "      <td>audio_features</td>\n",
       "      <td>4u83mwF5tUuWlXS86UOXdu</td>\n",
       "      <td>spotify:track:4u83mwF5tUuWlXS86UOXdu</td>\n",
       "      <td>https://api.spotify.com/v1/tracks/4u83mwF5tUuW...</td>\n",
       "      <td>https://api.spotify.com/v1/audio-analysis/4u83...</td>\n",
       "      <td>221200</td>\n",
       "      <td>3</td>\n",
       "    </tr>\n",
       "    <tr>\n",
       "      <th>3</th>\n",
       "      <td>0.609</td>\n",
       "      <td>0.629</td>\n",
       "      <td>10</td>\n",
       "      <td>-5.024</td>\n",
       "      <td>1</td>\n",
       "      <td>0.0264</td>\n",
       "      <td>0.4250</td>\n",
       "      <td>0.000000</td>\n",
       "      <td>0.0978</td>\n",
       "      <td>0.325</td>\n",
       "      <td>99.955</td>\n",
       "      <td>audio_features</td>\n",
       "      <td>4Musyaro0NM5Awx8b5c627</td>\n",
       "      <td>spotify:track:4Musyaro0NM5Awx8b5c627</td>\n",
       "      <td>https://api.spotify.com/v1/tracks/4Musyaro0NM5...</td>\n",
       "      <td>https://api.spotify.com/v1/audio-analysis/4Mus...</td>\n",
       "      <td>241467</td>\n",
       "      <td>4</td>\n",
       "    </tr>\n",
       "    <tr>\n",
       "      <th>4</th>\n",
       "      <td>0.729</td>\n",
       "      <td>0.756</td>\n",
       "      <td>8</td>\n",
       "      <td>-5.119</td>\n",
       "      <td>1</td>\n",
       "      <td>0.0294</td>\n",
       "      <td>0.1310</td>\n",
       "      <td>0.000000</td>\n",
       "      <td>0.0527</td>\n",
       "      <td>0.522</td>\n",
       "      <td>104.945</td>\n",
       "      <td>audio_features</td>\n",
       "      <td>1CkvWZme3pRgbzaxZnTl5X</td>\n",
       "      <td>spotify:track:1CkvWZme3pRgbzaxZnTl5X</td>\n",
       "      <td>https://api.spotify.com/v1/tracks/1CkvWZme3pRg...</td>\n",
       "      <td>https://api.spotify.com/v1/audio-analysis/1Ckv...</td>\n",
       "      <td>228293</td>\n",
       "      <td>4</td>\n",
       "    </tr>\n",
       "  </tbody>\n",
       "</table>\n",
       "</div>"
      ],
      "text/plain": [
       "   danceability  energy  key  loudness  mode  speechiness  acousticness  \\\n",
       "0         0.638   0.826    8    -4.968     1       0.0479        0.1390   \n",
       "1         0.397   0.817    2    -5.495     1       0.0420        0.0966   \n",
       "2         0.384   0.527   11    -5.294     0       0.0269        0.5420   \n",
       "3         0.609   0.629   10    -5.024     1       0.0264        0.4250   \n",
       "4         0.729   0.756    8    -5.119     1       0.0294        0.1310   \n",
       "\n",
       "   instrumentalness  liveness  valence    tempo            type  \\\n",
       "0          0.000000    0.0803    0.649  124.072  audio_features   \n",
       "1          0.000008    0.3160    0.416  158.004  audio_features   \n",
       "2          0.000000    0.1560    0.222  100.730  audio_features   \n",
       "3          0.000000    0.0978    0.325   99.955  audio_features   \n",
       "4          0.000000    0.0527    0.522  104.945  audio_features   \n",
       "\n",
       "                       id                                   uri  \\\n",
       "0  4lCv7b86sLynZbXhfScfm2  spotify:track:4lCv7b86sLynZbXhfScfm2   \n",
       "1  1Jx69b09LKTuBQxkEiFfVX  spotify:track:1Jx69b09LKTuBQxkEiFfVX   \n",
       "2  4u83mwF5tUuWlXS86UOXdu  spotify:track:4u83mwF5tUuWlXS86UOXdu   \n",
       "3  4Musyaro0NM5Awx8b5c627  spotify:track:4Musyaro0NM5Awx8b5c627   \n",
       "4  1CkvWZme3pRgbzaxZnTl5X  spotify:track:1CkvWZme3pRgbzaxZnTl5X   \n",
       "\n",
       "                                          track_href  \\\n",
       "0  https://api.spotify.com/v1/tracks/4lCv7b86sLyn...   \n",
       "1  https://api.spotify.com/v1/tracks/1Jx69b09LKTu...   \n",
       "2  https://api.spotify.com/v1/tracks/4u83mwF5tUuW...   \n",
       "3  https://api.spotify.com/v1/tracks/4Musyaro0NM5...   \n",
       "4  https://api.spotify.com/v1/tracks/1CkvWZme3pRg...   \n",
       "\n",
       "                                        analysis_url  duration_ms  \\\n",
       "0  https://api.spotify.com/v1/audio-analysis/4lCv...       227880   \n",
       "1  https://api.spotify.com/v1/audio-analysis/1Jx6...       266227   \n",
       "2  https://api.spotify.com/v1/audio-analysis/4u83...       221200   \n",
       "3  https://api.spotify.com/v1/audio-analysis/4Mus...       241467   \n",
       "4  https://api.spotify.com/v1/audio-analysis/1Ckv...       228293   \n",
       "\n",
       "   time_signature  \n",
       "0               4  \n",
       "1               4  \n",
       "2               3  \n",
       "3               4  \n",
       "4               4  "
      ]
     },
     "execution_count": 4,
     "metadata": {},
     "output_type": "execute_result"
    }
   ],
   "source": [
    "#Explore first 5 rows of audio dataset \n",
    "audio.head()"
   ]
  },
  {
   "cell_type": "code",
   "execution_count": 5,
   "metadata": {},
   "outputs": [],
   "source": [
    "#Rename audio's 'id' column to 'track_id'\n",
    "audio = audio.rename({'id': 'track_id'}, axis=1) "
   ]
  },
  {
   "cell_type": "code",
   "execution_count": 6,
   "metadata": {},
   "outputs": [
    {
     "data": {
      "text/html": [
       "<div>\n",
       "<style scoped>\n",
       "    .dataframe tbody tr th:only-of-type {\n",
       "        vertical-align: middle;\n",
       "    }\n",
       "\n",
       "    .dataframe tbody tr th {\n",
       "        vertical-align: top;\n",
       "    }\n",
       "\n",
       "    .dataframe thead th {\n",
       "        text-align: right;\n",
       "    }\n",
       "</style>\n",
       "<table border=\"1\" class=\"dataframe\">\n",
       "  <thead>\n",
       "    <tr style=\"text-align: right;\">\n",
       "      <th></th>\n",
       "      <th>danceability</th>\n",
       "      <th>energy</th>\n",
       "      <th>key</th>\n",
       "      <th>loudness</th>\n",
       "      <th>mode</th>\n",
       "      <th>speechiness</th>\n",
       "      <th>acousticness</th>\n",
       "      <th>instrumentalness</th>\n",
       "      <th>liveness</th>\n",
       "      <th>valence</th>\n",
       "      <th>tempo</th>\n",
       "      <th>type</th>\n",
       "      <th>track_id</th>\n",
       "      <th>uri</th>\n",
       "      <th>track_href</th>\n",
       "      <th>analysis_url</th>\n",
       "      <th>duration_ms</th>\n",
       "      <th>time_signature</th>\n",
       "    </tr>\n",
       "  </thead>\n",
       "  <tbody>\n",
       "    <tr>\n",
       "      <th>0</th>\n",
       "      <td>0.638</td>\n",
       "      <td>0.826</td>\n",
       "      <td>8</td>\n",
       "      <td>-4.968</td>\n",
       "      <td>1</td>\n",
       "      <td>0.0479</td>\n",
       "      <td>0.1390</td>\n",
       "      <td>0.000000</td>\n",
       "      <td>0.0803</td>\n",
       "      <td>0.649</td>\n",
       "      <td>124.072</td>\n",
       "      <td>audio_features</td>\n",
       "      <td>4lCv7b86sLynZbXhfScfm2</td>\n",
       "      <td>spotify:track:4lCv7b86sLynZbXhfScfm2</td>\n",
       "      <td>https://api.spotify.com/v1/tracks/4lCv7b86sLyn...</td>\n",
       "      <td>https://api.spotify.com/v1/audio-analysis/4lCv...</td>\n",
       "      <td>227880</td>\n",
       "      <td>4</td>\n",
       "    </tr>\n",
       "    <tr>\n",
       "      <th>1</th>\n",
       "      <td>0.397</td>\n",
       "      <td>0.817</td>\n",
       "      <td>2</td>\n",
       "      <td>-5.495</td>\n",
       "      <td>1</td>\n",
       "      <td>0.0420</td>\n",
       "      <td>0.0966</td>\n",
       "      <td>0.000008</td>\n",
       "      <td>0.3160</td>\n",
       "      <td>0.416</td>\n",
       "      <td>158.004</td>\n",
       "      <td>audio_features</td>\n",
       "      <td>1Jx69b09LKTuBQxkEiFfVX</td>\n",
       "      <td>spotify:track:1Jx69b09LKTuBQxkEiFfVX</td>\n",
       "      <td>https://api.spotify.com/v1/tracks/1Jx69b09LKTu...</td>\n",
       "      <td>https://api.spotify.com/v1/audio-analysis/1Jx6...</td>\n",
       "      <td>266227</td>\n",
       "      <td>4</td>\n",
       "    </tr>\n",
       "    <tr>\n",
       "      <th>2</th>\n",
       "      <td>0.384</td>\n",
       "      <td>0.527</td>\n",
       "      <td>11</td>\n",
       "      <td>-5.294</td>\n",
       "      <td>0</td>\n",
       "      <td>0.0269</td>\n",
       "      <td>0.5420</td>\n",
       "      <td>0.000000</td>\n",
       "      <td>0.1560</td>\n",
       "      <td>0.222</td>\n",
       "      <td>100.730</td>\n",
       "      <td>audio_features</td>\n",
       "      <td>4u83mwF5tUuWlXS86UOXdu</td>\n",
       "      <td>spotify:track:4u83mwF5tUuWlXS86UOXdu</td>\n",
       "      <td>https://api.spotify.com/v1/tracks/4u83mwF5tUuW...</td>\n",
       "      <td>https://api.spotify.com/v1/audio-analysis/4u83...</td>\n",
       "      <td>221200</td>\n",
       "      <td>3</td>\n",
       "    </tr>\n",
       "    <tr>\n",
       "      <th>3</th>\n",
       "      <td>0.609</td>\n",
       "      <td>0.629</td>\n",
       "      <td>10</td>\n",
       "      <td>-5.024</td>\n",
       "      <td>1</td>\n",
       "      <td>0.0264</td>\n",
       "      <td>0.4250</td>\n",
       "      <td>0.000000</td>\n",
       "      <td>0.0978</td>\n",
       "      <td>0.325</td>\n",
       "      <td>99.955</td>\n",
       "      <td>audio_features</td>\n",
       "      <td>4Musyaro0NM5Awx8b5c627</td>\n",
       "      <td>spotify:track:4Musyaro0NM5Awx8b5c627</td>\n",
       "      <td>https://api.spotify.com/v1/tracks/4Musyaro0NM5...</td>\n",
       "      <td>https://api.spotify.com/v1/audio-analysis/4Mus...</td>\n",
       "      <td>241467</td>\n",
       "      <td>4</td>\n",
       "    </tr>\n",
       "    <tr>\n",
       "      <th>4</th>\n",
       "      <td>0.729</td>\n",
       "      <td>0.756</td>\n",
       "      <td>8</td>\n",
       "      <td>-5.119</td>\n",
       "      <td>1</td>\n",
       "      <td>0.0294</td>\n",
       "      <td>0.1310</td>\n",
       "      <td>0.000000</td>\n",
       "      <td>0.0527</td>\n",
       "      <td>0.522</td>\n",
       "      <td>104.945</td>\n",
       "      <td>audio_features</td>\n",
       "      <td>1CkvWZme3pRgbzaxZnTl5X</td>\n",
       "      <td>spotify:track:1CkvWZme3pRgbzaxZnTl5X</td>\n",
       "      <td>https://api.spotify.com/v1/tracks/1CkvWZme3pRg...</td>\n",
       "      <td>https://api.spotify.com/v1/audio-analysis/1Ckv...</td>\n",
       "      <td>228293</td>\n",
       "      <td>4</td>\n",
       "    </tr>\n",
       "  </tbody>\n",
       "</table>\n",
       "</div>"
      ],
      "text/plain": [
       "   danceability  energy  key  loudness  mode  speechiness  acousticness  \\\n",
       "0         0.638   0.826    8    -4.968     1       0.0479        0.1390   \n",
       "1         0.397   0.817    2    -5.495     1       0.0420        0.0966   \n",
       "2         0.384   0.527   11    -5.294     0       0.0269        0.5420   \n",
       "3         0.609   0.629   10    -5.024     1       0.0264        0.4250   \n",
       "4         0.729   0.756    8    -5.119     1       0.0294        0.1310   \n",
       "\n",
       "   instrumentalness  liveness  valence    tempo            type  \\\n",
       "0          0.000000    0.0803    0.649  124.072  audio_features   \n",
       "1          0.000008    0.3160    0.416  158.004  audio_features   \n",
       "2          0.000000    0.1560    0.222  100.730  audio_features   \n",
       "3          0.000000    0.0978    0.325   99.955  audio_features   \n",
       "4          0.000000    0.0527    0.522  104.945  audio_features   \n",
       "\n",
       "                 track_id                                   uri  \\\n",
       "0  4lCv7b86sLynZbXhfScfm2  spotify:track:4lCv7b86sLynZbXhfScfm2   \n",
       "1  1Jx69b09LKTuBQxkEiFfVX  spotify:track:1Jx69b09LKTuBQxkEiFfVX   \n",
       "2  4u83mwF5tUuWlXS86UOXdu  spotify:track:4u83mwF5tUuWlXS86UOXdu   \n",
       "3  4Musyaro0NM5Awx8b5c627  spotify:track:4Musyaro0NM5Awx8b5c627   \n",
       "4  1CkvWZme3pRgbzaxZnTl5X  spotify:track:1CkvWZme3pRgbzaxZnTl5X   \n",
       "\n",
       "                                          track_href  \\\n",
       "0  https://api.spotify.com/v1/tracks/4lCv7b86sLyn...   \n",
       "1  https://api.spotify.com/v1/tracks/1Jx69b09LKTu...   \n",
       "2  https://api.spotify.com/v1/tracks/4u83mwF5tUuW...   \n",
       "3  https://api.spotify.com/v1/tracks/4Musyaro0NM5...   \n",
       "4  https://api.spotify.com/v1/tracks/1CkvWZme3pRg...   \n",
       "\n",
       "                                        analysis_url  duration_ms  \\\n",
       "0  https://api.spotify.com/v1/audio-analysis/4lCv...       227880   \n",
       "1  https://api.spotify.com/v1/audio-analysis/1Jx6...       266227   \n",
       "2  https://api.spotify.com/v1/audio-analysis/4u83...       221200   \n",
       "3  https://api.spotify.com/v1/audio-analysis/4Mus...       241467   \n",
       "4  https://api.spotify.com/v1/audio-analysis/1Ckv...       228293   \n",
       "\n",
       "   time_signature  \n",
       "0               4  \n",
       "1               4  \n",
       "2               3  \n",
       "3               4  \n",
       "4               4  "
      ]
     },
     "execution_count": 6,
     "metadata": {},
     "output_type": "execute_result"
    }
   ],
   "source": [
    "audio.head()"
   ]
  },
  {
   "cell_type": "code",
   "execution_count": 7,
   "metadata": {},
   "outputs": [],
   "source": [
    "#Merge playlist and audio dataframes for easier reference.\n",
    "df = pd.merge(playlist, audio, on='track_id', how='inner')"
   ]
  },
  {
   "cell_type": "code",
   "execution_count": 8,
   "metadata": {},
   "outputs": [
    {
     "data": {
      "text/html": [
       "<div>\n",
       "<style scoped>\n",
       "    .dataframe tbody tr th:only-of-type {\n",
       "        vertical-align: middle;\n",
       "    }\n",
       "\n",
       "    .dataframe tbody tr th {\n",
       "        vertical-align: top;\n",
       "    }\n",
       "\n",
       "    .dataframe thead th {\n",
       "        text-align: right;\n",
       "    }\n",
       "</style>\n",
       "<table border=\"1\" class=\"dataframe\">\n",
       "  <thead>\n",
       "    <tr style=\"text-align: right;\">\n",
       "      <th></th>\n",
       "      <th>artist</th>\n",
       "      <th>artist_id</th>\n",
       "      <th>album</th>\n",
       "      <th>track_name</th>\n",
       "      <th>release_date</th>\n",
       "      <th>popularity</th>\n",
       "      <th>is_explicit</th>\n",
       "      <th>track_id</th>\n",
       "      <th>danceability</th>\n",
       "      <th>energy</th>\n",
       "      <th>...</th>\n",
       "      <th>instrumentalness</th>\n",
       "      <th>liveness</th>\n",
       "      <th>valence</th>\n",
       "      <th>tempo</th>\n",
       "      <th>type</th>\n",
       "      <th>uri</th>\n",
       "      <th>track_href</th>\n",
       "      <th>analysis_url</th>\n",
       "      <th>duration_ms</th>\n",
       "      <th>time_signature</th>\n",
       "    </tr>\n",
       "  </thead>\n",
       "  <tbody>\n",
       "    <tr>\n",
       "      <th>0</th>\n",
       "      <td>Katy Perry</td>\n",
       "      <td>6jJ0s89eD6GaHleKKya26X</td>\n",
       "      <td>Katy Perry - Teenage Dream: The Complete Confe...</td>\n",
       "      <td>Firework</td>\n",
       "      <td>2012-03-12</td>\n",
       "      <td>72</td>\n",
       "      <td>False</td>\n",
       "      <td>4lCv7b86sLynZbXhfScfm2</td>\n",
       "      <td>0.638</td>\n",
       "      <td>0.826</td>\n",
       "      <td>...</td>\n",
       "      <td>0.000000</td>\n",
       "      <td>0.0803</td>\n",
       "      <td>0.649</td>\n",
       "      <td>124.072</td>\n",
       "      <td>audio_features</td>\n",
       "      <td>spotify:track:4lCv7b86sLynZbXhfScfm2</td>\n",
       "      <td>https://api.spotify.com/v1/tracks/4lCv7b86sLyn...</td>\n",
       "      <td>https://api.spotify.com/v1/audio-analysis/4lCv...</td>\n",
       "      <td>227880</td>\n",
       "      <td>4</td>\n",
       "    </tr>\n",
       "    <tr>\n",
       "      <th>1</th>\n",
       "      <td>OneRepublic</td>\n",
       "      <td>5Pwc4xIPtQLFEnJriah9YJ</td>\n",
       "      <td>Dreaming Out Loud</td>\n",
       "      <td>All We Are</td>\n",
       "      <td>2007-01-01</td>\n",
       "      <td>39</td>\n",
       "      <td>False</td>\n",
       "      <td>1Jx69b09LKTuBQxkEiFfVX</td>\n",
       "      <td>0.397</td>\n",
       "      <td>0.817</td>\n",
       "      <td>...</td>\n",
       "      <td>0.000008</td>\n",
       "      <td>0.3160</td>\n",
       "      <td>0.416</td>\n",
       "      <td>158.004</td>\n",
       "      <td>audio_features</td>\n",
       "      <td>spotify:track:1Jx69b09LKTuBQxkEiFfVX</td>\n",
       "      <td>https://api.spotify.com/v1/tracks/1Jx69b09LKTu...</td>\n",
       "      <td>https://api.spotify.com/v1/audio-analysis/1Jx6...</td>\n",
       "      <td>266227</td>\n",
       "      <td>4</td>\n",
       "    </tr>\n",
       "    <tr>\n",
       "      <th>2</th>\n",
       "      <td>Amy Winehouse</td>\n",
       "      <td>6Q192DXotxtaysaqNPy5yR</td>\n",
       "      <td>Back To Black</td>\n",
       "      <td>Wake Up Alone</td>\n",
       "      <td>2006-01-01</td>\n",
       "      <td>0</td>\n",
       "      <td>False</td>\n",
       "      <td>4u83mwF5tUuWlXS86UOXdu</td>\n",
       "      <td>0.384</td>\n",
       "      <td>0.527</td>\n",
       "      <td>...</td>\n",
       "      <td>0.000000</td>\n",
       "      <td>0.1560</td>\n",
       "      <td>0.222</td>\n",
       "      <td>100.730</td>\n",
       "      <td>audio_features</td>\n",
       "      <td>spotify:track:4u83mwF5tUuWlXS86UOXdu</td>\n",
       "      <td>https://api.spotify.com/v1/tracks/4u83mwF5tUuW...</td>\n",
       "      <td>https://api.spotify.com/v1/audio-analysis/4u83...</td>\n",
       "      <td>221200</td>\n",
       "      <td>3</td>\n",
       "    </tr>\n",
       "    <tr>\n",
       "      <th>3</th>\n",
       "      <td>The Script</td>\n",
       "      <td>3AQRLZ9PuTAozP28Skbq8V</td>\n",
       "      <td>The Script</td>\n",
       "      <td>The Man Who Can't Be Moved</td>\n",
       "      <td>2008-09-08</td>\n",
       "      <td>57</td>\n",
       "      <td>False</td>\n",
       "      <td>4Musyaro0NM5Awx8b5c627</td>\n",
       "      <td>0.609</td>\n",
       "      <td>0.629</td>\n",
       "      <td>...</td>\n",
       "      <td>0.000000</td>\n",
       "      <td>0.0978</td>\n",
       "      <td>0.325</td>\n",
       "      <td>99.955</td>\n",
       "      <td>audio_features</td>\n",
       "      <td>spotify:track:4Musyaro0NM5Awx8b5c627</td>\n",
       "      <td>https://api.spotify.com/v1/tracks/4Musyaro0NM5...</td>\n",
       "      <td>https://api.spotify.com/v1/audio-analysis/4Mus...</td>\n",
       "      <td>241467</td>\n",
       "      <td>4</td>\n",
       "    </tr>\n",
       "    <tr>\n",
       "      <th>4</th>\n",
       "      <td>Adele</td>\n",
       "      <td>4dpARuHxo51G3z768sgnrY</td>\n",
       "      <td>21</td>\n",
       "      <td>Rolling in the Deep</td>\n",
       "      <td>2011-01-19</td>\n",
       "      <td>55</td>\n",
       "      <td>False</td>\n",
       "      <td>1CkvWZme3pRgbzaxZnTl5X</td>\n",
       "      <td>0.729</td>\n",
       "      <td>0.756</td>\n",
       "      <td>...</td>\n",
       "      <td>0.000000</td>\n",
       "      <td>0.0527</td>\n",
       "      <td>0.522</td>\n",
       "      <td>104.945</td>\n",
       "      <td>audio_features</td>\n",
       "      <td>spotify:track:1CkvWZme3pRgbzaxZnTl5X</td>\n",
       "      <td>https://api.spotify.com/v1/tracks/1CkvWZme3pRg...</td>\n",
       "      <td>https://api.spotify.com/v1/audio-analysis/1Ckv...</td>\n",
       "      <td>228293</td>\n",
       "      <td>4</td>\n",
       "    </tr>\n",
       "  </tbody>\n",
       "</table>\n",
       "<p>5 rows × 25 columns</p>\n",
       "</div>"
      ],
      "text/plain": [
       "          artist               artist_id  \\\n",
       "0     Katy Perry  6jJ0s89eD6GaHleKKya26X   \n",
       "1    OneRepublic  5Pwc4xIPtQLFEnJriah9YJ   \n",
       "2  Amy Winehouse  6Q192DXotxtaysaqNPy5yR   \n",
       "3     The Script  3AQRLZ9PuTAozP28Skbq8V   \n",
       "4          Adele  4dpARuHxo51G3z768sgnrY   \n",
       "\n",
       "                                               album  \\\n",
       "0  Katy Perry - Teenage Dream: The Complete Confe...   \n",
       "1                                  Dreaming Out Loud   \n",
       "2                                      Back To Black   \n",
       "3                                         The Script   \n",
       "4                                                 21   \n",
       "\n",
       "                   track_name release_date  popularity  is_explicit  \\\n",
       "0                    Firework   2012-03-12          72        False   \n",
       "1                  All We Are   2007-01-01          39        False   \n",
       "2               Wake Up Alone   2006-01-01           0        False   \n",
       "3  The Man Who Can't Be Moved   2008-09-08          57        False   \n",
       "4         Rolling in the Deep   2011-01-19          55        False   \n",
       "\n",
       "                 track_id  danceability  energy  ...  instrumentalness  \\\n",
       "0  4lCv7b86sLynZbXhfScfm2         0.638   0.826  ...          0.000000   \n",
       "1  1Jx69b09LKTuBQxkEiFfVX         0.397   0.817  ...          0.000008   \n",
       "2  4u83mwF5tUuWlXS86UOXdu         0.384   0.527  ...          0.000000   \n",
       "3  4Musyaro0NM5Awx8b5c627         0.609   0.629  ...          0.000000   \n",
       "4  1CkvWZme3pRgbzaxZnTl5X         0.729   0.756  ...          0.000000   \n",
       "\n",
       "   liveness  valence    tempo            type  \\\n",
       "0    0.0803    0.649  124.072  audio_features   \n",
       "1    0.3160    0.416  158.004  audio_features   \n",
       "2    0.1560    0.222  100.730  audio_features   \n",
       "3    0.0978    0.325   99.955  audio_features   \n",
       "4    0.0527    0.522  104.945  audio_features   \n",
       "\n",
       "                                    uri  \\\n",
       "0  spotify:track:4lCv7b86sLynZbXhfScfm2   \n",
       "1  spotify:track:1Jx69b09LKTuBQxkEiFfVX   \n",
       "2  spotify:track:4u83mwF5tUuWlXS86UOXdu   \n",
       "3  spotify:track:4Musyaro0NM5Awx8b5c627   \n",
       "4  spotify:track:1CkvWZme3pRgbzaxZnTl5X   \n",
       "\n",
       "                                          track_href  \\\n",
       "0  https://api.spotify.com/v1/tracks/4lCv7b86sLyn...   \n",
       "1  https://api.spotify.com/v1/tracks/1Jx69b09LKTu...   \n",
       "2  https://api.spotify.com/v1/tracks/4u83mwF5tUuW...   \n",
       "3  https://api.spotify.com/v1/tracks/4Musyaro0NM5...   \n",
       "4  https://api.spotify.com/v1/tracks/1CkvWZme3pRg...   \n",
       "\n",
       "                                        analysis_url  duration_ms  \\\n",
       "0  https://api.spotify.com/v1/audio-analysis/4lCv...       227880   \n",
       "1  https://api.spotify.com/v1/audio-analysis/1Jx6...       266227   \n",
       "2  https://api.spotify.com/v1/audio-analysis/4u83...       221200   \n",
       "3  https://api.spotify.com/v1/audio-analysis/4Mus...       241467   \n",
       "4  https://api.spotify.com/v1/audio-analysis/1Ckv...       228293   \n",
       "\n",
       "  time_signature  \n",
       "0              4  \n",
       "1              4  \n",
       "2              3  \n",
       "3              4  \n",
       "4              4  \n",
       "\n",
       "[5 rows x 25 columns]"
      ]
     },
     "execution_count": 8,
     "metadata": {},
     "output_type": "execute_result"
    }
   ],
   "source": [
    "#Explore new dataframe \n",
    "df.head()"
   ]
  },
  {
   "cell_type": "code",
   "execution_count": 9,
   "metadata": {
    "scrolled": true
   },
   "outputs": [
    {
     "data": {
      "text/plain": [
       "(10003, 25)"
      ]
     },
     "execution_count": 9,
     "metadata": {},
     "output_type": "execute_result"
    }
   ],
   "source": [
    "#Look at the shape of the dataset \n",
    "df.shape"
   ]
  },
  {
   "cell_type": "code",
   "execution_count": 10,
   "metadata": {},
   "outputs": [
    {
     "name": "stdout",
     "output_type": "stream",
     "text": [
      "<class 'pandas.core.frame.DataFrame'>\n",
      "Int64Index: 10003 entries, 0 to 10002\n",
      "Data columns (total 25 columns):\n",
      "artist              10003 non-null object\n",
      "artist_id           10003 non-null object\n",
      "album               10003 non-null object\n",
      "track_name          10003 non-null object\n",
      "release_date        10003 non-null object\n",
      "popularity          10003 non-null int64\n",
      "is_explicit         10003 non-null bool\n",
      "track_id            10003 non-null object\n",
      "danceability        10003 non-null float64\n",
      "energy              10003 non-null float64\n",
      "key                 10003 non-null int64\n",
      "loudness            10003 non-null float64\n",
      "mode                10003 non-null int64\n",
      "speechiness         10003 non-null float64\n",
      "acousticness        10003 non-null float64\n",
      "instrumentalness    10003 non-null float64\n",
      "liveness            10003 non-null float64\n",
      "valence             10003 non-null float64\n",
      "tempo               10003 non-null float64\n",
      "type                10003 non-null object\n",
      "uri                 10003 non-null object\n",
      "track_href          10003 non-null object\n",
      "analysis_url        10003 non-null object\n",
      "duration_ms         10003 non-null int64\n",
      "time_signature      10003 non-null int64\n",
      "dtypes: bool(1), float64(9), int64(5), object(10)\n",
      "memory usage: 1.9+ MB\n"
     ]
    }
   ],
   "source": [
    "df.info()"
   ]
  },
  {
   "cell_type": "code",
   "execution_count": 11,
   "metadata": {},
   "outputs": [],
   "source": [
    "#Turn release_date into a Datetime object \n",
    "df['release_date'] = pd.to_datetime(df['release_date'], format='%Y/%m/%d')"
   ]
  },
  {
   "cell_type": "code",
   "execution_count": 12,
   "metadata": {},
   "outputs": [
    {
     "data": {
      "text/plain": [
       "False    9000\n",
       "True     1003\n",
       "Name: is_explicit, dtype: int64"
      ]
     },
     "execution_count": 12,
     "metadata": {},
     "output_type": "execute_result"
    }
   ],
   "source": [
    "#Print the value counts of the 'is_explicit' variable \n",
    "df['is_explicit'].value_counts()"
   ]
  },
  {
   "cell_type": "code",
   "execution_count": 13,
   "metadata": {},
   "outputs": [],
   "source": [
    "#Convert \"is_explicit\" to a variable that is equal to 1 if True, 0 if False\n",
    "df['is_explicit'] = df['is_explicit'].astype(int)"
   ]
  },
  {
   "cell_type": "code",
   "execution_count": 14,
   "metadata": {},
   "outputs": [
    {
     "data": {
      "text/plain": [
       "0    9000\n",
       "1    1003\n",
       "Name: is_explicit, dtype: int64"
      ]
     },
     "execution_count": 14,
     "metadata": {},
     "output_type": "execute_result"
    }
   ],
   "source": [
    "#Print the value counts to ensure they are the same as before \n",
    "df['is_explicit'].value_counts()"
   ]
  },
  {
   "cell_type": "code",
   "execution_count": 15,
   "metadata": {},
   "outputs": [],
   "source": [
    "#Drop unncessary columns \n",
    "df = df.drop(['type', 'uri', 'analysis_url', 'time_signature', 'track_href'], axis=1)"
   ]
  },
  {
   "cell_type": "code",
   "execution_count": 16,
   "metadata": {},
   "outputs": [
    {
     "data": {
      "text/plain": [
       "0     2954\n",
       "44     157\n",
       "42     155\n",
       "43     154\n",
       "40     144\n",
       "      ... \n",
       "82      10\n",
       "83       4\n",
       "84       3\n",
       "85       3\n",
       "86       1\n",
       "Name: popularity, Length: 87, dtype: int64"
      ]
     },
     "execution_count": 16,
     "metadata": {},
     "output_type": "execute_result"
    }
   ],
   "source": [
    "#Explore the value counts of popularity \n",
    "df['popularity'].value_counts()"
   ]
  },
  {
   "cell_type": "markdown",
   "metadata": {},
   "source": [
    "We see many songs that have a popularity of 0 which either means a) the popularity is not known or b) the song is quite old (according to the Spotify API documentation, popularity is indicated by play counts, and older songs may be played less). Therefore, these songs could skew our popularity results as they influence the scale of our popularity variable."
   ]
  },
  {
   "cell_type": "code",
   "execution_count": 17,
   "metadata": {},
   "outputs": [],
   "source": [
    "#Remove any popularity values that are equal to 0\n",
    "df['popularity'] = df['popularity'][df['popularity'] != 0]"
   ]
  },
  {
   "cell_type": "code",
   "execution_count": 18,
   "metadata": {},
   "outputs": [
    {
     "data": {
      "text/plain": [
       "artist                 0\n",
       "artist_id              0\n",
       "album                  0\n",
       "track_name             0\n",
       "release_date           0\n",
       "popularity          2954\n",
       "is_explicit            0\n",
       "track_id               0\n",
       "danceability           0\n",
       "energy                 0\n",
       "key                    0\n",
       "loudness               0\n",
       "mode                   0\n",
       "speechiness            0\n",
       "acousticness           0\n",
       "instrumentalness       0\n",
       "liveness               0\n",
       "valence                0\n",
       "tempo                  0\n",
       "duration_ms            0\n",
       "dtype: int64"
      ]
     },
     "execution_count": 18,
     "metadata": {},
     "output_type": "execute_result"
    }
   ],
   "source": [
    "#Check for NA values \n",
    "df.isna().sum()"
   ]
  },
  {
   "cell_type": "code",
   "execution_count": 19,
   "metadata": {},
   "outputs": [],
   "source": [
    "#Drop NA values \n",
    "df.dropna(inplace=True)"
   ]
  },
  {
   "cell_type": "code",
   "execution_count": 20,
   "metadata": {
    "scrolled": true
   },
   "outputs": [
    {
     "data": {
      "text/plain": [
       "44.0    157\n",
       "42.0    155\n",
       "43.0    154\n",
       "40.0    144\n",
       "41.0    143\n",
       "       ... \n",
       "82.0     10\n",
       "83.0      4\n",
       "85.0      3\n",
       "84.0      3\n",
       "86.0      1\n",
       "Name: popularity, Length: 86, dtype: int64"
      ]
     },
     "execution_count": 20,
     "metadata": {},
     "output_type": "execute_result"
    }
   ],
   "source": [
    "#Check the value counts again\n",
    "df['popularity'].value_counts()"
   ]
  },
  {
   "cell_type": "code",
   "execution_count": 21,
   "metadata": {},
   "outputs": [
    {
     "data": {
      "text/plain": [
       "count    7049.000000\n",
       "mean       43.066818\n",
       "std        18.454624\n",
       "min         1.000000\n",
       "25%        31.000000\n",
       "50%        44.000000\n",
       "75%        57.000000\n",
       "max        86.000000\n",
       "Name: popularity, dtype: float64"
      ]
     },
     "execution_count": 21,
     "metadata": {},
     "output_type": "execute_result"
    }
   ],
   "source": [
    "#Look at the. describe function to determine the distribution of the ratings \n",
    "df['popularity'].describe()"
   ]
  },
  {
   "cell_type": "code",
   "execution_count": 22,
   "metadata": {},
   "outputs": [
    {
     "data": {
      "text/html": [
       "<div>\n",
       "<style scoped>\n",
       "    .dataframe tbody tr th:only-of-type {\n",
       "        vertical-align: middle;\n",
       "    }\n",
       "\n",
       "    .dataframe tbody tr th {\n",
       "        vertical-align: top;\n",
       "    }\n",
       "\n",
       "    .dataframe thead th {\n",
       "        text-align: right;\n",
       "    }\n",
       "</style>\n",
       "<table border=\"1\" class=\"dataframe\">\n",
       "  <thead>\n",
       "    <tr style=\"text-align: right;\">\n",
       "      <th></th>\n",
       "      <th>artist</th>\n",
       "      <th>artist_id</th>\n",
       "      <th>album</th>\n",
       "      <th>track_name</th>\n",
       "      <th>release_date</th>\n",
       "      <th>popularity</th>\n",
       "      <th>is_explicit</th>\n",
       "      <th>track_id</th>\n",
       "      <th>danceability</th>\n",
       "      <th>energy</th>\n",
       "      <th>key</th>\n",
       "      <th>loudness</th>\n",
       "      <th>mode</th>\n",
       "      <th>speechiness</th>\n",
       "      <th>acousticness</th>\n",
       "      <th>instrumentalness</th>\n",
       "      <th>liveness</th>\n",
       "      <th>valence</th>\n",
       "      <th>tempo</th>\n",
       "      <th>duration_ms</th>\n",
       "    </tr>\n",
       "  </thead>\n",
       "  <tbody>\n",
       "    <tr>\n",
       "      <th>0</th>\n",
       "      <td>Katy Perry</td>\n",
       "      <td>6jJ0s89eD6GaHleKKya26X</td>\n",
       "      <td>Katy Perry - Teenage Dream: The Complete Confe...</td>\n",
       "      <td>Firework</td>\n",
       "      <td>2012-03-12</td>\n",
       "      <td>72.0</td>\n",
       "      <td>0</td>\n",
       "      <td>4lCv7b86sLynZbXhfScfm2</td>\n",
       "      <td>0.638</td>\n",
       "      <td>0.826</td>\n",
       "      <td>8</td>\n",
       "      <td>-4.968</td>\n",
       "      <td>1</td>\n",
       "      <td>0.0479</td>\n",
       "      <td>0.1390</td>\n",
       "      <td>0.000000</td>\n",
       "      <td>0.0803</td>\n",
       "      <td>0.649</td>\n",
       "      <td>124.072</td>\n",
       "      <td>227880</td>\n",
       "    </tr>\n",
       "    <tr>\n",
       "      <th>1</th>\n",
       "      <td>OneRepublic</td>\n",
       "      <td>5Pwc4xIPtQLFEnJriah9YJ</td>\n",
       "      <td>Dreaming Out Loud</td>\n",
       "      <td>All We Are</td>\n",
       "      <td>2007-01-01</td>\n",
       "      <td>39.0</td>\n",
       "      <td>0</td>\n",
       "      <td>1Jx69b09LKTuBQxkEiFfVX</td>\n",
       "      <td>0.397</td>\n",
       "      <td>0.817</td>\n",
       "      <td>2</td>\n",
       "      <td>-5.495</td>\n",
       "      <td>1</td>\n",
       "      <td>0.0420</td>\n",
       "      <td>0.0966</td>\n",
       "      <td>0.000008</td>\n",
       "      <td>0.3160</td>\n",
       "      <td>0.416</td>\n",
       "      <td>158.004</td>\n",
       "      <td>266227</td>\n",
       "    </tr>\n",
       "    <tr>\n",
       "      <th>3</th>\n",
       "      <td>The Script</td>\n",
       "      <td>3AQRLZ9PuTAozP28Skbq8V</td>\n",
       "      <td>The Script</td>\n",
       "      <td>The Man Who Can't Be Moved</td>\n",
       "      <td>2008-09-08</td>\n",
       "      <td>57.0</td>\n",
       "      <td>0</td>\n",
       "      <td>4Musyaro0NM5Awx8b5c627</td>\n",
       "      <td>0.609</td>\n",
       "      <td>0.629</td>\n",
       "      <td>10</td>\n",
       "      <td>-5.024</td>\n",
       "      <td>1</td>\n",
       "      <td>0.0264</td>\n",
       "      <td>0.4250</td>\n",
       "      <td>0.000000</td>\n",
       "      <td>0.0978</td>\n",
       "      <td>0.325</td>\n",
       "      <td>99.955</td>\n",
       "      <td>241467</td>\n",
       "    </tr>\n",
       "    <tr>\n",
       "      <th>4</th>\n",
       "      <td>Adele</td>\n",
       "      <td>4dpARuHxo51G3z768sgnrY</td>\n",
       "      <td>21</td>\n",
       "      <td>Rolling in the Deep</td>\n",
       "      <td>2011-01-19</td>\n",
       "      <td>55.0</td>\n",
       "      <td>0</td>\n",
       "      <td>1CkvWZme3pRgbzaxZnTl5X</td>\n",
       "      <td>0.729</td>\n",
       "      <td>0.756</td>\n",
       "      <td>8</td>\n",
       "      <td>-5.119</td>\n",
       "      <td>1</td>\n",
       "      <td>0.0294</td>\n",
       "      <td>0.1310</td>\n",
       "      <td>0.000000</td>\n",
       "      <td>0.0527</td>\n",
       "      <td>0.522</td>\n",
       "      <td>104.945</td>\n",
       "      <td>228293</td>\n",
       "    </tr>\n",
       "    <tr>\n",
       "      <th>5</th>\n",
       "      <td>Bruno Mars</td>\n",
       "      <td>0du5cEVh5yTK9QJze8zA0C</td>\n",
       "      <td>Doo-Wops &amp; Hooligans</td>\n",
       "      <td>Grenade</td>\n",
       "      <td>2010-10-05</td>\n",
       "      <td>75.0</td>\n",
       "      <td>0</td>\n",
       "      <td>4lLtanYk6tkMvooU0tWzG8</td>\n",
       "      <td>0.706</td>\n",
       "      <td>0.558</td>\n",
       "      <td>2</td>\n",
       "      <td>-7.237</td>\n",
       "      <td>0</td>\n",
       "      <td>0.0593</td>\n",
       "      <td>0.1460</td>\n",
       "      <td>0.000000</td>\n",
       "      <td>0.1180</td>\n",
       "      <td>0.227</td>\n",
       "      <td>110.443</td>\n",
       "      <td>223253</td>\n",
       "    </tr>\n",
       "  </tbody>\n",
       "</table>\n",
       "</div>"
      ],
      "text/plain": [
       "        artist               artist_id  \\\n",
       "0   Katy Perry  6jJ0s89eD6GaHleKKya26X   \n",
       "1  OneRepublic  5Pwc4xIPtQLFEnJriah9YJ   \n",
       "3   The Script  3AQRLZ9PuTAozP28Skbq8V   \n",
       "4        Adele  4dpARuHxo51G3z768sgnrY   \n",
       "5   Bruno Mars  0du5cEVh5yTK9QJze8zA0C   \n",
       "\n",
       "                                               album  \\\n",
       "0  Katy Perry - Teenage Dream: The Complete Confe...   \n",
       "1                                  Dreaming Out Loud   \n",
       "3                                         The Script   \n",
       "4                                                 21   \n",
       "5                               Doo-Wops & Hooligans   \n",
       "\n",
       "                   track_name release_date  popularity  is_explicit  \\\n",
       "0                    Firework   2012-03-12        72.0            0   \n",
       "1                  All We Are   2007-01-01        39.0            0   \n",
       "3  The Man Who Can't Be Moved   2008-09-08        57.0            0   \n",
       "4         Rolling in the Deep   2011-01-19        55.0            0   \n",
       "5                     Grenade   2010-10-05        75.0            0   \n",
       "\n",
       "                 track_id  danceability  energy  key  loudness  mode  \\\n",
       "0  4lCv7b86sLynZbXhfScfm2         0.638   0.826    8    -4.968     1   \n",
       "1  1Jx69b09LKTuBQxkEiFfVX         0.397   0.817    2    -5.495     1   \n",
       "3  4Musyaro0NM5Awx8b5c627         0.609   0.629   10    -5.024     1   \n",
       "4  1CkvWZme3pRgbzaxZnTl5X         0.729   0.756    8    -5.119     1   \n",
       "5  4lLtanYk6tkMvooU0tWzG8         0.706   0.558    2    -7.237     0   \n",
       "\n",
       "   speechiness  acousticness  instrumentalness  liveness  valence    tempo  \\\n",
       "0       0.0479        0.1390          0.000000    0.0803    0.649  124.072   \n",
       "1       0.0420        0.0966          0.000008    0.3160    0.416  158.004   \n",
       "3       0.0264        0.4250          0.000000    0.0978    0.325   99.955   \n",
       "4       0.0294        0.1310          0.000000    0.0527    0.522  104.945   \n",
       "5       0.0593        0.1460          0.000000    0.1180    0.227  110.443   \n",
       "\n",
       "   duration_ms  \n",
       "0       227880  \n",
       "1       266227  \n",
       "3       241467  \n",
       "4       228293  \n",
       "5       223253  "
      ]
     },
     "execution_count": 22,
     "metadata": {},
     "output_type": "execute_result"
    }
   ],
   "source": [
    "df.head()"
   ]
  },
  {
   "cell_type": "code",
   "execution_count": 23,
   "metadata": {},
   "outputs": [
    {
     "data": {
      "image/png": "[encoded data removed]",
      "text/plain": [
       "<Figure size 432x288 with 1 Axes>"
      ]
     },
     "metadata": {
      "needs_background": "light"
     },
     "output_type": "display_data"
    }
   ],
   "source": [
    "#Plot a histogram of the frequency of certain popularity values\n",
    "plt.hist(df['popularity'],bins='auto')\n",
    "plt.xlabel('Value of Popularity')\n",
    "plt.ylabel('Frequency of Popularity')\n",
    "plt.show()"
   ]
  },
  {
   "cell_type": "code",
   "execution_count": 24,
   "metadata": {},
   "outputs": [
    {
     "data": {
      "image/png": "[encoded data removed]",
      "text/plain": [
       "<Figure size 864x432 with 1 Axes>"
      ]
     },
     "metadata": {
      "needs_background": "light"
     },
     "output_type": "display_data"
    }
   ],
   "source": [
    "df['popularity'].plot(kind='kde', figsize = (12,6))\n",
    "plt.show()"
   ]
  },
  {
   "cell_type": "code",
   "execution_count": 25,
   "metadata": {},
   "outputs": [],
   "source": [
    "#Create a binned variable for popularity as a proxy for our ratings\n",
    "df['ratings'] = df['popularity'].apply(lambda x: 1 if x <= 20 \n",
    "                                       else 2 if x>= 21 and x<40 \n",
    "                                       else 3 if x>=40 and x<60\n",
    "                                       else 4 if x>=60 and x<80 \n",
    "                                       else 5)"
   ]
  },
  {
   "cell_type": "code",
   "execution_count": 26,
   "metadata": {},
   "outputs": [
    {
     "data": {
      "image/png": "[encoded data removed]",
      "text/plain": [
       "<Figure size 432x288 with 1 Axes>"
      ]
     },
     "metadata": {
      "needs_background": "light"
     },
     "output_type": "display_data"
    }
   ],
   "source": [
    "#Plot a histogram of the frequency of certain popularity values\n",
    "plt.hist(df['ratings'],bins='auto')\n",
    "plt.xlabel('Value of Popularity')\n",
    "plt.ylabel('Frequency of Popularity')\n",
    "plt.show()"
   ]
  },
  {
   "cell_type": "markdown",
   "metadata": {},
   "source": [
    "## Data Exploration"
   ]
  },
  {
   "cell_type": "code",
   "execution_count": 27,
   "metadata": {
    "scrolled": true
   },
   "outputs": [
    {
     "name": "stderr",
     "output_type": "stream",
     "text": [
      "/Users/adinasteinman/opt/anaconda3/envs/learn-env/lib/python3.6/site-packages/seaborn/_decorators.py:43: FutureWarning: Pass the following variables as keyword args: x, y. From version 0.12, the only valid positional argument will be `data`, and passing other arguments without an explicit keyword will result in an error or misinterpretation.\n",
      "  FutureWarning\n"
     ]
    },
    {
     "data": {
      "image/png": "[encoded data removed]",
      "text/plain": [
       "<Figure size 720x360 with 1 Axes>"
      ]
     },
     "metadata": {
      "needs_background": "light"
     },
     "output_type": "display_data"
    }
   ],
   "source": [
    "#Plot the top 20 highest rated songs using our new 'ratings' proxy \n",
    "plt.figure(figsize=(10,5))\n",
    "topsongs = df.groupby('track_name').mean()['ratings'].sort_values(ascending=False).head(20)\n",
    "sns.barplot(topsongs.index, topsongs.values)\n",
    "plt.title('Top 20 Highest Rated Songs')\n",
    "plt.xticks(rotation=80);"
   ]
  },
  {
   "cell_type": "code",
   "execution_count": 28,
   "metadata": {},
   "outputs": [
    {
     "name": "stderr",
     "output_type": "stream",
     "text": [
      "/Users/adinasteinman/opt/anaconda3/envs/learn-env/lib/python3.6/site-packages/seaborn/_decorators.py:43: FutureWarning: Pass the following variables as keyword args: x, y. From version 0.12, the only valid positional argument will be `data`, and passing other arguments without an explicit keyword will result in an error or misinterpretation.\n",
      "  FutureWarning\n"
     ]
    },
    {
     "data": {
      "image/png": "[encoded data removed]",
      "text/plain": [
       "<Figure size 720x360 with 1 Axes>"
      ]
     },
     "metadata": {
      "needs_background": "light"
     },
     "output_type": "display_data"
    }
   ],
   "source": [
    "#Plot the top 10 highest rated artists \n",
    "plt.figure(figsize=(10,5))\n",
    "topartists = df.groupby('artist').mean()['ratings'].sort_values(ascending=False).head(10)\n",
    "sns.barplot(topartists.index, topartists.values)\n",
    "plt.title('Top 10 Highest Rated Artists')\n",
    "plt.xticks(rotation=80);"
   ]
  },
  {
   "cell_type": "code",
   "execution_count": 29,
   "metadata": {},
   "outputs": [
    {
     "name": "stderr",
     "output_type": "stream",
     "text": [
      "/Users/adinasteinman/opt/anaconda3/envs/learn-env/lib/python3.6/site-packages/seaborn/_decorators.py:43: FutureWarning: Pass the following variables as keyword args: x, y. From version 0.12, the only valid positional argument will be `data`, and passing other arguments without an explicit keyword will result in an error or misinterpretation.\n",
      "  FutureWarning\n"
     ]
    },
    {
     "data": {
      "image/png": "[encoded data removed]",
      "text/plain": [
       "<Figure size 720x360 with 1 Axes>"
      ]
     },
     "metadata": {
      "needs_background": "light"
     },
     "output_type": "display_data"
    }
   ],
   "source": [
    "#Plot the top 10 highest rated albums\n",
    "plt.figure(figsize=(10,5))\n",
    "topalbums = df.groupby('album').mean()['ratings'].sort_values(ascending=False).head(10)\n",
    "sns.barplot(topalbums.index, topalbums.values)\n",
    "plt.title('Top 10 Highest Rated Albums')\n",
    "plt.xticks(rotation=80);"
   ]
  },
  {
   "cell_type": "markdown",
   "metadata": {},
   "source": [
    "Next we will look at correlation and determine if any explanatory variablesa re strongly correlated with our target variable, ratings."
   ]
  },
  {
   "cell_type": "code",
   "execution_count": 30,
   "metadata": {},
   "outputs": [],
   "source": [
    "df = df.drop(['popularity'], axis=1)"
   ]
  },
  {
   "cell_type": "code",
   "execution_count": 31,
   "metadata": {},
   "outputs": [
    {
     "data": {
      "text/html": [
       "<div>\n",
       "<style scoped>\n",
       "    .dataframe tbody tr th:only-of-type {\n",
       "        vertical-align: middle;\n",
       "    }\n",
       "\n",
       "    .dataframe tbody tr th {\n",
       "        vertical-align: top;\n",
       "    }\n",
       "\n",
       "    .dataframe thead th {\n",
       "        text-align: right;\n",
       "    }\n",
       "</style>\n",
       "<table border=\"1\" class=\"dataframe\">\n",
       "  <thead>\n",
       "    <tr style=\"text-align: right;\">\n",
       "      <th></th>\n",
       "      <th>is_explicit</th>\n",
       "      <th>danceability</th>\n",
       "      <th>energy</th>\n",
       "      <th>key</th>\n",
       "      <th>loudness</th>\n",
       "      <th>mode</th>\n",
       "      <th>speechiness</th>\n",
       "      <th>acousticness</th>\n",
       "      <th>instrumentalness</th>\n",
       "      <th>liveness</th>\n",
       "      <th>valence</th>\n",
       "      <th>tempo</th>\n",
       "      <th>duration_ms</th>\n",
       "      <th>ratings</th>\n",
       "    </tr>\n",
       "  </thead>\n",
       "  <tbody>\n",
       "    <tr>\n",
       "      <th>is_explicit</th>\n",
       "      <td>1.000000</td>\n",
       "      <td>0.153941</td>\n",
       "      <td>0.018739</td>\n",
       "      <td>0.025473</td>\n",
       "      <td>0.075580</td>\n",
       "      <td>-0.065023</td>\n",
       "      <td>0.282102</td>\n",
       "      <td>-0.064637</td>\n",
       "      <td>-0.053978</td>\n",
       "      <td>0.012710</td>\n",
       "      <td>-0.011602</td>\n",
       "      <td>-0.001534</td>\n",
       "      <td>-0.010577</td>\n",
       "      <td>0.015288</td>\n",
       "    </tr>\n",
       "    <tr>\n",
       "      <th>danceability</th>\n",
       "      <td>0.153941</td>\n",
       "      <td>1.000000</td>\n",
       "      <td>0.101720</td>\n",
       "      <td>0.016043</td>\n",
       "      <td>0.108697</td>\n",
       "      <td>-0.085983</td>\n",
       "      <td>0.113093</td>\n",
       "      <td>-0.154350</td>\n",
       "      <td>-0.040156</td>\n",
       "      <td>-0.103807</td>\n",
       "      <td>0.434229</td>\n",
       "      <td>-0.198818</td>\n",
       "      <td>-0.116565</td>\n",
       "      <td>0.028706</td>\n",
       "    </tr>\n",
       "    <tr>\n",
       "      <th>energy</th>\n",
       "      <td>0.018739</td>\n",
       "      <td>0.101720</td>\n",
       "      <td>1.000000</td>\n",
       "      <td>0.034811</td>\n",
       "      <td>0.747410</td>\n",
       "      <td>-0.083730</td>\n",
       "      <td>0.103211</td>\n",
       "      <td>-0.709115</td>\n",
       "      <td>-0.058038</td>\n",
       "      <td>0.174602</td>\n",
       "      <td>0.378527</td>\n",
       "      <td>0.147449</td>\n",
       "      <td>-0.027132</td>\n",
       "      <td>0.006866</td>\n",
       "    </tr>\n",
       "    <tr>\n",
       "      <th>key</th>\n",
       "      <td>0.025473</td>\n",
       "      <td>0.016043</td>\n",
       "      <td>0.034811</td>\n",
       "      <td>1.000000</td>\n",
       "      <td>0.021872</td>\n",
       "      <td>-0.137305</td>\n",
       "      <td>0.045716</td>\n",
       "      <td>-0.027442</td>\n",
       "      <td>-0.008240</td>\n",
       "      <td>-0.003697</td>\n",
       "      <td>0.036907</td>\n",
       "      <td>0.007837</td>\n",
       "      <td>0.010963</td>\n",
       "      <td>0.011466</td>\n",
       "    </tr>\n",
       "    <tr>\n",
       "      <th>loudness</th>\n",
       "      <td>0.075580</td>\n",
       "      <td>0.108697</td>\n",
       "      <td>0.747410</td>\n",
       "      <td>0.021872</td>\n",
       "      <td>1.000000</td>\n",
       "      <td>-0.092319</td>\n",
       "      <td>0.072798</td>\n",
       "      <td>-0.563486</td>\n",
       "      <td>-0.198448</td>\n",
       "      <td>0.103059</td>\n",
       "      <td>0.196846</td>\n",
       "      <td>0.088760</td>\n",
       "      <td>-0.083880</td>\n",
       "      <td>0.006043</td>\n",
       "    </tr>\n",
       "    <tr>\n",
       "      <th>mode</th>\n",
       "      <td>-0.065023</td>\n",
       "      <td>-0.085983</td>\n",
       "      <td>-0.083730</td>\n",
       "      <td>-0.137305</td>\n",
       "      <td>-0.092319</td>\n",
       "      <td>1.000000</td>\n",
       "      <td>-0.088416</td>\n",
       "      <td>0.090889</td>\n",
       "      <td>-0.015483</td>\n",
       "      <td>-0.029159</td>\n",
       "      <td>-0.016828</td>\n",
       "      <td>-0.000115</td>\n",
       "      <td>-0.000568</td>\n",
       "      <td>0.008099</td>\n",
       "    </tr>\n",
       "    <tr>\n",
       "      <th>speechiness</th>\n",
       "      <td>0.282102</td>\n",
       "      <td>0.113093</td>\n",
       "      <td>0.103211</td>\n",
       "      <td>0.045716</td>\n",
       "      <td>0.072798</td>\n",
       "      <td>-0.088416</td>\n",
       "      <td>1.000000</td>\n",
       "      <td>-0.043120</td>\n",
       "      <td>-0.059540</td>\n",
       "      <td>0.094230</td>\n",
       "      <td>0.063768</td>\n",
       "      <td>0.063007</td>\n",
       "      <td>-0.066059</td>\n",
       "      <td>-0.006740</td>\n",
       "    </tr>\n",
       "    <tr>\n",
       "      <th>acousticness</th>\n",
       "      <td>-0.064637</td>\n",
       "      <td>-0.154350</td>\n",
       "      <td>-0.709115</td>\n",
       "      <td>-0.027442</td>\n",
       "      <td>-0.563486</td>\n",
       "      <td>0.090889</td>\n",
       "      <td>-0.043120</td>\n",
       "      <td>1.000000</td>\n",
       "      <td>0.046793</td>\n",
       "      <td>-0.101782</td>\n",
       "      <td>-0.237506</td>\n",
       "      <td>-0.113900</td>\n",
       "      <td>-0.042362</td>\n",
       "      <td>-0.011861</td>\n",
       "    </tr>\n",
       "    <tr>\n",
       "      <th>instrumentalness</th>\n",
       "      <td>-0.053978</td>\n",
       "      <td>-0.040156</td>\n",
       "      <td>-0.058038</td>\n",
       "      <td>-0.008240</td>\n",
       "      <td>-0.198448</td>\n",
       "      <td>-0.015483</td>\n",
       "      <td>-0.059540</td>\n",
       "      <td>0.046793</td>\n",
       "      <td>1.000000</td>\n",
       "      <td>-0.021276</td>\n",
       "      <td>-0.089423</td>\n",
       "      <td>0.014141</td>\n",
       "      <td>0.099227</td>\n",
       "      <td>-0.053424</td>\n",
       "    </tr>\n",
       "    <tr>\n",
       "      <th>liveness</th>\n",
       "      <td>0.012710</td>\n",
       "      <td>-0.103807</td>\n",
       "      <td>0.174602</td>\n",
       "      <td>-0.003697</td>\n",
       "      <td>0.103059</td>\n",
       "      <td>-0.029159</td>\n",
       "      <td>0.094230</td>\n",
       "      <td>-0.101782</td>\n",
       "      <td>-0.021276</td>\n",
       "      <td>1.000000</td>\n",
       "      <td>0.042332</td>\n",
       "      <td>0.030848</td>\n",
       "      <td>-0.025981</td>\n",
       "      <td>-0.028707</td>\n",
       "    </tr>\n",
       "    <tr>\n",
       "      <th>valence</th>\n",
       "      <td>-0.011602</td>\n",
       "      <td>0.434229</td>\n",
       "      <td>0.378527</td>\n",
       "      <td>0.036907</td>\n",
       "      <td>0.196846</td>\n",
       "      <td>-0.016828</td>\n",
       "      <td>0.063768</td>\n",
       "      <td>-0.237506</td>\n",
       "      <td>-0.089423</td>\n",
       "      <td>0.042332</td>\n",
       "      <td>1.000000</td>\n",
       "      <td>0.033497</td>\n",
       "      <td>-0.180941</td>\n",
       "      <td>0.069083</td>\n",
       "    </tr>\n",
       "    <tr>\n",
       "      <th>tempo</th>\n",
       "      <td>-0.001534</td>\n",
       "      <td>-0.198818</td>\n",
       "      <td>0.147449</td>\n",
       "      <td>0.007837</td>\n",
       "      <td>0.088760</td>\n",
       "      <td>-0.000115</td>\n",
       "      <td>0.063007</td>\n",
       "      <td>-0.113900</td>\n",
       "      <td>0.014141</td>\n",
       "      <td>0.030848</td>\n",
       "      <td>0.033497</td>\n",
       "      <td>1.000000</td>\n",
       "      <td>-0.029576</td>\n",
       "      <td>-0.010410</td>\n",
       "    </tr>\n",
       "    <tr>\n",
       "      <th>duration_ms</th>\n",
       "      <td>-0.010577</td>\n",
       "      <td>-0.116565</td>\n",
       "      <td>-0.027132</td>\n",
       "      <td>0.010963</td>\n",
       "      <td>-0.083880</td>\n",
       "      <td>-0.000568</td>\n",
       "      <td>-0.066059</td>\n",
       "      <td>-0.042362</td>\n",
       "      <td>0.099227</td>\n",
       "      <td>-0.025981</td>\n",
       "      <td>-0.180941</td>\n",
       "      <td>-0.029576</td>\n",
       "      <td>1.000000</td>\n",
       "      <td>0.084709</td>\n",
       "    </tr>\n",
       "    <tr>\n",
       "      <th>ratings</th>\n",
       "      <td>0.015288</td>\n",
       "      <td>0.028706</td>\n",
       "      <td>0.006866</td>\n",
       "      <td>0.011466</td>\n",
       "      <td>0.006043</td>\n",
       "      <td>0.008099</td>\n",
       "      <td>-0.006740</td>\n",
       "      <td>-0.011861</td>\n",
       "      <td>-0.053424</td>\n",
       "      <td>-0.028707</td>\n",
       "      <td>0.069083</td>\n",
       "      <td>-0.010410</td>\n",
       "      <td>0.084709</td>\n",
       "      <td>1.000000</td>\n",
       "    </tr>\n",
       "  </tbody>\n",
       "</table>\n",
       "</div>"
      ],
      "text/plain": [
       "                  is_explicit  danceability    energy       key  loudness  \\\n",
       "is_explicit          1.000000      0.153941  0.018739  0.025473  0.075580   \n",
       "danceability         0.153941      1.000000  0.101720  0.016043  0.108697   \n",
       "energy               0.018739      0.101720  1.000000  0.034811  0.747410   \n",
       "key                  0.025473      0.016043  0.034811  1.000000  0.021872   \n",
       "loudness             0.075580      0.108697  0.747410  0.021872  1.000000   \n",
       "mode                -0.065023     -0.085983 -0.083730 -0.137305 -0.092319   \n",
       "speechiness          0.282102      0.113093  0.103211  0.045716  0.072798   \n",
       "acousticness        -0.064637     -0.154350 -0.709115 -0.027442 -0.563486   \n",
       "instrumentalness    -0.053978     -0.040156 -0.058038 -0.008240 -0.198448   \n",
       "liveness             0.012710     -0.103807  0.174602 -0.003697  0.103059   \n",
       "valence             -0.011602      0.434229  0.378527  0.036907  0.196846   \n",
       "tempo               -0.001534     -0.198818  0.147449  0.007837  0.088760   \n",
       "duration_ms         -0.010577     -0.116565 -0.027132  0.010963 -0.083880   \n",
       "ratings              0.015288      0.028706  0.006866  0.011466  0.006043   \n",
       "\n",
       "                      mode  speechiness  acousticness  instrumentalness  \\\n",
       "is_explicit      -0.065023     0.282102     -0.064637         -0.053978   \n",
       "danceability     -0.085983     0.113093     -0.154350         -0.040156   \n",
       "energy           -0.083730     0.103211     -0.709115         -0.058038   \n",
       "key              -0.137305     0.045716     -0.027442         -0.008240   \n",
       "loudness         -0.092319     0.072798     -0.563486         -0.198448   \n",
       "mode              1.000000    -0.088416      0.090889         -0.015483   \n",
       "speechiness      -0.088416     1.000000     -0.043120         -0.059540   \n",
       "acousticness      0.090889    -0.043120      1.000000          0.046793   \n",
       "instrumentalness -0.015483    -0.059540      0.046793          1.000000   \n",
       "liveness         -0.029159     0.094230     -0.101782         -0.021276   \n",
       "valence          -0.016828     0.063768     -0.237506         -0.089423   \n",
       "tempo            -0.000115     0.063007     -0.113900          0.014141   \n",
       "duration_ms      -0.000568    -0.066059     -0.042362          0.099227   \n",
       "ratings           0.008099    -0.006740     -0.011861         -0.053424   \n",
       "\n",
       "                  liveness   valence     tempo  duration_ms   ratings  \n",
       "is_explicit       0.012710 -0.011602 -0.001534    -0.010577  0.015288  \n",
       "danceability     -0.103807  0.434229 -0.198818    -0.116565  0.028706  \n",
       "energy            0.174602  0.378527  0.147449    -0.027132  0.006866  \n",
       "key              -0.003697  0.036907  0.007837     0.010963  0.011466  \n",
       "loudness          0.103059  0.196846  0.088760    -0.083880  0.006043  \n",
       "mode             -0.029159 -0.016828 -0.000115    -0.000568  0.008099  \n",
       "speechiness       0.094230  0.063768  0.063007    -0.066059 -0.006740  \n",
       "acousticness     -0.101782 -0.237506 -0.113900    -0.042362 -0.011861  \n",
       "instrumentalness -0.021276 -0.089423  0.014141     0.099227 -0.053424  \n",
       "liveness          1.000000  0.042332  0.030848    -0.025981 -0.028707  \n",
       "valence           0.042332  1.000000  0.033497    -0.180941  0.069083  \n",
       "tempo             0.030848  0.033497  1.000000    -0.029576 -0.010410  \n",
       "duration_ms      -0.025981 -0.180941 -0.029576     1.000000  0.084709  \n",
       "ratings          -0.028707  0.069083 -0.010410     0.084709  1.000000  "
      ]
     },
     "execution_count": 31,
     "metadata": {},
     "output_type": "execute_result"
    }
   ],
   "source": [
    "#Look at correlation of entire dataframe\n",
    "df.corr()"
   ]
  },
  {
   "cell_type": "code",
   "execution_count": 32,
   "metadata": {},
   "outputs": [
    {
     "data": {
      "text/plain": [
       "is_explicit         0.015288\n",
       "danceability        0.028706\n",
       "energy              0.006866\n",
       "key                 0.011466\n",
       "loudness            0.006043\n",
       "mode                0.008099\n",
       "speechiness        -0.006740\n",
       "acousticness       -0.011861\n",
       "instrumentalness   -0.053424\n",
       "liveness           -0.028707\n",
       "valence             0.069083\n",
       "tempo              -0.010410\n",
       "duration_ms         0.084709\n",
       "ratings             1.000000\n",
       "Name: ratings, dtype: float64"
      ]
     },
     "execution_count": 32,
     "metadata": {},
     "output_type": "execute_result"
    }
   ],
   "source": [
    "#Look only at correlation with our target variable, 'ratings'\n",
    "df.corr()['ratings']"
   ]
  },
  {
   "cell_type": "markdown",
   "metadata": {},
   "source": [
    "I'll also look at variables to see if they are correlated with each other, in order to investigate potential multicollinearity."
   ]
  },
  {
   "cell_type": "code",
   "execution_count": 33,
   "metadata": {},
   "outputs": [
    {
     "data": {
      "text/html": [
       "<div>\n",
       "<style scoped>\n",
       "    .dataframe tbody tr th:only-of-type {\n",
       "        vertical-align: middle;\n",
       "    }\n",
       "\n",
       "    .dataframe tbody tr th {\n",
       "        vertical-align: top;\n",
       "    }\n",
       "\n",
       "    .dataframe thead th {\n",
       "        text-align: right;\n",
       "    }\n",
       "</style>\n",
       "<table border=\"1\" class=\"dataframe\">\n",
       "  <thead>\n",
       "    <tr style=\"text-align: right;\">\n",
       "      <th></th>\n",
       "      <th>cc</th>\n",
       "    </tr>\n",
       "    <tr>\n",
       "      <th>pairs</th>\n",
       "      <th></th>\n",
       "    </tr>\n",
       "  </thead>\n",
       "  <tbody>\n",
       "    <tr>\n",
       "      <th>(energy, loudness)</th>\n",
       "      <td>0.747410</td>\n",
       "    </tr>\n",
       "    <tr>\n",
       "      <th>(energy, acousticness)</th>\n",
       "      <td>0.709115</td>\n",
       "    </tr>\n",
       "  </tbody>\n",
       "</table>\n",
       "</div>"
      ],
      "text/plain": [
       "                              cc\n",
       "pairs                           \n",
       "(energy, loudness)      0.747410\n",
       "(energy, acousticness)  0.709115"
      ]
     },
     "execution_count": 33,
     "metadata": {},
     "output_type": "execute_result"
    }
   ],
   "source": [
    "#Create new DataFrame which stacks the absolute values of the correlations and sorts them\n",
    "df2 = df.corr().abs().stack().reset_index().sort_values(0, ascending=False)\n",
    "\n",
    "#Create a 'pairs' column that groups the two variables whose correlations' are being compared\n",
    "df2['pairs'] = list(zip(df2.level_0, df2.level_1))\n",
    "\n",
    "#Set this 'pairs' column as the index\n",
    "df2.set_index(['pairs'], inplace = True)\n",
    "\n",
    "#Drop the columns level_1 and level_0\n",
    "df2.drop(columns=['level_1', 'level_0'], inplace = True)\n",
    "\n",
    "# Create a column 'cc' for correlation coefficient\n",
    "df2.columns = ['cc']\n",
    "\n",
    "#Drop dataframe duplicates \n",
    "df2.drop_duplicates(inplace=True)\n",
    "\n",
    "#Display absolute correlations that are greater than 0.70\n",
    "df2[(df2.cc>.70) & (df2.cc<1)]"
   ]
  },
  {
   "cell_type": "markdown",
   "metadata": {},
   "source": [
    "The results are not surprising; it makes sense that the energy of a song would be correlated to how loud it is, since energetic songs are fast, loud and noisy. It also makes sense that energy and acousticness are correlated; songs that are acoustic tend to be slower, and lower energy, and therefore it is reasonable to assume that these two features are correlated."
   ]
  },
  {
   "cell_type": "code",
   "execution_count": 34,
   "metadata": {},
   "outputs": [
    {
     "data": {
      "text/html": [
       "<div>\n",
       "<style scoped>\n",
       "    .dataframe tbody tr th:only-of-type {\n",
       "        vertical-align: middle;\n",
       "    }\n",
       "\n",
       "    .dataframe tbody tr th {\n",
       "        vertical-align: top;\n",
       "    }\n",
       "\n",
       "    .dataframe thead th {\n",
       "        text-align: right;\n",
       "    }\n",
       "</style>\n",
       "<table border=\"1\" class=\"dataframe\">\n",
       "  <thead>\n",
       "    <tr style=\"text-align: right;\">\n",
       "      <th></th>\n",
       "      <th>artist</th>\n",
       "      <th>artist_id</th>\n",
       "      <th>album</th>\n",
       "      <th>track_name</th>\n",
       "      <th>release_date</th>\n",
       "      <th>is_explicit</th>\n",
       "      <th>track_id</th>\n",
       "      <th>danceability</th>\n",
       "      <th>energy</th>\n",
       "      <th>key</th>\n",
       "      <th>loudness</th>\n",
       "      <th>mode</th>\n",
       "      <th>speechiness</th>\n",
       "      <th>acousticness</th>\n",
       "      <th>instrumentalness</th>\n",
       "      <th>liveness</th>\n",
       "      <th>valence</th>\n",
       "      <th>tempo</th>\n",
       "      <th>duration_ms</th>\n",
       "      <th>ratings</th>\n",
       "    </tr>\n",
       "  </thead>\n",
       "  <tbody>\n",
       "    <tr>\n",
       "      <th>0</th>\n",
       "      <td>Katy Perry</td>\n",
       "      <td>6jJ0s89eD6GaHleKKya26X</td>\n",
       "      <td>Katy Perry - Teenage Dream: The Complete Confe...</td>\n",
       "      <td>Firework</td>\n",
       "      <td>2012-03-12</td>\n",
       "      <td>0</td>\n",
       "      <td>4lCv7b86sLynZbXhfScfm2</td>\n",
       "      <td>0.638</td>\n",
       "      <td>0.826</td>\n",
       "      <td>8</td>\n",
       "      <td>-4.968</td>\n",
       "      <td>1</td>\n",
       "      <td>0.0479</td>\n",
       "      <td>0.1390</td>\n",
       "      <td>0.000000</td>\n",
       "      <td>0.0803</td>\n",
       "      <td>0.649</td>\n",
       "      <td>124.072</td>\n",
       "      <td>227880</td>\n",
       "      <td>4</td>\n",
       "    </tr>\n",
       "    <tr>\n",
       "      <th>1</th>\n",
       "      <td>OneRepublic</td>\n",
       "      <td>5Pwc4xIPtQLFEnJriah9YJ</td>\n",
       "      <td>Dreaming Out Loud</td>\n",
       "      <td>All We Are</td>\n",
       "      <td>2007-01-01</td>\n",
       "      <td>0</td>\n",
       "      <td>1Jx69b09LKTuBQxkEiFfVX</td>\n",
       "      <td>0.397</td>\n",
       "      <td>0.817</td>\n",
       "      <td>2</td>\n",
       "      <td>-5.495</td>\n",
       "      <td>1</td>\n",
       "      <td>0.0420</td>\n",
       "      <td>0.0966</td>\n",
       "      <td>0.000008</td>\n",
       "      <td>0.3160</td>\n",
       "      <td>0.416</td>\n",
       "      <td>158.004</td>\n",
       "      <td>266227</td>\n",
       "      <td>2</td>\n",
       "    </tr>\n",
       "    <tr>\n",
       "      <th>3</th>\n",
       "      <td>The Script</td>\n",
       "      <td>3AQRLZ9PuTAozP28Skbq8V</td>\n",
       "      <td>The Script</td>\n",
       "      <td>The Man Who Can't Be Moved</td>\n",
       "      <td>2008-09-08</td>\n",
       "      <td>0</td>\n",
       "      <td>4Musyaro0NM5Awx8b5c627</td>\n",
       "      <td>0.609</td>\n",
       "      <td>0.629</td>\n",
       "      <td>10</td>\n",
       "      <td>-5.024</td>\n",
       "      <td>1</td>\n",
       "      <td>0.0264</td>\n",
       "      <td>0.4250</td>\n",
       "      <td>0.000000</td>\n",
       "      <td>0.0978</td>\n",
       "      <td>0.325</td>\n",
       "      <td>99.955</td>\n",
       "      <td>241467</td>\n",
       "      <td>3</td>\n",
       "    </tr>\n",
       "    <tr>\n",
       "      <th>4</th>\n",
       "      <td>Adele</td>\n",
       "      <td>4dpARuHxo51G3z768sgnrY</td>\n",
       "      <td>21</td>\n",
       "      <td>Rolling in the Deep</td>\n",
       "      <td>2011-01-19</td>\n",
       "      <td>0</td>\n",
       "      <td>1CkvWZme3pRgbzaxZnTl5X</td>\n",
       "      <td>0.729</td>\n",
       "      <td>0.756</td>\n",
       "      <td>8</td>\n",
       "      <td>-5.119</td>\n",
       "      <td>1</td>\n",
       "      <td>0.0294</td>\n",
       "      <td>0.1310</td>\n",
       "      <td>0.000000</td>\n",
       "      <td>0.0527</td>\n",
       "      <td>0.522</td>\n",
       "      <td>104.945</td>\n",
       "      <td>228293</td>\n",
       "      <td>3</td>\n",
       "    </tr>\n",
       "    <tr>\n",
       "      <th>5</th>\n",
       "      <td>Bruno Mars</td>\n",
       "      <td>0du5cEVh5yTK9QJze8zA0C</td>\n",
       "      <td>Doo-Wops &amp; Hooligans</td>\n",
       "      <td>Grenade</td>\n",
       "      <td>2010-10-05</td>\n",
       "      <td>0</td>\n",
       "      <td>4lLtanYk6tkMvooU0tWzG8</td>\n",
       "      <td>0.706</td>\n",
       "      <td>0.558</td>\n",
       "      <td>2</td>\n",
       "      <td>-7.237</td>\n",
       "      <td>0</td>\n",
       "      <td>0.0593</td>\n",
       "      <td>0.1460</td>\n",
       "      <td>0.000000</td>\n",
       "      <td>0.1180</td>\n",
       "      <td>0.227</td>\n",
       "      <td>110.443</td>\n",
       "      <td>223253</td>\n",
       "      <td>4</td>\n",
       "    </tr>\n",
       "  </tbody>\n",
       "</table>\n",
       "</div>"
      ],
      "text/plain": [
       "        artist               artist_id  \\\n",
       "0   Katy Perry  6jJ0s89eD6GaHleKKya26X   \n",
       "1  OneRepublic  5Pwc4xIPtQLFEnJriah9YJ   \n",
       "3   The Script  3AQRLZ9PuTAozP28Skbq8V   \n",
       "4        Adele  4dpARuHxo51G3z768sgnrY   \n",
       "5   Bruno Mars  0du5cEVh5yTK9QJze8zA0C   \n",
       "\n",
       "                                               album  \\\n",
       "0  Katy Perry - Teenage Dream: The Complete Confe...   \n",
       "1                                  Dreaming Out Loud   \n",
       "3                                         The Script   \n",
       "4                                                 21   \n",
       "5                               Doo-Wops & Hooligans   \n",
       "\n",
       "                   track_name release_date  is_explicit  \\\n",
       "0                    Firework   2012-03-12            0   \n",
       "1                  All We Are   2007-01-01            0   \n",
       "3  The Man Who Can't Be Moved   2008-09-08            0   \n",
       "4         Rolling in the Deep   2011-01-19            0   \n",
       "5                     Grenade   2010-10-05            0   \n",
       "\n",
       "                 track_id  danceability  energy  key  loudness  mode  \\\n",
       "0  4lCv7b86sLynZbXhfScfm2         0.638   0.826    8    -4.968     1   \n",
       "1  1Jx69b09LKTuBQxkEiFfVX         0.397   0.817    2    -5.495     1   \n",
       "3  4Musyaro0NM5Awx8b5c627         0.609   0.629   10    -5.024     1   \n",
       "4  1CkvWZme3pRgbzaxZnTl5X         0.729   0.756    8    -5.119     1   \n",
       "5  4lLtanYk6tkMvooU0tWzG8         0.706   0.558    2    -7.237     0   \n",
       "\n",
       "   speechiness  acousticness  instrumentalness  liveness  valence    tempo  \\\n",
       "0       0.0479        0.1390          0.000000    0.0803    0.649  124.072   \n",
       "1       0.0420        0.0966          0.000008    0.3160    0.416  158.004   \n",
       "3       0.0264        0.4250          0.000000    0.0978    0.325   99.955   \n",
       "4       0.0294        0.1310          0.000000    0.0527    0.522  104.945   \n",
       "5       0.0593        0.1460          0.000000    0.1180    0.227  110.443   \n",
       "\n",
       "   duration_ms  ratings  \n",
       "0       227880        4  \n",
       "1       266227        2  \n",
       "3       241467        3  \n",
       "4       228293        3  \n",
       "5       223253        4  "
      ]
     },
     "execution_count": 34,
     "metadata": {},
     "output_type": "execute_result"
    }
   ],
   "source": [
    "df.head()"
   ]
  },
  {
   "cell_type": "markdown",
   "metadata": {},
   "source": [
    "For our classification problem, we will look at how certain audio features can predict a song's rating. Therefore, to proceed with this analysis, we will build a new DataFrame that only consists of these features and will drop the remaining.\n"
   ]
  },
  {
   "cell_type": "code",
   "execution_count": 35,
   "metadata": {},
   "outputs": [],
   "source": [
    "audio = df.drop(['artist', 'artist_id', 'album', 'track_name'], axis=1)"
   ]
  },
  {
   "cell_type": "code",
   "execution_count": 36,
   "metadata": {},
   "outputs": [
    {
     "name": "stdout",
     "output_type": "stream",
     "text": [
      "<class 'pandas.core.frame.DataFrame'>\n",
      "Int64Index: 7049 entries, 0 to 10002\n",
      "Data columns (total 16 columns):\n",
      "release_date        7049 non-null datetime64[ns]\n",
      "is_explicit         7049 non-null int64\n",
      "track_id            7049 non-null object\n",
      "danceability        7049 non-null float64\n",
      "energy              7049 non-null float64\n",
      "key                 7049 non-null int64\n",
      "loudness            7049 non-null float64\n",
      "mode                7049 non-null int64\n",
      "speechiness         7049 non-null float64\n",
      "acousticness        7049 non-null float64\n",
      "instrumentalness    7049 non-null float64\n",
      "liveness            7049 non-null float64\n",
      "valence             7049 non-null float64\n",
      "tempo               7049 non-null float64\n",
      "duration_ms         7049 non-null int64\n",
      "ratings             7049 non-null int64\n",
      "dtypes: datetime64[ns](1), float64(9), int64(5), object(1)\n",
      "memory usage: 936.2+ KB\n"
     ]
    }
   ],
   "source": [
    "audio.info()"
   ]
  },
  {
   "cell_type": "code",
   "execution_count": 37,
   "metadata": {},
   "outputs": [
    {
     "data": {
      "image/png": "[encoded data removed]",
      "text/plain": [
       "<Figure size 1296x1080 with 16 Axes>"
      ]
     },
     "metadata": {
      "needs_background": "light"
     },
     "output_type": "display_data"
    }
   ],
   "source": [
    "#First, let's plot a histogram for each column to preview their distrubtions \n",
    "audio.hist(figsize=(18,15), bins='auto');"
   ]
  },
  {
   "cell_type": "markdown",
   "metadata": {},
   "source": [
    "## Feature Engineering"
   ]
  },
  {
   "cell_type": "code",
   "execution_count": 38,
   "metadata": {
    "scrolled": true
   },
   "outputs": [
    {
     "data": {
      "text/plain": [
       "2013-01-01    118\n",
       "2010-02-26     92\n",
       "2012-01-01     88\n",
       "2018-04-10     79\n",
       "2016-09-09     70\n",
       "             ... \n",
       "1964-03-02      1\n",
       "2015-02-25      1\n",
       "2013-10-28      1\n",
       "1997-09-16      1\n",
       "1970-01-01      1\n",
       "Name: release_date, Length: 1669, dtype: int64"
      ]
     },
     "execution_count": 38,
     "metadata": {},
     "output_type": "execute_result"
    }
   ],
   "source": [
    "audio['release_date'].value_counts()"
   ]
  },
  {
   "cell_type": "code",
   "execution_count": 39,
   "metadata": {},
   "outputs": [],
   "source": [
    "audio['year']=pd.to_datetime(audio['release_date'], format='%m/%d/%Y').dt.year"
   ]
  },
  {
   "cell_type": "code",
   "execution_count": 40,
   "metadata": {},
   "outputs": [
    {
     "data": {
      "text/plain": [
       "<matplotlib.axes._subplots.AxesSubplot at 0x7f87daca1710>"
      ]
     },
     "execution_count": 40,
     "metadata": {},
     "output_type": "execute_result"
    },
    {
     "data": {
      "image/png": "[encoded data removed]",
      "text/plain": [
       "<Figure size 432x288 with 1 Axes>"
      ]
     },
     "metadata": {
      "needs_background": "light"
     },
     "output_type": "display_data"
    }
   ],
   "source": [
    "audio['year'].hist()"
   ]
  },
  {
   "cell_type": "code",
   "execution_count": 41,
   "metadata": {},
   "outputs": [
    {
     "data": {
      "text/plain": [
       "64"
      ]
     },
     "execution_count": 41,
     "metadata": {},
     "output_type": "execute_result"
    }
   ],
   "source": [
    "audio['year'].nunique()"
   ]
  },
  {
   "cell_type": "markdown",
   "metadata": {},
   "source": [
    "Since the goal is to determine if the year that the song is from impacts the song rating, with 64 years, it may be difficult to see if one specific year has an impact vs. another, since there are 64 unique years in our dataset. As a result, we will first transform the 'year' feature into a 'decade' feature, and then will turn this decade feature into a categorical variable to determine its impact on song ratings."
   ]
  },
  {
   "cell_type": "code",
   "execution_count": 42,
   "metadata": {},
   "outputs": [],
   "source": [
    "#adding a new feature \"decade\" that breaks down songs that are from the 2010s, 2000s, etc.\n",
    "#if the song is from a decade it will be assigned the first year of that decade\n",
    "#i.e. if a song is from 1975, the decade variable will have the variable as \"1970\", as in from the 1970s\n",
    "audio['decade'] = audio['year'].apply(lambda x: 1950 if x<1960 \n",
    "                                        else 1960 if x>=1960 and x<1970 \n",
    "                                        else 1970 if x>=1970 and x<1980\n",
    "                                        else 1980 if x>=1980 and x<1990\n",
    "                                        else 1990 if x>=1990 and x<2000\n",
    "                                        else 2000 if x>=2000 and x<2010\n",
    "                                        else 2010)"
   ]
  },
  {
   "cell_type": "code",
   "execution_count": 43,
   "metadata": {},
   "outputs": [],
   "source": [
    "#Drop year as it was only used to generate the decade variable\n",
    "audio = audio.drop(['year'], axis=1)"
   ]
  },
  {
   "cell_type": "code",
   "execution_count": 44,
   "metadata": {},
   "outputs": [
    {
     "data": {
      "text/html": [
       "<div>\n",
       "<style scoped>\n",
       "    .dataframe tbody tr th:only-of-type {\n",
       "        vertical-align: middle;\n",
       "    }\n",
       "\n",
       "    .dataframe tbody tr th {\n",
       "        vertical-align: top;\n",
       "    }\n",
       "\n",
       "    .dataframe thead th {\n",
       "        text-align: right;\n",
       "    }\n",
       "</style>\n",
       "<table border=\"1\" class=\"dataframe\">\n",
       "  <thead>\n",
       "    <tr style=\"text-align: right;\">\n",
       "      <th></th>\n",
       "      <th>release_date</th>\n",
       "      <th>is_explicit</th>\n",
       "      <th>track_id</th>\n",
       "      <th>danceability</th>\n",
       "      <th>energy</th>\n",
       "      <th>key</th>\n",
       "      <th>loudness</th>\n",
       "      <th>mode</th>\n",
       "      <th>speechiness</th>\n",
       "      <th>acousticness</th>\n",
       "      <th>instrumentalness</th>\n",
       "      <th>liveness</th>\n",
       "      <th>valence</th>\n",
       "      <th>tempo</th>\n",
       "      <th>duration_ms</th>\n",
       "      <th>ratings</th>\n",
       "      <th>decade</th>\n",
       "    </tr>\n",
       "  </thead>\n",
       "  <tbody>\n",
       "    <tr>\n",
       "      <th>0</th>\n",
       "      <td>2012-03-12</td>\n",
       "      <td>0</td>\n",
       "      <td>4lCv7b86sLynZbXhfScfm2</td>\n",
       "      <td>0.638</td>\n",
       "      <td>0.826</td>\n",
       "      <td>8</td>\n",
       "      <td>-4.968</td>\n",
       "      <td>1</td>\n",
       "      <td>0.0479</td>\n",
       "      <td>0.1390</td>\n",
       "      <td>0.000000</td>\n",
       "      <td>0.0803</td>\n",
       "      <td>0.649</td>\n",
       "      <td>124.072</td>\n",
       "      <td>227880</td>\n",
       "      <td>4</td>\n",
       "      <td>2010</td>\n",
       "    </tr>\n",
       "    <tr>\n",
       "      <th>1</th>\n",
       "      <td>2007-01-01</td>\n",
       "      <td>0</td>\n",
       "      <td>1Jx69b09LKTuBQxkEiFfVX</td>\n",
       "      <td>0.397</td>\n",
       "      <td>0.817</td>\n",
       "      <td>2</td>\n",
       "      <td>-5.495</td>\n",
       "      <td>1</td>\n",
       "      <td>0.0420</td>\n",
       "      <td>0.0966</td>\n",
       "      <td>0.000008</td>\n",
       "      <td>0.3160</td>\n",
       "      <td>0.416</td>\n",
       "      <td>158.004</td>\n",
       "      <td>266227</td>\n",
       "      <td>2</td>\n",
       "      <td>2000</td>\n",
       "    </tr>\n",
       "    <tr>\n",
       "      <th>3</th>\n",
       "      <td>2008-09-08</td>\n",
       "      <td>0</td>\n",
       "      <td>4Musyaro0NM5Awx8b5c627</td>\n",
       "      <td>0.609</td>\n",
       "      <td>0.629</td>\n",
       "      <td>10</td>\n",
       "      <td>-5.024</td>\n",
       "      <td>1</td>\n",
       "      <td>0.0264</td>\n",
       "      <td>0.4250</td>\n",
       "      <td>0.000000</td>\n",
       "      <td>0.0978</td>\n",
       "      <td>0.325</td>\n",
       "      <td>99.955</td>\n",
       "      <td>241467</td>\n",
       "      <td>3</td>\n",
       "      <td>2000</td>\n",
       "    </tr>\n",
       "    <tr>\n",
       "      <th>4</th>\n",
       "      <td>2011-01-19</td>\n",
       "      <td>0</td>\n",
       "      <td>1CkvWZme3pRgbzaxZnTl5X</td>\n",
       "      <td>0.729</td>\n",
       "      <td>0.756</td>\n",
       "      <td>8</td>\n",
       "      <td>-5.119</td>\n",
       "      <td>1</td>\n",
       "      <td>0.0294</td>\n",
       "      <td>0.1310</td>\n",
       "      <td>0.000000</td>\n",
       "      <td>0.0527</td>\n",
       "      <td>0.522</td>\n",
       "      <td>104.945</td>\n",
       "      <td>228293</td>\n",
       "      <td>3</td>\n",
       "      <td>2010</td>\n",
       "    </tr>\n",
       "    <tr>\n",
       "      <th>5</th>\n",
       "      <td>2010-10-05</td>\n",
       "      <td>0</td>\n",
       "      <td>4lLtanYk6tkMvooU0tWzG8</td>\n",
       "      <td>0.706</td>\n",
       "      <td>0.558</td>\n",
       "      <td>2</td>\n",
       "      <td>-7.237</td>\n",
       "      <td>0</td>\n",
       "      <td>0.0593</td>\n",
       "      <td>0.1460</td>\n",
       "      <td>0.000000</td>\n",
       "      <td>0.1180</td>\n",
       "      <td>0.227</td>\n",
       "      <td>110.443</td>\n",
       "      <td>223253</td>\n",
       "      <td>4</td>\n",
       "      <td>2010</td>\n",
       "    </tr>\n",
       "  </tbody>\n",
       "</table>\n",
       "</div>"
      ],
      "text/plain": [
       "  release_date  is_explicit                track_id  danceability  energy  \\\n",
       "0   2012-03-12            0  4lCv7b86sLynZbXhfScfm2         0.638   0.826   \n",
       "1   2007-01-01            0  1Jx69b09LKTuBQxkEiFfVX         0.397   0.817   \n",
       "3   2008-09-08            0  4Musyaro0NM5Awx8b5c627         0.609   0.629   \n",
       "4   2011-01-19            0  1CkvWZme3pRgbzaxZnTl5X         0.729   0.756   \n",
       "5   2010-10-05            0  4lLtanYk6tkMvooU0tWzG8         0.706   0.558   \n",
       "\n",
       "   key  loudness  mode  speechiness  acousticness  instrumentalness  liveness  \\\n",
       "0    8    -4.968     1       0.0479        0.1390          0.000000    0.0803   \n",
       "1    2    -5.495     1       0.0420        0.0966          0.000008    0.3160   \n",
       "3   10    -5.024     1       0.0264        0.4250          0.000000    0.0978   \n",
       "4    8    -5.119     1       0.0294        0.1310          0.000000    0.0527   \n",
       "5    2    -7.237     0       0.0593        0.1460          0.000000    0.1180   \n",
       "\n",
       "   valence    tempo  duration_ms  ratings  decade  \n",
       "0    0.649  124.072       227880        4    2010  \n",
       "1    0.416  158.004       266227        2    2000  \n",
       "3    0.325   99.955       241467        3    2000  \n",
       "4    0.522  104.945       228293        3    2010  \n",
       "5    0.227  110.443       223253        4    2010  "
      ]
     },
     "execution_count": 44,
     "metadata": {},
     "output_type": "execute_result"
    }
   ],
   "source": [
    "#Display 5 rows of audio again\n",
    "audio.head()"
   ]
  },
  {
   "cell_type": "code",
   "execution_count": 45,
   "metadata": {},
   "outputs": [],
   "source": [
    "#Turn the decade variable into a dummy variable\n",
    "\n",
    "df_new = audio['decade']\n",
    "df_new = pd.get_dummies(df_new, drop_first=True, prefix='decade')"
   ]
  },
  {
   "cell_type": "code",
   "execution_count": 46,
   "metadata": {},
   "outputs": [
    {
     "name": "stdout",
     "output_type": "stream",
     "text": [
      "<class 'pandas.core.frame.DataFrame'>\n",
      "Int64Index: 7049 entries, 0 to 10002\n",
      "Data columns (total 6 columns):\n",
      "decade_1960    7049 non-null uint8\n",
      "decade_1970    7049 non-null uint8\n",
      "decade_1980    7049 non-null uint8\n",
      "decade_1990    7049 non-null uint8\n",
      "decade_2000    7049 non-null uint8\n",
      "decade_2010    7049 non-null uint8\n",
      "dtypes: uint8(6)\n",
      "memory usage: 96.4 KB\n"
     ]
    }
   ],
   "source": [
    "df_new.info()"
   ]
  },
  {
   "cell_type": "code",
   "execution_count": 47,
   "metadata": {},
   "outputs": [],
   "source": [
    "df = pd.concat([audio, df_new], axis=1, join='inner')"
   ]
  },
  {
   "cell_type": "code",
   "execution_count": 48,
   "metadata": {},
   "outputs": [
    {
     "name": "stdout",
     "output_type": "stream",
     "text": [
      "<class 'pandas.core.frame.DataFrame'>\n",
      "Int64Index: 7049 entries, 0 to 10002\n",
      "Data columns (total 23 columns):\n",
      "release_date        7049 non-null datetime64[ns]\n",
      "is_explicit         7049 non-null int64\n",
      "track_id            7049 non-null object\n",
      "danceability        7049 non-null float64\n",
      "energy              7049 non-null float64\n",
      "key                 7049 non-null int64\n",
      "loudness            7049 non-null float64\n",
      "mode                7049 non-null int64\n",
      "speechiness         7049 non-null float64\n",
      "acousticness        7049 non-null float64\n",
      "instrumentalness    7049 non-null float64\n",
      "liveness            7049 non-null float64\n",
      "valence             7049 non-null float64\n",
      "tempo               7049 non-null float64\n",
      "duration_ms         7049 non-null int64\n",
      "ratings             7049 non-null int64\n",
      "decade              7049 non-null int64\n",
      "decade_1960         7049 non-null uint8\n",
      "decade_1970         7049 non-null uint8\n",
      "decade_1980         7049 non-null uint8\n",
      "decade_1990         7049 non-null uint8\n",
      "decade_2000         7049 non-null uint8\n",
      "decade_2010         7049 non-null uint8\n",
      "dtypes: datetime64[ns](1), float64(9), int64(6), object(1), uint8(6)\n",
      "memory usage: 1.0+ MB\n"
     ]
    }
   ],
   "source": [
    "df.info()"
   ]
  },
  {
   "cell_type": "code",
   "execution_count": 49,
   "metadata": {},
   "outputs": [],
   "source": [
    "df = df.drop(['decade', 'release_date'], axis=1)"
   ]
  },
  {
   "cell_type": "code",
   "execution_count": 50,
   "metadata": {
    "scrolled": true
   },
   "outputs": [
    {
     "data": {
      "text/html": [
       "<div>\n",
       "<style scoped>\n",
       "    .dataframe tbody tr th:only-of-type {\n",
       "        vertical-align: middle;\n",
       "    }\n",
       "\n",
       "    .dataframe tbody tr th {\n",
       "        vertical-align: top;\n",
       "    }\n",
       "\n",
       "    .dataframe thead th {\n",
       "        text-align: right;\n",
       "    }\n",
       "</style>\n",
       "<table border=\"1\" class=\"dataframe\">\n",
       "  <thead>\n",
       "    <tr style=\"text-align: right;\">\n",
       "      <th></th>\n",
       "      <th>is_explicit</th>\n",
       "      <th>track_id</th>\n",
       "      <th>danceability</th>\n",
       "      <th>energy</th>\n",
       "      <th>key</th>\n",
       "      <th>loudness</th>\n",
       "      <th>mode</th>\n",
       "      <th>speechiness</th>\n",
       "      <th>acousticness</th>\n",
       "      <th>instrumentalness</th>\n",
       "      <th>...</th>\n",
       "      <th>valence</th>\n",
       "      <th>tempo</th>\n",
       "      <th>duration_ms</th>\n",
       "      <th>ratings</th>\n",
       "      <th>decade_1960</th>\n",
       "      <th>decade_1970</th>\n",
       "      <th>decade_1980</th>\n",
       "      <th>decade_1990</th>\n",
       "      <th>decade_2000</th>\n",
       "      <th>decade_2010</th>\n",
       "    </tr>\n",
       "  </thead>\n",
       "  <tbody>\n",
       "    <tr>\n",
       "      <th>0</th>\n",
       "      <td>0</td>\n",
       "      <td>4lCv7b86sLynZbXhfScfm2</td>\n",
       "      <td>0.638</td>\n",
       "      <td>0.826</td>\n",
       "      <td>8</td>\n",
       "      <td>-4.968</td>\n",
       "      <td>1</td>\n",
       "      <td>0.0479</td>\n",
       "      <td>0.1390</td>\n",
       "      <td>0.000000</td>\n",
       "      <td>...</td>\n",
       "      <td>0.649</td>\n",
       "      <td>124.072</td>\n",
       "      <td>227880</td>\n",
       "      <td>4</td>\n",
       "      <td>0</td>\n",
       "      <td>0</td>\n",
       "      <td>0</td>\n",
       "      <td>0</td>\n",
       "      <td>0</td>\n",
       "      <td>1</td>\n",
       "    </tr>\n",
       "    <tr>\n",
       "      <th>1</th>\n",
       "      <td>0</td>\n",
       "      <td>1Jx69b09LKTuBQxkEiFfVX</td>\n",
       "      <td>0.397</td>\n",
       "      <td>0.817</td>\n",
       "      <td>2</td>\n",
       "      <td>-5.495</td>\n",
       "      <td>1</td>\n",
       "      <td>0.0420</td>\n",
       "      <td>0.0966</td>\n",
       "      <td>0.000008</td>\n",
       "      <td>...</td>\n",
       "      <td>0.416</td>\n",
       "      <td>158.004</td>\n",
       "      <td>266227</td>\n",
       "      <td>2</td>\n",
       "      <td>0</td>\n",
       "      <td>0</td>\n",
       "      <td>0</td>\n",
       "      <td>0</td>\n",
       "      <td>1</td>\n",
       "      <td>0</td>\n",
       "    </tr>\n",
       "    <tr>\n",
       "      <th>3</th>\n",
       "      <td>0</td>\n",
       "      <td>4Musyaro0NM5Awx8b5c627</td>\n",
       "      <td>0.609</td>\n",
       "      <td>0.629</td>\n",
       "      <td>10</td>\n",
       "      <td>-5.024</td>\n",
       "      <td>1</td>\n",
       "      <td>0.0264</td>\n",
       "      <td>0.4250</td>\n",
       "      <td>0.000000</td>\n",
       "      <td>...</td>\n",
       "      <td>0.325</td>\n",
       "      <td>99.955</td>\n",
       "      <td>241467</td>\n",
       "      <td>3</td>\n",
       "      <td>0</td>\n",
       "      <td>0</td>\n",
       "      <td>0</td>\n",
       "      <td>0</td>\n",
       "      <td>1</td>\n",
       "      <td>0</td>\n",
       "    </tr>\n",
       "    <tr>\n",
       "      <th>4</th>\n",
       "      <td>0</td>\n",
       "      <td>1CkvWZme3pRgbzaxZnTl5X</td>\n",
       "      <td>0.729</td>\n",
       "      <td>0.756</td>\n",
       "      <td>8</td>\n",
       "      <td>-5.119</td>\n",
       "      <td>1</td>\n",
       "      <td>0.0294</td>\n",
       "      <td>0.1310</td>\n",
       "      <td>0.000000</td>\n",
       "      <td>...</td>\n",
       "      <td>0.522</td>\n",
       "      <td>104.945</td>\n",
       "      <td>228293</td>\n",
       "      <td>3</td>\n",
       "      <td>0</td>\n",
       "      <td>0</td>\n",
       "      <td>0</td>\n",
       "      <td>0</td>\n",
       "      <td>0</td>\n",
       "      <td>1</td>\n",
       "    </tr>\n",
       "    <tr>\n",
       "      <th>5</th>\n",
       "      <td>0</td>\n",
       "      <td>4lLtanYk6tkMvooU0tWzG8</td>\n",
       "      <td>0.706</td>\n",
       "      <td>0.558</td>\n",
       "      <td>2</td>\n",
       "      <td>-7.237</td>\n",
       "      <td>0</td>\n",
       "      <td>0.0593</td>\n",
       "      <td>0.1460</td>\n",
       "      <td>0.000000</td>\n",
       "      <td>...</td>\n",
       "      <td>0.227</td>\n",
       "      <td>110.443</td>\n",
       "      <td>223253</td>\n",
       "      <td>4</td>\n",
       "      <td>0</td>\n",
       "      <td>0</td>\n",
       "      <td>0</td>\n",
       "      <td>0</td>\n",
       "      <td>0</td>\n",
       "      <td>1</td>\n",
       "    </tr>\n",
       "  </tbody>\n",
       "</table>\n",
       "<p>5 rows × 21 columns</p>\n",
       "</div>"
      ],
      "text/plain": [
       "   is_explicit                track_id  danceability  energy  key  loudness  \\\n",
       "0            0  4lCv7b86sLynZbXhfScfm2         0.638   0.826    8    -4.968   \n",
       "1            0  1Jx69b09LKTuBQxkEiFfVX         0.397   0.817    2    -5.495   \n",
       "3            0  4Musyaro0NM5Awx8b5c627         0.609   0.629   10    -5.024   \n",
       "4            0  1CkvWZme3pRgbzaxZnTl5X         0.729   0.756    8    -5.119   \n",
       "5            0  4lLtanYk6tkMvooU0tWzG8         0.706   0.558    2    -7.237   \n",
       "\n",
       "   mode  speechiness  acousticness  instrumentalness  ...  valence    tempo  \\\n",
       "0     1       0.0479        0.1390          0.000000  ...    0.649  124.072   \n",
       "1     1       0.0420        0.0966          0.000008  ...    0.416  158.004   \n",
       "3     1       0.0264        0.4250          0.000000  ...    0.325   99.955   \n",
       "4     1       0.0294        0.1310          0.000000  ...    0.522  104.945   \n",
       "5     0       0.0593        0.1460          0.000000  ...    0.227  110.443   \n",
       "\n",
       "   duration_ms  ratings  decade_1960  decade_1970  decade_1980  decade_1990  \\\n",
       "0       227880        4            0            0            0            0   \n",
       "1       266227        2            0            0            0            0   \n",
       "3       241467        3            0            0            0            0   \n",
       "4       228293        3            0            0            0            0   \n",
       "5       223253        4            0            0            0            0   \n",
       "\n",
       "   decade_2000  decade_2010  \n",
       "0            0            1  \n",
       "1            1            0  \n",
       "3            1            0  \n",
       "4            0            1  \n",
       "5            0            1  \n",
       "\n",
       "[5 rows x 21 columns]"
      ]
     },
     "execution_count": 50,
     "metadata": {},
     "output_type": "execute_result"
    }
   ],
   "source": [
    "df.head()"
   ]
  },
  {
   "cell_type": "markdown",
   "metadata": {},
   "source": [
    "Several variables are not on a 0-1 scale; such as loudness, tempo, duration, mode and key. I will look to see if these variables have any outliers and if so, if they should be removed."
   ]
  },
  {
   "cell_type": "code",
   "execution_count": 51,
   "metadata": {},
   "outputs": [
    {
     "data": {
      "text/plain": [
       "<matplotlib.axes._subplots.AxesSubplot at 0x7f87c4de7ac8>"
      ]
     },
     "execution_count": 51,
     "metadata": {},
     "output_type": "execute_result"
    },
    {
     "data": {
      "image/png": "[encoded data removed]",
      "text/plain": [
       "<Figure size 1152x576 with 4 Axes>"
      ]
     },
     "metadata": {
      "needs_background": "light"
     },
     "output_type": "display_data"
    }
   ],
   "source": [
    "#Create boxplots to identify outliers for loudness, tempo, duration and mode\n",
    "plt.figure(figsize=(16,8))\n",
    "plt.subplot(221)\n",
    "sns.boxplot(x=df['loudness'])\n",
    "plt.subplot(222)\n",
    "sns.boxplot(x=df['tempo'])\n",
    "plt.subplot(223)\n",
    "sns.boxplot(x=df['duration_ms'])\n",
    "plt.subplot(224)\n",
    "sns.boxplot(x=df['mode'])"
   ]
  },
  {
   "cell_type": "markdown",
   "metadata": {},
   "source": [
    "There are several outliers in loudness, tempo and duration that could influence our results. For now, I will only drop very *extreme* outliers, but will consider dropping others later on, depending on the models' results."
   ]
  },
  {
   "cell_type": "code",
   "execution_count": 52,
   "metadata": {},
   "outputs": [],
   "source": [
    "#remove extreme outliers for loudness\n",
    "df = df[df['loudness']>-25]"
   ]
  },
  {
   "cell_type": "code",
   "execution_count": 67,
   "metadata": {},
   "outputs": [],
   "source": [
    "#remove extreme outliers for duration\n",
    "df = df[(df['duration_ms']>50000) & (df['duration_ms']<550000)]"
   ]
  },
  {
   "cell_type": "code",
   "execution_count": 59,
   "metadata": {},
   "outputs": [],
   "source": [
    "#remove extreme outliers for tempo\n",
    "df = df[df['tempo']>0]"
   ]
  },
  {
   "cell_type": "code",
   "execution_count": 71,
   "metadata": {
    "scrolled": true
   },
   "outputs": [
    {
     "data": {
      "text/plain": [
       "<matplotlib.axes._subplots.AxesSubplot at 0x7f87da857f60>"
      ]
     },
     "execution_count": 71,
     "metadata": {},
     "output_type": "execute_result"
    },
    {
     "data": {
      "image/png": "[encoded data removed]",
      "text/plain": [
       "<Figure size 1152x576 with 3 Axes>"
      ]
     },
     "metadata": {
      "needs_background": "light"
     },
     "output_type": "display_data"
    }
   ],
   "source": [
    "#Let's relook at these variables' box plots again \n",
    "plt.figure(figsize=(16,8))\n",
    "plt.subplot(221)\n",
    "sns.boxplot(x=df['loudness'])\n",
    "plt.subplot(222)\n",
    "sns.boxplot(x=df['tempo'])\n",
    "plt.subplot(223)\n",
    "sns.boxplot(x=df['duration_ms'])"
   ]
  },
  {
   "cell_type": "markdown",
   "metadata": {},
   "source": [
    "These graphs look a bit better. There are, however, still several outliers in these variables, as we only removed extreme outliers from our dataset. I will first see how the models perform, and depending on the results, will look into adjusting the outliers further, if need be."
   ]
  },
  {
   "cell_type": "markdown",
   "metadata": {},
   "source": [
    "Additionally, several of the audio features are calculated on the same scale. Acousticness, energy, danceability, instrumentalness, liveness, speechiness, and valence all are measured on a 0-1 scale; the closer to 1, the higher the amount of that feature. Let's quickly confirm this with the df.describe method:"
   ]
  },
  {
   "cell_type": "code",
   "execution_count": 55,
   "metadata": {
    "scrolled": true
   },
   "outputs": [
    {
     "data": {
      "text/html": [
       "<div>\n",
       "<style scoped>\n",
       "    .dataframe tbody tr th:only-of-type {\n",
       "        vertical-align: middle;\n",
       "    }\n",
       "\n",
       "    .dataframe tbody tr th {\n",
       "        vertical-align: top;\n",
       "    }\n",
       "\n",
       "    .dataframe thead th {\n",
       "        text-align: right;\n",
       "    }\n",
       "</style>\n",
       "<table border=\"1\" class=\"dataframe\">\n",
       "  <thead>\n",
       "    <tr style=\"text-align: right;\">\n",
       "      <th></th>\n",
       "      <th>is_explicit</th>\n",
       "      <th>danceability</th>\n",
       "      <th>energy</th>\n",
       "      <th>key</th>\n",
       "      <th>loudness</th>\n",
       "      <th>mode</th>\n",
       "      <th>speechiness</th>\n",
       "      <th>acousticness</th>\n",
       "      <th>instrumentalness</th>\n",
       "      <th>liveness</th>\n",
       "      <th>valence</th>\n",
       "      <th>tempo</th>\n",
       "      <th>duration_ms</th>\n",
       "      <th>ratings</th>\n",
       "      <th>decade_1960</th>\n",
       "      <th>decade_1970</th>\n",
       "      <th>decade_1980</th>\n",
       "      <th>decade_1990</th>\n",
       "      <th>decade_2000</th>\n",
       "      <th>decade_2010</th>\n",
       "    </tr>\n",
       "  </thead>\n",
       "  <tbody>\n",
       "    <tr>\n",
       "      <th>count</th>\n",
       "      <td>7046.000000</td>\n",
       "      <td>7046.000000</td>\n",
       "      <td>7046.000000</td>\n",
       "      <td>7046.000000</td>\n",
       "      <td>7046.000000</td>\n",
       "      <td>7046.000000</td>\n",
       "      <td>7046.000000</td>\n",
       "      <td>7046.000000</td>\n",
       "      <td>7046.000000</td>\n",
       "      <td>7046.000000</td>\n",
       "      <td>7046.000000</td>\n",
       "      <td>7046.000000</td>\n",
       "      <td>7046.000000</td>\n",
       "      <td>7046.000000</td>\n",
       "      <td>7046.000000</td>\n",
       "      <td>7046.000000</td>\n",
       "      <td>7046.000000</td>\n",
       "      <td>7046.000000</td>\n",
       "      <td>7046.000000</td>\n",
       "      <td>7046.000000</td>\n",
       "    </tr>\n",
       "    <tr>\n",
       "      <th>mean</th>\n",
       "      <td>0.103321</td>\n",
       "      <td>0.586277</td>\n",
       "      <td>0.665001</td>\n",
       "      <td>5.140647</td>\n",
       "      <td>-6.890991</td>\n",
       "      <td>0.664490</td>\n",
       "      <td>0.069164</td>\n",
       "      <td>0.228215</td>\n",
       "      <td>0.034690</td>\n",
       "      <td>0.183400</td>\n",
       "      <td>0.493423</td>\n",
       "      <td>121.013206</td>\n",
       "      <td>224888.887454</td>\n",
       "      <td>2.678967</td>\n",
       "      <td>0.009793</td>\n",
       "      <td>0.018166</td>\n",
       "      <td>0.031081</td>\n",
       "      <td>0.049248</td>\n",
       "      <td>0.141924</td>\n",
       "      <td>0.748084</td>\n",
       "    </tr>\n",
       "    <tr>\n",
       "      <th>std</th>\n",
       "      <td>0.304399</td>\n",
       "      <td>0.143844</td>\n",
       "      <td>0.205672</td>\n",
       "      <td>3.578217</td>\n",
       "      <td>3.113738</td>\n",
       "      <td>0.472202</td>\n",
       "      <td>0.066532</td>\n",
       "      <td>0.276940</td>\n",
       "      <td>0.133252</td>\n",
       "      <td>0.146695</td>\n",
       "      <td>0.236553</td>\n",
       "      <td>28.346867</td>\n",
       "      <td>46849.179208</td>\n",
       "      <td>0.967302</td>\n",
       "      <td>0.098480</td>\n",
       "      <td>0.133562</td>\n",
       "      <td>0.173550</td>\n",
       "      <td>0.216400</td>\n",
       "      <td>0.348997</td>\n",
       "      <td>0.434144</td>\n",
       "    </tr>\n",
       "    <tr>\n",
       "      <th>min</th>\n",
       "      <td>0.000000</td>\n",
       "      <td>0.000000</td>\n",
       "      <td>0.023100</td>\n",
       "      <td>0.000000</td>\n",
       "      <td>-27.045000</td>\n",
       "      <td>0.000000</td>\n",
       "      <td>0.000000</td>\n",
       "      <td>0.000005</td>\n",
       "      <td>0.000000</td>\n",
       "      <td>0.015300</td>\n",
       "      <td>0.000000</td>\n",
       "      <td>0.000000</td>\n",
       "      <td>105147.000000</td>\n",
       "      <td>1.000000</td>\n",
       "      <td>0.000000</td>\n",
       "      <td>0.000000</td>\n",
       "      <td>0.000000</td>\n",
       "      <td>0.000000</td>\n",
       "      <td>0.000000</td>\n",
       "      <td>0.000000</td>\n",
       "    </tr>\n",
       "    <tr>\n",
       "      <th>25%</th>\n",
       "      <td>0.000000</td>\n",
       "      <td>0.495000</td>\n",
       "      <td>0.535000</td>\n",
       "      <td>2.000000</td>\n",
       "      <td>-8.233750</td>\n",
       "      <td>0.000000</td>\n",
       "      <td>0.034400</td>\n",
       "      <td>0.015900</td>\n",
       "      <td>0.000000</td>\n",
       "      <td>0.094025</td>\n",
       "      <td>0.304000</td>\n",
       "      <td>99.915250</td>\n",
       "      <td>196133.000000</td>\n",
       "      <td>2.000000</td>\n",
       "      <td>0.000000</td>\n",
       "      <td>0.000000</td>\n",
       "      <td>0.000000</td>\n",
       "      <td>0.000000</td>\n",
       "      <td>0.000000</td>\n",
       "      <td>0.000000</td>\n",
       "    </tr>\n",
       "    <tr>\n",
       "      <th>50%</th>\n",
       "      <td>0.000000</td>\n",
       "      <td>0.594000</td>\n",
       "      <td>0.703000</td>\n",
       "      <td>5.000000</td>\n",
       "      <td>-6.174000</td>\n",
       "      <td>1.000000</td>\n",
       "      <td>0.045300</td>\n",
       "      <td>0.095700</td>\n",
       "      <td>0.000009</td>\n",
       "      <td>0.123000</td>\n",
       "      <td>0.478000</td>\n",
       "      <td>119.964500</td>\n",
       "      <td>218921.000000</td>\n",
       "      <td>3.000000</td>\n",
       "      <td>0.000000</td>\n",
       "      <td>0.000000</td>\n",
       "      <td>0.000000</td>\n",
       "      <td>0.000000</td>\n",
       "      <td>0.000000</td>\n",
       "      <td>1.000000</td>\n",
       "    </tr>\n",
       "    <tr>\n",
       "      <th>75%</th>\n",
       "      <td>0.000000</td>\n",
       "      <td>0.688000</td>\n",
       "      <td>0.828000</td>\n",
       "      <td>8.000000</td>\n",
       "      <td>-4.753000</td>\n",
       "      <td>1.000000</td>\n",
       "      <td>0.071200</td>\n",
       "      <td>0.363000</td>\n",
       "      <td>0.000914</td>\n",
       "      <td>0.231000</td>\n",
       "      <td>0.677750</td>\n",
       "      <td>138.132750</td>\n",
       "      <td>246600.000000</td>\n",
       "      <td>3.000000</td>\n",
       "      <td>0.000000</td>\n",
       "      <td>0.000000</td>\n",
       "      <td>0.000000</td>\n",
       "      <td>0.000000</td>\n",
       "      <td>0.000000</td>\n",
       "      <td>1.000000</td>\n",
       "    </tr>\n",
       "    <tr>\n",
       "      <th>max</th>\n",
       "      <td>1.000000</td>\n",
       "      <td>0.979000</td>\n",
       "      <td>0.993000</td>\n",
       "      <td>11.000000</td>\n",
       "      <td>-0.276000</td>\n",
       "      <td>1.000000</td>\n",
       "      <td>0.907000</td>\n",
       "      <td>0.995000</td>\n",
       "      <td>0.983000</td>\n",
       "      <td>0.990000</td>\n",
       "      <td>0.982000</td>\n",
       "      <td>218.356000</td>\n",
       "      <td>576747.000000</td>\n",
       "      <td>5.000000</td>\n",
       "      <td>1.000000</td>\n",
       "      <td>1.000000</td>\n",
       "      <td>1.000000</td>\n",
       "      <td>1.000000</td>\n",
       "      <td>1.000000</td>\n",
       "      <td>1.000000</td>\n",
       "    </tr>\n",
       "  </tbody>\n",
       "</table>\n",
       "</div>"
      ],
      "text/plain": [
       "       is_explicit  danceability       energy          key     loudness  \\\n",
       "count  7046.000000   7046.000000  7046.000000  7046.000000  7046.000000   \n",
       "mean      0.103321      0.586277     0.665001     5.140647    -6.890991   \n",
       "std       0.304399      0.143844     0.205672     3.578217     3.113738   \n",
       "min       0.000000      0.000000     0.023100     0.000000   -27.045000   \n",
       "25%       0.000000      0.495000     0.535000     2.000000    -8.233750   \n",
       "50%       0.000000      0.594000     0.703000     5.000000    -6.174000   \n",
       "75%       0.000000      0.688000     0.828000     8.000000    -4.753000   \n",
       "max       1.000000      0.979000     0.993000    11.000000    -0.276000   \n",
       "\n",
       "              mode  speechiness  acousticness  instrumentalness     liveness  \\\n",
       "count  7046.000000  7046.000000   7046.000000       7046.000000  7046.000000   \n",
       "mean      0.664490     0.069164      0.228215          0.034690     0.183400   \n",
       "std       0.472202     0.066532      0.276940          0.133252     0.146695   \n",
       "min       0.000000     0.000000      0.000005          0.000000     0.015300   \n",
       "25%       0.000000     0.034400      0.015900          0.000000     0.094025   \n",
       "50%       1.000000     0.045300      0.095700          0.000009     0.123000   \n",
       "75%       1.000000     0.071200      0.363000          0.000914     0.231000   \n",
       "max       1.000000     0.907000      0.995000          0.983000     0.990000   \n",
       "\n",
       "           valence        tempo    duration_ms      ratings  decade_1960  \\\n",
       "count  7046.000000  7046.000000    7046.000000  7046.000000  7046.000000   \n",
       "mean      0.493423   121.013206  224888.887454     2.678967     0.009793   \n",
       "std       0.236553    28.346867   46849.179208     0.967302     0.098480   \n",
       "min       0.000000     0.000000  105147.000000     1.000000     0.000000   \n",
       "25%       0.304000    99.915250  196133.000000     2.000000     0.000000   \n",
       "50%       0.478000   119.964500  218921.000000     3.000000     0.000000   \n",
       "75%       0.677750   138.132750  246600.000000     3.000000     0.000000   \n",
       "max       0.982000   218.356000  576747.000000     5.000000     1.000000   \n",
       "\n",
       "       decade_1970  decade_1980  decade_1990  decade_2000  decade_2010  \n",
       "count  7046.000000  7046.000000  7046.000000  7046.000000  7046.000000  \n",
       "mean      0.018166     0.031081     0.049248     0.141924     0.748084  \n",
       "std       0.133562     0.173550     0.216400     0.348997     0.434144  \n",
       "min       0.000000     0.000000     0.000000     0.000000     0.000000  \n",
       "25%       0.000000     0.000000     0.000000     0.000000     0.000000  \n",
       "50%       0.000000     0.000000     0.000000     0.000000     1.000000  \n",
       "75%       0.000000     0.000000     0.000000     0.000000     1.000000  \n",
       "max       1.000000     1.000000     1.000000     1.000000     1.000000  "
      ]
     },
     "execution_count": 55,
     "metadata": {},
     "output_type": "execute_result"
    }
   ],
   "source": [
    "df.describe()"
   ]
  },
  {
   "cell_type": "markdown",
   "metadata": {},
   "source": [
    "Now, I would like to take a look at the means of these features across the entire playlist and see how they compare to one another. "
   ]
  },
  {
   "cell_type": "code",
   "execution_count": 56,
   "metadata": {
    "scrolled": true
   },
   "outputs": [
    {
     "data": {
      "text/plain": [
       "<matplotlib.axes._subplots.AxesSubplot at 0x7f87c4e4ab00>"
      ]
     },
     "execution_count": 56,
     "metadata": {},
     "output_type": "execute_result"
    },
    {
     "data": {
      "image/png": "[encoded data removed]",
      "text/plain": [
       "<Figure size 432x288 with 1 Axes>"
      ]
     },
     "metadata": {
      "needs_background": "light"
     },
     "output_type": "display_data"
    }
   ],
   "source": [
    "scale = ['danceability', 'energy', 'speechiness', 'acousticness','instrumentalness', 'liveness', 'valence']\n",
    "df[scale].mean().plot(kind='bar')"
   ]
  },
  {
   "cell_type": "markdown",
   "metadata": {},
   "source": [
    "We see here that our playlists' attributes are overall songs with high danceability (songs suitable for dancing), high energy (high intensity and noise) and high valence (happy and cheery). It appears that we have a playlist full of fun, happy, dance songs! "
   ]
  },
  {
   "cell_type": "code",
   "execution_count": 57,
   "metadata": {},
   "outputs": [
    {
     "data": {
      "text/plain": [
       "3    2650\n",
       "2    1984\n",
       "4    1438\n",
       "1     916\n",
       "5      58\n",
       "Name: ratings, dtype: int64"
      ]
     },
     "execution_count": 57,
     "metadata": {},
     "output_type": "execute_result"
    }
   ],
   "source": [
    "df['ratings'].value_counts()"
   ]
  },
  {
   "cell_type": "markdown",
   "metadata": {},
   "source": [
    "### Comparative Graphs"
   ]
  },
  {
   "cell_type": "markdown",
   "metadata": {},
   "source": [
    "#### a. Danceability"
   ]
  },
  {
   "cell_type": "code",
   "execution_count": 114,
   "metadata": {},
   "outputs": [
    {
     "data": {
      "text/plain": [
       "ratings\n",
       "1    AxesSubplot(0.125,0.125;0.775x0.755)\n",
       "2    AxesSubplot(0.125,0.125;0.775x0.755)\n",
       "3    AxesSubplot(0.125,0.125;0.775x0.755)\n",
       "4    AxesSubplot(0.125,0.125;0.775x0.755)\n",
       "5    AxesSubplot(0.125,0.125;0.775x0.755)\n",
       "Name: danceability, dtype: object"
      ]
     },
     "execution_count": 114,
     "metadata": {},
     "output_type": "execute_result"
    },
    {
     "data": {
      "image/png": "[encoded data removed]",
      "text/plain": [
       "<Figure size 864x432 with 1 Axes>"
      ]
     },
     "metadata": {
      "needs_background": "light"
     },
     "output_type": "display_data"
    }
   ],
   "source": [
    "#Plot KDE graph for danceability across all ratings \n",
    "df.groupby(\"ratings\").danceability.plot(kind='kde', legend=True, figsize=(12,6))"
   ]
  },
  {
   "cell_type": "code",
   "execution_count": 108,
   "metadata": {},
   "outputs": [
    {
     "data": {
      "image/png": "[encoded data removed]",
      "text/plain": [
       "<Figure size 1000x250 with 5 Axes>"
      ]
     },
     "metadata": {
      "needs_background": "light"
     },
     "output_type": "display_data"
    }
   ],
   "source": [
    "# Plot histograms for danceability across 5 ratings \n",
    "fig, axes = plt.subplots(1, 5, figsize=(10,2.5), dpi=100, sharex=True, sharey=True)\n",
    "colors = ['tab:red', 'tab:blue', 'tab:green', 'tab:pink', 'tab:olive']\n",
    "\n",
    "for i, (ax, rating) in enumerate(zip(axes.flatten(), df.ratings.unique())):\n",
    "    x = df.loc[df.ratings==rating, 'danceability']\n",
    "    ax.hist(x, alpha=0.5, bins=100, density=True, stacked=True, label=str(rating), color=colors[i])\n",
    "    ax.set_title(rating)\n",
    "\n",
    "plt.suptitle('Probability Histogram of Danceability across 5 Ratings', y=1.05, size=10)\n",
    "ax.set_xlim(0, 1); ax.set_ylim(0, 10);\n",
    "plt.tight_layout();"
   ]
  },
  {
   "cell_type": "markdown",
   "metadata": {},
   "source": [
    "#### b. Energy"
   ]
  },
  {
   "cell_type": "code",
   "execution_count": 115,
   "metadata": {},
   "outputs": [
    {
     "data": {
      "text/plain": [
       "ratings\n",
       "1    AxesSubplot(0.125,0.125;0.775x0.755)\n",
       "2    AxesSubplot(0.125,0.125;0.775x0.755)\n",
       "3    AxesSubplot(0.125,0.125;0.775x0.755)\n",
       "4    AxesSubplot(0.125,0.125;0.775x0.755)\n",
       "5    AxesSubplot(0.125,0.125;0.775x0.755)\n",
       "Name: energy, dtype: object"
      ]
     },
     "execution_count": 115,
     "metadata": {},
     "output_type": "execute_result"
    },
    {
     "data": {
      "image/png": "[encoded data removed]",
      "text/plain": [
       "<Figure size 864x432 with 1 Axes>"
      ]
     },
     "metadata": {
      "needs_background": "light"
     },
     "output_type": "display_data"
    }
   ],
   "source": [
    "#Plot KDE graph for energy across all ratings \n",
    "df.groupby(\"ratings\").energy.plot(kind='kde', legend=True, figsize=(12,6))"
   ]
  },
  {
   "cell_type": "markdown",
   "metadata": {},
   "source": [
    "#### c. Speechiness"
   ]
  },
  {
   "cell_type": "code",
   "execution_count": 118,
   "metadata": {},
   "outputs": [
    {
     "data": {
      "text/plain": [
       "ratings\n",
       "1    AxesSubplot(0.125,0.125;0.775x0.755)\n",
       "2    AxesSubplot(0.125,0.125;0.775x0.755)\n",
       "3    AxesSubplot(0.125,0.125;0.775x0.755)\n",
       "4    AxesSubplot(0.125,0.125;0.775x0.755)\n",
       "5    AxesSubplot(0.125,0.125;0.775x0.755)\n",
       "Name: speechiness, dtype: object"
      ]
     },
     "execution_count": 118,
     "metadata": {},
     "output_type": "execute_result"
    },
    {
     "data": {
      "image/png": "[encoded data removed]",
      "text/plain": [
       "<Figure size 864x432 with 1 Axes>"
      ]
     },
     "metadata": {
      "needs_background": "light"
     },
     "output_type": "display_data"
    }
   ],
   "source": [
    "#Plot KDE graph for speechiness across all ratings \n",
    "df.groupby(\"ratings\").speechiness.plot(kind='kde', legend=True, figsize=(12,6))"
   ]
  },
  {
   "cell_type": "code",
   "execution_count": 117,
   "metadata": {},
   "outputs": [
    {
     "data": {
      "image/png": "[encoded data removed]",
      "text/plain": [
       "<Figure size 1000x250 with 5 Axes>"
      ]
     },
     "metadata": {
      "needs_background": "light"
     },
     "output_type": "display_data"
    }
   ],
   "source": [
    "# Plot histograms for speechiness across 5 ratings \n",
    "fig, axes = plt.subplots(1, 5, figsize=(10,2.5), dpi=100, sharex=True, sharey=True)\n",
    "colors = ['tab:red', 'tab:blue', 'tab:green', 'tab:pink', 'tab:olive']\n",
    "\n",
    "for i, (ax, rating) in enumerate(zip(axes.flatten(), df.ratings.unique())):\n",
    "    x = df.loc[df.ratings==rating, 'speechiness']\n",
    "    ax.hist(x, alpha=0.5, bins=100, density=True, stacked=True, label=str(rating), color=colors[i])\n",
    "    ax.set_title(rating)\n",
    "\n",
    "plt.suptitle('Probability Histogram of Speechiness across 5 Ratings', y=1.05, size=10)\n",
    "ax.set_xlim(0, 1); ax.set_ylim(0, 10);\n",
    "plt.tight_layout();"
   ]
  },
  {
   "cell_type": "markdown",
   "metadata": {},
   "source": [
    "#### d. Acousticness"
   ]
  },
  {
   "cell_type": "code",
   "execution_count": 119,
   "metadata": {
    "scrolled": true
   },
   "outputs": [
    {
     "data": {
      "text/plain": [
       "ratings\n",
       "1    AxesSubplot(0.125,0.125;0.775x0.755)\n",
       "2    AxesSubplot(0.125,0.125;0.775x0.755)\n",
       "3    AxesSubplot(0.125,0.125;0.775x0.755)\n",
       "4    AxesSubplot(0.125,0.125;0.775x0.755)\n",
       "5    AxesSubplot(0.125,0.125;0.775x0.755)\n",
       "Name: acousticness, dtype: object"
      ]
     },
     "execution_count": 119,
     "metadata": {},
     "output_type": "execute_result"
    },
    {
     "data": {
      "image/png": "[encoded data removed]",
      "text/plain": [
       "<Figure size 864x432 with 1 Axes>"
      ]
     },
     "metadata": {
      "needs_background": "light"
     },
     "output_type": "display_data"
    }
   ],
   "source": [
    "#Plot KDE graph for acousticness across all ratings \n",
    "df.groupby(\"ratings\").acousticness.plot(kind='kde', legend=True, figsize=(12,6))"
   ]
  },
  {
   "cell_type": "code",
   "execution_count": 123,
   "metadata": {},
   "outputs": [
    {
     "data": {
      "image/png": "[encoded data removed]",
      "text/plain": [
       "<Figure size 1000x250 with 5 Axes>"
      ]
     },
     "metadata": {
      "needs_background": "light"
     },
     "output_type": "display_data"
    }
   ],
   "source": [
    "# Plot histograms for speechiness across 5 ratings \n",
    "fig, axes = plt.subplots(1, 5, figsize=(10,2.5), dpi=100, sharex=True, sharey=True)\n",
    "colors = ['tab:red', 'tab:blue', 'tab:green', 'tab:pink', 'tab:olive']\n",
    "\n",
    "for i, (ax, rating) in enumerate(zip(axes.flatten(), df.ratings.unique())):\n",
    "    x = df.loc[df.ratings==rating, 'acousticness']\n",
    "    ax.hist(x, alpha=0.5, bins=100, density=True, stacked=True, label=str(rating), color=colors[i])\n",
    "    ax.set_title(rating)\n",
    "\n",
    "plt.suptitle('Probability Histogram of Acousticness across 5 Ratings', y=1.05, size=10)\n",
    "ax.set_xlim(0, 1); ax.set_ylim(0, 10);\n",
    "plt.tight_layout();"
   ]
  },
  {
   "cell_type": "markdown",
   "metadata": {},
   "source": [
    "#### e. Instrumentalness"
   ]
  },
  {
   "cell_type": "code",
   "execution_count": 121,
   "metadata": {},
   "outputs": [
    {
     "data": {
      "text/plain": [
       "ratings\n",
       "1    AxesSubplot(0.125,0.125;0.775x0.755)\n",
       "2    AxesSubplot(0.125,0.125;0.775x0.755)\n",
       "3    AxesSubplot(0.125,0.125;0.775x0.755)\n",
       "4    AxesSubplot(0.125,0.125;0.775x0.755)\n",
       "5    AxesSubplot(0.125,0.125;0.775x0.755)\n",
       "Name: instrumentalness, dtype: object"
      ]
     },
     "execution_count": 121,
     "metadata": {},
     "output_type": "execute_result"
    },
    {
     "data": {
      "image/png": "[encoded data removed]",
      "text/plain": [
       "<Figure size 864x432 with 1 Axes>"
      ]
     },
     "metadata": {
      "needs_background": "light"
     },
     "output_type": "display_data"
    }
   ],
   "source": [
    "#Plot KDE graph for acousticness across all ratings \n",
    "df.groupby(\"ratings\").instrumentalness.plot(kind='kde', legend=True, figsize=(12,6))"
   ]
  },
  {
   "cell_type": "markdown",
   "metadata": {},
   "source": [
    "#### f. Liveness"
   ]
  },
  {
   "cell_type": "code",
   "execution_count": 126,
   "metadata": {},
   "outputs": [
    {
     "data": {
      "text/plain": [
       "ratings\n",
       "1    AxesSubplot(0.125,0.125;0.775x0.755)\n",
       "2    AxesSubplot(0.125,0.125;0.775x0.755)\n",
       "3    AxesSubplot(0.125,0.125;0.775x0.755)\n",
       "4    AxesSubplot(0.125,0.125;0.775x0.755)\n",
       "5    AxesSubplot(0.125,0.125;0.775x0.755)\n",
       "Name: liveness, dtype: object"
      ]
     },
     "execution_count": 126,
     "metadata": {},
     "output_type": "execute_result"
    },
    {
     "data": {
      "image/png": "[encoded data removed]",
      "text/plain": [
       "<Figure size 864x432 with 1 Axes>"
      ]
     },
     "metadata": {
      "needs_background": "light"
     },
     "output_type": "display_data"
    }
   ],
   "source": [
    "#Plot KDE graph for liveness across all ratings \n",
    "df.groupby(\"ratings\").liveness.plot(kind='kde', legend=True, figsize=(12,6))"
   ]
  },
  {
   "cell_type": "code",
   "execution_count": 125,
   "metadata": {},
   "outputs": [
    {
     "data": {
      "image/png": "[encoded data removed]",
      "text/plain": [
       "<Figure size 1000x250 with 5 Axes>"
      ]
     },
     "metadata": {
      "needs_background": "light"
     },
     "output_type": "display_data"
    }
   ],
   "source": [
    "# Plot histograms for liveness across 5 ratings \n",
    "fig, axes = plt.subplots(1, 5, figsize=(10,2.5), dpi=100, sharex=True, sharey=True)\n",
    "colors = ['tab:red', 'tab:blue', 'tab:green', 'tab:pink', 'tab:olive']\n",
    "\n",
    "for i, (ax, rating) in enumerate(zip(axes.flatten(), df.ratings.unique())):\n",
    "    x = df.loc[df.ratings==rating, 'liveness']\n",
    "    ax.hist(x, alpha=0.5, bins=100, density=True, stacked=True, label=str(rating), color=colors[i])\n",
    "    ax.set_title(rating)\n",
    "\n",
    "plt.suptitle('Probability Histogram of Liveness across 5 Ratings', y=1.05, size=10)\n",
    "ax.set_xlim(0, 1); ax.set_ylim(0, 10);\n",
    "plt.tight_layout();"
   ]
  },
  {
   "cell_type": "markdown",
   "metadata": {},
   "source": [
    "#### g. Valence"
   ]
  },
  {
   "cell_type": "code",
   "execution_count": 127,
   "metadata": {},
   "outputs": [
    {
     "data": {
      "text/plain": [
       "ratings\n",
       "1    AxesSubplot(0.125,0.125;0.775x0.755)\n",
       "2    AxesSubplot(0.125,0.125;0.775x0.755)\n",
       "3    AxesSubplot(0.125,0.125;0.775x0.755)\n",
       "4    AxesSubplot(0.125,0.125;0.775x0.755)\n",
       "5    AxesSubplot(0.125,0.125;0.775x0.755)\n",
       "Name: valence, dtype: object"
      ]
     },
     "execution_count": 127,
     "metadata": {},
     "output_type": "execute_result"
    },
    {
     "data": {
      "image/png": "[encoded data removed]",
      "text/plain": [
       "<Figure size 864x432 with 1 Axes>"
      ]
     },
     "metadata": {
      "needs_background": "light"
     },
     "output_type": "display_data"
    }
   ],
   "source": [
    "#Plot KDE graph for valence across all ratings \n",
    "df.groupby(\"ratings\").valence.plot(kind='kde', legend=True, figsize=(12,6))"
   ]
  },
  {
   "cell_type": "code",
   "execution_count": 128,
   "metadata": {},
   "outputs": [
    {
     "data": {
      "image/png": "[encoded data removed]",
      "text/plain": [
       "<Figure size 1000x250 with 5 Axes>"
      ]
     },
     "metadata": {
      "needs_background": "light"
     },
     "output_type": "display_data"
    }
   ],
   "source": [
    "# Plot histograms for valence across 5 ratings \n",
    "fig, axes = plt.subplots(1, 5, figsize=(10,2.5), dpi=100, sharex=True, sharey=True)\n",
    "colors = ['tab:red', 'tab:blue', 'tab:green', 'tab:pink', 'tab:olive']\n",
    "\n",
    "for i, (ax, rating) in enumerate(zip(axes.flatten(), df.ratings.unique())):\n",
    "    x = df.loc[df.ratings==rating, 'valence']\n",
    "    ax.hist(x, alpha=0.5, bins=100, density=True, stacked=True, label=str(rating), color=colors[i])\n",
    "    ax.set_title(rating)\n",
    "\n",
    "plt.suptitle('Probability Histogram of Valence across 5 Ratings', y=1.05, size=10)\n",
    "ax.set_xlim(0, 1); ax.set_ylim(0, 10);\n",
    "plt.tight_layout();"
   ]
  },
  {
   "cell_type": "code",
   "execution_count": 58,
   "metadata": {},
   "outputs": [],
   "source": [
    "#do overlapping histograms on one chart to see how certain features vary across different ratings \n",
    "#extract all songs that are rated 3 for example and do a danceability hist on that \n",
    "#find a way to compare them on one graph \n",
    "#Try and do these plots in plotly \n",
    "\n",
    "# see if distribution is different across the ratings and we hpe to see differneces \n",
    "# If not, can look at recall/preciison scores etc within each class (scores for a rating of 1, 2, 3, etc)\n",
    "#can also reweight the bins \n",
    "#can icnlude artists by coming up with some cluster of certain artists \n",
    "\n",
    "\n",
    "## interactive dashboard on one thing - could be something to look at at end of project \n",
    "## Jupyterdash "
   ]
  }
 ],
 "metadata": {
  "kernelspec": {
   "display_name": "Python 3",
   "language": "python",
   "name": "python3"
  },
  "language_info": {
   "codemirror_mode": {
    "name": "ipython",
    "version": 3
   },
   "file_extension": ".py",
   "mimetype": "text/x-python",
   "name": "python",
   "nbconvert_exporter": "python",
   "pygments_lexer": "ipython3",
   "version": "3.6.9"
  }
 },
 "nbformat": 4,
 "nbformat_minor": 4
}
