{
 "cells": [
  {
   "cell_type": "markdown",
   "metadata": {},
   "source": [
    "# Classification Modeling"
   ]
  },
  {
   "cell_type": "code",
   "execution_count": 1,
   "metadata": {},
   "outputs": [],
   "source": [
    "#Import necessary libraries\n",
    "import pandas as pd\n",
    "import numpy as np\n",
    "import seaborn as sns\n",
    "import matplotlib.pyplot as plt\n",
    "%matplotlib inline\n",
    "from time import time\n",
    "import re\n",
    "from numpy.random import normal\n",
    "from scipy.stats import kurtosis, skew\n",
    "import math\n",
    "from statsmodels.formula.api import ols\n",
    "from statsmodels.stats.outliers_influence import variance_inflation_factor\n",
    "import statsmodels.api as sm\n",
    "import scipy.stats as stats\n",
    "from sklearn import tree\n",
    "from sklearn.model_selection import train_test_split, cross_val_score, GridSearchCV\n",
    "from sklearn.linear_model import LinearRegression, LogisticRegression\n",
    "from sklearn.metrics import roc_curve, auc, plot_confusion_matrix, mean_squared_error, mean_absolute_error, classification_report, precision_score, recall_score, accuracy_score, f1_score\n",
    "from sklearn.preprocessing import StandardScaler\n",
    "from sklearn.neighbors import KNeighborsClassifier\n",
    "from sklearn.naive_bayes import GaussianNB\n",
    "from sklearn.tree import DecisionTreeRegressor, DecisionTreeClassifier, export_graphviz\n",
    "from sklearn.svm import SVC\n",
    "from sklearn.ensemble import RandomForestClassifier, BaggingClassifier, AdaBoostClassifier, GradientBoostingClassifier\n",
    "from six import StringIO \n",
    "from xgboost import XGBClassifier\n",
    "from imblearn.over_sampling import SMOTE\n",
    "from sklearn.pipeline import Pipeline\n",
    "from IPython.display import Image\n",
    "import pydotplus\n",
    "import warnings\n",
    "warnings.filterwarnings('ignore')"
   ]
  },
  {
   "cell_type": "code",
   "execution_count": 2,
   "metadata": {},
   "outputs": [],
   "source": [
    "#Read modeling data and drop unnecessary columns \n",
    "data = pd.read_csv('modelingdata')\n",
    "data.drop(['Unnamed: 0'], axis=1, inplace=True)"
   ]
  },
  {
   "cell_type": "code",
   "execution_count": 3,
   "metadata": {},
   "outputs": [
    {
     "name": "stdout",
     "output_type": "stream",
     "text": [
      "<class 'pandas.core.frame.DataFrame'>\n",
      "RangeIndex: 7031 entries, 0 to 7030\n",
      "Data columns (total 39 columns):\n",
      "artist              7031 non-null object\n",
      "artist_id           7031 non-null object\n",
      "album               7031 non-null object\n",
      "track_name          7031 non-null object\n",
      "is_explicit         7031 non-null int64\n",
      "track_id            7031 non-null object\n",
      "danceability        7031 non-null float64\n",
      "energy              7031 non-null float64\n",
      "key                 7031 non-null int64\n",
      "loudness            7031 non-null float64\n",
      "mode                7031 non-null int64\n",
      "speechiness         7031 non-null float64\n",
      "acousticness        7031 non-null float64\n",
      "instrumentalness    7031 non-null float64\n",
      "liveness            7031 non-null float64\n",
      "valence             7031 non-null float64\n",
      "tempo               7031 non-null float64\n",
      "duration_ms         7031 non-null int64\n",
      "ratings             7031 non-null int64\n",
      "decade_1960         7031 non-null int64\n",
      "decade_1970         7031 non-null int64\n",
      "decade_1980         7031 non-null int64\n",
      "decade_1990         7031 non-null int64\n",
      "decade_2000         7031 non-null int64\n",
      "decade_2010         7031 non-null int64\n",
      "genrecategory       7031 non-null object\n",
      "genre_acoustic      7031 non-null int64\n",
      "genre_country       7031 non-null int64\n",
      "genre_dance         7031 non-null int64\n",
      "genre_electronic    7031 non-null int64\n",
      "genre_hip hop       7031 non-null int64\n",
      "genre_house         7031 non-null int64\n",
      "genre_indie         7031 non-null int64\n",
      "genre_pop           7031 non-null int64\n",
      "genre_punk          7031 non-null int64\n",
      "genre_r&b           7031 non-null int64\n",
      "genre_rap           7031 non-null int64\n",
      "genre_rock          7031 non-null int64\n",
      "genre_soul          7031 non-null int64\n",
      "dtypes: float64(9), int64(24), object(6)\n",
      "memory usage: 2.1+ MB\n"
     ]
    }
   ],
   "source": [
    "#Look at the info from the dataframe \n",
    "data.info()"
   ]
  },
  {
   "cell_type": "code",
   "execution_count": 4,
   "metadata": {},
   "outputs": [],
   "source": [
    "#Drop columns that are not relevant to classification analysis \n",
    "songs = data.drop(['genrecategory', 'track_id', 'artist_id', 'track_name', 'artist', 'album'], axis=1)"
   ]
  },
  {
   "cell_type": "markdown",
   "metadata": {},
   "source": [
    "## Functions"
   ]
  },
  {
   "cell_type": "code",
   "execution_count": 5,
   "metadata": {},
   "outputs": [],
   "source": [
    "#Define a function that fits and predicts our data \n",
    "\n",
    "def model_fit(trainx, trainy, testx, testy, model, name):  \n",
    "    #Fit X_train and Y_train \n",
    "    model.fit(trainx, trainy)\n",
    "\n",
    "    #Predict on the test set \n",
    "    test_prediction = model.predict(testx)\n",
    "    #Predict on the train set \n",
    "    train_prediction = model.predict(trainx)\n",
    "    \n",
    "    #Create a dictionary of the results starting with the model's name \n",
    "    result = {'model': name}\n",
    "    \n",
    "    #Calculate and append train result metrics to the 'result' dictionary \n",
    "    result['train_accuracy'] = np.around((accuracy_score(trainy, train_prediction)), decimals=3)\n",
    "    result['train_precision'] = np.around((precision_score(trainy, train_prediction, average='micro')), decimals=3)\n",
    "    result['train_recall'] = np.around((recall_score(trainy, train_prediction, average='micro')), decimals=3)\n",
    "    result['train_f1'] = np.around((f1_score(trainy, train_prediction, average='micro')), decimals=3)\n",
    "    \n",
    "    #Calculate and append test result metrics to the 'result' dictionary \n",
    "    result['test_accuracy'] = np.around((accuracy_score(testy, test_prediction)), decimals=3)\n",
    "    result['test_precision'] = np.around((precision_score(testy, test_prediction, average='micro')), decimals=3)\n",
    "    result['test_recall'] = np.around((recall_score(testy, test_prediction, average='micro')), decimals=3)\n",
    "    result['test_f1'] = np.around((f1_score(testy, test_prediction, average='micro')), decimals=3)\n",
    "    \n",
    "    print(\"\\n\")\n",
    "    \n",
    "    #Print the classification report for the train results \n",
    "    print(\"Train Score Results\")\n",
    "    print(classification_report(trainy, train_prediction))\n",
    "    #Print the accuracy, precision, recall and f1 score for train set \n",
    "    print(\"Train Set Accuracy:\", result['train_accuracy'])\n",
    "    print(\"Train Set Precision:\", result['train_precision'])\n",
    "    print(\"Train Set Recall:\", result['train_recall'])\n",
    "    print(\"Train Set F1-Score:\", result['train_f1'])\n",
    "\n",
    "    print(\"\\n\")\n",
    "    \n",
    "    #Print the classification report for the test results\n",
    "    print(\"Test Score Results\")    \n",
    "    print(classification_report(testy, test_prediction)) \n",
    "    #Print the accuracy, precision, recall and f1 score for test set                                   \n",
    "    print(\"Test Set Accuracy:\", result['test_accuracy'])  \n",
    "    print(\"Test Set Precision:\", result['test_precision']) \n",
    "    print(\"Test Set Recall:\", result['test_recall'])\n",
    "    print(\"Test Set F1-Score:\", result['test_f1'])\n",
    "                                      \n",
    "    \n",
    "    print(\"\\n\")\n",
    "    \n",
    "   \n",
    "    fig, (ax1, ax2) = plt.subplots(ncols=2, sharey=True)\n",
    "    #Plot the train confusion matrix \n",
    "    trainmatrix = plot_confusion_matrix(model, trainx, trainy, cmap=plt.cm.Blues, ax=ax1)\n",
    "    #Plot the test confusion matrix \n",
    "    testmatrix = plot_confusion_matrix(model, testx, testy, cmap=plt.cm.Blues, ax=ax2)\n",
    "    #Set titles for the plot \n",
    "    ax1.set_title('Train Confusion Matrix')\n",
    "    ax2.set_title('Test Confusion Matrix')\n",
    "    plt.tight_layout()\n",
    "    plt.show()\n",
    "    \n",
    "    return result"
   ]
  },
  {
   "cell_type": "code",
   "execution_count": 6,
   "metadata": {},
   "outputs": [],
   "source": [
    "#Create function for plotting a feature importance histogram \n",
    "def features_plot(df, title):\n",
    "    df.columns = ['feature', 'feature_importance']\n",
    "    sns.barplot(x = 'feature_importance', y = 'feature', data = df, orient = 'h', color = 'blue') \\\n",
    "       .set_title(title, fontsize = 20)"
   ]
  },
  {
   "cell_type": "code",
   "execution_count": 7,
   "metadata": {},
   "outputs": [],
   "source": [
    "#Create function for creating a feature importance dataframe\n",
    "def features_df(column_names, importances):\n",
    "    df = pd.DataFrame({'feature': column_names,\n",
    "                       'feature_importance': importances}) \\\n",
    "           .sort_values('feature_importance', ascending = False) \\\n",
    "           .reset_index(drop = True)\n",
    "    return df"
   ]
  },
  {
   "cell_type": "markdown",
   "metadata": {},
   "source": [
    "## Train Test Split"
   ]
  },
  {
   "cell_type": "code",
   "execution_count": 8,
   "metadata": {},
   "outputs": [
    {
     "data": {
      "text/plain": [
       "3    2659\n",
       "2    1898\n",
       "4    1325\n",
       "1     891\n",
       "5     258\n",
       "Name: ratings, dtype: int64"
      ]
     },
     "execution_count": 8,
     "metadata": {},
     "output_type": "execute_result"
    }
   ],
   "source": [
    "#Explore the class distribution of the target variable \"ratings\"\n",
    "songs['ratings'].value_counts()"
   ]
  },
  {
   "cell_type": "code",
   "execution_count": 9,
   "metadata": {},
   "outputs": [],
   "source": [
    "#Set X and y values \n",
    "y = songs['ratings']\n",
    "X = songs.drop(['ratings'], axis=1)"
   ]
  },
  {
   "cell_type": "code",
   "execution_count": 10,
   "metadata": {},
   "outputs": [
    {
     "data": {
      "text/plain": [
       "3    0.378182\n",
       "2    0.269947\n",
       "4    0.188451\n",
       "1    0.126725\n",
       "5    0.036695\n",
       "Name: ratings, dtype: float64"
      ]
     },
     "execution_count": 10,
     "metadata": {},
     "output_type": "execute_result"
    }
   ],
   "source": [
    "#Investigate the value counts of our target variable \n",
    "y.value_counts(normalize=True)"
   ]
  },
  {
   "cell_type": "code",
   "execution_count": 11,
   "metadata": {},
   "outputs": [],
   "source": [
    "#Perform train test split \n",
    "X_train, X_test, y_train, y_test = train_test_split(X, y, random_state=42)"
   ]
  },
  {
   "cell_type": "markdown",
   "metadata": {},
   "source": [
    "## Section A: Vanilla Models"
   ]
  },
  {
   "cell_type": "markdown",
   "metadata": {},
   "source": [
    "Before I tune any models, I will perform basic vanilla models on serveral machine learning models in order to determine which perform the best. The aim of these models is to optimize precision in order to ensure that each classification is classified properly; therefore I will later decide which models to tune further, depending on which vanilla models yield the strongest test_precision results."
   ]
  },
  {
   "cell_type": "markdown",
   "metadata": {},
   "source": [
    "### 1. KNN Model"
   ]
  },
  {
   "cell_type": "code",
   "execution_count": 12,
   "metadata": {},
   "outputs": [],
   "source": [
    "#Scale the data\n",
    "scaler = StandardScaler()  \n",
    "scaler.fit(X_train)\n",
    "\n",
    "#Scale original X_train and X_test\n",
    "X_train_scaled = scaler.transform(X_train)  \n",
    "X_test_scaled = scaler.transform(X_test)"
   ]
  },
  {
   "cell_type": "code",
   "execution_count": 13,
   "metadata": {},
   "outputs": [],
   "source": [
    "#Fit and predict the vanilla KNN model\n",
    "knnmodel = KNeighborsClassifier()"
   ]
  },
  {
   "cell_type": "code",
   "execution_count": 14,
   "metadata": {},
   "outputs": [
    {
     "name": "stdout",
     "output_type": "stream",
     "text": [
      "\n",
      "\n",
      "Train Score Results\n",
      "              precision    recall  f1-score   support\n",
      "\n",
      "           1       0.48      0.47      0.48       667\n",
      "           2       0.53      0.64      0.58      1413\n",
      "           3       0.59      0.66      0.62      1991\n",
      "           4       0.59      0.39      0.47      1009\n",
      "           5       0.42      0.06      0.10       193\n",
      "\n",
      "    accuracy                           0.56      5273\n",
      "   macro avg       0.52      0.44      0.45      5273\n",
      "weighted avg       0.55      0.56      0.54      5273\n",
      "\n",
      "Train Set Accuracy: 0.556\n",
      "Train Set Precision: 0.556\n",
      "Train Set Recall: 0.556\n",
      "Train Set F1-Score: 0.556\n",
      "\n",
      "\n",
      "Test Score Results\n",
      "              precision    recall  f1-score   support\n",
      "\n",
      "           1       0.19      0.18      0.19       224\n",
      "           2       0.34      0.40      0.37       485\n",
      "           3       0.40      0.44      0.42       668\n",
      "           4       0.32      0.22      0.26       316\n",
      "           5       0.00      0.00      0.00        65\n",
      "\n",
      "    accuracy                           0.34      1758\n",
      "   macro avg       0.25      0.25      0.25      1758\n",
      "weighted avg       0.33      0.34      0.33      1758\n",
      "\n",
      "Test Set Accuracy: 0.342\n",
      "Test Set Precision: 0.342\n",
      "Test Set Recall: 0.342\n",
      "Test Set F1-Score: 0.342\n",
      "\n",
      "\n"
     ]
    },
    {
     "data": {
      "image/png": "[encoded data removed]",
      "text/plain": [
       "<Figure size 432x288 with 4 Axes>"
      ]
     },
     "metadata": {
      "needs_background": "light"
     },
     "output_type": "display_data"
    }
   ],
   "source": [
    "#Apply the model and print metrics\n",
    "knnresult = model_fit(X_train_scaled, y_train, X_test_scaled, y_test, knnmodel, 'knn')"
   ]
  },
  {
   "cell_type": "markdown",
   "metadata": {},
   "source": [
    "### 2. Bayes Classification Model"
   ]
  },
  {
   "cell_type": "code",
   "execution_count": 15,
   "metadata": {},
   "outputs": [],
   "source": [
    "#Instansiate the vanilla bayes model\n",
    "bayes = GaussianNB()"
   ]
  },
  {
   "cell_type": "code",
   "execution_count": 16,
   "metadata": {},
   "outputs": [
    {
     "name": "stdout",
     "output_type": "stream",
     "text": [
      "\n",
      "\n",
      "Train Score Results\n",
      "              precision    recall  f1-score   support\n",
      "\n",
      "           1       0.00      0.00      0.00       667\n",
      "           2       0.33      0.00      0.01      1413\n",
      "           3       0.38      0.98      0.55      1991\n",
      "           4       0.27      0.02      0.04      1009\n",
      "           5       0.00      0.00      0.00       193\n",
      "\n",
      "    accuracy                           0.38      5273\n",
      "   macro avg       0.20      0.20      0.12      5273\n",
      "weighted avg       0.28      0.38      0.21      5273\n",
      "\n",
      "Train Set Accuracy: 0.376\n",
      "Train Set Precision: 0.376\n",
      "Train Set Recall: 0.376\n",
      "Train Set F1-Score: 0.376\n",
      "\n",
      "\n",
      "Test Score Results\n",
      "              precision    recall  f1-score   support\n",
      "\n",
      "           1       0.00      0.00      0.00       224\n",
      "           2       0.25      0.00      0.00       485\n",
      "           3       0.38      0.98      0.54       668\n",
      "           4       0.24      0.02      0.03       316\n",
      "           5       0.00      0.00      0.00        65\n",
      "\n",
      "    accuracy                           0.38      1758\n",
      "   macro avg       0.17      0.20      0.12      1758\n",
      "weighted avg       0.26      0.38      0.21      1758\n",
      "\n",
      "Test Set Accuracy: 0.375\n",
      "Test Set Precision: 0.375\n",
      "Test Set Recall: 0.375\n",
      "Test Set F1-Score: 0.375\n",
      "\n",
      "\n"
     ]
    },
    {
     "data": {
      "image/png": "[encoded data removed]",
      "text/plain": [
       "<Figure size 432x288 with 4 Axes>"
      ]
     },
     "metadata": {
      "needs_background": "light"
     },
     "output_type": "display_data"
    }
   ],
   "source": [
    "#Apply the model_fit function\n",
    "bayesresult = model_fit(X_train, y_train, X_test, y_test, bayes, 'bayes')"
   ]
  },
  {
   "cell_type": "markdown",
   "metadata": {},
   "source": [
    "### 3. Decision Tree Classifier"
   ]
  },
  {
   "cell_type": "code",
   "execution_count": 17,
   "metadata": {},
   "outputs": [],
   "source": [
    "#Instansiate the vanilla decision tree model \n",
    "decisiontree = DecisionTreeClassifier(random_state=42)"
   ]
  },
  {
   "cell_type": "code",
   "execution_count": 18,
   "metadata": {},
   "outputs": [
    {
     "name": "stdout",
     "output_type": "stream",
     "text": [
      "\n",
      "\n",
      "Train Score Results\n",
      "              precision    recall  f1-score   support\n",
      "\n",
      "           1       0.99      1.00      0.99       667\n",
      "           2       0.99      1.00      1.00      1413\n",
      "           3       1.00      0.99      1.00      1991\n",
      "           4       1.00      0.99      1.00      1009\n",
      "           5       1.00      0.98      0.99       193\n",
      "\n",
      "    accuracy                           1.00      5273\n",
      "   macro avg       1.00      0.99      0.99      5273\n",
      "weighted avg       1.00      1.00      1.00      5273\n",
      "\n",
      "Train Set Accuracy: 0.995\n",
      "Train Set Precision: 0.995\n",
      "Train Set Recall: 0.995\n",
      "Train Set F1-Score: 0.995\n",
      "\n",
      "\n",
      "Test Score Results\n",
      "              precision    recall  f1-score   support\n",
      "\n",
      "           1       0.14      0.13      0.14       224\n",
      "           2       0.37      0.37      0.37       485\n",
      "           3       0.42      0.39      0.40       668\n",
      "           4       0.25      0.28      0.26       316\n",
      "           5       0.06      0.08      0.07        65\n",
      "\n",
      "    accuracy                           0.32      1758\n",
      "   macro avg       0.25      0.25      0.25      1758\n",
      "weighted avg       0.32      0.32      0.32      1758\n",
      "\n",
      "Test Set Accuracy: 0.32\n",
      "Test Set Precision: 0.32\n",
      "Test Set Recall: 0.32\n",
      "Test Set F1-Score: 0.32\n",
      "\n",
      "\n"
     ]
    },
    {
     "data": {
      "image/png": "[encoded data removed]",
      "text/plain": [
       "<Figure size 432x288 with 4 Axes>"
      ]
     },
     "metadata": {
      "needs_background": "light"
     },
     "output_type": "display_data"
    }
   ],
   "source": [
    "#Apply the model fit function \n",
    "decisiontreeresult = model_fit(X_train, y_train, X_test, y_test, decisiontree, 'decisiontree')"
   ]
  },
  {
   "cell_type": "code",
   "execution_count": 19,
   "metadata": {},
   "outputs": [
    {
     "data": {
      "text/html": [
       "<div>\n",
       "<style scoped>\n",
       "    .dataframe tbody tr th:only-of-type {\n",
       "        vertical-align: middle;\n",
       "    }\n",
       "\n",
       "    .dataframe tbody tr th {\n",
       "        vertical-align: top;\n",
       "    }\n",
       "\n",
       "    .dataframe thead th {\n",
       "        text-align: right;\n",
       "    }\n",
       "</style>\n",
       "<table border=\"1\" class=\"dataframe\">\n",
       "  <thead>\n",
       "    <tr style=\"text-align: right;\">\n",
       "      <th></th>\n",
       "      <th>feature</th>\n",
       "      <th>feature_importance</th>\n",
       "    </tr>\n",
       "  </thead>\n",
       "  <tbody>\n",
       "    <tr>\n",
       "      <th>0</th>\n",
       "      <td>liveness</td>\n",
       "      <td>0.097675</td>\n",
       "    </tr>\n",
       "    <tr>\n",
       "      <th>1</th>\n",
       "      <td>speechiness</td>\n",
       "      <td>0.096575</td>\n",
       "    </tr>\n",
       "    <tr>\n",
       "      <th>2</th>\n",
       "      <td>valence</td>\n",
       "      <td>0.094611</td>\n",
       "    </tr>\n",
       "    <tr>\n",
       "      <th>3</th>\n",
       "      <td>duration_ms</td>\n",
       "      <td>0.093643</td>\n",
       "    </tr>\n",
       "    <tr>\n",
       "      <th>4</th>\n",
       "      <td>tempo</td>\n",
       "      <td>0.090589</td>\n",
       "    </tr>\n",
       "    <tr>\n",
       "      <th>5</th>\n",
       "      <td>danceability</td>\n",
       "      <td>0.080370</td>\n",
       "    </tr>\n",
       "    <tr>\n",
       "      <th>6</th>\n",
       "      <td>loudness</td>\n",
       "      <td>0.080268</td>\n",
       "    </tr>\n",
       "    <tr>\n",
       "      <th>7</th>\n",
       "      <td>energy</td>\n",
       "      <td>0.075454</td>\n",
       "    </tr>\n",
       "    <tr>\n",
       "      <th>8</th>\n",
       "      <td>acousticness</td>\n",
       "      <td>0.067648</td>\n",
       "    </tr>\n",
       "    <tr>\n",
       "      <th>9</th>\n",
       "      <td>instrumentalness</td>\n",
       "      <td>0.063885</td>\n",
       "    </tr>\n",
       "    <tr>\n",
       "      <th>10</th>\n",
       "      <td>key</td>\n",
       "      <td>0.054804</td>\n",
       "    </tr>\n",
       "    <tr>\n",
       "      <th>11</th>\n",
       "      <td>decade_2010</td>\n",
       "      <td>0.020102</td>\n",
       "    </tr>\n",
       "    <tr>\n",
       "      <th>12</th>\n",
       "      <td>mode</td>\n",
       "      <td>0.011171</td>\n",
       "    </tr>\n",
       "    <tr>\n",
       "      <th>13</th>\n",
       "      <td>genre_dance</td>\n",
       "      <td>0.009938</td>\n",
       "    </tr>\n",
       "    <tr>\n",
       "      <th>14</th>\n",
       "      <td>is_explicit</td>\n",
       "      <td>0.009175</td>\n",
       "    </tr>\n",
       "    <tr>\n",
       "      <th>15</th>\n",
       "      <td>genre_rock</td>\n",
       "      <td>0.008484</td>\n",
       "    </tr>\n",
       "    <tr>\n",
       "      <th>16</th>\n",
       "      <td>genre_pop</td>\n",
       "      <td>0.007270</td>\n",
       "    </tr>\n",
       "    <tr>\n",
       "      <th>17</th>\n",
       "      <td>genre_punk</td>\n",
       "      <td>0.005329</td>\n",
       "    </tr>\n",
       "    <tr>\n",
       "      <th>18</th>\n",
       "      <td>genre_indie</td>\n",
       "      <td>0.005017</td>\n",
       "    </tr>\n",
       "    <tr>\n",
       "      <th>19</th>\n",
       "      <td>genre_electronic</td>\n",
       "      <td>0.004219</td>\n",
       "    </tr>\n",
       "    <tr>\n",
       "      <th>20</th>\n",
       "      <td>genre_hip hop</td>\n",
       "      <td>0.003758</td>\n",
       "    </tr>\n",
       "    <tr>\n",
       "      <th>21</th>\n",
       "      <td>genre_r&amp;b</td>\n",
       "      <td>0.003242</td>\n",
       "    </tr>\n",
       "    <tr>\n",
       "      <th>22</th>\n",
       "      <td>decade_2000</td>\n",
       "      <td>0.003148</td>\n",
       "    </tr>\n",
       "    <tr>\n",
       "      <th>23</th>\n",
       "      <td>genre_country</td>\n",
       "      <td>0.002656</td>\n",
       "    </tr>\n",
       "    <tr>\n",
       "      <th>24</th>\n",
       "      <td>decade_1990</td>\n",
       "      <td>0.002450</td>\n",
       "    </tr>\n",
       "    <tr>\n",
       "      <th>25</th>\n",
       "      <td>genre_acoustic</td>\n",
       "      <td>0.001934</td>\n",
       "    </tr>\n",
       "    <tr>\n",
       "      <th>26</th>\n",
       "      <td>decade_1980</td>\n",
       "      <td>0.001886</td>\n",
       "    </tr>\n",
       "    <tr>\n",
       "      <th>27</th>\n",
       "      <td>genre_soul</td>\n",
       "      <td>0.001631</td>\n",
       "    </tr>\n",
       "    <tr>\n",
       "      <th>28</th>\n",
       "      <td>decade_1960</td>\n",
       "      <td>0.000948</td>\n",
       "    </tr>\n",
       "    <tr>\n",
       "      <th>29</th>\n",
       "      <td>decade_1970</td>\n",
       "      <td>0.000897</td>\n",
       "    </tr>\n",
       "    <tr>\n",
       "      <th>30</th>\n",
       "      <td>genre_rap</td>\n",
       "      <td>0.000791</td>\n",
       "    </tr>\n",
       "    <tr>\n",
       "      <th>31</th>\n",
       "      <td>genre_house</td>\n",
       "      <td>0.000432</td>\n",
       "    </tr>\n",
       "  </tbody>\n",
       "</table>\n",
       "</div>"
      ],
      "text/plain": [
       "             feature  feature_importance\n",
       "0           liveness            0.097675\n",
       "1        speechiness            0.096575\n",
       "2            valence            0.094611\n",
       "3        duration_ms            0.093643\n",
       "4              tempo            0.090589\n",
       "5       danceability            0.080370\n",
       "6           loudness            0.080268\n",
       "7             energy            0.075454\n",
       "8       acousticness            0.067648\n",
       "9   instrumentalness            0.063885\n",
       "10               key            0.054804\n",
       "11       decade_2010            0.020102\n",
       "12              mode            0.011171\n",
       "13       genre_dance            0.009938\n",
       "14       is_explicit            0.009175\n",
       "15        genre_rock            0.008484\n",
       "16         genre_pop            0.007270\n",
       "17        genre_punk            0.005329\n",
       "18       genre_indie            0.005017\n",
       "19  genre_electronic            0.004219\n",
       "20     genre_hip hop            0.003758\n",
       "21         genre_r&b            0.003242\n",
       "22       decade_2000            0.003148\n",
       "23     genre_country            0.002656\n",
       "24       decade_1990            0.002450\n",
       "25    genre_acoustic            0.001934\n",
       "26       decade_1980            0.001886\n",
       "27        genre_soul            0.001631\n",
       "28       decade_1960            0.000948\n",
       "29       decade_1970            0.000897\n",
       "30         genre_rap            0.000791\n",
       "31       genre_house            0.000432"
      ]
     },
     "execution_count": 19,
     "metadata": {},
     "output_type": "execute_result"
    }
   ],
   "source": [
    "#Look at feature importances of our decision tree \n",
    "features = features_df(X_train.columns, decisiontree.feature_importances_)\n",
    "features"
   ]
  },
  {
   "cell_type": "markdown",
   "metadata": {},
   "source": [
    "### 4. Ensemble Methods"
   ]
  },
  {
   "cell_type": "markdown",
   "metadata": {},
   "source": [
    "#### a. Bagging Method"
   ]
  },
  {
   "cell_type": "code",
   "execution_count": 20,
   "metadata": {},
   "outputs": [],
   "source": [
    "#Instansiate the bagged method vanilla model\n",
    "bagged_tree = BaggingClassifier(DecisionTreeClassifier(random_state=42), n_estimators=20)"
   ]
  },
  {
   "cell_type": "code",
   "execution_count": 21,
   "metadata": {},
   "outputs": [
    {
     "name": "stdout",
     "output_type": "stream",
     "text": [
      "\n",
      "\n",
      "Train Score Results\n",
      "              precision    recall  f1-score   support\n",
      "\n",
      "           1       0.99      0.99      0.99       667\n",
      "           2       0.99      1.00      0.99      1413\n",
      "           3       0.99      0.99      0.99      1991\n",
      "           4       1.00      0.99      0.99      1009\n",
      "           5       0.99      0.98      0.99       193\n",
      "\n",
      "    accuracy                           0.99      5273\n",
      "   macro avg       0.99      0.99      0.99      5273\n",
      "weighted avg       0.99      0.99      0.99      5273\n",
      "\n",
      "Train Set Accuracy: 0.994\n",
      "Train Set Precision: 0.994\n",
      "Train Set Recall: 0.994\n",
      "Train Set F1-Score: 0.994\n",
      "\n",
      "\n",
      "Test Score Results\n",
      "              precision    recall  f1-score   support\n",
      "\n",
      "           1       0.14      0.06      0.08       224\n",
      "           2       0.35      0.37      0.36       485\n",
      "           3       0.41      0.56      0.47       668\n",
      "           4       0.38      0.27      0.31       316\n",
      "           5       0.14      0.02      0.03        65\n",
      "\n",
      "    accuracy                           0.37      1758\n",
      "   macro avg       0.28      0.25      0.25      1758\n",
      "weighted avg       0.34      0.37      0.35      1758\n",
      "\n",
      "Test Set Accuracy: 0.37\n",
      "Test Set Precision: 0.37\n",
      "Test Set Recall: 0.37\n",
      "Test Set F1-Score: 0.37\n",
      "\n",
      "\n"
     ]
    },
    {
     "data": {
      "image/png": "[encoded data removed]",
      "text/plain": [
       "<Figure size 432x288 with 4 Axes>"
      ]
     },
     "metadata": {
      "needs_background": "light"
     },
     "output_type": "display_data"
    }
   ],
   "source": [
    "#Apply the model prediction\n",
    "baggingresult = model_fit(X_train, y_train, X_test, y_test, bagged_tree, 'bagging')"
   ]
  },
  {
   "cell_type": "markdown",
   "metadata": {},
   "source": [
    "#### b. Random Forest Classifier"
   ]
  },
  {
   "cell_type": "code",
   "execution_count": 22,
   "metadata": {},
   "outputs": [],
   "source": [
    "#Instansiate the random forest vanilla model \n",
    "randomforest = RandomForestClassifier(random_state=42)"
   ]
  },
  {
   "cell_type": "code",
   "execution_count": 23,
   "metadata": {},
   "outputs": [
    {
     "name": "stdout",
     "output_type": "stream",
     "text": [
      "\n",
      "\n",
      "Train Score Results\n",
      "              precision    recall  f1-score   support\n",
      "\n",
      "           1       0.99      0.99      0.99       667\n",
      "           2       1.00      1.00      1.00      1413\n",
      "           3       0.99      1.00      1.00      1991\n",
      "           4       1.00      1.00      1.00      1009\n",
      "           5       1.00      0.98      0.99       193\n",
      "\n",
      "    accuracy                           1.00      5273\n",
      "   macro avg       1.00      0.99      0.99      5273\n",
      "weighted avg       1.00      1.00      1.00      5273\n",
      "\n",
      "Train Set Accuracy: 0.995\n",
      "Train Set Precision: 0.995\n",
      "Train Set Recall: 0.995\n",
      "Train Set F1-Score: 0.995\n",
      "\n",
      "\n",
      "Test Score Results\n",
      "              precision    recall  f1-score   support\n",
      "\n",
      "           1       0.25      0.03      0.05       224\n",
      "           2       0.40      0.38      0.39       485\n",
      "           3       0.41      0.67      0.51       668\n",
      "           4       0.39      0.24      0.30       316\n",
      "           5       0.17      0.02      0.03        65\n",
      "\n",
      "    accuracy                           0.41      1758\n",
      "   macro avg       0.32      0.27      0.26      1758\n",
      "weighted avg       0.38      0.41      0.36      1758\n",
      "\n",
      "Test Set Accuracy: 0.405\n",
      "Test Set Precision: 0.405\n",
      "Test Set Recall: 0.405\n",
      "Test Set F1-Score: 0.405\n",
      "\n",
      "\n"
     ]
    },
    {
     "data": {
      "image/png": "[encoded data removed]",
      "text/plain": [
       "<Figure size 432x288 with 4 Axes>"
      ]
     },
     "metadata": {
      "needs_background": "light"
     },
     "output_type": "display_data"
    }
   ],
   "source": [
    "#Apply the model_fit function \n",
    "randomforestresult = model_fit(X_train, y_train, X_test, y_test, randomforest, 'randomforest')"
   ]
  },
  {
   "cell_type": "code",
   "execution_count": 24,
   "metadata": {},
   "outputs": [
    {
     "data": {
      "text/plain": [
       "0.4039459476142777"
      ]
     },
     "execution_count": 24,
     "metadata": {},
     "output_type": "execute_result"
    }
   ],
   "source": [
    "#Look at another performance measure: mean 3-Fold cross validation score \n",
    "mean_rf_cv_score = np.mean(cross_val_score(randomforest, X_train, y_train, cv=3))\n",
    "mean_rf_cv_score"
   ]
  },
  {
   "cell_type": "markdown",
   "metadata": {},
   "source": [
    "## 5. Boosting"
   ]
  },
  {
   "cell_type": "markdown",
   "metadata": {},
   "source": [
    "### a. Adaboost"
   ]
  },
  {
   "cell_type": "code",
   "execution_count": 25,
   "metadata": {},
   "outputs": [],
   "source": [
    "#Instansiate the Adaboost vanilla model\n",
    "adb = AdaBoostClassifier(random_state=0)"
   ]
  },
  {
   "cell_type": "code",
   "execution_count": 26,
   "metadata": {},
   "outputs": [
    {
     "name": "stdout",
     "output_type": "stream",
     "text": [
      "\n",
      "\n",
      "Train Score Results\n",
      "              precision    recall  f1-score   support\n",
      "\n",
      "           1       0.32      0.03      0.06       667\n",
      "           2       0.41      0.21      0.28      1413\n",
      "           3       0.40      0.80      0.53      1991\n",
      "           4       0.47      0.23      0.31      1009\n",
      "           5       0.13      0.02      0.04       193\n",
      "\n",
      "    accuracy                           0.41      5273\n",
      "   macro avg       0.35      0.26      0.24      5273\n",
      "weighted avg       0.40      0.41      0.35      5273\n",
      "\n",
      "Train Set Accuracy: 0.407\n",
      "Train Set Precision: 0.407\n",
      "Train Set Recall: 0.407\n",
      "Train Set F1-Score: 0.407\n",
      "\n",
      "\n",
      "Test Score Results\n",
      "              precision    recall  f1-score   support\n",
      "\n",
      "           1       0.25      0.02      0.03       224\n",
      "           2       0.43      0.24      0.30       485\n",
      "           3       0.40      0.77      0.52       668\n",
      "           4       0.41      0.20      0.27       316\n",
      "           5       0.00      0.00      0.00        65\n",
      "\n",
      "    accuracy                           0.40      1758\n",
      "   macro avg       0.30      0.25      0.23      1758\n",
      "weighted avg       0.37      0.40      0.34      1758\n",
      "\n",
      "Test Set Accuracy: 0.398\n",
      "Test Set Precision: 0.398\n",
      "Test Set Recall: 0.398\n",
      "Test Set F1-Score: 0.398\n",
      "\n",
      "\n"
     ]
    },
    {
     "data": {
      "image/png": "[encoded data removed]",
      "text/plain": [
       "<Figure size 432x288 with 4 Axes>"
      ]
     },
     "metadata": {
      "needs_background": "light"
     },
     "output_type": "display_data"
    }
   ],
   "source": [
    "#Fit and predict model and show results\n",
    "adbresult = model_fit(X_train, y_train, X_test, y_test, adb, 'Adaboost')"
   ]
  },
  {
   "cell_type": "code",
   "execution_count": 27,
   "metadata": {},
   "outputs": [
    {
     "name": "stdout",
     "output_type": "stream",
     "text": [
      "\n",
      "\n",
      "Train Score Results\n",
      "              precision    recall  f1-score   support\n",
      "\n",
      "           1       0.32      0.03      0.06       667\n",
      "           2       0.41      0.21      0.28      1413\n",
      "           3       0.40      0.80      0.53      1991\n",
      "           4       0.47      0.23      0.31      1009\n",
      "           5       0.13      0.02      0.04       193\n",
      "\n",
      "    accuracy                           0.41      5273\n",
      "   macro avg       0.35      0.26      0.24      5273\n",
      "weighted avg       0.40      0.41      0.35      5273\n",
      "\n",
      "Train Set Accuracy: 0.407\n",
      "Train Set Precision: 0.407\n",
      "Train Set Recall: 0.407\n",
      "Train Set F1-Score: 0.407\n",
      "\n",
      "\n",
      "Test Score Results\n",
      "              precision    recall  f1-score   support\n",
      "\n",
      "           1       0.25      0.02      0.03       224\n",
      "           2       0.43      0.24      0.30       485\n",
      "           3       0.40      0.77      0.52       668\n",
      "           4       0.41      0.20      0.27       316\n",
      "           5       0.00      0.00      0.00        65\n",
      "\n",
      "    accuracy                           0.40      1758\n",
      "   macro avg       0.30      0.25      0.23      1758\n",
      "weighted avg       0.37      0.40      0.34      1758\n",
      "\n",
      "Test Set Accuracy: 0.398\n",
      "Test Set Precision: 0.398\n",
      "Test Set Recall: 0.398\n",
      "Test Set F1-Score: 0.398\n",
      "\n",
      "\n"
     ]
    },
    {
     "data": {
      "image/png": "[encoded data removed]",
      "text/plain": [
       "<Figure size 432x288 with 4 Axes>"
      ]
     },
     "metadata": {
      "needs_background": "light"
     },
     "output_type": "display_data"
    }
   ],
   "source": [
    "#Fit and predict model and show results\n",
    "adbresult = model_fit(X_train, y_train, X_test, y_test, adb, 'Adaboost')"
   ]
  },
  {
   "cell_type": "markdown",
   "metadata": {},
   "source": [
    "### b. Gradient Boosting"
   ]
  },
  {
   "cell_type": "code",
   "execution_count": 28,
   "metadata": {},
   "outputs": [],
   "source": [
    "#Instansiate the Gradient Boosting vanilla model\n",
    "gb = GradientBoostingClassifier(random_state=42)"
   ]
  },
  {
   "cell_type": "code",
   "execution_count": 29,
   "metadata": {},
   "outputs": [
    {
     "name": "stdout",
     "output_type": "stream",
     "text": [
      "\n",
      "\n",
      "Train Score Results\n",
      "              precision    recall  f1-score   support\n",
      "\n",
      "           1       0.93      0.13      0.23       667\n",
      "           2       0.62      0.45      0.52      1413\n",
      "           3       0.49      0.87      0.63      1991\n",
      "           4       0.74      0.37      0.49      1009\n",
      "           5       1.00      0.31      0.47       193\n",
      "\n",
      "    accuracy                           0.55      5273\n",
      "   macro avg       0.75      0.43      0.47      5273\n",
      "weighted avg       0.65      0.55      0.52      5273\n",
      "\n",
      "Train Set Accuracy: 0.551\n",
      "Train Set Precision: 0.551\n",
      "Train Set Recall: 0.551\n",
      "Train Set F1-Score: 0.551\n",
      "\n",
      "\n",
      "Test Score Results\n",
      "              precision    recall  f1-score   support\n",
      "\n",
      "           1       0.17      0.02      0.03       224\n",
      "           2       0.43      0.30      0.36       485\n",
      "           3       0.40      0.74      0.52       668\n",
      "           4       0.39      0.21      0.27       316\n",
      "           5       0.00      0.00      0.00        65\n",
      "\n",
      "    accuracy                           0.40      1758\n",
      "   macro avg       0.28      0.25      0.24      1758\n",
      "weighted avg       0.37      0.40      0.35      1758\n",
      "\n",
      "Test Set Accuracy: 0.404\n",
      "Test Set Precision: 0.404\n",
      "Test Set Recall: 0.404\n",
      "Test Set F1-Score: 0.404\n",
      "\n",
      "\n"
     ]
    },
    {
     "data": {
      "image/png": "[encoded data removed]",
      "text/plain": [
       "<Figure size 432x288 with 4 Axes>"
      ]
     },
     "metadata": {
      "needs_background": "light"
     },
     "output_type": "display_data"
    }
   ],
   "source": [
    "#Fit and predict model and show results\n",
    "gbresult = model_fit(X_train, y_train, X_test, y_test, gb, 'Gradient_Boosting')"
   ]
  },
  {
   "cell_type": "code",
   "execution_count": 30,
   "metadata": {},
   "outputs": [
    {
     "name": "stdout",
     "output_type": "stream",
     "text": [
      "Mean Adaboost Cross-Val Score (k=3):  36.41%\n"
     ]
    }
   ],
   "source": [
    "#Look at another performance measure: mean 3-Fold cross validation score \n",
    "gb_mean_cv = cross_val_score(gb, X, y, cv=3).mean()\n",
    "\n",
    "print(f\"Mean Adaboost Cross-Val Score (k=3): {gb_mean_cv: .2%}\")"
   ]
  },
  {
   "cell_type": "markdown",
   "metadata": {},
   "source": [
    "### c. XGBoost"
   ]
  },
  {
   "cell_type": "code",
   "execution_count": 31,
   "metadata": {},
   "outputs": [],
   "source": [
    "#Instansiate the XGBoost vanilla model\n",
    "xgb = XGBClassifier(random_state=0)"
   ]
  },
  {
   "cell_type": "code",
   "execution_count": 32,
   "metadata": {},
   "outputs": [
    {
     "name": "stdout",
     "output_type": "stream",
     "text": [
      "\n",
      "\n",
      "Train Score Results\n",
      "              precision    recall  f1-score   support\n",
      "\n",
      "           1       1.00      0.04      0.08       667\n",
      "           2       0.57      0.37      0.45      1413\n",
      "           3       0.45      0.87      0.59      1991\n",
      "           4       0.65      0.30      0.41      1009\n",
      "           5       1.00      0.03      0.05       193\n",
      "\n",
      "    accuracy                           0.49      5273\n",
      "   macro avg       0.73      0.32      0.31      5273\n",
      "weighted avg       0.61      0.49      0.43      5273\n",
      "\n",
      "Train Set Accuracy: 0.49\n",
      "Train Set Precision: 0.49\n",
      "Train Set Recall: 0.49\n",
      "Train Set F1-Score: 0.49\n",
      "\n",
      "\n",
      "Test Score Results\n",
      "              precision    recall  f1-score   support\n",
      "\n",
      "           1       0.00      0.00      0.00       224\n",
      "           2       0.44      0.27      0.34       485\n",
      "           3       0.40      0.79      0.53       668\n",
      "           4       0.43      0.18      0.25       316\n",
      "           5       0.00      0.00      0.00        65\n",
      "\n",
      "    accuracy                           0.41      1758\n",
      "   macro avg       0.25      0.25      0.22      1758\n",
      "weighted avg       0.35      0.41      0.34      1758\n",
      "\n",
      "Test Set Accuracy: 0.407\n",
      "Test Set Precision: 0.407\n",
      "Test Set Recall: 0.407\n",
      "Test Set F1-Score: 0.407\n",
      "\n",
      "\n"
     ]
    },
    {
     "data": {
      "image/png": "[encoded data removed]",
      "text/plain": [
       "<Figure size 432x288 with 4 Axes>"
      ]
     },
     "metadata": {
      "needs_background": "light"
     },
     "output_type": "display_data"
    }
   ],
   "source": [
    "#Fit and predict model and show results\n",
    "xgbresult = model_fit(X_train, y_train, X_test, y_test, xgb, 'XGBoost')"
   ]
  },
  {
   "cell_type": "code",
   "execution_count": 33,
   "metadata": {},
   "outputs": [
    {
     "name": "stdout",
     "output_type": "stream",
     "text": [
      "Mean XGboost Cross-Val Score (k=3):  36.96%\n"
     ]
    }
   ],
   "source": [
    "#Investigate XGB cross validation score \n",
    "xgb_mean_cv = cross_val_score(xgb, X, y, cv=3).mean()\n",
    "\n",
    "print(f\"Mean XGboost Cross-Val Score (k=3): {xgb_mean_cv: .2%}\")"
   ]
  },
  {
   "cell_type": "code",
   "execution_count": 34,
   "metadata": {},
   "outputs": [
    {
     "data": {
      "text/html": [
       "<div>\n",
       "<style scoped>\n",
       "    .dataframe tbody tr th:only-of-type {\n",
       "        vertical-align: middle;\n",
       "    }\n",
       "\n",
       "    .dataframe tbody tr th {\n",
       "        vertical-align: top;\n",
       "    }\n",
       "\n",
       "    .dataframe thead th {\n",
       "        text-align: right;\n",
       "    }\n",
       "</style>\n",
       "<table border=\"1\" class=\"dataframe\">\n",
       "  <thead>\n",
       "    <tr style=\"text-align: right;\">\n",
       "      <th></th>\n",
       "      <th>feature</th>\n",
       "      <th>feature_importance</th>\n",
       "    </tr>\n",
       "  </thead>\n",
       "  <tbody>\n",
       "    <tr>\n",
       "      <th>0</th>\n",
       "      <td>decade_2010</td>\n",
       "      <td>0.142653</td>\n",
       "    </tr>\n",
       "    <tr>\n",
       "      <th>1</th>\n",
       "      <td>decade_2000</td>\n",
       "      <td>0.059051</td>\n",
       "    </tr>\n",
       "    <tr>\n",
       "      <th>2</th>\n",
       "      <td>genre_indie</td>\n",
       "      <td>0.056336</td>\n",
       "    </tr>\n",
       "    <tr>\n",
       "      <th>3</th>\n",
       "      <td>genre_dance</td>\n",
       "      <td>0.044852</td>\n",
       "    </tr>\n",
       "    <tr>\n",
       "      <th>4</th>\n",
       "      <td>genre_hip hop</td>\n",
       "      <td>0.035590</td>\n",
       "    </tr>\n",
       "    <tr>\n",
       "      <th>5</th>\n",
       "      <td>genre_punk</td>\n",
       "      <td>0.033718</td>\n",
       "    </tr>\n",
       "    <tr>\n",
       "      <th>6</th>\n",
       "      <td>decade_1980</td>\n",
       "      <td>0.031561</td>\n",
       "    </tr>\n",
       "    <tr>\n",
       "      <th>7</th>\n",
       "      <td>instrumentalness</td>\n",
       "      <td>0.031025</td>\n",
       "    </tr>\n",
       "    <tr>\n",
       "      <th>8</th>\n",
       "      <td>decade_1970</td>\n",
       "      <td>0.029821</td>\n",
       "    </tr>\n",
       "    <tr>\n",
       "      <th>9</th>\n",
       "      <td>genre_pop</td>\n",
       "      <td>0.029442</td>\n",
       "    </tr>\n",
       "    <tr>\n",
       "      <th>10</th>\n",
       "      <td>duration_ms</td>\n",
       "      <td>0.029249</td>\n",
       "    </tr>\n",
       "    <tr>\n",
       "      <th>11</th>\n",
       "      <td>decade_1990</td>\n",
       "      <td>0.029036</td>\n",
       "    </tr>\n",
       "    <tr>\n",
       "      <th>12</th>\n",
       "      <td>genre_acoustic</td>\n",
       "      <td>0.027963</td>\n",
       "    </tr>\n",
       "    <tr>\n",
       "      <th>13</th>\n",
       "      <td>genre_rap</td>\n",
       "      <td>0.027842</td>\n",
       "    </tr>\n",
       "    <tr>\n",
       "      <th>14</th>\n",
       "      <td>genre_electronic</td>\n",
       "      <td>0.026779</td>\n",
       "    </tr>\n",
       "    <tr>\n",
       "      <th>15</th>\n",
       "      <td>valence</td>\n",
       "      <td>0.025950</td>\n",
       "    </tr>\n",
       "    <tr>\n",
       "      <th>16</th>\n",
       "      <td>loudness</td>\n",
       "      <td>0.025806</td>\n",
       "    </tr>\n",
       "    <tr>\n",
       "      <th>17</th>\n",
       "      <td>danceability</td>\n",
       "      <td>0.025526</td>\n",
       "    </tr>\n",
       "    <tr>\n",
       "      <th>18</th>\n",
       "      <td>energy</td>\n",
       "      <td>0.025501</td>\n",
       "    </tr>\n",
       "    <tr>\n",
       "      <th>19</th>\n",
       "      <td>acousticness</td>\n",
       "      <td>0.025290</td>\n",
       "    </tr>\n",
       "    <tr>\n",
       "      <th>20</th>\n",
       "      <td>liveness</td>\n",
       "      <td>0.024799</td>\n",
       "    </tr>\n",
       "    <tr>\n",
       "      <th>21</th>\n",
       "      <td>tempo</td>\n",
       "      <td>0.023007</td>\n",
       "    </tr>\n",
       "    <tr>\n",
       "      <th>22</th>\n",
       "      <td>decade_1960</td>\n",
       "      <td>0.021714</td>\n",
       "    </tr>\n",
       "    <tr>\n",
       "      <th>23</th>\n",
       "      <td>mode</td>\n",
       "      <td>0.021488</td>\n",
       "    </tr>\n",
       "    <tr>\n",
       "      <th>24</th>\n",
       "      <td>key</td>\n",
       "      <td>0.021431</td>\n",
       "    </tr>\n",
       "    <tr>\n",
       "      <th>25</th>\n",
       "      <td>speechiness</td>\n",
       "      <td>0.021243</td>\n",
       "    </tr>\n",
       "    <tr>\n",
       "      <th>26</th>\n",
       "      <td>genre_soul</td>\n",
       "      <td>0.020683</td>\n",
       "    </tr>\n",
       "    <tr>\n",
       "      <th>27</th>\n",
       "      <td>genre_country</td>\n",
       "      <td>0.020586</td>\n",
       "    </tr>\n",
       "    <tr>\n",
       "      <th>28</th>\n",
       "      <td>genre_rock</td>\n",
       "      <td>0.020352</td>\n",
       "    </tr>\n",
       "    <tr>\n",
       "      <th>29</th>\n",
       "      <td>genre_r&amp;b</td>\n",
       "      <td>0.017160</td>\n",
       "    </tr>\n",
       "    <tr>\n",
       "      <th>30</th>\n",
       "      <td>genre_house</td>\n",
       "      <td>0.013142</td>\n",
       "    </tr>\n",
       "    <tr>\n",
       "      <th>31</th>\n",
       "      <td>is_explicit</td>\n",
       "      <td>0.011404</td>\n",
       "    </tr>\n",
       "  </tbody>\n",
       "</table>\n",
       "</div>"
      ],
      "text/plain": [
       "             feature  feature_importance\n",
       "0        decade_2010            0.142653\n",
       "1        decade_2000            0.059051\n",
       "2        genre_indie            0.056336\n",
       "3        genre_dance            0.044852\n",
       "4      genre_hip hop            0.035590\n",
       "5         genre_punk            0.033718\n",
       "6        decade_1980            0.031561\n",
       "7   instrumentalness            0.031025\n",
       "8        decade_1970            0.029821\n",
       "9          genre_pop            0.029442\n",
       "10       duration_ms            0.029249\n",
       "11       decade_1990            0.029036\n",
       "12    genre_acoustic            0.027963\n",
       "13         genre_rap            0.027842\n",
       "14  genre_electronic            0.026779\n",
       "15           valence            0.025950\n",
       "16          loudness            0.025806\n",
       "17      danceability            0.025526\n",
       "18            energy            0.025501\n",
       "19      acousticness            0.025290\n",
       "20          liveness            0.024799\n",
       "21             tempo            0.023007\n",
       "22       decade_1960            0.021714\n",
       "23              mode            0.021488\n",
       "24               key            0.021431\n",
       "25       speechiness            0.021243\n",
       "26        genre_soul            0.020683\n",
       "27     genre_country            0.020586\n",
       "28        genre_rock            0.020352\n",
       "29         genre_r&b            0.017160\n",
       "30       genre_house            0.013142\n",
       "31       is_explicit            0.011404"
      ]
     },
     "execution_count": 34,
     "metadata": {},
     "output_type": "execute_result"
    }
   ],
   "source": [
    "#Look at feature importance for the XGBoost model \n",
    "xgb_features = features_df(X_train.columns, xgb.feature_importances_)\n",
    "xgb_features"
   ]
  },
  {
   "cell_type": "markdown",
   "metadata": {},
   "source": [
    "## 6. Support Vector Machines"
   ]
  },
  {
   "cell_type": "code",
   "execution_count": 35,
   "metadata": {},
   "outputs": [],
   "source": [
    "#Instansiate the support vecotrs vanilla model\n",
    "svclassifier = SVC(random_state=42)"
   ]
  },
  {
   "cell_type": "code",
   "execution_count": 36,
   "metadata": {},
   "outputs": [
    {
     "name": "stdout",
     "output_type": "stream",
     "text": [
      "\n",
      "\n",
      "Train Score Results\n",
      "              precision    recall  f1-score   support\n",
      "\n",
      "           1       1.00      0.01      0.01       667\n",
      "           2       0.49      0.30      0.37      1413\n",
      "           3       0.43      0.85      0.57      1991\n",
      "           4       0.60      0.28      0.38      1009\n",
      "           5       0.00      0.00      0.00       193\n",
      "\n",
      "    accuracy                           0.46      5273\n",
      "   macro avg       0.50      0.29      0.27      5273\n",
      "weighted avg       0.53      0.46      0.39      5273\n",
      "\n",
      "Train Set Accuracy: 0.456\n",
      "Train Set Precision: 0.456\n",
      "Train Set Recall: 0.456\n",
      "Train Set F1-Score: 0.456\n",
      "\n",
      "\n",
      "Test Score Results\n",
      "              precision    recall  f1-score   support\n",
      "\n",
      "           1       0.00      0.00      0.00       224\n",
      "           2       0.46      0.26      0.33       485\n",
      "           3       0.40      0.80      0.53       668\n",
      "           4       0.44      0.21      0.29       316\n",
      "           5       0.00      0.00      0.00        65\n",
      "\n",
      "    accuracy                           0.41      1758\n",
      "   macro avg       0.26      0.25      0.23      1758\n",
      "weighted avg       0.36      0.41      0.34      1758\n",
      "\n",
      "Test Set Accuracy: 0.411\n",
      "Test Set Precision: 0.411\n",
      "Test Set Recall: 0.411\n",
      "Test Set F1-Score: 0.411\n",
      "\n",
      "\n"
     ]
    },
    {
     "data": {
      "image/png": "[encoded data removed]",
      "text/plain": [
       "<Figure size 432x288 with 4 Axes>"
      ]
     },
     "metadata": {
      "needs_background": "light"
     },
     "output_type": "display_data"
    }
   ],
   "source": [
    "#Fit and predict model and show results. Note we are using the scaled data for the SVM model \n",
    "svmresult = model_fit(X_train_scaled, y_train, X_test_scaled, y_test, svclassifier, 'SVM')"
   ]
  },
  {
   "cell_type": "markdown",
   "metadata": {},
   "source": [
    "## All Vanilla Results"
   ]
  },
  {
   "cell_type": "code",
   "execution_count": 37,
   "metadata": {},
   "outputs": [],
   "source": [
    "#Create list of all the Vanilla model results \n",
    "result_list = [knnresult, bayesresult, decisiontreeresult, baggingresult, \n",
    "                randomforestresult, adbresult, xgbresult, svmresult]"
   ]
  },
  {
   "cell_type": "code",
   "execution_count": 38,
   "metadata": {},
   "outputs": [],
   "source": [
    "#Convert results into a dataframe \n",
    "df_results = pd.DataFrame.from_dict(result_list, orient='columns')\n",
    "df_results = df_results.set_index('model')"
   ]
  },
  {
   "cell_type": "code",
   "execution_count": 39,
   "metadata": {},
   "outputs": [
    {
     "data": {
      "text/html": [
       "<div>\n",
       "<style scoped>\n",
       "    .dataframe tbody tr th:only-of-type {\n",
       "        vertical-align: middle;\n",
       "    }\n",
       "\n",
       "    .dataframe tbody tr th {\n",
       "        vertical-align: top;\n",
       "    }\n",
       "\n",
       "    .dataframe thead th {\n",
       "        text-align: right;\n",
       "    }\n",
       "</style>\n",
       "<table border=\"1\" class=\"dataframe\">\n",
       "  <thead>\n",
       "    <tr style=\"text-align: right;\">\n",
       "      <th></th>\n",
       "      <th>train_accuracy</th>\n",
       "      <th>train_precision</th>\n",
       "      <th>train_recall</th>\n",
       "      <th>train_f1</th>\n",
       "      <th>test_accuracy</th>\n",
       "      <th>test_precision</th>\n",
       "      <th>test_recall</th>\n",
       "      <th>test_f1</th>\n",
       "    </tr>\n",
       "    <tr>\n",
       "      <th>model</th>\n",
       "      <th></th>\n",
       "      <th></th>\n",
       "      <th></th>\n",
       "      <th></th>\n",
       "      <th></th>\n",
       "      <th></th>\n",
       "      <th></th>\n",
       "      <th></th>\n",
       "    </tr>\n",
       "  </thead>\n",
       "  <tbody>\n",
       "    <tr>\n",
       "      <th>knn</th>\n",
       "      <td>0.556</td>\n",
       "      <td>0.556</td>\n",
       "      <td>0.556</td>\n",
       "      <td>0.556</td>\n",
       "      <td>0.342</td>\n",
       "      <td>0.342</td>\n",
       "      <td>0.342</td>\n",
       "      <td>0.342</td>\n",
       "    </tr>\n",
       "    <tr>\n",
       "      <th>bayes</th>\n",
       "      <td>0.376</td>\n",
       "      <td>0.376</td>\n",
       "      <td>0.376</td>\n",
       "      <td>0.376</td>\n",
       "      <td>0.375</td>\n",
       "      <td>0.375</td>\n",
       "      <td>0.375</td>\n",
       "      <td>0.375</td>\n",
       "    </tr>\n",
       "    <tr>\n",
       "      <th>decisiontree</th>\n",
       "      <td>0.995</td>\n",
       "      <td>0.995</td>\n",
       "      <td>0.995</td>\n",
       "      <td>0.995</td>\n",
       "      <td>0.320</td>\n",
       "      <td>0.320</td>\n",
       "      <td>0.320</td>\n",
       "      <td>0.320</td>\n",
       "    </tr>\n",
       "    <tr>\n",
       "      <th>bagging</th>\n",
       "      <td>0.994</td>\n",
       "      <td>0.994</td>\n",
       "      <td>0.994</td>\n",
       "      <td>0.994</td>\n",
       "      <td>0.370</td>\n",
       "      <td>0.370</td>\n",
       "      <td>0.370</td>\n",
       "      <td>0.370</td>\n",
       "    </tr>\n",
       "    <tr>\n",
       "      <th>randomforest</th>\n",
       "      <td>0.995</td>\n",
       "      <td>0.995</td>\n",
       "      <td>0.995</td>\n",
       "      <td>0.995</td>\n",
       "      <td>0.405</td>\n",
       "      <td>0.405</td>\n",
       "      <td>0.405</td>\n",
       "      <td>0.405</td>\n",
       "    </tr>\n",
       "    <tr>\n",
       "      <th>Adaboost</th>\n",
       "      <td>0.407</td>\n",
       "      <td>0.407</td>\n",
       "      <td>0.407</td>\n",
       "      <td>0.407</td>\n",
       "      <td>0.398</td>\n",
       "      <td>0.398</td>\n",
       "      <td>0.398</td>\n",
       "      <td>0.398</td>\n",
       "    </tr>\n",
       "    <tr>\n",
       "      <th>XGBoost</th>\n",
       "      <td>0.490</td>\n",
       "      <td>0.490</td>\n",
       "      <td>0.490</td>\n",
       "      <td>0.490</td>\n",
       "      <td>0.407</td>\n",
       "      <td>0.407</td>\n",
       "      <td>0.407</td>\n",
       "      <td>0.407</td>\n",
       "    </tr>\n",
       "    <tr>\n",
       "      <th>SVM</th>\n",
       "      <td>0.456</td>\n",
       "      <td>0.456</td>\n",
       "      <td>0.456</td>\n",
       "      <td>0.456</td>\n",
       "      <td>0.411</td>\n",
       "      <td>0.411</td>\n",
       "      <td>0.411</td>\n",
       "      <td>0.411</td>\n",
       "    </tr>\n",
       "  </tbody>\n",
       "</table>\n",
       "</div>"
      ],
      "text/plain": [
       "              train_accuracy  train_precision  train_recall  train_f1  \\\n",
       "model                                                                   \n",
       "knn                    0.556            0.556         0.556     0.556   \n",
       "bayes                  0.376            0.376         0.376     0.376   \n",
       "decisiontree           0.995            0.995         0.995     0.995   \n",
       "bagging                0.994            0.994         0.994     0.994   \n",
       "randomforest           0.995            0.995         0.995     0.995   \n",
       "Adaboost               0.407            0.407         0.407     0.407   \n",
       "XGBoost                0.490            0.490         0.490     0.490   \n",
       "SVM                    0.456            0.456         0.456     0.456   \n",
       "\n",
       "              test_accuracy  test_precision  test_recall  test_f1  \n",
       "model                                                              \n",
       "knn                   0.342           0.342        0.342    0.342  \n",
       "bayes                 0.375           0.375        0.375    0.375  \n",
       "decisiontree          0.320           0.320        0.320    0.320  \n",
       "bagging               0.370           0.370        0.370    0.370  \n",
       "randomforest          0.405           0.405        0.405    0.405  \n",
       "Adaboost              0.398           0.398        0.398    0.398  \n",
       "XGBoost               0.407           0.407        0.407    0.407  \n",
       "SVM                   0.411           0.411        0.411    0.411  "
      ]
     },
     "execution_count": 39,
     "metadata": {},
     "output_type": "execute_result"
    }
   ],
   "source": [
    "#Preview results \n",
    "df_results"
   ]
  },
  {
   "cell_type": "markdown",
   "metadata": {},
   "source": [
    "For this analysis, the goal is to optimize test precision. This is because we do not want any false positives in our model and want to ensure that ratings are classified correctly. Additionally, the model is less sensitive to false negatives, as an incorrect rating of 2 if the actual rating is 3, will not have a significant impact on the interpretability of our model. Therefore, I will further tune XGBoost and SVM models as these models had the highest test precision scores in the vanilla models."
   ]
  },
  {
   "cell_type": "markdown",
   "metadata": {},
   "source": [
    "# Section B. Tuning Models"
   ]
  },
  {
   "cell_type": "code",
   "execution_count": 40,
   "metadata": {},
   "outputs": [
    {
     "data": {
      "text/plain": [
       "{'model': 'XGBoost',\n",
       " 'train_accuracy': 0.49,\n",
       " 'train_precision': 0.49,\n",
       " 'train_recall': 0.49,\n",
       " 'train_f1': 0.49,\n",
       " 'test_accuracy': 0.407,\n",
       " 'test_precision': 0.407,\n",
       " 'test_recall': 0.407,\n",
       " 'test_f1': 0.407}"
      ]
     },
     "execution_count": 40,
     "metadata": {},
     "output_type": "execute_result"
    }
   ],
   "source": [
    "#Preview XGBoost results again \n",
    "xgbresult"
   ]
  },
  {
   "cell_type": "code",
   "execution_count": 41,
   "metadata": {},
   "outputs": [],
   "source": [
    "#Build parameter grid to be used in GridSearch to find the best hyperparameters\n",
    "param_grid = {\n",
    "    'objective': [\"multi:softprob\"],\n",
    "    'gamma': [0.5, 1, 1.5, 2, 5],\n",
    "    'learning_rate': [.1, .15, 1], \n",
    "    'subsample': [.6, .8, 1],\n",
    "    'colsample_bytree': [0.6, 0.8, 1.0],\n",
    "    'n_estimators': [50, 100]\n",
    "}\n",
    "gs_xgb = GridSearchCV(xgb, param_grid, scoring='precision_micro', cv=3)"
   ]
  },
  {
   "cell_type": "code",
   "execution_count": 42,
   "metadata": {},
   "outputs": [
    {
     "data": {
      "text/plain": [
       "GridSearchCV(cv=3, estimator=XGBClassifier(objective='multi:softprob'),\n",
       "             param_grid={'colsample_bytree': [0.6, 0.8, 1.0],\n",
       "                         'gamma': [0.5, 1, 1.5, 2, 5],\n",
       "                         'learning_rate': [0.1, 0.15, 1],\n",
       "                         'n_estimators': [50, 100],\n",
       "                         'objective': ['multi:softprob'],\n",
       "                         'subsample': [0.6, 0.8, 1]},\n",
       "             scoring='precision_micro')"
      ]
     },
     "execution_count": 42,
     "metadata": {},
     "output_type": "execute_result"
    }
   ],
   "source": [
    "#Fit the gridsearch with our X and Y train \n",
    "gs_xgb.fit(X_train, y_train)"
   ]
  },
  {
   "cell_type": "code",
   "execution_count": 43,
   "metadata": {},
   "outputs": [
    {
     "name": "stdout",
     "output_type": "stream",
     "text": [
      "Train Precision: 0.40792666594578403\n",
      "Test Precision: 0.40671217292377704\n",
      "{'colsample_bytree': 0.8, 'gamma': 5, 'learning_rate': 0.15, 'n_estimators': 50, 'objective': 'multi:softprob', 'subsample': 0.6}\n"
     ]
    }
   ],
   "source": [
    "#Display the best possible recall results as well as the best parameters\n",
    "print(f'Train Precision: {gs_xgb.best_score_}')\n",
    "xgbtest_precision = precision_score(y_test, gs_xgb.predict(X_test), average='micro')\n",
    "print(f'Test Precision: {xgbtest_precision}')\n",
    "print(gs_xgb.best_params_)"
   ]
  },
  {
   "cell_type": "markdown",
   "metadata": {},
   "source": [
    "The test precision score is approx. 0.407, the same result that was given in the baseline model. Next, I will run the mean 3-fold cross validation to see if this score performs any better."
   ]
  },
  {
   "cell_type": "code",
   "execution_count": 44,
   "metadata": {},
   "outputs": [
    {
     "name": "stdout",
     "output_type": "stream",
     "text": [
      "Mean XGboost Cross-Val Score (k=3):  38.44%\n"
     ]
    }
   ],
   "source": [
    "#Investigate XGB cross validation score \n",
    "xgb_tuned_mean_cv = cross_val_score(gs_xgb, X, y, cv=3).mean()\n",
    "\n",
    "print(f\"Mean XGboost Cross-Val Score (k=3): {xgb_tuned_mean_cv: .2%}\")"
   ]
  },
  {
   "cell_type": "markdown",
   "metadata": {},
   "source": [
    "Next, I will use the predict_proba method to get Predited Probabilities for ratings. By utilizing the probability of obtaining a certain ratings, it allows the actual ratings to take on non-integer values. This will likely reduce the errors that are found between the actual ratings and the future predicted ratings, as the numbers are not restriced to strict integer values. For now I will only collect these predicted ratings, and will later utilize these values in a future recommendation systme."
   ]
  },
  {
   "cell_type": "code",
   "execution_count": 45,
   "metadata": {},
   "outputs": [],
   "source": [
    "#Find the probabilities of X (the track ratings)\n",
    "probs = xgb.predict_proba(X)\n",
    "\n",
    "#Multiply the probabilties by the values of the ratings (ratings 1-5, respectively)\n",
    "result = np.array([1,2,3,4,5]) * probs\n",
    "\n",
    "#Get the final predicted ratings by summing the results across columns \n",
    "predictedratings = np.sum(result, axis=1)"
   ]
  },
  {
   "cell_type": "code",
   "execution_count": 46,
   "metadata": {},
   "outputs": [],
   "source": [
    "#Append these predicted ratings to the X dataframe \n",
    "X['predicted ratings'] = predictedratings"
   ]
  },
  {
   "cell_type": "code",
   "execution_count": 47,
   "metadata": {},
   "outputs": [
    {
     "data": {
      "text/html": [
       "<div>\n",
       "<style scoped>\n",
       "    .dataframe tbody tr th:only-of-type {\n",
       "        vertical-align: middle;\n",
       "    }\n",
       "\n",
       "    .dataframe tbody tr th {\n",
       "        vertical-align: top;\n",
       "    }\n",
       "\n",
       "    .dataframe thead th {\n",
       "        text-align: right;\n",
       "    }\n",
       "</style>\n",
       "<table border=\"1\" class=\"dataframe\">\n",
       "  <thead>\n",
       "    <tr style=\"text-align: right;\">\n",
       "      <th></th>\n",
       "      <th>is_explicit</th>\n",
       "      <th>danceability</th>\n",
       "      <th>energy</th>\n",
       "      <th>key</th>\n",
       "      <th>loudness</th>\n",
       "      <th>mode</th>\n",
       "      <th>speechiness</th>\n",
       "      <th>acousticness</th>\n",
       "      <th>instrumentalness</th>\n",
       "      <th>liveness</th>\n",
       "      <th>...</th>\n",
       "      <th>genre_hip hop</th>\n",
       "      <th>genre_house</th>\n",
       "      <th>genre_indie</th>\n",
       "      <th>genre_pop</th>\n",
       "      <th>genre_punk</th>\n",
       "      <th>genre_r&amp;b</th>\n",
       "      <th>genre_rap</th>\n",
       "      <th>genre_rock</th>\n",
       "      <th>genre_soul</th>\n",
       "      <th>predicted ratings</th>\n",
       "    </tr>\n",
       "  </thead>\n",
       "  <tbody>\n",
       "    <tr>\n",
       "      <th>0</th>\n",
       "      <td>0</td>\n",
       "      <td>0.638</td>\n",
       "      <td>0.826</td>\n",
       "      <td>8</td>\n",
       "      <td>-4.968</td>\n",
       "      <td>1</td>\n",
       "      <td>0.0479</td>\n",
       "      <td>0.139000</td>\n",
       "      <td>0.000000</td>\n",
       "      <td>0.0803</td>\n",
       "      <td>...</td>\n",
       "      <td>0</td>\n",
       "      <td>0</td>\n",
       "      <td>0</td>\n",
       "      <td>0</td>\n",
       "      <td>0</td>\n",
       "      <td>0</td>\n",
       "      <td>0</td>\n",
       "      <td>0</td>\n",
       "      <td>0</td>\n",
       "      <td>2.908494</td>\n",
       "    </tr>\n",
       "    <tr>\n",
       "      <th>1</th>\n",
       "      <td>0</td>\n",
       "      <td>0.791</td>\n",
       "      <td>0.754</td>\n",
       "      <td>0</td>\n",
       "      <td>-3.729</td>\n",
       "      <td>1</td>\n",
       "      <td>0.0569</td>\n",
       "      <td>0.004460</td>\n",
       "      <td>0.000000</td>\n",
       "      <td>0.1630</td>\n",
       "      <td>...</td>\n",
       "      <td>0</td>\n",
       "      <td>0</td>\n",
       "      <td>0</td>\n",
       "      <td>0</td>\n",
       "      <td>0</td>\n",
       "      <td>0</td>\n",
       "      <td>0</td>\n",
       "      <td>0</td>\n",
       "      <td>0</td>\n",
       "      <td>2.973182</td>\n",
       "    </tr>\n",
       "    <tr>\n",
       "      <th>2</th>\n",
       "      <td>0</td>\n",
       "      <td>0.649</td>\n",
       "      <td>0.815</td>\n",
       "      <td>3</td>\n",
       "      <td>-3.796</td>\n",
       "      <td>0</td>\n",
       "      <td>0.0415</td>\n",
       "      <td>0.001250</td>\n",
       "      <td>0.000043</td>\n",
       "      <td>0.6710</td>\n",
       "      <td>...</td>\n",
       "      <td>0</td>\n",
       "      <td>0</td>\n",
       "      <td>0</td>\n",
       "      <td>0</td>\n",
       "      <td>0</td>\n",
       "      <td>0</td>\n",
       "      <td>0</td>\n",
       "      <td>0</td>\n",
       "      <td>0</td>\n",
       "      <td>2.753688</td>\n",
       "    </tr>\n",
       "    <tr>\n",
       "      <th>3</th>\n",
       "      <td>0</td>\n",
       "      <td>0.699</td>\n",
       "      <td>0.760</td>\n",
       "      <td>5</td>\n",
       "      <td>-3.173</td>\n",
       "      <td>1</td>\n",
       "      <td>0.0677</td>\n",
       "      <td>0.002230</td>\n",
       "      <td>0.000000</td>\n",
       "      <td>0.1320</td>\n",
       "      <td>...</td>\n",
       "      <td>0</td>\n",
       "      <td>0</td>\n",
       "      <td>0</td>\n",
       "      <td>0</td>\n",
       "      <td>0</td>\n",
       "      <td>0</td>\n",
       "      <td>0</td>\n",
       "      <td>0</td>\n",
       "      <td>0</td>\n",
       "      <td>3.171939</td>\n",
       "    </tr>\n",
       "    <tr>\n",
       "      <th>4</th>\n",
       "      <td>0</td>\n",
       "      <td>0.678</td>\n",
       "      <td>0.918</td>\n",
       "      <td>5</td>\n",
       "      <td>-4.630</td>\n",
       "      <td>1</td>\n",
       "      <td>0.0355</td>\n",
       "      <td>0.000417</td>\n",
       "      <td>0.000000</td>\n",
       "      <td>0.0744</td>\n",
       "      <td>...</td>\n",
       "      <td>0</td>\n",
       "      <td>0</td>\n",
       "      <td>0</td>\n",
       "      <td>0</td>\n",
       "      <td>0</td>\n",
       "      <td>0</td>\n",
       "      <td>0</td>\n",
       "      <td>0</td>\n",
       "      <td>0</td>\n",
       "      <td>2.890529</td>\n",
       "    </tr>\n",
       "  </tbody>\n",
       "</table>\n",
       "<p>5 rows × 33 columns</p>\n",
       "</div>"
      ],
      "text/plain": [
       "   is_explicit  danceability  energy  key  loudness  mode  speechiness  \\\n",
       "0            0         0.638   0.826    8    -4.968     1       0.0479   \n",
       "1            0         0.791   0.754    0    -3.729     1       0.0569   \n",
       "2            0         0.649   0.815    3    -3.796     0       0.0415   \n",
       "3            0         0.699   0.760    5    -3.173     1       0.0677   \n",
       "4            0         0.678   0.918    5    -4.630     1       0.0355   \n",
       "\n",
       "   acousticness  instrumentalness  liveness  ...  genre_hip hop  genre_house  \\\n",
       "0      0.139000          0.000000    0.0803  ...              0            0   \n",
       "1      0.004460          0.000000    0.1630  ...              0            0   \n",
       "2      0.001250          0.000043    0.6710  ...              0            0   \n",
       "3      0.002230          0.000000    0.1320  ...              0            0   \n",
       "4      0.000417          0.000000    0.0744  ...              0            0   \n",
       "\n",
       "   genre_indie  genre_pop  genre_punk  genre_r&b  genre_rap  genre_rock  \\\n",
       "0            0          0           0          0          0           0   \n",
       "1            0          0           0          0          0           0   \n",
       "2            0          0           0          0          0           0   \n",
       "3            0          0           0          0          0           0   \n",
       "4            0          0           0          0          0           0   \n",
       "\n",
       "   genre_soul  predicted ratings  \n",
       "0           0           2.908494  \n",
       "1           0           2.973182  \n",
       "2           0           2.753688  \n",
       "3           0           3.171939  \n",
       "4           0           2.890529  \n",
       "\n",
       "[5 rows x 33 columns]"
      ]
     },
     "execution_count": 47,
     "metadata": {},
     "output_type": "execute_result"
    }
   ],
   "source": [
    "#Look at the first 5 rows of the X Dataframe. Notice that predicted ratings is now a new column \n",
    "X.head()"
   ]
  },
  {
   "cell_type": "code",
   "execution_count": 48,
   "metadata": {},
   "outputs": [],
   "source": [
    "#Append the X dataframe to the 'data' dataframe in order to include relevant columns \n",
    "df_predictions = pd.concat([X, data[['artist', 'artist_id', 'album', 'track_name','track_id', 'genrecategory']]], axis=1)"
   ]
  },
  {
   "cell_type": "code",
   "execution_count": 49,
   "metadata": {
    "scrolled": true
   },
   "outputs": [
    {
     "name": "stdout",
     "output_type": "stream",
     "text": [
      "<class 'pandas.core.frame.DataFrame'>\n",
      "RangeIndex: 7031 entries, 0 to 7030\n",
      "Data columns (total 39 columns):\n",
      "is_explicit          7031 non-null int64\n",
      "danceability         7031 non-null float64\n",
      "energy               7031 non-null float64\n",
      "key                  7031 non-null int64\n",
      "loudness             7031 non-null float64\n",
      "mode                 7031 non-null int64\n",
      "speechiness          7031 non-null float64\n",
      "acousticness         7031 non-null float64\n",
      "instrumentalness     7031 non-null float64\n",
      "liveness             7031 non-null float64\n",
      "valence              7031 non-null float64\n",
      "tempo                7031 non-null float64\n",
      "duration_ms          7031 non-null int64\n",
      "decade_1960          7031 non-null int64\n",
      "decade_1970          7031 non-null int64\n",
      "decade_1980          7031 non-null int64\n",
      "decade_1990          7031 non-null int64\n",
      "decade_2000          7031 non-null int64\n",
      "decade_2010          7031 non-null int64\n",
      "genre_acoustic       7031 non-null int64\n",
      "genre_country        7031 non-null int64\n",
      "genre_dance          7031 non-null int64\n",
      "genre_electronic     7031 non-null int64\n",
      "genre_hip hop        7031 non-null int64\n",
      "genre_house          7031 non-null int64\n",
      "genre_indie          7031 non-null int64\n",
      "genre_pop            7031 non-null int64\n",
      "genre_punk           7031 non-null int64\n",
      "genre_r&b            7031 non-null int64\n",
      "genre_rap            7031 non-null int64\n",
      "genre_rock           7031 non-null int64\n",
      "genre_soul           7031 non-null int64\n",
      "predicted ratings    7031 non-null float64\n",
      "artist               7031 non-null object\n",
      "artist_id            7031 non-null object\n",
      "album                7031 non-null object\n",
      "track_name           7031 non-null object\n",
      "track_id             7031 non-null object\n",
      "genrecategory        7031 non-null object\n",
      "dtypes: float64(10), int64(23), object(6)\n",
      "memory usage: 2.1+ MB\n"
     ]
    }
   ],
   "source": [
    "#Check columns of our predictions dataframe are all present \n",
    "df_predictions.info()"
   ]
  },
  {
   "cell_type": "code",
   "execution_count": 50,
   "metadata": {},
   "outputs": [],
   "source": [
    "#Export this predictions dataframe to a separate csv file for future recommendation system models\n",
    "df_predictions.to_csv('predictionsdf')"
   ]
  },
  {
   "cell_type": "markdown",
   "metadata": {},
   "source": [
    "### SVM Tuning "
   ]
  },
  {
   "cell_type": "code",
   "execution_count": 51,
   "metadata": {},
   "outputs": [],
   "source": [
    "#Define hyperparameters for GridSerach\n",
    "param_grid = {'C': [0.1, 1, 10, 100, 1000],  \n",
    "              'gamma': [1, 0.1, 0.01, 0.001, 0.0001], \n",
    "              'decision_function_shape': ['ovo'],\n",
    "              'kernel': ['rbf']}  \n",
    "  \n",
    "svmgrid = GridSearchCV(SVC(), param_grid, refit = True, verbose = 3) "
   ]
  },
  {
   "cell_type": "code",
   "execution_count": 52,
   "metadata": {},
   "outputs": [
    {
     "name": "stdout",
     "output_type": "stream",
     "text": [
      "Fitting 5 folds for each of 25 candidates, totalling 125 fits\n",
      "[CV] C=0.1, decision_function_shape=ovo, gamma=1, kernel=rbf .........\n"
     ]
    },
    {
     "name": "stderr",
     "output_type": "stream",
     "text": [
      "[Parallel(n_jobs=1)]: Using backend SequentialBackend with 1 concurrent workers.\n"
     ]
    },
    {
     "name": "stdout",
     "output_type": "stream",
     "text": [
      "[CV]  C=0.1, decision_function_shape=ovo, gamma=1, kernel=rbf, score=0.377, total=   1.3s\n",
      "[CV] C=0.1, decision_function_shape=ovo, gamma=1, kernel=rbf .........\n"
     ]
    },
    {
     "name": "stderr",
     "output_type": "stream",
     "text": [
      "[Parallel(n_jobs=1)]: Done   1 out of   1 | elapsed:    1.3s remaining:    0.0s\n"
     ]
    },
    {
     "name": "stdout",
     "output_type": "stream",
     "text": [
      "[CV]  C=0.1, decision_function_shape=ovo, gamma=1, kernel=rbf, score=0.377, total=   1.3s\n",
      "[CV] C=0.1, decision_function_shape=ovo, gamma=1, kernel=rbf .........\n"
     ]
    },
    {
     "name": "stderr",
     "output_type": "stream",
     "text": [
      "[Parallel(n_jobs=1)]: Done   2 out of   2 | elapsed:    2.6s remaining:    0.0s\n"
     ]
    },
    {
     "name": "stdout",
     "output_type": "stream",
     "text": [
      "[CV]  C=0.1, decision_function_shape=ovo, gamma=1, kernel=rbf, score=0.378, total=   1.3s\n",
      "[CV] C=0.1, decision_function_shape=ovo, gamma=1, kernel=rbf .........\n",
      "[CV]  C=0.1, decision_function_shape=ovo, gamma=1, kernel=rbf, score=0.378, total=   1.3s\n",
      "[CV] C=0.1, decision_function_shape=ovo, gamma=1, kernel=rbf .........\n",
      "[CV]  C=0.1, decision_function_shape=ovo, gamma=1, kernel=rbf, score=0.378, total=   1.3s\n",
      "[CV] C=0.1, decision_function_shape=ovo, gamma=0.1, kernel=rbf .......\n",
      "[CV]  C=0.1, decision_function_shape=ovo, gamma=0.1, kernel=rbf, score=0.377, total=   1.3s\n",
      "[CV] C=0.1, decision_function_shape=ovo, gamma=0.1, kernel=rbf .......\n",
      "[CV]  C=0.1, decision_function_shape=ovo, gamma=0.1, kernel=rbf, score=0.377, total=   1.3s\n",
      "[CV] C=0.1, decision_function_shape=ovo, gamma=0.1, kernel=rbf .......\n",
      "[CV]  C=0.1, decision_function_shape=ovo, gamma=0.1, kernel=rbf, score=0.378, total=   1.3s\n",
      "[CV] C=0.1, decision_function_shape=ovo, gamma=0.1, kernel=rbf .......\n",
      "[CV]  C=0.1, decision_function_shape=ovo, gamma=0.1, kernel=rbf, score=0.378, total=   1.4s\n",
      "[CV] C=0.1, decision_function_shape=ovo, gamma=0.1, kernel=rbf .......\n",
      "[CV]  C=0.1, decision_function_shape=ovo, gamma=0.1, kernel=rbf, score=0.378, total=   1.3s\n",
      "[CV] C=0.1, decision_function_shape=ovo, gamma=0.01, kernel=rbf ......\n",
      "[CV]  C=0.1, decision_function_shape=ovo, gamma=0.01, kernel=rbf, score=0.377, total=   1.3s\n",
      "[CV] C=0.1, decision_function_shape=ovo, gamma=0.01, kernel=rbf ......\n",
      "[CV]  C=0.1, decision_function_shape=ovo, gamma=0.01, kernel=rbf, score=0.377, total=   1.3s\n",
      "[CV] C=0.1, decision_function_shape=ovo, gamma=0.01, kernel=rbf ......\n",
      "[CV]  C=0.1, decision_function_shape=ovo, gamma=0.01, kernel=rbf, score=0.378, total=   1.3s\n",
      "[CV] C=0.1, decision_function_shape=ovo, gamma=0.01, kernel=rbf ......\n",
      "[CV]  C=0.1, decision_function_shape=ovo, gamma=0.01, kernel=rbf, score=0.378, total=   1.3s\n",
      "[CV] C=0.1, decision_function_shape=ovo, gamma=0.01, kernel=rbf ......\n",
      "[CV]  C=0.1, decision_function_shape=ovo, gamma=0.01, kernel=rbf, score=0.378, total=   1.3s\n",
      "[CV] C=0.1, decision_function_shape=ovo, gamma=0.001, kernel=rbf .....\n",
      "[CV]  C=0.1, decision_function_shape=ovo, gamma=0.001, kernel=rbf, score=0.377, total=   1.3s\n",
      "[CV] C=0.1, decision_function_shape=ovo, gamma=0.001, kernel=rbf .....\n",
      "[CV]  C=0.1, decision_function_shape=ovo, gamma=0.001, kernel=rbf, score=0.377, total=   1.3s\n",
      "[CV] C=0.1, decision_function_shape=ovo, gamma=0.001, kernel=rbf .....\n",
      "[CV]  C=0.1, decision_function_shape=ovo, gamma=0.001, kernel=rbf, score=0.378, total=   1.3s\n",
      "[CV] C=0.1, decision_function_shape=ovo, gamma=0.001, kernel=rbf .....\n",
      "[CV]  C=0.1, decision_function_shape=ovo, gamma=0.001, kernel=rbf, score=0.378, total=   1.3s\n",
      "[CV] C=0.1, decision_function_shape=ovo, gamma=0.001, kernel=rbf .....\n",
      "[CV]  C=0.1, decision_function_shape=ovo, gamma=0.001, kernel=rbf, score=0.378, total=   1.3s\n",
      "[CV] C=0.1, decision_function_shape=ovo, gamma=0.0001, kernel=rbf ....\n",
      "[CV]  C=0.1, decision_function_shape=ovo, gamma=0.0001, kernel=rbf, score=0.377, total=   1.2s\n",
      "[CV] C=0.1, decision_function_shape=ovo, gamma=0.0001, kernel=rbf ....\n",
      "[CV]  C=0.1, decision_function_shape=ovo, gamma=0.0001, kernel=rbf, score=0.377, total=   1.2s\n",
      "[CV] C=0.1, decision_function_shape=ovo, gamma=0.0001, kernel=rbf ....\n",
      "[CV]  C=0.1, decision_function_shape=ovo, gamma=0.0001, kernel=rbf, score=0.378, total=   1.2s\n",
      "[CV] C=0.1, decision_function_shape=ovo, gamma=0.0001, kernel=rbf ....\n",
      "[CV]  C=0.1, decision_function_shape=ovo, gamma=0.0001, kernel=rbf, score=0.378, total=   1.2s\n",
      "[CV] C=0.1, decision_function_shape=ovo, gamma=0.0001, kernel=rbf ....\n",
      "[CV]  C=0.1, decision_function_shape=ovo, gamma=0.0001, kernel=rbf, score=0.378, total=   1.2s\n",
      "[CV] C=1, decision_function_shape=ovo, gamma=1, kernel=rbf ...........\n",
      "[CV]  C=1, decision_function_shape=ovo, gamma=1, kernel=rbf, score=0.380, total=   1.4s\n",
      "[CV] C=1, decision_function_shape=ovo, gamma=1, kernel=rbf ...........\n",
      "[CV]  C=1, decision_function_shape=ovo, gamma=1, kernel=rbf, score=0.382, total=   1.4s\n",
      "[CV] C=1, decision_function_shape=ovo, gamma=1, kernel=rbf ...........\n",
      "[CV]  C=1, decision_function_shape=ovo, gamma=1, kernel=rbf, score=0.382, total=   1.4s\n",
      "[CV] C=1, decision_function_shape=ovo, gamma=1, kernel=rbf ...........\n",
      "[CV]  C=1, decision_function_shape=ovo, gamma=1, kernel=rbf, score=0.381, total=   1.4s\n",
      "[CV] C=1, decision_function_shape=ovo, gamma=1, kernel=rbf ...........\n",
      "[CV]  C=1, decision_function_shape=ovo, gamma=1, kernel=rbf, score=0.387, total=   1.4s\n",
      "[CV] C=1, decision_function_shape=ovo, gamma=0.1, kernel=rbf .........\n",
      "[CV]  C=1, decision_function_shape=ovo, gamma=0.1, kernel=rbf, score=0.380, total=   1.4s\n",
      "[CV] C=1, decision_function_shape=ovo, gamma=0.1, kernel=rbf .........\n",
      "[CV]  C=1, decision_function_shape=ovo, gamma=0.1, kernel=rbf, score=0.380, total=   1.4s\n",
      "[CV] C=1, decision_function_shape=ovo, gamma=0.1, kernel=rbf .........\n",
      "[CV]  C=1, decision_function_shape=ovo, gamma=0.1, kernel=rbf, score=0.381, total=   1.4s\n",
      "[CV] C=1, decision_function_shape=ovo, gamma=0.1, kernel=rbf .........\n",
      "[CV]  C=1, decision_function_shape=ovo, gamma=0.1, kernel=rbf, score=0.380, total=   1.4s\n",
      "[CV] C=1, decision_function_shape=ovo, gamma=0.1, kernel=rbf .........\n",
      "[CV]  C=1, decision_function_shape=ovo, gamma=0.1, kernel=rbf, score=0.388, total=   1.4s\n",
      "[CV] C=1, decision_function_shape=ovo, gamma=0.01, kernel=rbf ........\n",
      "[CV]  C=1, decision_function_shape=ovo, gamma=0.01, kernel=rbf, score=0.373, total=   1.5s\n",
      "[CV] C=1, decision_function_shape=ovo, gamma=0.01, kernel=rbf ........\n",
      "[CV]  C=1, decision_function_shape=ovo, gamma=0.01, kernel=rbf, score=0.378, total=   1.4s\n",
      "[CV] C=1, decision_function_shape=ovo, gamma=0.01, kernel=rbf ........\n",
      "[CV]  C=1, decision_function_shape=ovo, gamma=0.01, kernel=rbf, score=0.380, total=   1.6s\n",
      "[CV] C=1, decision_function_shape=ovo, gamma=0.01, kernel=rbf ........\n",
      "[CV]  C=1, decision_function_shape=ovo, gamma=0.01, kernel=rbf, score=0.370, total=   1.4s\n",
      "[CV] C=1, decision_function_shape=ovo, gamma=0.01, kernel=rbf ........\n",
      "[CV]  C=1, decision_function_shape=ovo, gamma=0.01, kernel=rbf, score=0.391, total=   1.4s\n",
      "[CV] C=1, decision_function_shape=ovo, gamma=0.001, kernel=rbf .......\n",
      "[CV]  C=1, decision_function_shape=ovo, gamma=0.001, kernel=rbf, score=0.350, total=   1.4s\n",
      "[CV] C=1, decision_function_shape=ovo, gamma=0.001, kernel=rbf .......\n",
      "[CV]  C=1, decision_function_shape=ovo, gamma=0.001, kernel=rbf, score=0.352, total=   1.4s\n",
      "[CV] C=1, decision_function_shape=ovo, gamma=0.001, kernel=rbf .......\n",
      "[CV]  C=1, decision_function_shape=ovo, gamma=0.001, kernel=rbf, score=0.336, total=   1.4s\n",
      "[CV] C=1, decision_function_shape=ovo, gamma=0.001, kernel=rbf .......\n",
      "[CV]  C=1, decision_function_shape=ovo, gamma=0.001, kernel=rbf, score=0.357, total=   1.4s\n",
      "[CV] C=1, decision_function_shape=ovo, gamma=0.001, kernel=rbf .......\n",
      "[CV]  C=1, decision_function_shape=ovo, gamma=0.001, kernel=rbf, score=0.376, total=   1.4s\n",
      "[CV] C=1, decision_function_shape=ovo, gamma=0.0001, kernel=rbf ......\n",
      "[CV]  C=1, decision_function_shape=ovo, gamma=0.0001, kernel=rbf, score=0.320, total=   1.3s\n",
      "[CV] C=1, decision_function_shape=ovo, gamma=0.0001, kernel=rbf ......\n",
      "[CV]  C=1, decision_function_shape=ovo, gamma=0.0001, kernel=rbf, score=0.350, total=   1.3s\n",
      "[CV] C=1, decision_function_shape=ovo, gamma=0.0001, kernel=rbf ......\n",
      "[CV]  C=1, decision_function_shape=ovo, gamma=0.0001, kernel=rbf, score=0.334, total=   1.3s\n",
      "[CV] C=1, decision_function_shape=ovo, gamma=0.0001, kernel=rbf ......\n",
      "[CV]  C=1, decision_function_shape=ovo, gamma=0.0001, kernel=rbf, score=0.333, total=   1.3s\n",
      "[CV] C=1, decision_function_shape=ovo, gamma=0.0001, kernel=rbf ......\n",
      "[CV]  C=1, decision_function_shape=ovo, gamma=0.0001, kernel=rbf, score=0.346, total=   1.3s\n",
      "[CV] C=10, decision_function_shape=ovo, gamma=1, kernel=rbf ..........\n",
      "[CV]  C=10, decision_function_shape=ovo, gamma=1, kernel=rbf, score=0.380, total=   1.5s\n",
      "[CV] C=10, decision_function_shape=ovo, gamma=1, kernel=rbf ..........\n",
      "[CV]  C=10, decision_function_shape=ovo, gamma=1, kernel=rbf, score=0.381, total=   1.5s\n",
      "[CV] C=10, decision_function_shape=ovo, gamma=1, kernel=rbf ..........\n",
      "[CV]  C=10, decision_function_shape=ovo, gamma=1, kernel=rbf, score=0.382, total=   1.5s\n",
      "[CV] C=10, decision_function_shape=ovo, gamma=1, kernel=rbf ..........\n"
     ]
    },
    {
     "name": "stdout",
     "output_type": "stream",
     "text": [
      "[CV]  C=10, decision_function_shape=ovo, gamma=1, kernel=rbf, score=0.381, total=   1.5s\n",
      "[CV] C=10, decision_function_shape=ovo, gamma=1, kernel=rbf ..........\n",
      "[CV]  C=10, decision_function_shape=ovo, gamma=1, kernel=rbf, score=0.387, total=   1.5s\n",
      "[CV] C=10, decision_function_shape=ovo, gamma=0.1, kernel=rbf ........\n",
      "[CV]  C=10, decision_function_shape=ovo, gamma=0.1, kernel=rbf, score=0.380, total=   1.5s\n",
      "[CV] C=10, decision_function_shape=ovo, gamma=0.1, kernel=rbf ........\n",
      "[CV]  C=10, decision_function_shape=ovo, gamma=0.1, kernel=rbf, score=0.378, total=   1.6s\n",
      "[CV] C=10, decision_function_shape=ovo, gamma=0.1, kernel=rbf ........\n",
      "[CV]  C=10, decision_function_shape=ovo, gamma=0.1, kernel=rbf, score=0.381, total=   1.5s\n",
      "[CV] C=10, decision_function_shape=ovo, gamma=0.1, kernel=rbf ........\n",
      "[CV]  C=10, decision_function_shape=ovo, gamma=0.1, kernel=rbf, score=0.380, total=   1.5s\n",
      "[CV] C=10, decision_function_shape=ovo, gamma=0.1, kernel=rbf ........\n",
      "[CV]  C=10, decision_function_shape=ovo, gamma=0.1, kernel=rbf, score=0.388, total=   1.5s\n",
      "[CV] C=10, decision_function_shape=ovo, gamma=0.01, kernel=rbf .......\n",
      "[CV]  C=10, decision_function_shape=ovo, gamma=0.01, kernel=rbf, score=0.371, total=   1.5s\n",
      "[CV] C=10, decision_function_shape=ovo, gamma=0.01, kernel=rbf .......\n",
      "[CV]  C=10, decision_function_shape=ovo, gamma=0.01, kernel=rbf, score=0.368, total=   1.5s\n",
      "[CV] C=10, decision_function_shape=ovo, gamma=0.01, kernel=rbf .......\n",
      "[CV]  C=10, decision_function_shape=ovo, gamma=0.01, kernel=rbf, score=0.372, total=   1.5s\n",
      "[CV] C=10, decision_function_shape=ovo, gamma=0.01, kernel=rbf .......\n",
      "[CV]  C=10, decision_function_shape=ovo, gamma=0.01, kernel=rbf, score=0.361, total=   1.5s\n",
      "[CV] C=10, decision_function_shape=ovo, gamma=0.01, kernel=rbf .......\n",
      "[CV]  C=10, decision_function_shape=ovo, gamma=0.01, kernel=rbf, score=0.380, total=   1.5s\n",
      "[CV] C=10, decision_function_shape=ovo, gamma=0.001, kernel=rbf ......\n",
      "[CV]  C=10, decision_function_shape=ovo, gamma=0.001, kernel=rbf, score=0.320, total=   1.5s\n",
      "[CV] C=10, decision_function_shape=ovo, gamma=0.001, kernel=rbf ......\n",
      "[CV]  C=10, decision_function_shape=ovo, gamma=0.001, kernel=rbf, score=0.330, total=   1.5s\n",
      "[CV] C=10, decision_function_shape=ovo, gamma=0.001, kernel=rbf ......\n",
      "[CV]  C=10, decision_function_shape=ovo, gamma=0.001, kernel=rbf, score=0.306, total=   1.5s\n",
      "[CV] C=10, decision_function_shape=ovo, gamma=0.001, kernel=rbf ......\n",
      "[CV]  C=10, decision_function_shape=ovo, gamma=0.001, kernel=rbf, score=0.324, total=   1.5s\n",
      "[CV] C=10, decision_function_shape=ovo, gamma=0.001, kernel=rbf ......\n",
      "[CV]  C=10, decision_function_shape=ovo, gamma=0.001, kernel=rbf, score=0.352, total=   1.5s\n",
      "[CV] C=10, decision_function_shape=ovo, gamma=0.0001, kernel=rbf .....\n",
      "[CV]  C=10, decision_function_shape=ovo, gamma=0.0001, kernel=rbf, score=0.290, total=   1.5s\n",
      "[CV] C=10, decision_function_shape=ovo, gamma=0.0001, kernel=rbf .....\n",
      "[CV]  C=10, decision_function_shape=ovo, gamma=0.0001, kernel=rbf, score=0.313, total=   1.6s\n",
      "[CV] C=10, decision_function_shape=ovo, gamma=0.0001, kernel=rbf .....\n",
      "[CV]  C=10, decision_function_shape=ovo, gamma=0.0001, kernel=rbf, score=0.291, total=   1.5s\n",
      "[CV] C=10, decision_function_shape=ovo, gamma=0.0001, kernel=rbf .....\n",
      "[CV]  C=10, decision_function_shape=ovo, gamma=0.0001, kernel=rbf, score=0.294, total=   1.5s\n",
      "[CV] C=10, decision_function_shape=ovo, gamma=0.0001, kernel=rbf .....\n",
      "[CV]  C=10, decision_function_shape=ovo, gamma=0.0001, kernel=rbf, score=0.304, total=   1.5s\n",
      "[CV] C=100, decision_function_shape=ovo, gamma=1, kernel=rbf .........\n",
      "[CV]  C=100, decision_function_shape=ovo, gamma=1, kernel=rbf, score=0.380, total=   1.5s\n",
      "[CV] C=100, decision_function_shape=ovo, gamma=1, kernel=rbf .........\n",
      "[CV]  C=100, decision_function_shape=ovo, gamma=1, kernel=rbf, score=0.381, total=   1.5s\n",
      "[CV] C=100, decision_function_shape=ovo, gamma=1, kernel=rbf .........\n",
      "[CV]  C=100, decision_function_shape=ovo, gamma=1, kernel=rbf, score=0.382, total=   1.5s\n",
      "[CV] C=100, decision_function_shape=ovo, gamma=1, kernel=rbf .........\n",
      "[CV]  C=100, decision_function_shape=ovo, gamma=1, kernel=rbf, score=0.381, total=   1.5s\n",
      "[CV] C=100, decision_function_shape=ovo, gamma=1, kernel=rbf .........\n",
      "[CV]  C=100, decision_function_shape=ovo, gamma=1, kernel=rbf, score=0.387, total=   1.6s\n",
      "[CV] C=100, decision_function_shape=ovo, gamma=0.1, kernel=rbf .......\n",
      "[CV]  C=100, decision_function_shape=ovo, gamma=0.1, kernel=rbf, score=0.380, total=   1.5s\n",
      "[CV] C=100, decision_function_shape=ovo, gamma=0.1, kernel=rbf .......\n",
      "[CV]  C=100, decision_function_shape=ovo, gamma=0.1, kernel=rbf, score=0.378, total=   1.5s\n",
      "[CV] C=100, decision_function_shape=ovo, gamma=0.1, kernel=rbf .......\n",
      "[CV]  C=100, decision_function_shape=ovo, gamma=0.1, kernel=rbf, score=0.381, total=   1.5s\n",
      "[CV] C=100, decision_function_shape=ovo, gamma=0.1, kernel=rbf .......\n",
      "[CV]  C=100, decision_function_shape=ovo, gamma=0.1, kernel=rbf, score=0.380, total=   1.5s\n",
      "[CV] C=100, decision_function_shape=ovo, gamma=0.1, kernel=rbf .......\n",
      "[CV]  C=100, decision_function_shape=ovo, gamma=0.1, kernel=rbf, score=0.388, total=   1.6s\n",
      "[CV] C=100, decision_function_shape=ovo, gamma=0.01, kernel=rbf ......\n",
      "[CV]  C=100, decision_function_shape=ovo, gamma=0.01, kernel=rbf, score=0.371, total=   1.5s\n",
      "[CV] C=100, decision_function_shape=ovo, gamma=0.01, kernel=rbf ......\n",
      "[CV]  C=100, decision_function_shape=ovo, gamma=0.01, kernel=rbf, score=0.368, total=   1.5s\n",
      "[CV] C=100, decision_function_shape=ovo, gamma=0.01, kernel=rbf ......\n",
      "[CV]  C=100, decision_function_shape=ovo, gamma=0.01, kernel=rbf, score=0.372, total=   1.5s\n",
      "[CV] C=100, decision_function_shape=ovo, gamma=0.01, kernel=rbf ......\n",
      "[CV]  C=100, decision_function_shape=ovo, gamma=0.01, kernel=rbf, score=0.361, total=   1.5s\n",
      "[CV] C=100, decision_function_shape=ovo, gamma=0.01, kernel=rbf ......\n",
      "[CV]  C=100, decision_function_shape=ovo, gamma=0.01, kernel=rbf, score=0.380, total=   1.5s\n",
      "[CV] C=100, decision_function_shape=ovo, gamma=0.001, kernel=rbf .....\n",
      "[CV]  C=100, decision_function_shape=ovo, gamma=0.001, kernel=rbf, score=0.322, total=   1.4s\n",
      "[CV] C=100, decision_function_shape=ovo, gamma=0.001, kernel=rbf .....\n",
      "[CV]  C=100, decision_function_shape=ovo, gamma=0.001, kernel=rbf, score=0.331, total=   1.5s\n",
      "[CV] C=100, decision_function_shape=ovo, gamma=0.001, kernel=rbf .....\n",
      "[CV]  C=100, decision_function_shape=ovo, gamma=0.001, kernel=rbf, score=0.305, total=   1.5s\n",
      "[CV] C=100, decision_function_shape=ovo, gamma=0.001, kernel=rbf .....\n",
      "[CV]  C=100, decision_function_shape=ovo, gamma=0.001, kernel=rbf, score=0.322, total=   1.5s\n",
      "[CV] C=100, decision_function_shape=ovo, gamma=0.001, kernel=rbf .....\n",
      "[CV]  C=100, decision_function_shape=ovo, gamma=0.001, kernel=rbf, score=0.352, total=   1.5s\n",
      "[CV] C=100, decision_function_shape=ovo, gamma=0.0001, kernel=rbf ....\n",
      "[CV]  C=100, decision_function_shape=ovo, gamma=0.0001, kernel=rbf, score=0.283, total=   1.9s\n",
      "[CV] C=100, decision_function_shape=ovo, gamma=0.0001, kernel=rbf ....\n",
      "[CV]  C=100, decision_function_shape=ovo, gamma=0.0001, kernel=rbf, score=0.311, total=   1.9s\n",
      "[CV] C=100, decision_function_shape=ovo, gamma=0.0001, kernel=rbf ....\n",
      "[CV]  C=100, decision_function_shape=ovo, gamma=0.0001, kernel=rbf, score=0.278, total=   1.9s\n",
      "[CV] C=100, decision_function_shape=ovo, gamma=0.0001, kernel=rbf ....\n",
      "[CV]  C=100, decision_function_shape=ovo, gamma=0.0001, kernel=rbf, score=0.277, total=   1.8s\n",
      "[CV] C=100, decision_function_shape=ovo, gamma=0.0001, kernel=rbf ....\n",
      "[CV]  C=100, decision_function_shape=ovo, gamma=0.0001, kernel=rbf, score=0.301, total=   2.1s\n",
      "[CV] C=1000, decision_function_shape=ovo, gamma=1, kernel=rbf ........\n",
      "[CV]  C=1000, decision_function_shape=ovo, gamma=1, kernel=rbf, score=0.380, total=   1.5s\n",
      "[CV] C=1000, decision_function_shape=ovo, gamma=1, kernel=rbf ........\n",
      "[CV]  C=1000, decision_function_shape=ovo, gamma=1, kernel=rbf, score=0.381, total=   1.5s\n",
      "[CV] C=1000, decision_function_shape=ovo, gamma=1, kernel=rbf ........\n",
      "[CV]  C=1000, decision_function_shape=ovo, gamma=1, kernel=rbf, score=0.382, total=   1.5s\n",
      "[CV] C=1000, decision_function_shape=ovo, gamma=1, kernel=rbf ........\n",
      "[CV]  C=1000, decision_function_shape=ovo, gamma=1, kernel=rbf, score=0.381, total=   1.5s\n",
      "[CV] C=1000, decision_function_shape=ovo, gamma=1, kernel=rbf ........\n"
     ]
    },
    {
     "name": "stdout",
     "output_type": "stream",
     "text": [
      "[CV]  C=1000, decision_function_shape=ovo, gamma=1, kernel=rbf, score=0.387, total=   1.5s\n",
      "[CV] C=1000, decision_function_shape=ovo, gamma=0.1, kernel=rbf ......\n",
      "[CV]  C=1000, decision_function_shape=ovo, gamma=0.1, kernel=rbf, score=0.380, total=   1.6s\n",
      "[CV] C=1000, decision_function_shape=ovo, gamma=0.1, kernel=rbf ......\n",
      "[CV]  C=1000, decision_function_shape=ovo, gamma=0.1, kernel=rbf, score=0.378, total=   1.6s\n",
      "[CV] C=1000, decision_function_shape=ovo, gamma=0.1, kernel=rbf ......\n",
      "[CV]  C=1000, decision_function_shape=ovo, gamma=0.1, kernel=rbf, score=0.381, total=   1.5s\n",
      "[CV] C=1000, decision_function_shape=ovo, gamma=0.1, kernel=rbf ......\n",
      "[CV]  C=1000, decision_function_shape=ovo, gamma=0.1, kernel=rbf, score=0.380, total=   1.6s\n",
      "[CV] C=1000, decision_function_shape=ovo, gamma=0.1, kernel=rbf ......\n",
      "[CV]  C=1000, decision_function_shape=ovo, gamma=0.1, kernel=rbf, score=0.388, total=   1.6s\n",
      "[CV] C=1000, decision_function_shape=ovo, gamma=0.01, kernel=rbf .....\n",
      "[CV]  C=1000, decision_function_shape=ovo, gamma=0.01, kernel=rbf, score=0.372, total=   1.5s\n",
      "[CV] C=1000, decision_function_shape=ovo, gamma=0.01, kernel=rbf .....\n",
      "[CV]  C=1000, decision_function_shape=ovo, gamma=0.01, kernel=rbf, score=0.368, total=   1.7s\n",
      "[CV] C=1000, decision_function_shape=ovo, gamma=0.01, kernel=rbf .....\n",
      "[CV]  C=1000, decision_function_shape=ovo, gamma=0.01, kernel=rbf, score=0.372, total=   1.8s\n",
      "[CV] C=1000, decision_function_shape=ovo, gamma=0.01, kernel=rbf .....\n",
      "[CV]  C=1000, decision_function_shape=ovo, gamma=0.01, kernel=rbf, score=0.361, total=   1.6s\n",
      "[CV] C=1000, decision_function_shape=ovo, gamma=0.01, kernel=rbf .....\n",
      "[CV]  C=1000, decision_function_shape=ovo, gamma=0.01, kernel=rbf, score=0.380, total=   1.5s\n",
      "[CV] C=1000, decision_function_shape=ovo, gamma=0.001, kernel=rbf ....\n",
      "[CV]  C=1000, decision_function_shape=ovo, gamma=0.001, kernel=rbf, score=0.322, total=   1.5s\n",
      "[CV] C=1000, decision_function_shape=ovo, gamma=0.001, kernel=rbf ....\n",
      "[CV]  C=1000, decision_function_shape=ovo, gamma=0.001, kernel=rbf, score=0.331, total=   1.7s\n",
      "[CV] C=1000, decision_function_shape=ovo, gamma=0.001, kernel=rbf ....\n",
      "[CV]  C=1000, decision_function_shape=ovo, gamma=0.001, kernel=rbf, score=0.305, total=   3.1s\n",
      "[CV] C=1000, decision_function_shape=ovo, gamma=0.001, kernel=rbf ....\n",
      "[CV]  C=1000, decision_function_shape=ovo, gamma=0.001, kernel=rbf, score=0.322, total=   2.3s\n",
      "[CV] C=1000, decision_function_shape=ovo, gamma=0.001, kernel=rbf ....\n",
      "[CV]  C=1000, decision_function_shape=ovo, gamma=0.001, kernel=rbf, score=0.352, total=   2.1s\n",
      "[CV] C=1000, decision_function_shape=ovo, gamma=0.0001, kernel=rbf ...\n",
      "[CV]  C=1000, decision_function_shape=ovo, gamma=0.0001, kernel=rbf, score=0.279, total=   2.8s\n",
      "[CV] C=1000, decision_function_shape=ovo, gamma=0.0001, kernel=rbf ...\n",
      "[CV]  C=1000, decision_function_shape=ovo, gamma=0.0001, kernel=rbf, score=0.310, total=   2.7s\n",
      "[CV] C=1000, decision_function_shape=ovo, gamma=0.0001, kernel=rbf ...\n",
      "[CV]  C=1000, decision_function_shape=ovo, gamma=0.0001, kernel=rbf, score=0.277, total=   2.2s\n",
      "[CV] C=1000, decision_function_shape=ovo, gamma=0.0001, kernel=rbf ...\n",
      "[CV]  C=1000, decision_function_shape=ovo, gamma=0.0001, kernel=rbf, score=0.268, total=   2.1s\n",
      "[CV] C=1000, decision_function_shape=ovo, gamma=0.0001, kernel=rbf ...\n",
      "[CV]  C=1000, decision_function_shape=ovo, gamma=0.0001, kernel=rbf, score=0.296, total=   2.0s\n"
     ]
    },
    {
     "name": "stderr",
     "output_type": "stream",
     "text": [
      "[Parallel(n_jobs=1)]: Done 125 out of 125 | elapsed:  3.2min finished\n"
     ]
    },
    {
     "data": {
      "text/plain": [
       "GridSearchCV(estimator=SVC(),\n",
       "             param_grid={'C': [0.1, 1, 10, 100, 1000],\n",
       "                         'decision_function_shape': ['ovo'],\n",
       "                         'gamma': [1, 0.1, 0.01, 0.001, 0.0001],\n",
       "                         'kernel': ['rbf']},\n",
       "             verbose=3)"
      ]
     },
     "execution_count": 52,
     "metadata": {},
     "output_type": "execute_result"
    }
   ],
   "source": [
    "#Fit the GridSearch model \n",
    "svmgrid.fit(X_train, y_train) "
   ]
  },
  {
   "cell_type": "code",
   "execution_count": 53,
   "metadata": {
    "scrolled": true
   },
   "outputs": [
    {
     "name": "stdout",
     "output_type": "stream",
     "text": [
      "Train Precision: 0.38251535563009786\n",
      "Test Precision: 0.499481742145342\n",
      "{'C': 1, 'decision_function_shape': 'ovo', 'gamma': 1, 'kernel': 'rbf'}\n"
     ]
    }
   ],
   "source": [
    "#Display the best possible precision results as well as the best parameters\n",
    "print(f'Train Precision: {svmgrid.best_score_}')\n",
    "svmtest_precision = precision_score(y_test, svmgrid.predict(X_test), average='weighted')\n",
    "print(f'Test Precision: {svmtest_precision}')\n",
    "print(svmgrid.best_params_)"
   ]
  },
  {
   "cell_type": "code",
   "execution_count": 54,
   "metadata": {},
   "outputs": [
    {
     "name": "stdout",
     "output_type": "stream",
     "text": [
      "Fitting 5 folds for each of 25 candidates, totalling 125 fits\n",
      "[CV] C=0.1, decision_function_shape=ovo, gamma=1, kernel=rbf .........\n"
     ]
    },
    {
     "name": "stderr",
     "output_type": "stream",
     "text": [
      "[Parallel(n_jobs=1)]: Using backend SequentialBackend with 1 concurrent workers.\n"
     ]
    },
    {
     "name": "stdout",
     "output_type": "stream",
     "text": [
      "[CV]  C=0.1, decision_function_shape=ovo, gamma=1, kernel=rbf, score=0.378, total=   1.2s\n",
      "[CV] C=0.1, decision_function_shape=ovo, gamma=1, kernel=rbf .........\n"
     ]
    },
    {
     "name": "stderr",
     "output_type": "stream",
     "text": [
      "[Parallel(n_jobs=1)]: Done   1 out of   1 | elapsed:    1.2s remaining:    0.0s\n"
     ]
    },
    {
     "name": "stdout",
     "output_type": "stream",
     "text": [
      "[CV]  C=0.1, decision_function_shape=ovo, gamma=1, kernel=rbf, score=0.378, total=   1.0s\n",
      "[CV] C=0.1, decision_function_shape=ovo, gamma=1, kernel=rbf .........\n"
     ]
    },
    {
     "name": "stderr",
     "output_type": "stream",
     "text": [
      "[Parallel(n_jobs=1)]: Done   2 out of   2 | elapsed:    2.2s remaining:    0.0s\n"
     ]
    },
    {
     "name": "stdout",
     "output_type": "stream",
     "text": [
      "[CV]  C=0.1, decision_function_shape=ovo, gamma=1, kernel=rbf, score=0.379, total=   1.0s\n",
      "[CV] C=0.1, decision_function_shape=ovo, gamma=1, kernel=rbf .........\n",
      "[CV]  C=0.1, decision_function_shape=ovo, gamma=1, kernel=rbf, score=0.378, total=   1.0s\n",
      "[CV] C=0.1, decision_function_shape=ovo, gamma=1, kernel=rbf .........\n",
      "[CV]  C=0.1, decision_function_shape=ovo, gamma=1, kernel=rbf, score=0.378, total=   1.0s\n",
      "[CV] C=0.1, decision_function_shape=ovo, gamma=0.1, kernel=rbf .......\n",
      "[CV]  C=0.1, decision_function_shape=ovo, gamma=0.1, kernel=rbf, score=0.378, total=   1.4s\n",
      "[CV] C=0.1, decision_function_shape=ovo, gamma=0.1, kernel=rbf .......\n",
      "[CV]  C=0.1, decision_function_shape=ovo, gamma=0.1, kernel=rbf, score=0.378, total=   1.4s\n",
      "[CV] C=0.1, decision_function_shape=ovo, gamma=0.1, kernel=rbf .......\n",
      "[CV]  C=0.1, decision_function_shape=ovo, gamma=0.1, kernel=rbf, score=0.379, total=   1.5s\n",
      "[CV] C=0.1, decision_function_shape=ovo, gamma=0.1, kernel=rbf .......\n",
      "[CV]  C=0.1, decision_function_shape=ovo, gamma=0.1, kernel=rbf, score=0.378, total=   1.1s\n",
      "[CV] C=0.1, decision_function_shape=ovo, gamma=0.1, kernel=rbf .......\n",
      "[CV]  C=0.1, decision_function_shape=ovo, gamma=0.1, kernel=rbf, score=0.378, total=   1.2s\n",
      "[CV] C=0.1, decision_function_shape=ovo, gamma=0.01, kernel=rbf ......\n",
      "[CV]  C=0.1, decision_function_shape=ovo, gamma=0.01, kernel=rbf, score=0.378, total=   1.1s\n",
      "[CV] C=0.1, decision_function_shape=ovo, gamma=0.01, kernel=rbf ......\n",
      "[CV]  C=0.1, decision_function_shape=ovo, gamma=0.01, kernel=rbf, score=0.378, total=   1.1s\n",
      "[CV] C=0.1, decision_function_shape=ovo, gamma=0.01, kernel=rbf ......\n",
      "[CV]  C=0.1, decision_function_shape=ovo, gamma=0.01, kernel=rbf, score=0.379, total=   1.0s\n",
      "[CV] C=0.1, decision_function_shape=ovo, gamma=0.01, kernel=rbf ......\n",
      "[CV]  C=0.1, decision_function_shape=ovo, gamma=0.01, kernel=rbf, score=0.378, total=   1.1s\n",
      "[CV] C=0.1, decision_function_shape=ovo, gamma=0.01, kernel=rbf ......\n",
      "[CV]  C=0.1, decision_function_shape=ovo, gamma=0.01, kernel=rbf, score=0.378, total=   1.1s\n",
      "[CV] C=0.1, decision_function_shape=ovo, gamma=0.001, kernel=rbf .....\n",
      "[CV]  C=0.1, decision_function_shape=ovo, gamma=0.001, kernel=rbf, score=0.378, total=   1.0s\n",
      "[CV] C=0.1, decision_function_shape=ovo, gamma=0.001, kernel=rbf .....\n",
      "[CV]  C=0.1, decision_function_shape=ovo, gamma=0.001, kernel=rbf, score=0.378, total=   1.0s\n",
      "[CV] C=0.1, decision_function_shape=ovo, gamma=0.001, kernel=rbf .....\n",
      "[CV]  C=0.1, decision_function_shape=ovo, gamma=0.001, kernel=rbf, score=0.379, total=   1.0s\n",
      "[CV] C=0.1, decision_function_shape=ovo, gamma=0.001, kernel=rbf .....\n",
      "[CV]  C=0.1, decision_function_shape=ovo, gamma=0.001, kernel=rbf, score=0.378, total=   1.0s\n",
      "[CV] C=0.1, decision_function_shape=ovo, gamma=0.001, kernel=rbf .....\n",
      "[CV]  C=0.1, decision_function_shape=ovo, gamma=0.001, kernel=rbf, score=0.378, total=   1.1s\n",
      "[CV] C=0.1, decision_function_shape=ovo, gamma=0.0001, kernel=rbf ....\n",
      "[CV]  C=0.1, decision_function_shape=ovo, gamma=0.0001, kernel=rbf, score=0.378, total=   1.0s\n",
      "[CV] C=0.1, decision_function_shape=ovo, gamma=0.0001, kernel=rbf ....\n",
      "[CV]  C=0.1, decision_function_shape=ovo, gamma=0.0001, kernel=rbf, score=0.378, total=   1.0s\n",
      "[CV] C=0.1, decision_function_shape=ovo, gamma=0.0001, kernel=rbf ....\n",
      "[CV]  C=0.1, decision_function_shape=ovo, gamma=0.0001, kernel=rbf, score=0.379, total=   1.0s\n",
      "[CV] C=0.1, decision_function_shape=ovo, gamma=0.0001, kernel=rbf ....\n",
      "[CV]  C=0.1, decision_function_shape=ovo, gamma=0.0001, kernel=rbf, score=0.378, total=   1.0s\n",
      "[CV] C=0.1, decision_function_shape=ovo, gamma=0.0001, kernel=rbf ....\n",
      "[CV]  C=0.1, decision_function_shape=ovo, gamma=0.0001, kernel=rbf, score=0.378, total=   1.0s\n",
      "[CV] C=1, decision_function_shape=ovo, gamma=1, kernel=rbf ...........\n",
      "[CV]  C=1, decision_function_shape=ovo, gamma=1, kernel=rbf, score=0.375, total=   1.1s\n",
      "[CV] C=1, decision_function_shape=ovo, gamma=1, kernel=rbf ...........\n",
      "[CV]  C=1, decision_function_shape=ovo, gamma=1, kernel=rbf, score=0.375, total=   1.1s\n",
      "[CV] C=1, decision_function_shape=ovo, gamma=1, kernel=rbf ...........\n",
      "[CV]  C=1, decision_function_shape=ovo, gamma=1, kernel=rbf, score=0.375, total=   1.1s\n",
      "[CV] C=1, decision_function_shape=ovo, gamma=1, kernel=rbf ...........\n",
      "[CV]  C=1, decision_function_shape=ovo, gamma=1, kernel=rbf, score=0.375, total=   2.0s\n",
      "[CV] C=1, decision_function_shape=ovo, gamma=1, kernel=rbf ...........\n",
      "[CV]  C=1, decision_function_shape=ovo, gamma=1, kernel=rbf, score=0.378, total=   1.8s\n",
      "[CV] C=1, decision_function_shape=ovo, gamma=0.1, kernel=rbf .........\n",
      "[CV]  C=1, decision_function_shape=ovo, gamma=0.1, kernel=rbf, score=0.374, total=   1.7s\n",
      "[CV] C=1, decision_function_shape=ovo, gamma=0.1, kernel=rbf .........\n",
      "[CV]  C=1, decision_function_shape=ovo, gamma=0.1, kernel=rbf, score=0.375, total=   1.5s\n",
      "[CV] C=1, decision_function_shape=ovo, gamma=0.1, kernel=rbf .........\n",
      "[CV]  C=1, decision_function_shape=ovo, gamma=0.1, kernel=rbf, score=0.372, total=   1.2s\n",
      "[CV] C=1, decision_function_shape=ovo, gamma=0.1, kernel=rbf .........\n",
      "[CV]  C=1, decision_function_shape=ovo, gamma=0.1, kernel=rbf, score=0.375, total=   1.2s\n",
      "[CV] C=1, decision_function_shape=ovo, gamma=0.1, kernel=rbf .........\n",
      "[CV]  C=1, decision_function_shape=ovo, gamma=0.1, kernel=rbf, score=0.377, total=   1.5s\n",
      "[CV] C=1, decision_function_shape=ovo, gamma=0.01, kernel=rbf ........\n",
      "[CV]  C=1, decision_function_shape=ovo, gamma=0.01, kernel=rbf, score=0.367, total=   1.2s\n",
      "[CV] C=1, decision_function_shape=ovo, gamma=0.01, kernel=rbf ........\n",
      "[CV]  C=1, decision_function_shape=ovo, gamma=0.01, kernel=rbf, score=0.369, total=   1.3s\n",
      "[CV] C=1, decision_function_shape=ovo, gamma=0.01, kernel=rbf ........\n",
      "[CV]  C=1, decision_function_shape=ovo, gamma=0.01, kernel=rbf, score=0.371, total=   1.2s\n",
      "[CV] C=1, decision_function_shape=ovo, gamma=0.01, kernel=rbf ........\n",
      "[CV]  C=1, decision_function_shape=ovo, gamma=0.01, kernel=rbf, score=0.374, total=   1.2s\n",
      "[CV] C=1, decision_function_shape=ovo, gamma=0.01, kernel=rbf ........\n",
      "[CV]  C=1, decision_function_shape=ovo, gamma=0.01, kernel=rbf, score=0.377, total=   1.4s\n",
      "[CV] C=1, decision_function_shape=ovo, gamma=0.001, kernel=rbf .......\n",
      "[CV]  C=1, decision_function_shape=ovo, gamma=0.001, kernel=rbf, score=0.348, total=   1.2s\n",
      "[CV] C=1, decision_function_shape=ovo, gamma=0.001, kernel=rbf .......\n",
      "[CV]  C=1, decision_function_shape=ovo, gamma=0.001, kernel=rbf, score=0.355, total=   1.2s\n",
      "[CV] C=1, decision_function_shape=ovo, gamma=0.001, kernel=rbf .......\n",
      "[CV]  C=1, decision_function_shape=ovo, gamma=0.001, kernel=rbf, score=0.351, total=   1.1s\n",
      "[CV] C=1, decision_function_shape=ovo, gamma=0.001, kernel=rbf .......\n",
      "[CV]  C=1, decision_function_shape=ovo, gamma=0.001, kernel=rbf, score=0.360, total=   1.1s\n",
      "[CV] C=1, decision_function_shape=ovo, gamma=0.001, kernel=rbf .......\n",
      "[CV]  C=1, decision_function_shape=ovo, gamma=0.001, kernel=rbf, score=0.362, total=   1.1s\n",
      "[CV] C=1, decision_function_shape=ovo, gamma=0.0001, kernel=rbf ......\n",
      "[CV]  C=1, decision_function_shape=ovo, gamma=0.0001, kernel=rbf, score=0.334, total=   1.1s\n",
      "[CV] C=1, decision_function_shape=ovo, gamma=0.0001, kernel=rbf ......\n",
      "[CV]  C=1, decision_function_shape=ovo, gamma=0.0001, kernel=rbf, score=0.332, total=   1.0s\n",
      "[CV] C=1, decision_function_shape=ovo, gamma=0.0001, kernel=rbf ......\n",
      "[CV]  C=1, decision_function_shape=ovo, gamma=0.0001, kernel=rbf, score=0.331, total=   1.1s\n",
      "[CV] C=1, decision_function_shape=ovo, gamma=0.0001, kernel=rbf ......\n",
      "[CV]  C=1, decision_function_shape=ovo, gamma=0.0001, kernel=rbf, score=0.348, total=   1.1s\n",
      "[CV] C=1, decision_function_shape=ovo, gamma=0.0001, kernel=rbf ......\n",
      "[CV]  C=1, decision_function_shape=ovo, gamma=0.0001, kernel=rbf, score=0.338, total=   1.1s\n",
      "[CV] C=10, decision_function_shape=ovo, gamma=1, kernel=rbf ..........\n",
      "[CV]  C=10, decision_function_shape=ovo, gamma=1, kernel=rbf, score=0.375, total=   1.3s\n",
      "[CV] C=10, decision_function_shape=ovo, gamma=1, kernel=rbf ..........\n",
      "[CV]  C=10, decision_function_shape=ovo, gamma=1, kernel=rbf, score=0.375, total=   1.2s\n",
      "[CV] C=10, decision_function_shape=ovo, gamma=1, kernel=rbf ..........\n",
      "[CV]  C=10, decision_function_shape=ovo, gamma=1, kernel=rbf, score=0.372, total=   1.2s\n",
      "[CV] C=10, decision_function_shape=ovo, gamma=1, kernel=rbf ..........\n"
     ]
    },
    {
     "name": "stdout",
     "output_type": "stream",
     "text": [
      "[CV]  C=10, decision_function_shape=ovo, gamma=1, kernel=rbf, score=0.375, total=   1.2s\n",
      "[CV] C=10, decision_function_shape=ovo, gamma=1, kernel=rbf ..........\n",
      "[CV]  C=10, decision_function_shape=ovo, gamma=1, kernel=rbf, score=0.378, total=   1.3s\n",
      "[CV] C=10, decision_function_shape=ovo, gamma=0.1, kernel=rbf ........\n",
      "[CV]  C=10, decision_function_shape=ovo, gamma=0.1, kernel=rbf, score=0.373, total=   1.2s\n",
      "[CV] C=10, decision_function_shape=ovo, gamma=0.1, kernel=rbf ........\n",
      "[CV]  C=10, decision_function_shape=ovo, gamma=0.1, kernel=rbf, score=0.376, total=   1.2s\n",
      "[CV] C=10, decision_function_shape=ovo, gamma=0.1, kernel=rbf ........\n",
      "[CV]  C=10, decision_function_shape=ovo, gamma=0.1, kernel=rbf, score=0.372, total=   1.2s\n",
      "[CV] C=10, decision_function_shape=ovo, gamma=0.1, kernel=rbf ........\n",
      "[CV]  C=10, decision_function_shape=ovo, gamma=0.1, kernel=rbf, score=0.375, total=   1.2s\n",
      "[CV] C=10, decision_function_shape=ovo, gamma=0.1, kernel=rbf ........\n",
      "[CV]  C=10, decision_function_shape=ovo, gamma=0.1, kernel=rbf, score=0.377, total=   1.2s\n",
      "[CV] C=10, decision_function_shape=ovo, gamma=0.01, kernel=rbf .......\n",
      "[CV]  C=10, decision_function_shape=ovo, gamma=0.01, kernel=rbf, score=0.357, total=   1.1s\n",
      "[CV] C=10, decision_function_shape=ovo, gamma=0.01, kernel=rbf .......\n",
      "[CV]  C=10, decision_function_shape=ovo, gamma=0.01, kernel=rbf, score=0.364, total=   1.2s\n",
      "[CV] C=10, decision_function_shape=ovo, gamma=0.01, kernel=rbf .......\n",
      "[CV]  C=10, decision_function_shape=ovo, gamma=0.01, kernel=rbf, score=0.362, total=   1.1s\n",
      "[CV] C=10, decision_function_shape=ovo, gamma=0.01, kernel=rbf .......\n",
      "[CV]  C=10, decision_function_shape=ovo, gamma=0.01, kernel=rbf, score=0.368, total=   1.1s\n",
      "[CV] C=10, decision_function_shape=ovo, gamma=0.01, kernel=rbf .......\n",
      "[CV]  C=10, decision_function_shape=ovo, gamma=0.01, kernel=rbf, score=0.372, total=   1.2s\n",
      "[CV] C=10, decision_function_shape=ovo, gamma=0.001, kernel=rbf ......\n",
      "[CV]  C=10, decision_function_shape=ovo, gamma=0.001, kernel=rbf, score=0.321, total=   1.2s\n",
      "[CV] C=10, decision_function_shape=ovo, gamma=0.001, kernel=rbf ......\n",
      "[CV]  C=10, decision_function_shape=ovo, gamma=0.001, kernel=rbf, score=0.328, total=   1.2s\n",
      "[CV] C=10, decision_function_shape=ovo, gamma=0.001, kernel=rbf ......\n",
      "[CV]  C=10, decision_function_shape=ovo, gamma=0.001, kernel=rbf, score=0.309, total=   1.2s\n",
      "[CV] C=10, decision_function_shape=ovo, gamma=0.001, kernel=rbf ......\n",
      "[CV]  C=10, decision_function_shape=ovo, gamma=0.001, kernel=rbf, score=0.356, total=   1.2s\n",
      "[CV] C=10, decision_function_shape=ovo, gamma=0.001, kernel=rbf ......\n",
      "[CV]  C=10, decision_function_shape=ovo, gamma=0.001, kernel=rbf, score=0.342, total=   1.2s\n",
      "[CV] C=10, decision_function_shape=ovo, gamma=0.0001, kernel=rbf .....\n",
      "[CV]  C=10, decision_function_shape=ovo, gamma=0.0001, kernel=rbf, score=0.278, total=   1.2s\n",
      "[CV] C=10, decision_function_shape=ovo, gamma=0.0001, kernel=rbf .....\n",
      "[CV]  C=10, decision_function_shape=ovo, gamma=0.0001, kernel=rbf, score=0.280, total=   1.2s\n",
      "[CV] C=10, decision_function_shape=ovo, gamma=0.0001, kernel=rbf .....\n",
      "[CV]  C=10, decision_function_shape=ovo, gamma=0.0001, kernel=rbf, score=0.261, total=   1.3s\n",
      "[CV] C=10, decision_function_shape=ovo, gamma=0.0001, kernel=rbf .....\n",
      "[CV]  C=10, decision_function_shape=ovo, gamma=0.0001, kernel=rbf, score=0.302, total=   1.2s\n",
      "[CV] C=10, decision_function_shape=ovo, gamma=0.0001, kernel=rbf .....\n",
      "[CV]  C=10, decision_function_shape=ovo, gamma=0.0001, kernel=rbf, score=0.291, total=   1.3s\n",
      "[CV] C=100, decision_function_shape=ovo, gamma=1, kernel=rbf .........\n",
      "[CV]  C=100, decision_function_shape=ovo, gamma=1, kernel=rbf, score=0.375, total=   1.2s\n",
      "[CV] C=100, decision_function_shape=ovo, gamma=1, kernel=rbf .........\n",
      "[CV]  C=100, decision_function_shape=ovo, gamma=1, kernel=rbf, score=0.375, total=   1.2s\n",
      "[CV] C=100, decision_function_shape=ovo, gamma=1, kernel=rbf .........\n",
      "[CV]  C=100, decision_function_shape=ovo, gamma=1, kernel=rbf, score=0.372, total=   1.2s\n",
      "[CV] C=100, decision_function_shape=ovo, gamma=1, kernel=rbf .........\n",
      "[CV]  C=100, decision_function_shape=ovo, gamma=1, kernel=rbf, score=0.375, total=   1.2s\n",
      "[CV] C=100, decision_function_shape=ovo, gamma=1, kernel=rbf .........\n",
      "[CV]  C=100, decision_function_shape=ovo, gamma=1, kernel=rbf, score=0.378, total=   1.2s\n",
      "[CV] C=100, decision_function_shape=ovo, gamma=0.1, kernel=rbf .......\n",
      "[CV]  C=100, decision_function_shape=ovo, gamma=0.1, kernel=rbf, score=0.373, total=   1.2s\n",
      "[CV] C=100, decision_function_shape=ovo, gamma=0.1, kernel=rbf .......\n",
      "[CV]  C=100, decision_function_shape=ovo, gamma=0.1, kernel=rbf, score=0.376, total=   1.2s\n",
      "[CV] C=100, decision_function_shape=ovo, gamma=0.1, kernel=rbf .......\n",
      "[CV]  C=100, decision_function_shape=ovo, gamma=0.1, kernel=rbf, score=0.372, total=   1.2s\n",
      "[CV] C=100, decision_function_shape=ovo, gamma=0.1, kernel=rbf .......\n",
      "[CV]  C=100, decision_function_shape=ovo, gamma=0.1, kernel=rbf, score=0.375, total=   1.2s\n",
      "[CV] C=100, decision_function_shape=ovo, gamma=0.1, kernel=rbf .......\n",
      "[CV]  C=100, decision_function_shape=ovo, gamma=0.1, kernel=rbf, score=0.377, total=   1.2s\n",
      "[CV] C=100, decision_function_shape=ovo, gamma=0.01, kernel=rbf ......\n",
      "[CV]  C=100, decision_function_shape=ovo, gamma=0.01, kernel=rbf, score=0.357, total=   1.1s\n",
      "[CV] C=100, decision_function_shape=ovo, gamma=0.01, kernel=rbf ......\n",
      "[CV]  C=100, decision_function_shape=ovo, gamma=0.01, kernel=rbf, score=0.364, total=   1.1s\n",
      "[CV] C=100, decision_function_shape=ovo, gamma=0.01, kernel=rbf ......\n",
      "[CV]  C=100, decision_function_shape=ovo, gamma=0.01, kernel=rbf, score=0.362, total=   1.1s\n",
      "[CV] C=100, decision_function_shape=ovo, gamma=0.01, kernel=rbf ......\n",
      "[CV]  C=100, decision_function_shape=ovo, gamma=0.01, kernel=rbf, score=0.368, total=   1.2s\n",
      "[CV] C=100, decision_function_shape=ovo, gamma=0.01, kernel=rbf ......\n",
      "[CV]  C=100, decision_function_shape=ovo, gamma=0.01, kernel=rbf, score=0.372, total=   1.1s\n",
      "[CV] C=100, decision_function_shape=ovo, gamma=0.001, kernel=rbf .....\n",
      "[CV]  C=100, decision_function_shape=ovo, gamma=0.001, kernel=rbf, score=0.322, total=   1.1s\n",
      "[CV] C=100, decision_function_shape=ovo, gamma=0.001, kernel=rbf .....\n",
      "[CV]  C=100, decision_function_shape=ovo, gamma=0.001, kernel=rbf, score=0.328, total=   1.2s\n",
      "[CV] C=100, decision_function_shape=ovo, gamma=0.001, kernel=rbf .....\n",
      "[CV]  C=100, decision_function_shape=ovo, gamma=0.001, kernel=rbf, score=0.305, total=   1.1s\n",
      "[CV] C=100, decision_function_shape=ovo, gamma=0.001, kernel=rbf .....\n",
      "[CV]  C=100, decision_function_shape=ovo, gamma=0.001, kernel=rbf, score=0.354, total=   1.1s\n",
      "[CV] C=100, decision_function_shape=ovo, gamma=0.001, kernel=rbf .....\n",
      "[CV]  C=100, decision_function_shape=ovo, gamma=0.001, kernel=rbf, score=0.343, total=   1.2s\n",
      "[CV] C=100, decision_function_shape=ovo, gamma=0.0001, kernel=rbf ....\n",
      "[CV]  C=100, decision_function_shape=ovo, gamma=0.0001, kernel=rbf, score=0.269, total=   1.4s\n",
      "[CV] C=100, decision_function_shape=ovo, gamma=0.0001, kernel=rbf ....\n",
      "[CV]  C=100, decision_function_shape=ovo, gamma=0.0001, kernel=rbf, score=0.270, total=   1.4s\n",
      "[CV] C=100, decision_function_shape=ovo, gamma=0.0001, kernel=rbf ....\n",
      "[CV]  C=100, decision_function_shape=ovo, gamma=0.0001, kernel=rbf, score=0.255, total=   1.3s\n",
      "[CV] C=100, decision_function_shape=ovo, gamma=0.0001, kernel=rbf ....\n",
      "[CV]  C=100, decision_function_shape=ovo, gamma=0.0001, kernel=rbf, score=0.298, total=   1.5s\n",
      "[CV] C=100, decision_function_shape=ovo, gamma=0.0001, kernel=rbf ....\n",
      "[CV]  C=100, decision_function_shape=ovo, gamma=0.0001, kernel=rbf, score=0.296, total=   1.4s\n",
      "[CV] C=1000, decision_function_shape=ovo, gamma=1, kernel=rbf ........\n",
      "[CV]  C=1000, decision_function_shape=ovo, gamma=1, kernel=rbf, score=0.375, total=   1.3s\n",
      "[CV] C=1000, decision_function_shape=ovo, gamma=1, kernel=rbf ........\n",
      "[CV]  C=1000, decision_function_shape=ovo, gamma=1, kernel=rbf, score=0.375, total=   1.3s\n",
      "[CV] C=1000, decision_function_shape=ovo, gamma=1, kernel=rbf ........\n",
      "[CV]  C=1000, decision_function_shape=ovo, gamma=1, kernel=rbf, score=0.372, total=   2.5s\n",
      "[CV] C=1000, decision_function_shape=ovo, gamma=1, kernel=rbf ........\n",
      "[CV]  C=1000, decision_function_shape=ovo, gamma=1, kernel=rbf, score=0.375, total=   2.5s\n",
      "[CV] C=1000, decision_function_shape=ovo, gamma=1, kernel=rbf ........\n"
     ]
    },
    {
     "name": "stdout",
     "output_type": "stream",
     "text": [
      "[CV]  C=1000, decision_function_shape=ovo, gamma=1, kernel=rbf, score=0.378, total=   2.1s\n",
      "[CV] C=1000, decision_function_shape=ovo, gamma=0.1, kernel=rbf ......\n",
      "[CV]  C=1000, decision_function_shape=ovo, gamma=0.1, kernel=rbf, score=0.373, total=   2.6s\n",
      "[CV] C=1000, decision_function_shape=ovo, gamma=0.1, kernel=rbf ......\n",
      "[CV]  C=1000, decision_function_shape=ovo, gamma=0.1, kernel=rbf, score=0.376, total=   2.4s\n",
      "[CV] C=1000, decision_function_shape=ovo, gamma=0.1, kernel=rbf ......\n",
      "[CV]  C=1000, decision_function_shape=ovo, gamma=0.1, kernel=rbf, score=0.372, total=   2.0s\n",
      "[CV] C=1000, decision_function_shape=ovo, gamma=0.1, kernel=rbf ......\n",
      "[CV]  C=1000, decision_function_shape=ovo, gamma=0.1, kernel=rbf, score=0.375, total=   1.8s\n",
      "[CV] C=1000, decision_function_shape=ovo, gamma=0.1, kernel=rbf ......\n",
      "[CV]  C=1000, decision_function_shape=ovo, gamma=0.1, kernel=rbf, score=0.377, total=   1.5s\n",
      "[CV] C=1000, decision_function_shape=ovo, gamma=0.01, kernel=rbf .....\n",
      "[CV]  C=1000, decision_function_shape=ovo, gamma=0.01, kernel=rbf, score=0.357, total=   1.3s\n",
      "[CV] C=1000, decision_function_shape=ovo, gamma=0.01, kernel=rbf .....\n",
      "[CV]  C=1000, decision_function_shape=ovo, gamma=0.01, kernel=rbf, score=0.364, total=   1.3s\n",
      "[CV] C=1000, decision_function_shape=ovo, gamma=0.01, kernel=rbf .....\n",
      "[CV]  C=1000, decision_function_shape=ovo, gamma=0.01, kernel=rbf, score=0.362, total=   1.2s\n",
      "[CV] C=1000, decision_function_shape=ovo, gamma=0.01, kernel=rbf .....\n",
      "[CV]  C=1000, decision_function_shape=ovo, gamma=0.01, kernel=rbf, score=0.368, total=   1.6s\n",
      "[CV] C=1000, decision_function_shape=ovo, gamma=0.01, kernel=rbf .....\n",
      "[CV]  C=1000, decision_function_shape=ovo, gamma=0.01, kernel=rbf, score=0.372, total=   1.9s\n",
      "[CV] C=1000, decision_function_shape=ovo, gamma=0.001, kernel=rbf ....\n",
      "[CV]  C=1000, decision_function_shape=ovo, gamma=0.001, kernel=rbf, score=0.322, total=   1.3s\n",
      "[CV] C=1000, decision_function_shape=ovo, gamma=0.001, kernel=rbf ....\n",
      "[CV]  C=1000, decision_function_shape=ovo, gamma=0.001, kernel=rbf, score=0.329, total=   1.4s\n",
      "[CV] C=1000, decision_function_shape=ovo, gamma=0.001, kernel=rbf ....\n",
      "[CV]  C=1000, decision_function_shape=ovo, gamma=0.001, kernel=rbf, score=0.305, total=   1.5s\n",
      "[CV] C=1000, decision_function_shape=ovo, gamma=0.001, kernel=rbf ....\n",
      "[CV]  C=1000, decision_function_shape=ovo, gamma=0.001, kernel=rbf, score=0.354, total=   1.3s\n",
      "[CV] C=1000, decision_function_shape=ovo, gamma=0.001, kernel=rbf ....\n",
      "[CV]  C=1000, decision_function_shape=ovo, gamma=0.001, kernel=rbf, score=0.342, total=   1.2s\n",
      "[CV] C=1000, decision_function_shape=ovo, gamma=0.0001, kernel=rbf ...\n",
      "[CV]  C=1000, decision_function_shape=ovo, gamma=0.0001, kernel=rbf, score=0.264, total=   1.6s\n",
      "[CV] C=1000, decision_function_shape=ovo, gamma=0.0001, kernel=rbf ...\n",
      "[CV]  C=1000, decision_function_shape=ovo, gamma=0.0001, kernel=rbf, score=0.271, total=   1.5s\n",
      "[CV] C=1000, decision_function_shape=ovo, gamma=0.0001, kernel=rbf ...\n",
      "[CV]  C=1000, decision_function_shape=ovo, gamma=0.0001, kernel=rbf, score=0.254, total=   1.5s\n",
      "[CV] C=1000, decision_function_shape=ovo, gamma=0.0001, kernel=rbf ...\n",
      "[CV]  C=1000, decision_function_shape=ovo, gamma=0.0001, kernel=rbf, score=0.297, total=   1.7s\n",
      "[CV] C=1000, decision_function_shape=ovo, gamma=0.0001, kernel=rbf ...\n",
      "[CV]  C=1000, decision_function_shape=ovo, gamma=0.0001, kernel=rbf, score=0.293, total=   1.5s\n"
     ]
    },
    {
     "name": "stderr",
     "output_type": "stream",
     "text": [
      "[Parallel(n_jobs=1)]: Done 125 out of 125 | elapsed:  2.7min finished\n"
     ]
    },
    {
     "name": "stdout",
     "output_type": "stream",
     "text": [
      "Fitting 5 folds for each of 25 candidates, totalling 125 fits\n",
      "[CV] C=0.1, decision_function_shape=ovo, gamma=1, kernel=rbf .........\n"
     ]
    },
    {
     "name": "stderr",
     "output_type": "stream",
     "text": [
      "[Parallel(n_jobs=1)]: Using backend SequentialBackend with 1 concurrent workers.\n"
     ]
    },
    {
     "name": "stdout",
     "output_type": "stream",
     "text": [
      "[CV]  C=0.1, decision_function_shape=ovo, gamma=1, kernel=rbf, score=0.378, total=   1.1s\n",
      "[CV] C=0.1, decision_function_shape=ovo, gamma=1, kernel=rbf .........\n"
     ]
    },
    {
     "name": "stderr",
     "output_type": "stream",
     "text": [
      "[Parallel(n_jobs=1)]: Done   1 out of   1 | elapsed:    1.1s remaining:    0.0s\n"
     ]
    },
    {
     "name": "stdout",
     "output_type": "stream",
     "text": [
      "[CV]  C=0.1, decision_function_shape=ovo, gamma=1, kernel=rbf, score=0.377, total=   1.0s\n",
      "[CV] C=0.1, decision_function_shape=ovo, gamma=1, kernel=rbf .........\n"
     ]
    },
    {
     "name": "stderr",
     "output_type": "stream",
     "text": [
      "[Parallel(n_jobs=1)]: Done   2 out of   2 | elapsed:    2.2s remaining:    0.0s\n"
     ]
    },
    {
     "name": "stdout",
     "output_type": "stream",
     "text": [
      "[CV]  C=0.1, decision_function_shape=ovo, gamma=1, kernel=rbf, score=0.378, total=   1.0s\n",
      "[CV] C=0.1, decision_function_shape=ovo, gamma=1, kernel=rbf .........\n",
      "[CV]  C=0.1, decision_function_shape=ovo, gamma=1, kernel=rbf, score=0.379, total=   1.8s\n",
      "[CV] C=0.1, decision_function_shape=ovo, gamma=1, kernel=rbf .........\n",
      "[CV]  C=0.1, decision_function_shape=ovo, gamma=1, kernel=rbf, score=0.379, total=   1.1s\n",
      "[CV] C=0.1, decision_function_shape=ovo, gamma=0.1, kernel=rbf .......\n",
      "[CV]  C=0.1, decision_function_shape=ovo, gamma=0.1, kernel=rbf, score=0.378, total=   1.1s\n",
      "[CV] C=0.1, decision_function_shape=ovo, gamma=0.1, kernel=rbf .......\n",
      "[CV]  C=0.1, decision_function_shape=ovo, gamma=0.1, kernel=rbf, score=0.377, total=   1.2s\n",
      "[CV] C=0.1, decision_function_shape=ovo, gamma=0.1, kernel=rbf .......\n",
      "[CV]  C=0.1, decision_function_shape=ovo, gamma=0.1, kernel=rbf, score=0.378, total=   1.2s\n",
      "[CV] C=0.1, decision_function_shape=ovo, gamma=0.1, kernel=rbf .......\n",
      "[CV]  C=0.1, decision_function_shape=ovo, gamma=0.1, kernel=rbf, score=0.379, total=   1.2s\n",
      "[CV] C=0.1, decision_function_shape=ovo, gamma=0.1, kernel=rbf .......\n",
      "[CV]  C=0.1, decision_function_shape=ovo, gamma=0.1, kernel=rbf, score=0.379, total=   1.1s\n",
      "[CV] C=0.1, decision_function_shape=ovo, gamma=0.01, kernel=rbf ......\n",
      "[CV]  C=0.1, decision_function_shape=ovo, gamma=0.01, kernel=rbf, score=0.378, total=   1.1s\n",
      "[CV] C=0.1, decision_function_shape=ovo, gamma=0.01, kernel=rbf ......\n",
      "[CV]  C=0.1, decision_function_shape=ovo, gamma=0.01, kernel=rbf, score=0.377, total=   1.1s\n",
      "[CV] C=0.1, decision_function_shape=ovo, gamma=0.01, kernel=rbf ......\n",
      "[CV]  C=0.1, decision_function_shape=ovo, gamma=0.01, kernel=rbf, score=0.378, total=   1.2s\n",
      "[CV] C=0.1, decision_function_shape=ovo, gamma=0.01, kernel=rbf ......\n",
      "[CV]  C=0.1, decision_function_shape=ovo, gamma=0.01, kernel=rbf, score=0.379, total=   1.1s\n",
      "[CV] C=0.1, decision_function_shape=ovo, gamma=0.01, kernel=rbf ......\n",
      "[CV]  C=0.1, decision_function_shape=ovo, gamma=0.01, kernel=rbf, score=0.379, total=   1.1s\n",
      "[CV] C=0.1, decision_function_shape=ovo, gamma=0.001, kernel=rbf .....\n",
      "[CV]  C=0.1, decision_function_shape=ovo, gamma=0.001, kernel=rbf, score=0.378, total=   1.1s\n",
      "[CV] C=0.1, decision_function_shape=ovo, gamma=0.001, kernel=rbf .....\n",
      "[CV]  C=0.1, decision_function_shape=ovo, gamma=0.001, kernel=rbf, score=0.377, total=   1.1s\n",
      "[CV] C=0.1, decision_function_shape=ovo, gamma=0.001, kernel=rbf .....\n",
      "[CV]  C=0.1, decision_function_shape=ovo, gamma=0.001, kernel=rbf, score=0.378, total=   1.1s\n",
      "[CV] C=0.1, decision_function_shape=ovo, gamma=0.001, kernel=rbf .....\n",
      "[CV]  C=0.1, decision_function_shape=ovo, gamma=0.001, kernel=rbf, score=0.379, total=   1.3s\n",
      "[CV] C=0.1, decision_function_shape=ovo, gamma=0.001, kernel=rbf .....\n",
      "[CV]  C=0.1, decision_function_shape=ovo, gamma=0.001, kernel=rbf, score=0.379, total=   1.4s\n",
      "[CV] C=0.1, decision_function_shape=ovo, gamma=0.0001, kernel=rbf ....\n",
      "[CV]  C=0.1, decision_function_shape=ovo, gamma=0.0001, kernel=rbf, score=0.378, total=   1.4s\n",
      "[CV] C=0.1, decision_function_shape=ovo, gamma=0.0001, kernel=rbf ....\n",
      "[CV]  C=0.1, decision_function_shape=ovo, gamma=0.0001, kernel=rbf, score=0.377, total=   1.2s\n",
      "[CV] C=0.1, decision_function_shape=ovo, gamma=0.0001, kernel=rbf ....\n",
      "[CV]  C=0.1, decision_function_shape=ovo, gamma=0.0001, kernel=rbf, score=0.378, total=   1.3s\n",
      "[CV] C=0.1, decision_function_shape=ovo, gamma=0.0001, kernel=rbf ....\n",
      "[CV]  C=0.1, decision_function_shape=ovo, gamma=0.0001, kernel=rbf, score=0.379, total=   1.1s\n",
      "[CV] C=0.1, decision_function_shape=ovo, gamma=0.0001, kernel=rbf ....\n",
      "[CV]  C=0.1, decision_function_shape=ovo, gamma=0.0001, kernel=rbf, score=0.379, total=   1.5s\n",
      "[CV] C=1, decision_function_shape=ovo, gamma=1, kernel=rbf ...........\n",
      "[CV]  C=1, decision_function_shape=ovo, gamma=1, kernel=rbf, score=0.376, total=   1.1s\n",
      "[CV] C=1, decision_function_shape=ovo, gamma=1, kernel=rbf ...........\n",
      "[CV]  C=1, decision_function_shape=ovo, gamma=1, kernel=rbf, score=0.375, total=   1.2s\n",
      "[CV] C=1, decision_function_shape=ovo, gamma=1, kernel=rbf ...........\n",
      "[CV]  C=1, decision_function_shape=ovo, gamma=1, kernel=rbf, score=0.376, total=   1.3s\n",
      "[CV] C=1, decision_function_shape=ovo, gamma=1, kernel=rbf ...........\n",
      "[CV]  C=1, decision_function_shape=ovo, gamma=1, kernel=rbf, score=0.377, total=   1.3s\n",
      "[CV] C=1, decision_function_shape=ovo, gamma=1, kernel=rbf ...........\n",
      "[CV]  C=1, decision_function_shape=ovo, gamma=1, kernel=rbf, score=0.379, total=   1.2s\n",
      "[CV] C=1, decision_function_shape=ovo, gamma=0.1, kernel=rbf .........\n",
      "[CV]  C=1, decision_function_shape=ovo, gamma=0.1, kernel=rbf, score=0.375, total=   1.2s\n",
      "[CV] C=1, decision_function_shape=ovo, gamma=0.1, kernel=rbf .........\n",
      "[CV]  C=1, decision_function_shape=ovo, gamma=0.1, kernel=rbf, score=0.374, total=   1.2s\n",
      "[CV] C=1, decision_function_shape=ovo, gamma=0.1, kernel=rbf .........\n",
      "[CV]  C=1, decision_function_shape=ovo, gamma=0.1, kernel=rbf, score=0.376, total=   1.1s\n",
      "[CV] C=1, decision_function_shape=ovo, gamma=0.1, kernel=rbf .........\n",
      "[CV]  C=1, decision_function_shape=ovo, gamma=0.1, kernel=rbf, score=0.375, total=   1.2s\n",
      "[CV] C=1, decision_function_shape=ovo, gamma=0.1, kernel=rbf .........\n",
      "[CV]  C=1, decision_function_shape=ovo, gamma=0.1, kernel=rbf, score=0.377, total=   1.3s\n",
      "[CV] C=1, decision_function_shape=ovo, gamma=0.01, kernel=rbf ........\n",
      "[CV]  C=1, decision_function_shape=ovo, gamma=0.01, kernel=rbf, score=0.374, total=   1.2s\n",
      "[CV] C=1, decision_function_shape=ovo, gamma=0.01, kernel=rbf ........\n",
      "[CV]  C=1, decision_function_shape=ovo, gamma=0.01, kernel=rbf, score=0.375, total=   1.2s\n",
      "[CV] C=1, decision_function_shape=ovo, gamma=0.01, kernel=rbf ........\n",
      "[CV]  C=1, decision_function_shape=ovo, gamma=0.01, kernel=rbf, score=0.375, total=   1.2s\n",
      "[CV] C=1, decision_function_shape=ovo, gamma=0.01, kernel=rbf ........\n",
      "[CV]  C=1, decision_function_shape=ovo, gamma=0.01, kernel=rbf, score=0.374, total=   1.1s\n",
      "[CV] C=1, decision_function_shape=ovo, gamma=0.01, kernel=rbf ........\n",
      "[CV]  C=1, decision_function_shape=ovo, gamma=0.01, kernel=rbf, score=0.369, total=   1.2s\n",
      "[CV] C=1, decision_function_shape=ovo, gamma=0.001, kernel=rbf .......\n",
      "[CV]  C=1, decision_function_shape=ovo, gamma=0.001, kernel=rbf, score=0.336, total=   1.1s\n",
      "[CV] C=1, decision_function_shape=ovo, gamma=0.001, kernel=rbf .......\n",
      "[CV]  C=1, decision_function_shape=ovo, gamma=0.001, kernel=rbf, score=0.345, total=   1.1s\n",
      "[CV] C=1, decision_function_shape=ovo, gamma=0.001, kernel=rbf .......\n",
      "[CV]  C=1, decision_function_shape=ovo, gamma=0.001, kernel=rbf, score=0.334, total=   1.1s\n",
      "[CV] C=1, decision_function_shape=ovo, gamma=0.001, kernel=rbf .......\n",
      "[CV]  C=1, decision_function_shape=ovo, gamma=0.001, kernel=rbf, score=0.355, total=   1.2s\n",
      "[CV] C=1, decision_function_shape=ovo, gamma=0.001, kernel=rbf .......\n",
      "[CV]  C=1, decision_function_shape=ovo, gamma=0.001, kernel=rbf, score=0.331, total=   1.1s\n",
      "[CV] C=1, decision_function_shape=ovo, gamma=0.0001, kernel=rbf ......\n",
      "[CV]  C=1, decision_function_shape=ovo, gamma=0.0001, kernel=rbf, score=0.320, total=   1.1s\n",
      "[CV] C=1, decision_function_shape=ovo, gamma=0.0001, kernel=rbf ......\n",
      "[CV]  C=1, decision_function_shape=ovo, gamma=0.0001, kernel=rbf, score=0.329, total=   1.0s\n",
      "[CV] C=1, decision_function_shape=ovo, gamma=0.0001, kernel=rbf ......\n",
      "[CV]  C=1, decision_function_shape=ovo, gamma=0.0001, kernel=rbf, score=0.303, total=   1.1s\n",
      "[CV] C=1, decision_function_shape=ovo, gamma=0.0001, kernel=rbf ......\n",
      "[CV]  C=1, decision_function_shape=ovo, gamma=0.0001, kernel=rbf, score=0.319, total=   1.0s\n",
      "[CV] C=1, decision_function_shape=ovo, gamma=0.0001, kernel=rbf ......\n",
      "[CV]  C=1, decision_function_shape=ovo, gamma=0.0001, kernel=rbf, score=0.339, total=   1.1s\n",
      "[CV] C=10, decision_function_shape=ovo, gamma=1, kernel=rbf ..........\n",
      "[CV]  C=10, decision_function_shape=ovo, gamma=1, kernel=rbf, score=0.376, total=   1.2s\n",
      "[CV] C=10, decision_function_shape=ovo, gamma=1, kernel=rbf ..........\n",
      "[CV]  C=10, decision_function_shape=ovo, gamma=1, kernel=rbf, score=0.375, total=   1.2s\n",
      "[CV] C=10, decision_function_shape=ovo, gamma=1, kernel=rbf ..........\n",
      "[CV]  C=10, decision_function_shape=ovo, gamma=1, kernel=rbf, score=0.376, total=   1.2s\n",
      "[CV] C=10, decision_function_shape=ovo, gamma=1, kernel=rbf ..........\n"
     ]
    },
    {
     "name": "stdout",
     "output_type": "stream",
     "text": [
      "[CV]  C=10, decision_function_shape=ovo, gamma=1, kernel=rbf, score=0.377, total=   1.3s\n",
      "[CV] C=10, decision_function_shape=ovo, gamma=1, kernel=rbf ..........\n",
      "[CV]  C=10, decision_function_shape=ovo, gamma=1, kernel=rbf, score=0.379, total=   1.2s\n",
      "[CV] C=10, decision_function_shape=ovo, gamma=0.1, kernel=rbf ........\n",
      "[CV]  C=10, decision_function_shape=ovo, gamma=0.1, kernel=rbf, score=0.375, total=   1.8s\n",
      "[CV] C=10, decision_function_shape=ovo, gamma=0.1, kernel=rbf ........\n",
      "[CV]  C=10, decision_function_shape=ovo, gamma=0.1, kernel=rbf, score=0.374, total=   1.5s\n",
      "[CV] C=10, decision_function_shape=ovo, gamma=0.1, kernel=rbf ........\n",
      "[CV]  C=10, decision_function_shape=ovo, gamma=0.1, kernel=rbf, score=0.376, total=   3.7s\n",
      "[CV] C=10, decision_function_shape=ovo, gamma=0.1, kernel=rbf ........\n",
      "[CV]  C=10, decision_function_shape=ovo, gamma=0.1, kernel=rbf, score=0.375, total=   3.7s\n",
      "[CV] C=10, decision_function_shape=ovo, gamma=0.1, kernel=rbf ........\n",
      "[CV]  C=10, decision_function_shape=ovo, gamma=0.1, kernel=rbf, score=0.375, total=   3.5s\n",
      "[CV] C=10, decision_function_shape=ovo, gamma=0.01, kernel=rbf .......\n",
      "[CV]  C=10, decision_function_shape=ovo, gamma=0.01, kernel=rbf, score=0.362, total=   2.6s\n",
      "[CV] C=10, decision_function_shape=ovo, gamma=0.01, kernel=rbf .......\n",
      "[CV]  C=10, decision_function_shape=ovo, gamma=0.01, kernel=rbf, score=0.372, total=   1.2s\n",
      "[CV] C=10, decision_function_shape=ovo, gamma=0.01, kernel=rbf .......\n",
      "[CV]  C=10, decision_function_shape=ovo, gamma=0.01, kernel=rbf, score=0.366, total=   1.9s\n",
      "[CV] C=10, decision_function_shape=ovo, gamma=0.01, kernel=rbf .......\n",
      "[CV]  C=10, decision_function_shape=ovo, gamma=0.01, kernel=rbf, score=0.369, total=   1.5s\n",
      "[CV] C=10, decision_function_shape=ovo, gamma=0.01, kernel=rbf .......\n",
      "[CV]  C=10, decision_function_shape=ovo, gamma=0.01, kernel=rbf, score=0.365, total=   1.4s\n",
      "[CV] C=10, decision_function_shape=ovo, gamma=0.001, kernel=rbf ......\n",
      "[CV]  C=10, decision_function_shape=ovo, gamma=0.001, kernel=rbf, score=0.304, total=   1.3s\n",
      "[CV] C=10, decision_function_shape=ovo, gamma=0.001, kernel=rbf ......\n",
      "[CV]  C=10, decision_function_shape=ovo, gamma=0.001, kernel=rbf, score=0.307, total=   1.7s\n",
      "[CV] C=10, decision_function_shape=ovo, gamma=0.001, kernel=rbf ......\n",
      "[CV]  C=10, decision_function_shape=ovo, gamma=0.001, kernel=rbf, score=0.296, total=   1.3s\n",
      "[CV] C=10, decision_function_shape=ovo, gamma=0.001, kernel=rbf ......\n",
      "[CV]  C=10, decision_function_shape=ovo, gamma=0.001, kernel=rbf, score=0.306, total=   2.9s\n",
      "[CV] C=10, decision_function_shape=ovo, gamma=0.001, kernel=rbf ......\n",
      "[CV]  C=10, decision_function_shape=ovo, gamma=0.001, kernel=rbf, score=0.319, total=   2.9s\n",
      "[CV] C=10, decision_function_shape=ovo, gamma=0.0001, kernel=rbf .....\n",
      "[CV]  C=10, decision_function_shape=ovo, gamma=0.0001, kernel=rbf, score=0.262, total=   1.6s\n",
      "[CV] C=10, decision_function_shape=ovo, gamma=0.0001, kernel=rbf .....\n",
      "[CV]  C=10, decision_function_shape=ovo, gamma=0.0001, kernel=rbf, score=0.278, total=   1.4s\n",
      "[CV] C=10, decision_function_shape=ovo, gamma=0.0001, kernel=rbf .....\n",
      "[CV]  C=10, decision_function_shape=ovo, gamma=0.0001, kernel=rbf, score=0.251, total=   1.4s\n",
      "[CV] C=10, decision_function_shape=ovo, gamma=0.0001, kernel=rbf .....\n",
      "[CV]  C=10, decision_function_shape=ovo, gamma=0.0001, kernel=rbf, score=0.267, total=   1.4s\n",
      "[CV] C=10, decision_function_shape=ovo, gamma=0.0001, kernel=rbf .....\n",
      "[CV]  C=10, decision_function_shape=ovo, gamma=0.0001, kernel=rbf, score=0.267, total=   1.3s\n",
      "[CV] C=100, decision_function_shape=ovo, gamma=1, kernel=rbf .........\n",
      "[CV]  C=100, decision_function_shape=ovo, gamma=1, kernel=rbf, score=0.376, total=   1.4s\n",
      "[CV] C=100, decision_function_shape=ovo, gamma=1, kernel=rbf .........\n",
      "[CV]  C=100, decision_function_shape=ovo, gamma=1, kernel=rbf, score=0.375, total=   1.4s\n",
      "[CV] C=100, decision_function_shape=ovo, gamma=1, kernel=rbf .........\n",
      "[CV]  C=100, decision_function_shape=ovo, gamma=1, kernel=rbf, score=0.376, total=   1.4s\n",
      "[CV] C=100, decision_function_shape=ovo, gamma=1, kernel=rbf .........\n",
      "[CV]  C=100, decision_function_shape=ovo, gamma=1, kernel=rbf, score=0.377, total=   1.4s\n",
      "[CV] C=100, decision_function_shape=ovo, gamma=1, kernel=rbf .........\n",
      "[CV]  C=100, decision_function_shape=ovo, gamma=1, kernel=rbf, score=0.379, total=   1.3s\n",
      "[CV] C=100, decision_function_shape=ovo, gamma=0.1, kernel=rbf .......\n",
      "[CV]  C=100, decision_function_shape=ovo, gamma=0.1, kernel=rbf, score=0.375, total=   1.4s\n",
      "[CV] C=100, decision_function_shape=ovo, gamma=0.1, kernel=rbf .......\n",
      "[CV]  C=100, decision_function_shape=ovo, gamma=0.1, kernel=rbf, score=0.374, total=   1.3s\n",
      "[CV] C=100, decision_function_shape=ovo, gamma=0.1, kernel=rbf .......\n",
      "[CV]  C=100, decision_function_shape=ovo, gamma=0.1, kernel=rbf, score=0.376, total=   1.4s\n",
      "[CV] C=100, decision_function_shape=ovo, gamma=0.1, kernel=rbf .......\n",
      "[CV]  C=100, decision_function_shape=ovo, gamma=0.1, kernel=rbf, score=0.375, total=   1.5s\n",
      "[CV] C=100, decision_function_shape=ovo, gamma=0.1, kernel=rbf .......\n",
      "[CV]  C=100, decision_function_shape=ovo, gamma=0.1, kernel=rbf, score=0.375, total=   1.5s\n",
      "[CV] C=100, decision_function_shape=ovo, gamma=0.01, kernel=rbf ......\n",
      "[CV]  C=100, decision_function_shape=ovo, gamma=0.01, kernel=rbf, score=0.362, total=   1.4s\n",
      "[CV] C=100, decision_function_shape=ovo, gamma=0.01, kernel=rbf ......\n",
      "[CV]  C=100, decision_function_shape=ovo, gamma=0.01, kernel=rbf, score=0.372, total=   1.3s\n",
      "[CV] C=100, decision_function_shape=ovo, gamma=0.01, kernel=rbf ......\n",
      "[CV]  C=100, decision_function_shape=ovo, gamma=0.01, kernel=rbf, score=0.366, total=   1.3s\n",
      "[CV] C=100, decision_function_shape=ovo, gamma=0.01, kernel=rbf ......\n",
      "[CV]  C=100, decision_function_shape=ovo, gamma=0.01, kernel=rbf, score=0.369, total=   3.5s\n",
      "[CV] C=100, decision_function_shape=ovo, gamma=0.01, kernel=rbf ......\n",
      "[CV]  C=100, decision_function_shape=ovo, gamma=0.01, kernel=rbf, score=0.365, total=   2.9s\n",
      "[CV] C=100, decision_function_shape=ovo, gamma=0.001, kernel=rbf .....\n",
      "[CV]  C=100, decision_function_shape=ovo, gamma=0.001, kernel=rbf, score=0.302, total=   3.2s\n",
      "[CV] C=100, decision_function_shape=ovo, gamma=0.001, kernel=rbf .....\n",
      "[CV]  C=100, decision_function_shape=ovo, gamma=0.001, kernel=rbf, score=0.305, total=   3.4s\n",
      "[CV] C=100, decision_function_shape=ovo, gamma=0.001, kernel=rbf .....\n",
      "[CV]  C=100, decision_function_shape=ovo, gamma=0.001, kernel=rbf, score=0.292, total=   1.8s\n",
      "[CV] C=100, decision_function_shape=ovo, gamma=0.001, kernel=rbf .....\n",
      "[CV]  C=100, decision_function_shape=ovo, gamma=0.001, kernel=rbf, score=0.305, total=   1.8s\n",
      "[CV] C=100, decision_function_shape=ovo, gamma=0.001, kernel=rbf .....\n",
      "[CV]  C=100, decision_function_shape=ovo, gamma=0.001, kernel=rbf, score=0.320, total=   1.7s\n",
      "[CV] C=100, decision_function_shape=ovo, gamma=0.0001, kernel=rbf ....\n",
      "[CV]  C=100, decision_function_shape=ovo, gamma=0.0001, kernel=rbf, score=0.259, total=   3.6s\n",
      "[CV] C=100, decision_function_shape=ovo, gamma=0.0001, kernel=rbf ....\n",
      "[CV]  C=100, decision_function_shape=ovo, gamma=0.0001, kernel=rbf, score=0.275, total=   3.1s\n",
      "[CV] C=100, decision_function_shape=ovo, gamma=0.0001, kernel=rbf ....\n",
      "[CV]  C=100, decision_function_shape=ovo, gamma=0.0001, kernel=rbf, score=0.241, total=   3.1s\n",
      "[CV] C=100, decision_function_shape=ovo, gamma=0.0001, kernel=rbf ....\n",
      "[CV]  C=100, decision_function_shape=ovo, gamma=0.0001, kernel=rbf, score=0.269, total=   2.0s\n",
      "[CV] C=100, decision_function_shape=ovo, gamma=0.0001, kernel=rbf ....\n",
      "[CV]  C=100, decision_function_shape=ovo, gamma=0.0001, kernel=rbf, score=0.274, total=   1.7s\n",
      "[CV] C=1000, decision_function_shape=ovo, gamma=1, kernel=rbf ........\n",
      "[CV]  C=1000, decision_function_shape=ovo, gamma=1, kernel=rbf, score=0.376, total=   1.5s\n",
      "[CV] C=1000, decision_function_shape=ovo, gamma=1, kernel=rbf ........\n",
      "[CV]  C=1000, decision_function_shape=ovo, gamma=1, kernel=rbf, score=0.375, total=   1.3s\n",
      "[CV] C=1000, decision_function_shape=ovo, gamma=1, kernel=rbf ........\n",
      "[CV]  C=1000, decision_function_shape=ovo, gamma=1, kernel=rbf, score=0.376, total=   1.4s\n",
      "[CV] C=1000, decision_function_shape=ovo, gamma=1, kernel=rbf ........\n",
      "[CV]  C=1000, decision_function_shape=ovo, gamma=1, kernel=rbf, score=0.377, total=   1.6s\n",
      "[CV] C=1000, decision_function_shape=ovo, gamma=1, kernel=rbf ........\n"
     ]
    },
    {
     "name": "stdout",
     "output_type": "stream",
     "text": [
      "[CV]  C=1000, decision_function_shape=ovo, gamma=1, kernel=rbf, score=0.379, total=   1.4s\n",
      "[CV] C=1000, decision_function_shape=ovo, gamma=0.1, kernel=rbf ......\n",
      "[CV]  C=1000, decision_function_shape=ovo, gamma=0.1, kernel=rbf, score=0.375, total=   1.3s\n",
      "[CV] C=1000, decision_function_shape=ovo, gamma=0.1, kernel=rbf ......\n",
      "[CV]  C=1000, decision_function_shape=ovo, gamma=0.1, kernel=rbf, score=0.374, total=   1.5s\n",
      "[CV] C=1000, decision_function_shape=ovo, gamma=0.1, kernel=rbf ......\n",
      "[CV]  C=1000, decision_function_shape=ovo, gamma=0.1, kernel=rbf, score=0.376, total=   1.7s\n",
      "[CV] C=1000, decision_function_shape=ovo, gamma=0.1, kernel=rbf ......\n",
      "[CV]  C=1000, decision_function_shape=ovo, gamma=0.1, kernel=rbf, score=0.375, total=   2.0s\n",
      "[CV] C=1000, decision_function_shape=ovo, gamma=0.1, kernel=rbf ......\n",
      "[CV]  C=1000, decision_function_shape=ovo, gamma=0.1, kernel=rbf, score=0.375, total=   1.8s\n",
      "[CV] C=1000, decision_function_shape=ovo, gamma=0.01, kernel=rbf .....\n",
      "[CV]  C=1000, decision_function_shape=ovo, gamma=0.01, kernel=rbf, score=0.362, total=   1.4s\n",
      "[CV] C=1000, decision_function_shape=ovo, gamma=0.01, kernel=rbf .....\n",
      "[CV]  C=1000, decision_function_shape=ovo, gamma=0.01, kernel=rbf, score=0.372, total=   1.4s\n",
      "[CV] C=1000, decision_function_shape=ovo, gamma=0.01, kernel=rbf .....\n",
      "[CV]  C=1000, decision_function_shape=ovo, gamma=0.01, kernel=rbf, score=0.366, total=   1.3s\n",
      "[CV] C=1000, decision_function_shape=ovo, gamma=0.01, kernel=rbf .....\n",
      "[CV]  C=1000, decision_function_shape=ovo, gamma=0.01, kernel=rbf, score=0.369, total=   1.5s\n",
      "[CV] C=1000, decision_function_shape=ovo, gamma=0.01, kernel=rbf .....\n",
      "[CV]  C=1000, decision_function_shape=ovo, gamma=0.01, kernel=rbf, score=0.365, total=   1.5s\n",
      "[CV] C=1000, decision_function_shape=ovo, gamma=0.001, kernel=rbf ....\n",
      "[CV]  C=1000, decision_function_shape=ovo, gamma=0.001, kernel=rbf, score=0.302, total=   1.9s\n",
      "[CV] C=1000, decision_function_shape=ovo, gamma=0.001, kernel=rbf ....\n",
      "[CV]  C=1000, decision_function_shape=ovo, gamma=0.001, kernel=rbf, score=0.305, total=   1.2s\n",
      "[CV] C=1000, decision_function_shape=ovo, gamma=0.001, kernel=rbf ....\n",
      "[CV]  C=1000, decision_function_shape=ovo, gamma=0.001, kernel=rbf, score=0.292, total=   1.2s\n",
      "[CV] C=1000, decision_function_shape=ovo, gamma=0.001, kernel=rbf ....\n",
      "[CV]  C=1000, decision_function_shape=ovo, gamma=0.001, kernel=rbf, score=0.305, total=   1.7s\n",
      "[CV] C=1000, decision_function_shape=ovo, gamma=0.001, kernel=rbf ....\n",
      "[CV]  C=1000, decision_function_shape=ovo, gamma=0.001, kernel=rbf, score=0.320, total=   2.9s\n",
      "[CV] C=1000, decision_function_shape=ovo, gamma=0.0001, kernel=rbf ...\n",
      "[CV]  C=1000, decision_function_shape=ovo, gamma=0.0001, kernel=rbf, score=0.256, total=   3.5s\n",
      "[CV] C=1000, decision_function_shape=ovo, gamma=0.0001, kernel=rbf ...\n",
      "[CV]  C=1000, decision_function_shape=ovo, gamma=0.0001, kernel=rbf, score=0.276, total=   1.9s\n",
      "[CV] C=1000, decision_function_shape=ovo, gamma=0.0001, kernel=rbf ...\n",
      "[CV]  C=1000, decision_function_shape=ovo, gamma=0.0001, kernel=rbf, score=0.238, total=   1.6s\n",
      "[CV] C=1000, decision_function_shape=ovo, gamma=0.0001, kernel=rbf ...\n",
      "[CV]  C=1000, decision_function_shape=ovo, gamma=0.0001, kernel=rbf, score=0.267, total=   1.7s\n",
      "[CV] C=1000, decision_function_shape=ovo, gamma=0.0001, kernel=rbf ...\n",
      "[CV]  C=1000, decision_function_shape=ovo, gamma=0.0001, kernel=rbf, score=0.272, total=   1.8s\n"
     ]
    },
    {
     "name": "stderr",
     "output_type": "stream",
     "text": [
      "[Parallel(n_jobs=1)]: Done 125 out of 125 | elapsed:  3.3min finished\n"
     ]
    },
    {
     "name": "stdout",
     "output_type": "stream",
     "text": [
      "Fitting 5 folds for each of 25 candidates, totalling 125 fits\n",
      "[CV] C=0.1, decision_function_shape=ovo, gamma=1, kernel=rbf .........\n"
     ]
    },
    {
     "name": "stderr",
     "output_type": "stream",
     "text": [
      "[Parallel(n_jobs=1)]: Using backend SequentialBackend with 1 concurrent workers.\n"
     ]
    },
    {
     "name": "stdout",
     "output_type": "stream",
     "text": [
      "[CV]  C=0.1, decision_function_shape=ovo, gamma=1, kernel=rbf, score=0.378, total=   1.2s\n",
      "[CV] C=0.1, decision_function_shape=ovo, gamma=1, kernel=rbf .........\n"
     ]
    },
    {
     "name": "stderr",
     "output_type": "stream",
     "text": [
      "[Parallel(n_jobs=1)]: Done   1 out of   1 | elapsed:    1.2s remaining:    0.0s\n"
     ]
    },
    {
     "name": "stdout",
     "output_type": "stream",
     "text": [
      "[CV]  C=0.1, decision_function_shape=ovo, gamma=1, kernel=rbf, score=0.377, total=   1.1s\n",
      "[CV] C=0.1, decision_function_shape=ovo, gamma=1, kernel=rbf .........\n"
     ]
    },
    {
     "name": "stderr",
     "output_type": "stream",
     "text": [
      "[Parallel(n_jobs=1)]: Done   2 out of   2 | elapsed:    2.3s remaining:    0.0s\n"
     ]
    },
    {
     "name": "stdout",
     "output_type": "stream",
     "text": [
      "[CV]  C=0.1, decision_function_shape=ovo, gamma=1, kernel=rbf, score=0.377, total=   1.4s\n",
      "[CV] C=0.1, decision_function_shape=ovo, gamma=1, kernel=rbf .........\n",
      "[CV]  C=0.1, decision_function_shape=ovo, gamma=1, kernel=rbf, score=0.378, total=   1.1s\n",
      "[CV] C=0.1, decision_function_shape=ovo, gamma=1, kernel=rbf .........\n",
      "[CV]  C=0.1, decision_function_shape=ovo, gamma=1, kernel=rbf, score=0.379, total=   1.1s\n",
      "[CV] C=0.1, decision_function_shape=ovo, gamma=0.1, kernel=rbf .......\n",
      "[CV]  C=0.1, decision_function_shape=ovo, gamma=0.1, kernel=rbf, score=0.378, total=   1.1s\n",
      "[CV] C=0.1, decision_function_shape=ovo, gamma=0.1, kernel=rbf .......\n",
      "[CV]  C=0.1, decision_function_shape=ovo, gamma=0.1, kernel=rbf, score=0.377, total=   1.1s\n",
      "[CV] C=0.1, decision_function_shape=ovo, gamma=0.1, kernel=rbf .......\n",
      "[CV]  C=0.1, decision_function_shape=ovo, gamma=0.1, kernel=rbf, score=0.377, total=   1.2s\n",
      "[CV] C=0.1, decision_function_shape=ovo, gamma=0.1, kernel=rbf .......\n",
      "[CV]  C=0.1, decision_function_shape=ovo, gamma=0.1, kernel=rbf, score=0.378, total=   1.2s\n",
      "[CV] C=0.1, decision_function_shape=ovo, gamma=0.1, kernel=rbf .......\n",
      "[CV]  C=0.1, decision_function_shape=ovo, gamma=0.1, kernel=rbf, score=0.379, total=   1.2s\n",
      "[CV] C=0.1, decision_function_shape=ovo, gamma=0.01, kernel=rbf ......\n",
      "[CV]  C=0.1, decision_function_shape=ovo, gamma=0.01, kernel=rbf, score=0.378, total=   1.5s\n",
      "[CV] C=0.1, decision_function_shape=ovo, gamma=0.01, kernel=rbf ......\n",
      "[CV]  C=0.1, decision_function_shape=ovo, gamma=0.01, kernel=rbf, score=0.377, total=   1.1s\n",
      "[CV] C=0.1, decision_function_shape=ovo, gamma=0.01, kernel=rbf ......\n",
      "[CV]  C=0.1, decision_function_shape=ovo, gamma=0.01, kernel=rbf, score=0.377, total=   1.1s\n",
      "[CV] C=0.1, decision_function_shape=ovo, gamma=0.01, kernel=rbf ......\n",
      "[CV]  C=0.1, decision_function_shape=ovo, gamma=0.01, kernel=rbf, score=0.378, total=   1.1s\n",
      "[CV] C=0.1, decision_function_shape=ovo, gamma=0.01, kernel=rbf ......\n",
      "[CV]  C=0.1, decision_function_shape=ovo, gamma=0.01, kernel=rbf, score=0.379, total=   1.2s\n",
      "[CV] C=0.1, decision_function_shape=ovo, gamma=0.001, kernel=rbf .....\n",
      "[CV]  C=0.1, decision_function_shape=ovo, gamma=0.001, kernel=rbf, score=0.378, total=   1.2s\n",
      "[CV] C=0.1, decision_function_shape=ovo, gamma=0.001, kernel=rbf .....\n",
      "[CV]  C=0.1, decision_function_shape=ovo, gamma=0.001, kernel=rbf, score=0.377, total=   1.6s\n",
      "[CV] C=0.1, decision_function_shape=ovo, gamma=0.001, kernel=rbf .....\n",
      "[CV]  C=0.1, decision_function_shape=ovo, gamma=0.001, kernel=rbf, score=0.377, total=   1.3s\n",
      "[CV] C=0.1, decision_function_shape=ovo, gamma=0.001, kernel=rbf .....\n",
      "[CV]  C=0.1, decision_function_shape=ovo, gamma=0.001, kernel=rbf, score=0.378, total=   1.3s\n",
      "[CV] C=0.1, decision_function_shape=ovo, gamma=0.001, kernel=rbf .....\n",
      "[CV]  C=0.1, decision_function_shape=ovo, gamma=0.001, kernel=rbf, score=0.379, total=   1.7s\n",
      "[CV] C=0.1, decision_function_shape=ovo, gamma=0.0001, kernel=rbf ....\n",
      "[CV]  C=0.1, decision_function_shape=ovo, gamma=0.0001, kernel=rbf, score=0.378, total=   1.3s\n",
      "[CV] C=0.1, decision_function_shape=ovo, gamma=0.0001, kernel=rbf ....\n",
      "[CV]  C=0.1, decision_function_shape=ovo, gamma=0.0001, kernel=rbf, score=0.377, total=   1.1s\n",
      "[CV] C=0.1, decision_function_shape=ovo, gamma=0.0001, kernel=rbf ....\n",
      "[CV]  C=0.1, decision_function_shape=ovo, gamma=0.0001, kernel=rbf, score=0.377, total=   1.1s\n",
      "[CV] C=0.1, decision_function_shape=ovo, gamma=0.0001, kernel=rbf ....\n",
      "[CV]  C=0.1, decision_function_shape=ovo, gamma=0.0001, kernel=rbf, score=0.378, total=   1.0s\n",
      "[CV] C=0.1, decision_function_shape=ovo, gamma=0.0001, kernel=rbf ....\n",
      "[CV]  C=0.1, decision_function_shape=ovo, gamma=0.0001, kernel=rbf, score=0.379, total=   1.2s\n",
      "[CV] C=1, decision_function_shape=ovo, gamma=1, kernel=rbf ...........\n",
      "[CV]  C=1, decision_function_shape=ovo, gamma=1, kernel=rbf, score=0.376, total=   1.3s\n",
      "[CV] C=1, decision_function_shape=ovo, gamma=1, kernel=rbf ...........\n",
      "[CV]  C=1, decision_function_shape=ovo, gamma=1, kernel=rbf, score=0.374, total=   1.3s\n",
      "[CV] C=1, decision_function_shape=ovo, gamma=1, kernel=rbf ...........\n",
      "[CV]  C=1, decision_function_shape=ovo, gamma=1, kernel=rbf, score=0.374, total=   1.3s\n",
      "[CV] C=1, decision_function_shape=ovo, gamma=1, kernel=rbf ...........\n",
      "[CV]  C=1, decision_function_shape=ovo, gamma=1, kernel=rbf, score=0.376, total=   1.3s\n",
      "[CV] C=1, decision_function_shape=ovo, gamma=1, kernel=rbf ...........\n",
      "[CV]  C=1, decision_function_shape=ovo, gamma=1, kernel=rbf, score=0.378, total=   1.3s\n",
      "[CV] C=1, decision_function_shape=ovo, gamma=0.1, kernel=rbf .........\n",
      "[CV]  C=1, decision_function_shape=ovo, gamma=0.1, kernel=rbf, score=0.375, total=   1.3s\n",
      "[CV] C=1, decision_function_shape=ovo, gamma=0.1, kernel=rbf .........\n",
      "[CV]  C=1, decision_function_shape=ovo, gamma=0.1, kernel=rbf, score=0.374, total=   1.2s\n",
      "[CV] C=1, decision_function_shape=ovo, gamma=0.1, kernel=rbf .........\n",
      "[CV]  C=1, decision_function_shape=ovo, gamma=0.1, kernel=rbf, score=0.373, total=   1.2s\n",
      "[CV] C=1, decision_function_shape=ovo, gamma=0.1, kernel=rbf .........\n",
      "[CV]  C=1, decision_function_shape=ovo, gamma=0.1, kernel=rbf, score=0.376, total=   1.3s\n",
      "[CV] C=1, decision_function_shape=ovo, gamma=0.1, kernel=rbf .........\n",
      "[CV]  C=1, decision_function_shape=ovo, gamma=0.1, kernel=rbf, score=0.376, total=   1.3s\n",
      "[CV] C=1, decision_function_shape=ovo, gamma=0.01, kernel=rbf ........\n",
      "[CV]  C=1, decision_function_shape=ovo, gamma=0.01, kernel=rbf, score=0.371, total=   1.4s\n",
      "[CV] C=1, decision_function_shape=ovo, gamma=0.01, kernel=rbf ........\n",
      "[CV]  C=1, decision_function_shape=ovo, gamma=0.01, kernel=rbf, score=0.377, total=   1.6s\n",
      "[CV] C=1, decision_function_shape=ovo, gamma=0.01, kernel=rbf ........\n",
      "[CV]  C=1, decision_function_shape=ovo, gamma=0.01, kernel=rbf, score=0.369, total=   1.3s\n",
      "[CV] C=1, decision_function_shape=ovo, gamma=0.01, kernel=rbf ........\n",
      "[CV]  C=1, decision_function_shape=ovo, gamma=0.01, kernel=rbf, score=0.368, total=   1.2s\n",
      "[CV] C=1, decision_function_shape=ovo, gamma=0.01, kernel=rbf ........\n",
      "[CV]  C=1, decision_function_shape=ovo, gamma=0.01, kernel=rbf, score=0.380, total=   1.2s\n",
      "[CV] C=1, decision_function_shape=ovo, gamma=0.001, kernel=rbf .......\n",
      "[CV]  C=1, decision_function_shape=ovo, gamma=0.001, kernel=rbf, score=0.333, total=   1.1s\n",
      "[CV] C=1, decision_function_shape=ovo, gamma=0.001, kernel=rbf .......\n",
      "[CV]  C=1, decision_function_shape=ovo, gamma=0.001, kernel=rbf, score=0.352, total=   1.2s\n",
      "[CV] C=1, decision_function_shape=ovo, gamma=0.001, kernel=rbf .......\n",
      "[CV]  C=1, decision_function_shape=ovo, gamma=0.001, kernel=rbf, score=0.336, total=   1.1s\n",
      "[CV] C=1, decision_function_shape=ovo, gamma=0.001, kernel=rbf .......\n",
      "[CV]  C=1, decision_function_shape=ovo, gamma=0.001, kernel=rbf, score=0.337, total=   1.1s\n",
      "[CV] C=1, decision_function_shape=ovo, gamma=0.001, kernel=rbf .......\n",
      "[CV]  C=1, decision_function_shape=ovo, gamma=0.001, kernel=rbf, score=0.353, total=   1.1s\n",
      "[CV] C=1, decision_function_shape=ovo, gamma=0.0001, kernel=rbf ......\n",
      "[CV]  C=1, decision_function_shape=ovo, gamma=0.0001, kernel=rbf, score=0.334, total=   1.2s\n",
      "[CV] C=1, decision_function_shape=ovo, gamma=0.0001, kernel=rbf ......\n",
      "[CV]  C=1, decision_function_shape=ovo, gamma=0.0001, kernel=rbf, score=0.316, total=   1.4s\n",
      "[CV] C=1, decision_function_shape=ovo, gamma=0.0001, kernel=rbf ......\n",
      "[CV]  C=1, decision_function_shape=ovo, gamma=0.0001, kernel=rbf, score=0.337, total=   1.2s\n",
      "[CV] C=1, decision_function_shape=ovo, gamma=0.0001, kernel=rbf ......\n",
      "[CV]  C=1, decision_function_shape=ovo, gamma=0.0001, kernel=rbf, score=0.354, total=   1.2s\n",
      "[CV] C=1, decision_function_shape=ovo, gamma=0.0001, kernel=rbf ......\n",
      "[CV]  C=1, decision_function_shape=ovo, gamma=0.0001, kernel=rbf, score=0.358, total=   1.2s\n",
      "[CV] C=10, decision_function_shape=ovo, gamma=1, kernel=rbf ..........\n",
      "[CV]  C=10, decision_function_shape=ovo, gamma=1, kernel=rbf, score=0.376, total=   1.6s\n",
      "[CV] C=10, decision_function_shape=ovo, gamma=1, kernel=rbf ..........\n",
      "[CV]  C=10, decision_function_shape=ovo, gamma=1, kernel=rbf, score=0.374, total=   1.3s\n",
      "[CV] C=10, decision_function_shape=ovo, gamma=1, kernel=rbf ..........\n",
      "[CV]  C=10, decision_function_shape=ovo, gamma=1, kernel=rbf, score=0.374, total=   1.4s\n",
      "[CV] C=10, decision_function_shape=ovo, gamma=1, kernel=rbf ..........\n"
     ]
    },
    {
     "name": "stdout",
     "output_type": "stream",
     "text": [
      "[CV]  C=10, decision_function_shape=ovo, gamma=1, kernel=rbf, score=0.376, total=   1.4s\n",
      "[CV] C=10, decision_function_shape=ovo, gamma=1, kernel=rbf ..........\n",
      "[CV]  C=10, decision_function_shape=ovo, gamma=1, kernel=rbf, score=0.376, total=   1.4s\n",
      "[CV] C=10, decision_function_shape=ovo, gamma=0.1, kernel=rbf ........\n",
      "[CV]  C=10, decision_function_shape=ovo, gamma=0.1, kernel=rbf, score=0.376, total=   1.4s\n",
      "[CV] C=10, decision_function_shape=ovo, gamma=0.1, kernel=rbf ........\n",
      "[CV]  C=10, decision_function_shape=ovo, gamma=0.1, kernel=rbf, score=0.374, total=   1.4s\n",
      "[CV] C=10, decision_function_shape=ovo, gamma=0.1, kernel=rbf ........\n",
      "[CV]  C=10, decision_function_shape=ovo, gamma=0.1, kernel=rbf, score=0.374, total=   1.4s\n",
      "[CV] C=10, decision_function_shape=ovo, gamma=0.1, kernel=rbf ........\n",
      "[CV]  C=10, decision_function_shape=ovo, gamma=0.1, kernel=rbf, score=0.377, total=   1.6s\n",
      "[CV] C=10, decision_function_shape=ovo, gamma=0.1, kernel=rbf ........\n",
      "[CV]  C=10, decision_function_shape=ovo, gamma=0.1, kernel=rbf, score=0.376, total=   1.3s\n",
      "[CV] C=10, decision_function_shape=ovo, gamma=0.01, kernel=rbf .......\n",
      "[CV]  C=10, decision_function_shape=ovo, gamma=0.01, kernel=rbf, score=0.366, total=   1.3s\n",
      "[CV] C=10, decision_function_shape=ovo, gamma=0.01, kernel=rbf .......\n",
      "[CV]  C=10, decision_function_shape=ovo, gamma=0.01, kernel=rbf, score=0.375, total=   1.3s\n",
      "[CV] C=10, decision_function_shape=ovo, gamma=0.01, kernel=rbf .......\n",
      "[CV]  C=10, decision_function_shape=ovo, gamma=0.01, kernel=rbf, score=0.356, total=   1.4s\n",
      "[CV] C=10, decision_function_shape=ovo, gamma=0.01, kernel=rbf .......\n",
      "[CV]  C=10, decision_function_shape=ovo, gamma=0.01, kernel=rbf, score=0.360, total=   1.5s\n",
      "[CV] C=10, decision_function_shape=ovo, gamma=0.01, kernel=rbf .......\n",
      "[CV]  C=10, decision_function_shape=ovo, gamma=0.01, kernel=rbf, score=0.371, total=   1.8s\n",
      "[CV] C=10, decision_function_shape=ovo, gamma=0.001, kernel=rbf ......\n",
      "[CV]  C=10, decision_function_shape=ovo, gamma=0.001, kernel=rbf, score=0.305, total=   1.3s\n",
      "[CV] C=10, decision_function_shape=ovo, gamma=0.001, kernel=rbf ......\n",
      "[CV]  C=10, decision_function_shape=ovo, gamma=0.001, kernel=rbf, score=0.328, total=   1.2s\n",
      "[CV] C=10, decision_function_shape=ovo, gamma=0.001, kernel=rbf ......\n",
      "[CV]  C=10, decision_function_shape=ovo, gamma=0.001, kernel=rbf, score=0.320, total=   1.2s\n",
      "[CV] C=10, decision_function_shape=ovo, gamma=0.001, kernel=rbf ......\n",
      "[CV]  C=10, decision_function_shape=ovo, gamma=0.001, kernel=rbf, score=0.307, total=   1.3s\n",
      "[CV] C=10, decision_function_shape=ovo, gamma=0.001, kernel=rbf ......\n",
      "[CV]  C=10, decision_function_shape=ovo, gamma=0.001, kernel=rbf, score=0.326, total=   1.3s\n",
      "[CV] C=10, decision_function_shape=ovo, gamma=0.0001, kernel=rbf .....\n",
      "[CV]  C=10, decision_function_shape=ovo, gamma=0.0001, kernel=rbf, score=0.279, total=   1.3s\n",
      "[CV] C=10, decision_function_shape=ovo, gamma=0.0001, kernel=rbf .....\n",
      "[CV]  C=10, decision_function_shape=ovo, gamma=0.0001, kernel=rbf, score=0.268, total=   1.3s\n",
      "[CV] C=10, decision_function_shape=ovo, gamma=0.0001, kernel=rbf .....\n",
      "[CV]  C=10, decision_function_shape=ovo, gamma=0.0001, kernel=rbf, score=0.288, total=   1.6s\n",
      "[CV] C=10, decision_function_shape=ovo, gamma=0.0001, kernel=rbf .....\n",
      "[CV]  C=10, decision_function_shape=ovo, gamma=0.0001, kernel=rbf, score=0.284, total=   1.9s\n",
      "[CV] C=10, decision_function_shape=ovo, gamma=0.0001, kernel=rbf .....\n",
      "[CV]  C=10, decision_function_shape=ovo, gamma=0.0001, kernel=rbf, score=0.309, total=   4.2s\n",
      "[CV] C=100, decision_function_shape=ovo, gamma=1, kernel=rbf .........\n",
      "[CV]  C=100, decision_function_shape=ovo, gamma=1, kernel=rbf, score=0.376, total=   2.9s\n",
      "[CV] C=100, decision_function_shape=ovo, gamma=1, kernel=rbf .........\n",
      "[CV]  C=100, decision_function_shape=ovo, gamma=1, kernel=rbf, score=0.374, total=   1.3s\n",
      "[CV] C=100, decision_function_shape=ovo, gamma=1, kernel=rbf .........\n",
      "[CV]  C=100, decision_function_shape=ovo, gamma=1, kernel=rbf, score=0.374, total=   1.2s\n",
      "[CV] C=100, decision_function_shape=ovo, gamma=1, kernel=rbf .........\n",
      "[CV]  C=100, decision_function_shape=ovo, gamma=1, kernel=rbf, score=0.376, total=   1.2s\n",
      "[CV] C=100, decision_function_shape=ovo, gamma=1, kernel=rbf .........\n",
      "[CV]  C=100, decision_function_shape=ovo, gamma=1, kernel=rbf, score=0.376, total=   1.2s\n",
      "[CV] C=100, decision_function_shape=ovo, gamma=0.1, kernel=rbf .......\n",
      "[CV]  C=100, decision_function_shape=ovo, gamma=0.1, kernel=rbf, score=0.376, total=   1.3s\n",
      "[CV] C=100, decision_function_shape=ovo, gamma=0.1, kernel=rbf .......\n",
      "[CV]  C=100, decision_function_shape=ovo, gamma=0.1, kernel=rbf, score=0.374, total=   1.3s\n",
      "[CV] C=100, decision_function_shape=ovo, gamma=0.1, kernel=rbf .......\n",
      "[CV]  C=100, decision_function_shape=ovo, gamma=0.1, kernel=rbf, score=0.374, total=   1.3s\n",
      "[CV] C=100, decision_function_shape=ovo, gamma=0.1, kernel=rbf .......\n",
      "[CV]  C=100, decision_function_shape=ovo, gamma=0.1, kernel=rbf, score=0.377, total=   1.2s\n",
      "[CV] C=100, decision_function_shape=ovo, gamma=0.1, kernel=rbf .......\n",
      "[CV]  C=100, decision_function_shape=ovo, gamma=0.1, kernel=rbf, score=0.376, total=   1.2s\n",
      "[CV] C=100, decision_function_shape=ovo, gamma=0.01, kernel=rbf ......\n",
      "[CV]  C=100, decision_function_shape=ovo, gamma=0.01, kernel=rbf, score=0.366, total=   1.2s\n",
      "[CV] C=100, decision_function_shape=ovo, gamma=0.01, kernel=rbf ......\n",
      "[CV]  C=100, decision_function_shape=ovo, gamma=0.01, kernel=rbf, score=0.375, total=   1.2s\n",
      "[CV] C=100, decision_function_shape=ovo, gamma=0.01, kernel=rbf ......\n",
      "[CV]  C=100, decision_function_shape=ovo, gamma=0.01, kernel=rbf, score=0.356, total=   1.2s\n",
      "[CV] C=100, decision_function_shape=ovo, gamma=0.01, kernel=rbf ......\n",
      "[CV]  C=100, decision_function_shape=ovo, gamma=0.01, kernel=rbf, score=0.360, total=   1.3s\n",
      "[CV] C=100, decision_function_shape=ovo, gamma=0.01, kernel=rbf ......\n",
      "[CV]  C=100, decision_function_shape=ovo, gamma=0.01, kernel=rbf, score=0.371, total=   1.2s\n",
      "[CV] C=100, decision_function_shape=ovo, gamma=0.001, kernel=rbf .....\n",
      "[CV]  C=100, decision_function_shape=ovo, gamma=0.001, kernel=rbf, score=0.303, total=   1.2s\n",
      "[CV] C=100, decision_function_shape=ovo, gamma=0.001, kernel=rbf .....\n",
      "[CV]  C=100, decision_function_shape=ovo, gamma=0.001, kernel=rbf, score=0.328, total=   1.2s\n",
      "[CV] C=100, decision_function_shape=ovo, gamma=0.001, kernel=rbf .....\n",
      "[CV]  C=100, decision_function_shape=ovo, gamma=0.001, kernel=rbf, score=0.316, total=   1.1s\n",
      "[CV] C=100, decision_function_shape=ovo, gamma=0.001, kernel=rbf .....\n",
      "[CV]  C=100, decision_function_shape=ovo, gamma=0.001, kernel=rbf, score=0.309, total=   1.2s\n",
      "[CV] C=100, decision_function_shape=ovo, gamma=0.001, kernel=rbf .....\n",
      "[CV]  C=100, decision_function_shape=ovo, gamma=0.001, kernel=rbf, score=0.326, total=   1.2s\n",
      "[CV] C=100, decision_function_shape=ovo, gamma=0.0001, kernel=rbf ....\n",
      "[CV]  C=100, decision_function_shape=ovo, gamma=0.0001, kernel=rbf, score=0.244, total=   1.4s\n",
      "[CV] C=100, decision_function_shape=ovo, gamma=0.0001, kernel=rbf ....\n",
      "[CV]  C=100, decision_function_shape=ovo, gamma=0.0001, kernel=rbf, score=0.271, total=   1.4s\n",
      "[CV] C=100, decision_function_shape=ovo, gamma=0.0001, kernel=rbf ....\n",
      "[CV]  C=100, decision_function_shape=ovo, gamma=0.0001, kernel=rbf, score=0.267, total=   1.5s\n",
      "[CV] C=100, decision_function_shape=ovo, gamma=0.0001, kernel=rbf ....\n",
      "[CV]  C=100, decision_function_shape=ovo, gamma=0.0001, kernel=rbf, score=0.269, total=   1.4s\n",
      "[CV] C=100, decision_function_shape=ovo, gamma=0.0001, kernel=rbf ....\n",
      "[CV]  C=100, decision_function_shape=ovo, gamma=0.0001, kernel=rbf, score=0.284, total=   1.3s\n",
      "[CV] C=1000, decision_function_shape=ovo, gamma=1, kernel=rbf ........\n",
      "[CV]  C=1000, decision_function_shape=ovo, gamma=1, kernel=rbf, score=0.376, total=   1.2s\n",
      "[CV] C=1000, decision_function_shape=ovo, gamma=1, kernel=rbf ........\n",
      "[CV]  C=1000, decision_function_shape=ovo, gamma=1, kernel=rbf, score=0.374, total=   1.2s\n",
      "[CV] C=1000, decision_function_shape=ovo, gamma=1, kernel=rbf ........\n",
      "[CV]  C=1000, decision_function_shape=ovo, gamma=1, kernel=rbf, score=0.374, total=   1.2s\n",
      "[CV] C=1000, decision_function_shape=ovo, gamma=1, kernel=rbf ........\n",
      "[CV]  C=1000, decision_function_shape=ovo, gamma=1, kernel=rbf, score=0.376, total=   1.2s\n",
      "[CV] C=1000, decision_function_shape=ovo, gamma=1, kernel=rbf ........\n"
     ]
    },
    {
     "name": "stdout",
     "output_type": "stream",
     "text": [
      "[CV]  C=1000, decision_function_shape=ovo, gamma=1, kernel=rbf, score=0.376, total=   1.2s\n",
      "[CV] C=1000, decision_function_shape=ovo, gamma=0.1, kernel=rbf ......\n",
      "[CV]  C=1000, decision_function_shape=ovo, gamma=0.1, kernel=rbf, score=0.376, total=   1.2s\n",
      "[CV] C=1000, decision_function_shape=ovo, gamma=0.1, kernel=rbf ......\n",
      "[CV]  C=1000, decision_function_shape=ovo, gamma=0.1, kernel=rbf, score=0.374, total=   1.2s\n",
      "[CV] C=1000, decision_function_shape=ovo, gamma=0.1, kernel=rbf ......\n",
      "[CV]  C=1000, decision_function_shape=ovo, gamma=0.1, kernel=rbf, score=0.374, total=   1.2s\n",
      "[CV] C=1000, decision_function_shape=ovo, gamma=0.1, kernel=rbf ......\n",
      "[CV]  C=1000, decision_function_shape=ovo, gamma=0.1, kernel=rbf, score=0.377, total=   1.2s\n",
      "[CV] C=1000, decision_function_shape=ovo, gamma=0.1, kernel=rbf ......\n",
      "[CV]  C=1000, decision_function_shape=ovo, gamma=0.1, kernel=rbf, score=0.376, total=   1.2s\n",
      "[CV] C=1000, decision_function_shape=ovo, gamma=0.01, kernel=rbf .....\n",
      "[CV]  C=1000, decision_function_shape=ovo, gamma=0.01, kernel=rbf, score=0.366, total=   1.2s\n",
      "[CV] C=1000, decision_function_shape=ovo, gamma=0.01, kernel=rbf .....\n",
      "[CV]  C=1000, decision_function_shape=ovo, gamma=0.01, kernel=rbf, score=0.375, total=   1.2s\n",
      "[CV] C=1000, decision_function_shape=ovo, gamma=0.01, kernel=rbf .....\n",
      "[CV]  C=1000, decision_function_shape=ovo, gamma=0.01, kernel=rbf, score=0.356, total=   1.2s\n",
      "[CV] C=1000, decision_function_shape=ovo, gamma=0.01, kernel=rbf .....\n",
      "[CV]  C=1000, decision_function_shape=ovo, gamma=0.01, kernel=rbf, score=0.360, total=   1.2s\n",
      "[CV] C=1000, decision_function_shape=ovo, gamma=0.01, kernel=rbf .....\n",
      "[CV]  C=1000, decision_function_shape=ovo, gamma=0.01, kernel=rbf, score=0.371, total=   1.2s\n",
      "[CV] C=1000, decision_function_shape=ovo, gamma=0.001, kernel=rbf ....\n",
      "[CV]  C=1000, decision_function_shape=ovo, gamma=0.001, kernel=rbf, score=0.304, total=   1.1s\n",
      "[CV] C=1000, decision_function_shape=ovo, gamma=0.001, kernel=rbf ....\n",
      "[CV]  C=1000, decision_function_shape=ovo, gamma=0.001, kernel=rbf, score=0.329, total=   1.2s\n",
      "[CV] C=1000, decision_function_shape=ovo, gamma=0.001, kernel=rbf ....\n",
      "[CV]  C=1000, decision_function_shape=ovo, gamma=0.001, kernel=rbf, score=0.316, total=   1.1s\n",
      "[CV] C=1000, decision_function_shape=ovo, gamma=0.001, kernel=rbf ....\n",
      "[CV]  C=1000, decision_function_shape=ovo, gamma=0.001, kernel=rbf, score=0.309, total=   1.2s\n",
      "[CV] C=1000, decision_function_shape=ovo, gamma=0.001, kernel=rbf ....\n",
      "[CV]  C=1000, decision_function_shape=ovo, gamma=0.001, kernel=rbf, score=0.326, total=   1.1s\n",
      "[CV] C=1000, decision_function_shape=ovo, gamma=0.0001, kernel=rbf ...\n",
      "[CV]  C=1000, decision_function_shape=ovo, gamma=0.0001, kernel=rbf, score=0.242, total=   1.4s\n",
      "[CV] C=1000, decision_function_shape=ovo, gamma=0.0001, kernel=rbf ...\n",
      "[CV]  C=1000, decision_function_shape=ovo, gamma=0.0001, kernel=rbf, score=0.272, total=   1.5s\n",
      "[CV] C=1000, decision_function_shape=ovo, gamma=0.0001, kernel=rbf ...\n",
      "[CV]  C=1000, decision_function_shape=ovo, gamma=0.0001, kernel=rbf, score=0.270, total=   1.5s\n",
      "[CV] C=1000, decision_function_shape=ovo, gamma=0.0001, kernel=rbf ...\n",
      "[CV]  C=1000, decision_function_shape=ovo, gamma=0.0001, kernel=rbf, score=0.270, total=   1.5s\n",
      "[CV] C=1000, decision_function_shape=ovo, gamma=0.0001, kernel=rbf ...\n",
      "[CV]  C=1000, decision_function_shape=ovo, gamma=0.0001, kernel=rbf, score=0.288, total=   1.5s\n"
     ]
    },
    {
     "name": "stderr",
     "output_type": "stream",
     "text": [
      "[Parallel(n_jobs=1)]: Done 125 out of 125 | elapsed:  2.7min finished\n"
     ]
    },
    {
     "name": "stdout",
     "output_type": "stream",
     "text": [
      "Mean SVM Cross-Val Score (k=3):  37.82%\n"
     ]
    }
   ],
   "source": [
    "#Investigate SVM 3-fold cross validation score \n",
    "svm_tuned_mean_cv = cross_val_score(svmgrid, X, y, cv=3).mean()\n",
    "\n",
    "print(f\"Mean SVM Cross-Val Score (k=3): {svm_tuned_mean_cv: .2%}\")"
   ]
  },
  {
   "cell_type": "markdown",
   "metadata": {},
   "source": [
    "The test precision results improve slightly compared to the baseline, to approx. 0.499. While this is some increase, it is not a significant improvement (especially since the cross-validation score is only 37.82%). Overall, both the XGBoost and SVM tuned models perform only marginally better. This is likely due to the fact that there are many extraneous factors that could impact a song's popularity, outside of their audio features. For example, the popularity of the artist, how catchy the lyrics are, and how often the song is played on the radio are all features that could impact the popularity of a song. Our model is missing these features, and therefore we are likely not capturing the full impact on popularity, which can explain our model's average results."
   ]
  },
  {
   "cell_type": "markdown",
   "metadata": {},
   "source": [
    "### Conclusion"
   ]
  },
  {
   "cell_type": "markdown",
   "metadata": {},
   "source": [
    "The main purpose of creating a classification model in the context of a recommendation system is to provide a solution for the \"cold start problem\". If there are new users who come to use our platform who we do not have existing ratings for, we can use their information in our classification model in order to generate predicted ratings. These predicted ratings can be used as a proxy for original ratings, and later on in a recommendation system, we will be able to provide recommendations to these new users. \n",
    "\n",
    "In this specific project, the XGBoost model does not perform significantly better once it is tuned with hyperparameters, however I will use this model going forward, due to the probabilistic nature of the ratings' results. Having these probabilistic ratings allows for more exactness in our ratings, and can potentially provide us with less errors when calculating estimated ratings from our future recommendation system."
   ]
  }
 ],
 "metadata": {
  "kernelspec": {
   "display_name": "Python 3",
   "language": "python",
   "name": "python3"
  },
  "language_info": {
   "codemirror_mode": {
    "name": "ipython",
    "version": 3
   },
   "file_extension": ".py",
   "mimetype": "text/x-python",
   "name": "python",
   "nbconvert_exporter": "python",
   "pygments_lexer": "ipython3",
   "version": "3.6.9"
  }
 },
 "nbformat": 4,
 "nbformat_minor": 4
}
