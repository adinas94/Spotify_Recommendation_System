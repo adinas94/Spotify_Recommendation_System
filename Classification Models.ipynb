{
 "cells": [
  {
   "cell_type": "markdown",
   "metadata": {},
   "source": [
    "# Classification Modeling"
   ]
  },
  {
   "cell_type": "code",
   "execution_count": 1,
   "metadata": {},
   "outputs": [],
   "source": [
    "#Import necessary libraries\n",
    "import pandas as pd\n",
    "import numpy as np\n",
    "import seaborn as sns\n",
    "import matplotlib.pyplot as plt\n",
    "%matplotlib inline\n",
    "from time import time\n",
    "import re\n",
    "from numpy.random import normal\n",
    "from scipy.stats import kurtosis, skew\n",
    "import math\n",
    "from statsmodels.formula.api import ols\n",
    "from statsmodels.stats.outliers_influence import variance_inflation_factor\n",
    "import statsmodels.api as sm\n",
    "import scipy.stats as stats\n",
    "from sklearn import tree\n",
    "from sklearn.model_selection import train_test_split, cross_val_score, GridSearchCV\n",
    "from sklearn.linear_model import LinearRegression, LogisticRegression\n",
    "from sklearn.metrics import roc_curve, auc, plot_confusion_matrix, mean_squared_error, mean_absolute_error, classification_report, precision_score, recall_score, accuracy_score, f1_score\n",
    "from sklearn.preprocessing import StandardScaler\n",
    "from sklearn.neighbors import KNeighborsClassifier\n",
    "from sklearn.naive_bayes import GaussianNB\n",
    "from sklearn.tree import DecisionTreeRegressor, DecisionTreeClassifier, export_graphviz\n",
    "from sklearn.svm import SVC\n",
    "from sklearn.ensemble import RandomForestClassifier, BaggingClassifier, AdaBoostClassifier, GradientBoostingClassifier\n",
    "from six import StringIO \n",
    "from xgboost import XGBClassifier\n",
    "from imblearn.over_sampling import SMOTE\n",
    "from sklearn.pipeline import Pipeline\n",
    "from IPython.display import Image\n",
    "import pydotplus\n",
    "import warnings\n",
    "warnings.filterwarnings('ignore')"
   ]
  },
  {
   "cell_type": "code",
   "execution_count": 2,
   "metadata": {},
   "outputs": [],
   "source": [
    "#Read modeling data and drop unnecessary columns \n",
    "data = pd.read_csv('modelingdata')\n",
    "data.drop(['Unnamed: 0'], axis=1, inplace=True)"
   ]
  },
  {
   "cell_type": "code",
   "execution_count": 3,
   "metadata": {},
   "outputs": [
    {
     "name": "stdout",
     "output_type": "stream",
     "text": [
      "<class 'pandas.core.frame.DataFrame'>\n",
      "RangeIndex: 7041 entries, 0 to 7040\n",
      "Data columns (total 39 columns):\n",
      "artist              7041 non-null object\n",
      "artist_id           7041 non-null object\n",
      "album               7041 non-null object\n",
      "track_name          7041 non-null object\n",
      "is_explicit         7041 non-null int64\n",
      "track_id            7041 non-null object\n",
      "danceability        7041 non-null float64\n",
      "energy              7041 non-null float64\n",
      "key                 7041 non-null int64\n",
      "loudness            7041 non-null float64\n",
      "mode                7041 non-null int64\n",
      "speechiness         7041 non-null float64\n",
      "acousticness        7041 non-null float64\n",
      "instrumentalness    7041 non-null float64\n",
      "liveness            7041 non-null float64\n",
      "valence             7041 non-null float64\n",
      "tempo               7041 non-null float64\n",
      "duration_ms         7041 non-null int64\n",
      "ratings             7041 non-null int64\n",
      "decade_1960         7041 non-null int64\n",
      "decade_1970         7041 non-null int64\n",
      "decade_1980         7041 non-null int64\n",
      "decade_1990         7041 non-null int64\n",
      "decade_2000         7041 non-null int64\n",
      "decade_2010         7041 non-null int64\n",
      "genrecategory       7041 non-null object\n",
      "genre_acoustic      7041 non-null int64\n",
      "genre_country       7041 non-null int64\n",
      "genre_dance         7041 non-null int64\n",
      "genre_electronic    7041 non-null int64\n",
      "genre_hip hop       7041 non-null int64\n",
      "genre_house         7041 non-null int64\n",
      "genre_indie         7041 non-null int64\n",
      "genre_pop           7041 non-null int64\n",
      "genre_punk          7041 non-null int64\n",
      "genre_r&b           7041 non-null int64\n",
      "genre_rap           7041 non-null int64\n",
      "genre_rock          7041 non-null int64\n",
      "genre_soul          7041 non-null int64\n",
      "dtypes: float64(9), int64(24), object(6)\n",
      "memory usage: 2.1+ MB\n"
     ]
    }
   ],
   "source": [
    "#Look at the info from the dataframe \n",
    "data.info()"
   ]
  },
  {
   "cell_type": "code",
   "execution_count": 4,
   "metadata": {},
   "outputs": [],
   "source": [
    "#Drop columns that are not relevant to classification analysis \n",
    "songs = data.drop(['genrecategory', 'track_id', 'artist_id', 'track_name', 'artist', 'album'], axis=1)"
   ]
  },
  {
   "cell_type": "markdown",
   "metadata": {},
   "source": [
    "## Functions"
   ]
  },
  {
   "cell_type": "code",
   "execution_count": 5,
   "metadata": {},
   "outputs": [],
   "source": [
    "#Define a function that fits and predicts our data \n",
    "\n",
    "def model_fit(trainx, trainy, testx, testy, model, name):  \n",
    "    #Fit X_train and Y_train \n",
    "    model.fit(trainx, trainy)\n",
    "\n",
    "    #Predict on the test set \n",
    "    test_prediction = model.predict(testx)\n",
    "    #Predict on the train set \n",
    "    train_prediction = model.predict(trainx)\n",
    "    \n",
    "    #Create a dictionary of the results starting with the model's name \n",
    "    result = {'model': name}\n",
    "    \n",
    "    #Calculate and append train result metrics to the 'result' dictionary \n",
    "    result['train_accuracy'] = np.around((accuracy_score(trainy, train_prediction)), decimals=3)\n",
    "    result['train_precision'] = np.around((precision_score(trainy, train_prediction, average='micro')), decimals=3)\n",
    "    result['train_recall'] = np.around((recall_score(trainy, train_prediction, average='micro')), decimals=3)\n",
    "    result['train_f1'] = np.around((f1_score(trainy, train_prediction, average='micro')), decimals=3)\n",
    "    \n",
    "    #Calculate and append test result metrics to the 'result' dictionary \n",
    "    result['test_accuracy'] = np.around((accuracy_score(testy, test_prediction)), decimals=3)\n",
    "    result['test_precision'] = np.around((precision_score(testy, test_prediction, average='micro')), decimals=3)\n",
    "    result['test_recall'] = np.around((recall_score(testy, test_prediction, average='micro')), decimals=3)\n",
    "    result['test_f1'] = np.around((f1_score(testy, test_prediction, average='micro')), decimals=3)\n",
    "    \n",
    "    print(\"\\n\")\n",
    "    \n",
    "    #Print the classification report for the train results \n",
    "    print(\"Train Score Results\")\n",
    "    print(classification_report(trainy, train_prediction))\n",
    "    #Print the accuracy, precision, recall and f1 score for train set \n",
    "    print(\"Train Set Accuracy:\", result['train_accuracy'])\n",
    "    print(\"Train Set Precision:\", result['train_precision'])\n",
    "    print(\"Train Set Recall:\", result['train_recall'])\n",
    "    print(\"Train Set F1-Score:\", result['train_f1'])\n",
    "\n",
    "    print(\"\\n\")\n",
    "    \n",
    "    #Print the classification report for the test results\n",
    "    print(\"Test Score Results\")    \n",
    "    print(classification_report(testy, test_prediction)) \n",
    "    #Print the accuracy, precision, recall and f1 score for test set                                   \n",
    "    print(\"Test Set Accuracy:\", result['test_accuracy'])  \n",
    "    print(\"Test Set Precision:\", result['test_precision']) \n",
    "    print(\"Test Set Recall:\", result['test_recall'])\n",
    "    print(\"Test Set F1-Score:\", result['test_f1'])\n",
    "                                      \n",
    "    \n",
    "    print(\"\\n\")\n",
    "    \n",
    "   \n",
    "    fig, (ax1, ax2) = plt.subplots(ncols=2, sharey=True)\n",
    "    #Plot the train confusion matrix \n",
    "    trainmatrix = plot_confusion_matrix(model, trainx, trainy, cmap=plt.cm.Blues, ax=ax1)\n",
    "    #Plot the test confusion matrix \n",
    "    testmatrix = plot_confusion_matrix(model, testx, testy, cmap=plt.cm.Blues, ax=ax2)\n",
    "    #Set titles for the plot \n",
    "    ax1.set_title('Train Confusion Matrix')\n",
    "    ax2.set_title('Test Confusion Matrix')\n",
    "    plt.tight_layout()\n",
    "    plt.show()\n",
    "    \n",
    "    return result"
   ]
  },
  {
   "cell_type": "code",
   "execution_count": 6,
   "metadata": {},
   "outputs": [],
   "source": [
    "#Create function for plotting a feature importance histogram \n",
    "def features_plot(df, title):\n",
    "    df.columns = ['feature', 'feature_importance']\n",
    "    sns.barplot(x = 'feature_importance', y = 'feature', data = df, orient = 'h', color = 'blue') \\\n",
    "       .set_title(title, fontsize = 20)"
   ]
  },
  {
   "cell_type": "code",
   "execution_count": 7,
   "metadata": {},
   "outputs": [],
   "source": [
    "#Create function for creating a feature importance dataframe\n",
    "def features_df(column_names, importances):\n",
    "    df = pd.DataFrame({'feature': column_names,\n",
    "                       'feature_importance': importances}) \\\n",
    "           .sort_values('feature_importance', ascending = False) \\\n",
    "           .reset_index(drop = True)\n",
    "    return df"
   ]
  },
  {
   "cell_type": "markdown",
   "metadata": {},
   "source": [
    "## Train Test Split"
   ]
  },
  {
   "cell_type": "code",
   "execution_count": 8,
   "metadata": {},
   "outputs": [
    {
     "data": {
      "text/plain": [
       "3    2648\n",
       "2    1981\n",
       "4    1287\n",
       "1     916\n",
       "5     209\n",
       "Name: ratings, dtype: int64"
      ]
     },
     "execution_count": 8,
     "metadata": {},
     "output_type": "execute_result"
    }
   ],
   "source": [
    "#Explore the class distribution of the target variable \"ratings\"\n",
    "songs['ratings'].value_counts()"
   ]
  },
  {
   "cell_type": "code",
   "execution_count": 9,
   "metadata": {},
   "outputs": [],
   "source": [
    "#Set X and y values \n",
    "y = songs['ratings']\n",
    "X = songs.drop(['ratings'], axis=1)"
   ]
  },
  {
   "cell_type": "code",
   "execution_count": 10,
   "metadata": {},
   "outputs": [
    {
     "data": {
      "text/plain": [
       "3    0.376083\n",
       "2    0.281352\n",
       "4    0.182787\n",
       "1    0.130095\n",
       "5    0.029683\n",
       "Name: ratings, dtype: float64"
      ]
     },
     "execution_count": 10,
     "metadata": {},
     "output_type": "execute_result"
    }
   ],
   "source": [
    "#Investigate the value counts of our target variable \n",
    "y.value_counts(normalize=True)"
   ]
  },
  {
   "cell_type": "code",
   "execution_count": 11,
   "metadata": {},
   "outputs": [],
   "source": [
    "#Perform train test split \n",
    "X_train, X_test, y_train, y_test = train_test_split(X, y, random_state=42)"
   ]
  },
  {
   "cell_type": "markdown",
   "metadata": {},
   "source": [
    "## Section A: Vanilla Models"
   ]
  },
  {
   "cell_type": "markdown",
   "metadata": {},
   "source": [
    "Before I tune any models, I will perform basic vanilla models on serveral machine learning models in order to determine which perform the best. The aim of these models is to optimize precision in order to ensure that each classification is classified properly; therefore I will later decide which models to tune further, depending on which vanilla models yield the strongest test_precision results."
   ]
  },
  {
   "cell_type": "markdown",
   "metadata": {},
   "source": [
    "### 1. KNN Model"
   ]
  },
  {
   "cell_type": "code",
   "execution_count": 12,
   "metadata": {},
   "outputs": [],
   "source": [
    "#Scale the data\n",
    "scaler = StandardScaler()  \n",
    "scaler.fit(X_train)\n",
    "\n",
    "#Scale original X_train and X_test\n",
    "X_train_scaled = scaler.transform(X_train)  \n",
    "X_test_scaled = scaler.transform(X_test)"
   ]
  },
  {
   "cell_type": "code",
   "execution_count": 13,
   "metadata": {},
   "outputs": [],
   "source": [
    "#Fit and predict the vanilla KNN model\n",
    "knnmodel = KNeighborsClassifier()"
   ]
  },
  {
   "cell_type": "code",
   "execution_count": 14,
   "metadata": {},
   "outputs": [
    {
     "name": "stdout",
     "output_type": "stream",
     "text": [
      "\n",
      "\n",
      "Train Score Results\n",
      "              precision    recall  f1-score   support\n",
      "\n",
      "           1       0.47      0.48      0.48       683\n",
      "           2       0.54      0.65      0.59      1491\n",
      "           3       0.59      0.62      0.61      1981\n",
      "           4       0.58      0.40      0.47       972\n",
      "           5       0.45      0.07      0.11       153\n",
      "\n",
      "    accuracy                           0.56      5280\n",
      "   macro avg       0.53      0.44      0.45      5280\n",
      "weighted avg       0.55      0.56      0.55      5280\n",
      "\n",
      "Train Set Accuracy: 0.555\n",
      "Train Set Precision: 0.555\n",
      "Train Set Recall: 0.555\n",
      "Train Set F1-Score: 0.555\n",
      "\n",
      "\n",
      "Test Score Results\n",
      "              precision    recall  f1-score   support\n",
      "\n",
      "           1       0.21      0.19      0.20       233\n",
      "           2       0.33      0.42      0.37       490\n",
      "           3       0.42      0.44      0.43       667\n",
      "           4       0.31      0.22      0.25       315\n",
      "           5       0.09      0.02      0.03        56\n",
      "\n",
      "    accuracy                           0.35      1761\n",
      "   macro avg       0.27      0.26      0.26      1761\n",
      "weighted avg       0.34      0.35      0.34      1761\n",
      "\n",
      "Test Set Accuracy: 0.348\n",
      "Test Set Precision: 0.348\n",
      "Test Set Recall: 0.348\n",
      "Test Set F1-Score: 0.348\n",
      "\n",
      "\n"
     ]
    },
    {
     "data": {
      "image/png": "[encoded data removed]",
      "text/plain": [
       "<Figure size 432x288 with 4 Axes>"
      ]
     },
     "metadata": {
      "needs_background": "light"
     },
     "output_type": "display_data"
    }
   ],
   "source": [
    "#Apply the model and print metrics\n",
    "knnresult = model_fit(X_train_scaled, y_train, X_test_scaled, y_test, knnmodel, 'knn')"
   ]
  },
  {
   "cell_type": "markdown",
   "metadata": {},
   "source": [
    "### 2. Bayes Classification Model"
   ]
  },
  {
   "cell_type": "code",
   "execution_count": 15,
   "metadata": {},
   "outputs": [],
   "source": [
    "#Instansiate the vanilla bayes model\n",
    "bayes = GaussianNB()"
   ]
  },
  {
   "cell_type": "code",
   "execution_count": 16,
   "metadata": {},
   "outputs": [
    {
     "name": "stdout",
     "output_type": "stream",
     "text": [
      "\n",
      "\n",
      "Train Score Results\n",
      "              precision    recall  f1-score   support\n",
      "\n",
      "           1       0.00      0.00      0.00       683\n",
      "           2       0.44      0.01      0.03      1491\n",
      "           3       0.37      0.99      0.54      1981\n",
      "           4       0.27      0.01      0.01       972\n",
      "           5       0.00      0.00      0.00       153\n",
      "\n",
      "    accuracy                           0.38      5280\n",
      "   macro avg       0.22      0.20      0.12      5280\n",
      "weighted avg       0.32      0.38      0.21      5280\n",
      "\n",
      "Train Set Accuracy: 0.375\n",
      "Train Set Precision: 0.375\n",
      "Train Set Recall: 0.375\n",
      "Train Set F1-Score: 0.375\n",
      "\n",
      "\n",
      "Test Score Results\n",
      "              precision    recall  f1-score   support\n",
      "\n",
      "           1       0.00      0.00      0.00       233\n",
      "           2       0.53      0.02      0.04       490\n",
      "           3       0.38      0.99      0.55       667\n",
      "           4       0.33      0.01      0.01       315\n",
      "           5       0.00      0.00      0.00        56\n",
      "\n",
      "    accuracy                           0.38      1761\n",
      "   macro avg       0.25      0.20      0.12      1761\n",
      "weighted avg       0.35      0.38      0.22      1761\n",
      "\n",
      "Test Set Accuracy: 0.382\n",
      "Test Set Precision: 0.382\n",
      "Test Set Recall: 0.382\n",
      "Test Set F1-Score: 0.382\n",
      "\n",
      "\n"
     ]
    },
    {
     "data": {
      "image/png": "[encoded data removed]",
      "text/plain": [
       "<Figure size 432x288 with 4 Axes>"
      ]
     },
     "metadata": {
      "needs_background": "light"
     },
     "output_type": "display_data"
    }
   ],
   "source": [
    "#Apply the model_fit function\n",
    "bayesresult = model_fit(X_train, y_train, X_test, y_test, bayes, 'bayes')"
   ]
  },
  {
   "cell_type": "markdown",
   "metadata": {},
   "source": [
    "### 3. Decision Tree Classifier"
   ]
  },
  {
   "cell_type": "code",
   "execution_count": 17,
   "metadata": {},
   "outputs": [],
   "source": [
    "#Instansiate the vanilla decision tree model \n",
    "decisiontree = DecisionTreeClassifier(random_state=42)"
   ]
  },
  {
   "cell_type": "code",
   "execution_count": 18,
   "metadata": {},
   "outputs": [
    {
     "name": "stdout",
     "output_type": "stream",
     "text": [
      "\n",
      "\n",
      "Train Score Results\n",
      "              precision    recall  f1-score   support\n",
      "\n",
      "           1       0.99      1.00      1.00       683\n",
      "           2       0.99      1.00      1.00      1491\n",
      "           3       1.00      0.99      1.00      1981\n",
      "           4       1.00      1.00      1.00       972\n",
      "           5       1.00      0.97      0.99       153\n",
      "\n",
      "    accuracy                           1.00      5280\n",
      "   macro avg       1.00      0.99      0.99      5280\n",
      "weighted avg       1.00      1.00      1.00      5280\n",
      "\n",
      "Train Set Accuracy: 0.996\n",
      "Train Set Precision: 0.996\n",
      "Train Set Recall: 0.996\n",
      "Train Set F1-Score: 0.996\n",
      "\n",
      "\n",
      "Test Score Results\n",
      "              precision    recall  f1-score   support\n",
      "\n",
      "           1       0.16      0.15      0.16       233\n",
      "           2       0.32      0.33      0.32       490\n",
      "           3       0.37      0.34      0.35       667\n",
      "           4       0.28      0.30      0.29       315\n",
      "           5       0.08      0.09      0.08        56\n",
      "\n",
      "    accuracy                           0.30      1761\n",
      "   macro avg       0.24      0.24      0.24      1761\n",
      "weighted avg       0.30      0.30      0.30      1761\n",
      "\n",
      "Test Set Accuracy: 0.299\n",
      "Test Set Precision: 0.299\n",
      "Test Set Recall: 0.299\n",
      "Test Set F1-Score: 0.299\n",
      "\n",
      "\n"
     ]
    },
    {
     "data": {
      "image/png": "[encoded data removed]",
      "text/plain": [
       "<Figure size 432x288 with 4 Axes>"
      ]
     },
     "metadata": {
      "needs_background": "light"
     },
     "output_type": "display_data"
    }
   ],
   "source": [
    "#Apply the model fit function \n",
    "decisiontreeresult = model_fit(X_train, y_train, X_test, y_test, decisiontree, 'decisiontree')"
   ]
  },
  {
   "cell_type": "code",
   "execution_count": 19,
   "metadata": {},
   "outputs": [
    {
     "data": {
      "text/html": [
       "<div>\n",
       "<style scoped>\n",
       "    .dataframe tbody tr th:only-of-type {\n",
       "        vertical-align: middle;\n",
       "    }\n",
       "\n",
       "    .dataframe tbody tr th {\n",
       "        vertical-align: top;\n",
       "    }\n",
       "\n",
       "    .dataframe thead th {\n",
       "        text-align: right;\n",
       "    }\n",
       "</style>\n",
       "<table border=\"1\" class=\"dataframe\">\n",
       "  <thead>\n",
       "    <tr style=\"text-align: right;\">\n",
       "      <th></th>\n",
       "      <th>feature</th>\n",
       "      <th>feature_importance</th>\n",
       "    </tr>\n",
       "  </thead>\n",
       "  <tbody>\n",
       "    <tr>\n",
       "      <th>0</th>\n",
       "      <td>duration_ms</td>\n",
       "      <td>0.104684</td>\n",
       "    </tr>\n",
       "    <tr>\n",
       "      <th>1</th>\n",
       "      <td>danceability</td>\n",
       "      <td>0.094061</td>\n",
       "    </tr>\n",
       "    <tr>\n",
       "      <th>2</th>\n",
       "      <td>tempo</td>\n",
       "      <td>0.091386</td>\n",
       "    </tr>\n",
       "    <tr>\n",
       "      <th>3</th>\n",
       "      <td>liveness</td>\n",
       "      <td>0.090758</td>\n",
       "    </tr>\n",
       "    <tr>\n",
       "      <th>4</th>\n",
       "      <td>acousticness</td>\n",
       "      <td>0.090204</td>\n",
       "    </tr>\n",
       "    <tr>\n",
       "      <th>5</th>\n",
       "      <td>valence</td>\n",
       "      <td>0.081803</td>\n",
       "    </tr>\n",
       "    <tr>\n",
       "      <th>6</th>\n",
       "      <td>loudness</td>\n",
       "      <td>0.080161</td>\n",
       "    </tr>\n",
       "    <tr>\n",
       "      <th>7</th>\n",
       "      <td>speechiness</td>\n",
       "      <td>0.079884</td>\n",
       "    </tr>\n",
       "    <tr>\n",
       "      <th>8</th>\n",
       "      <td>energy</td>\n",
       "      <td>0.074074</td>\n",
       "    </tr>\n",
       "    <tr>\n",
       "      <th>9</th>\n",
       "      <td>key</td>\n",
       "      <td>0.061772</td>\n",
       "    </tr>\n",
       "    <tr>\n",
       "      <th>10</th>\n",
       "      <td>instrumentalness</td>\n",
       "      <td>0.050275</td>\n",
       "    </tr>\n",
       "    <tr>\n",
       "      <th>11</th>\n",
       "      <td>decade_2010</td>\n",
       "      <td>0.020888</td>\n",
       "    </tr>\n",
       "    <tr>\n",
       "      <th>12</th>\n",
       "      <td>mode</td>\n",
       "      <td>0.015089</td>\n",
       "    </tr>\n",
       "    <tr>\n",
       "      <th>13</th>\n",
       "      <td>genre_pop</td>\n",
       "      <td>0.009710</td>\n",
       "    </tr>\n",
       "    <tr>\n",
       "      <th>14</th>\n",
       "      <td>genre_rock</td>\n",
       "      <td>0.008321</td>\n",
       "    </tr>\n",
       "    <tr>\n",
       "      <th>15</th>\n",
       "      <td>genre_dance</td>\n",
       "      <td>0.008206</td>\n",
       "    </tr>\n",
       "    <tr>\n",
       "      <th>16</th>\n",
       "      <td>genre_indie</td>\n",
       "      <td>0.006001</td>\n",
       "    </tr>\n",
       "    <tr>\n",
       "      <th>17</th>\n",
       "      <td>is_explicit</td>\n",
       "      <td>0.004929</td>\n",
       "    </tr>\n",
       "    <tr>\n",
       "      <th>18</th>\n",
       "      <td>genre_punk</td>\n",
       "      <td>0.003718</td>\n",
       "    </tr>\n",
       "    <tr>\n",
       "      <th>19</th>\n",
       "      <td>genre_country</td>\n",
       "      <td>0.003570</td>\n",
       "    </tr>\n",
       "    <tr>\n",
       "      <th>20</th>\n",
       "      <td>genre_r&amp;b</td>\n",
       "      <td>0.002853</td>\n",
       "    </tr>\n",
       "    <tr>\n",
       "      <th>21</th>\n",
       "      <td>decade_2000</td>\n",
       "      <td>0.002789</td>\n",
       "    </tr>\n",
       "    <tr>\n",
       "      <th>22</th>\n",
       "      <td>genre_hip hop</td>\n",
       "      <td>0.002772</td>\n",
       "    </tr>\n",
       "    <tr>\n",
       "      <th>23</th>\n",
       "      <td>genre_acoustic</td>\n",
       "      <td>0.002225</td>\n",
       "    </tr>\n",
       "    <tr>\n",
       "      <th>24</th>\n",
       "      <td>genre_rap</td>\n",
       "      <td>0.001998</td>\n",
       "    </tr>\n",
       "    <tr>\n",
       "      <th>25</th>\n",
       "      <td>genre_electronic</td>\n",
       "      <td>0.001766</td>\n",
       "    </tr>\n",
       "    <tr>\n",
       "      <th>26</th>\n",
       "      <td>decade_1980</td>\n",
       "      <td>0.001655</td>\n",
       "    </tr>\n",
       "    <tr>\n",
       "      <th>27</th>\n",
       "      <td>decade_1990</td>\n",
       "      <td>0.001425</td>\n",
       "    </tr>\n",
       "    <tr>\n",
       "      <th>28</th>\n",
       "      <td>decade_1960</td>\n",
       "      <td>0.001332</td>\n",
       "    </tr>\n",
       "    <tr>\n",
       "      <th>29</th>\n",
       "      <td>genre_soul</td>\n",
       "      <td>0.001054</td>\n",
       "    </tr>\n",
       "    <tr>\n",
       "      <th>30</th>\n",
       "      <td>genre_house</td>\n",
       "      <td>0.000419</td>\n",
       "    </tr>\n",
       "    <tr>\n",
       "      <th>31</th>\n",
       "      <td>decade_1970</td>\n",
       "      <td>0.000218</td>\n",
       "    </tr>\n",
       "  </tbody>\n",
       "</table>\n",
       "</div>"
      ],
      "text/plain": [
       "             feature  feature_importance\n",
       "0        duration_ms            0.104684\n",
       "1       danceability            0.094061\n",
       "2              tempo            0.091386\n",
       "3           liveness            0.090758\n",
       "4       acousticness            0.090204\n",
       "5            valence            0.081803\n",
       "6           loudness            0.080161\n",
       "7        speechiness            0.079884\n",
       "8             energy            0.074074\n",
       "9                key            0.061772\n",
       "10  instrumentalness            0.050275\n",
       "11       decade_2010            0.020888\n",
       "12              mode            0.015089\n",
       "13         genre_pop            0.009710\n",
       "14        genre_rock            0.008321\n",
       "15       genre_dance            0.008206\n",
       "16       genre_indie            0.006001\n",
       "17       is_explicit            0.004929\n",
       "18        genre_punk            0.003718\n",
       "19     genre_country            0.003570\n",
       "20         genre_r&b            0.002853\n",
       "21       decade_2000            0.002789\n",
       "22     genre_hip hop            0.002772\n",
       "23    genre_acoustic            0.002225\n",
       "24         genre_rap            0.001998\n",
       "25  genre_electronic            0.001766\n",
       "26       decade_1980            0.001655\n",
       "27       decade_1990            0.001425\n",
       "28       decade_1960            0.001332\n",
       "29        genre_soul            0.001054\n",
       "30       genre_house            0.000419\n",
       "31       decade_1970            0.000218"
      ]
     },
     "execution_count": 19,
     "metadata": {},
     "output_type": "execute_result"
    }
   ],
   "source": [
    "#Look at feature importances of our decision tree \n",
    "features = features_df(X_train.columns, decisiontree.feature_importances_)\n",
    "features"
   ]
  },
  {
   "cell_type": "markdown",
   "metadata": {},
   "source": [
    "### 4. Ensemble Methods"
   ]
  },
  {
   "cell_type": "markdown",
   "metadata": {},
   "source": [
    "#### a. Bagging Method"
   ]
  },
  {
   "cell_type": "code",
   "execution_count": 20,
   "metadata": {},
   "outputs": [],
   "source": [
    "#Instansiate the bagged method vanilla model\n",
    "bagged_tree = BaggingClassifier(DecisionTreeClassifier(random_state=42), n_estimators=20)"
   ]
  },
  {
   "cell_type": "code",
   "execution_count": 21,
   "metadata": {},
   "outputs": [
    {
     "name": "stdout",
     "output_type": "stream",
     "text": [
      "\n",
      "\n",
      "Train Score Results\n",
      "              precision    recall  f1-score   support\n",
      "\n",
      "           1       1.00      1.00      1.00       683\n",
      "           2       1.00      0.99      1.00      1491\n",
      "           3       0.99      1.00      0.99      1981\n",
      "           4       1.00      0.99      1.00       972\n",
      "           5       0.97      0.98      0.98       153\n",
      "\n",
      "    accuracy                           0.99      5280\n",
      "   macro avg       0.99      0.99      0.99      5280\n",
      "weighted avg       0.99      0.99      0.99      5280\n",
      "\n",
      "Train Set Accuracy: 0.995\n",
      "Train Set Precision: 0.995\n",
      "Train Set Recall: 0.995\n",
      "Train Set F1-Score: 0.995\n",
      "\n",
      "\n",
      "Test Score Results\n",
      "              precision    recall  f1-score   support\n",
      "\n",
      "           1       0.24      0.09      0.13       233\n",
      "           2       0.33      0.40      0.36       490\n",
      "           3       0.40      0.52      0.46       667\n",
      "           4       0.40      0.27      0.32       315\n",
      "           5       0.00      0.00      0.00        56\n",
      "\n",
      "    accuracy                           0.37      1761\n",
      "   macro avg       0.27      0.26      0.25      1761\n",
      "weighted avg       0.35      0.37      0.35      1761\n",
      "\n",
      "Test Set Accuracy: 0.37\n",
      "Test Set Precision: 0.37\n",
      "Test Set Recall: 0.37\n",
      "Test Set F1-Score: 0.37\n",
      "\n",
      "\n"
     ]
    },
    {
     "data": {
      "image/png": "[encoded data removed]",
      "text/plain": [
       "<Figure size 432x288 with 4 Axes>"
      ]
     },
     "metadata": {
      "needs_background": "light"
     },
     "output_type": "display_data"
    }
   ],
   "source": [
    "#Apply the model prediction\n",
    "baggingresult = model_fit(X_train, y_train, X_test, y_test, bagged_tree, 'bagging')"
   ]
  },
  {
   "cell_type": "markdown",
   "metadata": {},
   "source": [
    "#### b. Random Forest Classifier"
   ]
  },
  {
   "cell_type": "code",
   "execution_count": 22,
   "metadata": {},
   "outputs": [],
   "source": [
    "#Instansiate the random forest vanilla model \n",
    "randomforest = RandomForestClassifier(random_state=42)"
   ]
  },
  {
   "cell_type": "code",
   "execution_count": 23,
   "metadata": {},
   "outputs": [
    {
     "name": "stdout",
     "output_type": "stream",
     "text": [
      "\n",
      "\n",
      "Train Score Results\n",
      "              precision    recall  f1-score   support\n",
      "\n",
      "           1       1.00      1.00      1.00       683\n",
      "           2       1.00      1.00      1.00      1491\n",
      "           3       0.99      1.00      1.00      1981\n",
      "           4       1.00      1.00      1.00       972\n",
      "           5       0.99      0.99      0.99       153\n",
      "\n",
      "    accuracy                           1.00      5280\n",
      "   macro avg       0.99      0.99      0.99      5280\n",
      "weighted avg       1.00      1.00      1.00      5280\n",
      "\n",
      "Train Set Accuracy: 0.996\n",
      "Train Set Precision: 0.996\n",
      "Train Set Recall: 0.996\n",
      "Train Set F1-Score: 0.996\n",
      "\n",
      "\n",
      "Test Score Results\n",
      "              precision    recall  f1-score   support\n",
      "\n",
      "           1       0.17      0.01      0.02       233\n",
      "           2       0.36      0.39      0.37       490\n",
      "           3       0.41      0.65      0.51       667\n",
      "           4       0.45      0.23      0.31       315\n",
      "           5       0.00      0.00      0.00        56\n",
      "\n",
      "    accuracy                           0.40      1761\n",
      "   macro avg       0.28      0.26      0.24      1761\n",
      "weighted avg       0.36      0.40      0.35      1761\n",
      "\n",
      "Test Set Accuracy: 0.398\n",
      "Test Set Precision: 0.398\n",
      "Test Set Recall: 0.398\n",
      "Test Set F1-Score: 0.398\n",
      "\n",
      "\n"
     ]
    },
    {
     "data": {
      "image/png": "[encoded data removed]",
      "text/plain": [
       "<Figure size 432x288 with 4 Axes>"
      ]
     },
     "metadata": {
      "needs_background": "light"
     },
     "output_type": "display_data"
    }
   ],
   "source": [
    "#Apply the model_fit function \n",
    "randomforestresult = model_fit(X_train, y_train, X_test, y_test, randomforest, 'randomforest')"
   ]
  },
  {
   "cell_type": "code",
   "execution_count": 24,
   "metadata": {},
   "outputs": [
    {
     "data": {
      "text/plain": [
       "0.3893939393939394"
      ]
     },
     "execution_count": 24,
     "metadata": {},
     "output_type": "execute_result"
    }
   ],
   "source": [
    "#Look at another performance measure: mean 3-Fold cross validation score \n",
    "mean_rf_cv_score = np.mean(cross_val_score(randomforest, X_train, y_train, cv=3))\n",
    "mean_rf_cv_score"
   ]
  },
  {
   "cell_type": "markdown",
   "metadata": {},
   "source": [
    "## 5. Boosting"
   ]
  },
  {
   "cell_type": "markdown",
   "metadata": {},
   "source": [
    "### a. Adaboost"
   ]
  },
  {
   "cell_type": "code",
   "execution_count": 25,
   "metadata": {},
   "outputs": [],
   "source": [
    "#Instansiate the Adaboost vanilla model\n",
    "adb = AdaBoostClassifier(random_state=0)"
   ]
  },
  {
   "cell_type": "code",
   "execution_count": 26,
   "metadata": {},
   "outputs": [
    {
     "name": "stdout",
     "output_type": "stream",
     "text": [
      "\n",
      "\n",
      "Train Score Results\n",
      "              precision    recall  f1-score   support\n",
      "\n",
      "           1       0.32      0.01      0.02       683\n",
      "           2       0.39      0.35      0.37      1491\n",
      "           3       0.41      0.69      0.51      1981\n",
      "           4       0.45      0.26      0.33       972\n",
      "           5       0.12      0.02      0.03       153\n",
      "\n",
      "    accuracy                           0.41      5280\n",
      "   macro avg       0.34      0.27      0.25      5280\n",
      "weighted avg       0.39      0.41      0.36      5280\n",
      "\n",
      "Train Set Accuracy: 0.408\n",
      "Train Set Precision: 0.408\n",
      "Train Set Recall: 0.408\n",
      "Train Set F1-Score: 0.408\n",
      "\n",
      "\n",
      "Test Score Results\n",
      "              precision    recall  f1-score   support\n",
      "\n",
      "           1       0.40      0.02      0.03       233\n",
      "           2       0.39      0.34      0.36       490\n",
      "           3       0.40      0.68      0.50       667\n",
      "           4       0.39      0.21      0.27       315\n",
      "           5       0.06      0.02      0.03        56\n",
      "\n",
      "    accuracy                           0.39      1761\n",
      "   macro avg       0.33      0.25      0.24      1761\n",
      "weighted avg       0.38      0.39      0.35      1761\n",
      "\n",
      "Test Set Accuracy: 0.393\n",
      "Test Set Precision: 0.393\n",
      "Test Set Recall: 0.393\n",
      "Test Set F1-Score: 0.393\n",
      "\n",
      "\n"
     ]
    },
    {
     "data": {
      "image/png": "[encoded data removed]",
      "text/plain": [
       "<Figure size 432x288 with 4 Axes>"
      ]
     },
     "metadata": {
      "needs_background": "light"
     },
     "output_type": "display_data"
    }
   ],
   "source": [
    "#Fit and predict model and show results\n",
    "adbresult = model_fit(X_train, y_train, X_test, y_test, adb, 'Adaboost')"
   ]
  },
  {
   "cell_type": "code",
   "execution_count": 27,
   "metadata": {},
   "outputs": [
    {
     "name": "stdout",
     "output_type": "stream",
     "text": [
      "\n",
      "\n",
      "Train Score Results\n",
      "              precision    recall  f1-score   support\n",
      "\n",
      "           1       0.32      0.01      0.02       683\n",
      "           2       0.39      0.35      0.37      1491\n",
      "           3       0.41      0.69      0.51      1981\n",
      "           4       0.45      0.26      0.33       972\n",
      "           5       0.12      0.02      0.03       153\n",
      "\n",
      "    accuracy                           0.41      5280\n",
      "   macro avg       0.34      0.27      0.25      5280\n",
      "weighted avg       0.39      0.41      0.36      5280\n",
      "\n",
      "Train Set Accuracy: 0.408\n",
      "Train Set Precision: 0.408\n",
      "Train Set Recall: 0.408\n",
      "Train Set F1-Score: 0.408\n",
      "\n",
      "\n",
      "Test Score Results\n",
      "              precision    recall  f1-score   support\n",
      "\n",
      "           1       0.40      0.02      0.03       233\n",
      "           2       0.39      0.34      0.36       490\n",
      "           3       0.40      0.68      0.50       667\n",
      "           4       0.39      0.21      0.27       315\n",
      "           5       0.06      0.02      0.03        56\n",
      "\n",
      "    accuracy                           0.39      1761\n",
      "   macro avg       0.33      0.25      0.24      1761\n",
      "weighted avg       0.38      0.39      0.35      1761\n",
      "\n",
      "Test Set Accuracy: 0.393\n",
      "Test Set Precision: 0.393\n",
      "Test Set Recall: 0.393\n",
      "Test Set F1-Score: 0.393\n",
      "\n",
      "\n"
     ]
    },
    {
     "data": {
      "image/png": "[encoded data removed]",
      "text/plain": [
       "<Figure size 432x288 with 4 Axes>"
      ]
     },
     "metadata": {
      "needs_background": "light"
     },
     "output_type": "display_data"
    }
   ],
   "source": [
    "#Fit and predict model and show results\n",
    "adbresult = model_fit(X_train, y_train, X_test, y_test, adb, 'Adaboost')"
   ]
  },
  {
   "cell_type": "markdown",
   "metadata": {},
   "source": [
    "### b. Gradient Boosting"
   ]
  },
  {
   "cell_type": "code",
   "execution_count": 28,
   "metadata": {},
   "outputs": [],
   "source": [
    "#Instansiate the Gradient Boosting vanilla model\n",
    "gb = GradientBoostingClassifier(random_state=42)"
   ]
  },
  {
   "cell_type": "code",
   "execution_count": 29,
   "metadata": {},
   "outputs": [
    {
     "name": "stdout",
     "output_type": "stream",
     "text": [
      "\n",
      "\n",
      "Train Score Results\n",
      "              precision    recall  f1-score   support\n",
      "\n",
      "           1       0.89      0.17      0.28       683\n",
      "           2       0.62      0.51      0.56      1491\n",
      "           3       0.51      0.86      0.64      1981\n",
      "           4       0.75      0.39      0.52       972\n",
      "           5       1.00      0.35      0.52       153\n",
      "\n",
      "    accuracy                           0.57      5280\n",
      "   macro avg       0.75      0.46      0.50      5280\n",
      "weighted avg       0.65      0.57      0.54      5280\n",
      "\n",
      "Train Set Accuracy: 0.57\n",
      "Train Set Precision: 0.57\n",
      "Train Set Recall: 0.57\n",
      "Train Set F1-Score: 0.57\n",
      "\n",
      "\n",
      "Test Score Results\n",
      "              precision    recall  f1-score   support\n",
      "\n",
      "           1       0.29      0.03      0.05       233\n",
      "           2       0.39      0.32      0.35       490\n",
      "           3       0.40      0.71      0.51       667\n",
      "           4       0.41      0.21      0.28       315\n",
      "           5       0.00      0.00      0.00        56\n",
      "\n",
      "    accuracy                           0.40      1761\n",
      "   macro avg       0.30      0.25      0.24      1761\n",
      "weighted avg       0.37      0.40      0.35      1761\n",
      "\n",
      "Test Set Accuracy: 0.398\n",
      "Test Set Precision: 0.398\n",
      "Test Set Recall: 0.398\n",
      "Test Set F1-Score: 0.398\n",
      "\n",
      "\n"
     ]
    },
    {
     "data": {
      "image/png": "[encoded data removed]",
      "text/plain": [
       "<Figure size 432x288 with 4 Axes>"
      ]
     },
     "metadata": {
      "needs_background": "light"
     },
     "output_type": "display_data"
    }
   ],
   "source": [
    "#Fit and predict model and show results\n",
    "gbresult = model_fit(X_train, y_train, X_test, y_test, gb, 'Gradient_Boosting')"
   ]
  },
  {
   "cell_type": "code",
   "execution_count": 30,
   "metadata": {},
   "outputs": [
    {
     "name": "stdout",
     "output_type": "stream",
     "text": [
      "Mean Adaboost Cross-Val Score (k=3):  36.51%\n"
     ]
    }
   ],
   "source": [
    "#Look at another performance measure: mean 3-Fold cross validation score \n",
    "gb_mean_cv = cross_val_score(gb, X, y, cv=3).mean()\n",
    "\n",
    "print(f\"Mean Adaboost Cross-Val Score (k=3): {gb_mean_cv: .2%}\")"
   ]
  },
  {
   "cell_type": "markdown",
   "metadata": {},
   "source": [
    "### c. XGBoost"
   ]
  },
  {
   "cell_type": "code",
   "execution_count": 31,
   "metadata": {},
   "outputs": [],
   "source": [
    "#Instansiate the XGBoost vanilla model\n",
    "xgb = XGBClassifier(random_state=0)"
   ]
  },
  {
   "cell_type": "code",
   "execution_count": 32,
   "metadata": {},
   "outputs": [
    {
     "name": "stdout",
     "output_type": "stream",
     "text": [
      "\n",
      "\n",
      "Train Score Results\n",
      "              precision    recall  f1-score   support\n",
      "\n",
      "           1       0.75      0.04      0.08       683\n",
      "           2       0.55      0.42      0.48      1491\n",
      "           3       0.46      0.85      0.60      1981\n",
      "           4       0.68      0.31      0.43       972\n",
      "           5       1.00      0.03      0.06       153\n",
      "\n",
      "    accuracy                           0.50      5280\n",
      "   macro avg       0.69      0.33      0.33      5280\n",
      "weighted avg       0.58      0.50      0.45      5280\n",
      "\n",
      "Train Set Accuracy: 0.503\n",
      "Train Set Precision: 0.503\n",
      "Train Set Recall: 0.503\n",
      "Train Set F1-Score: 0.503\n",
      "\n",
      "\n",
      "Test Score Results\n",
      "              precision    recall  f1-score   support\n",
      "\n",
      "           1       0.20      0.00      0.01       233\n",
      "           2       0.41      0.29      0.34       490\n",
      "           3       0.40      0.76      0.52       667\n",
      "           4       0.44      0.18      0.26       315\n",
      "           5       0.00      0.00      0.00        56\n",
      "\n",
      "    accuracy                           0.40      1761\n",
      "   macro avg       0.29      0.25      0.23      1761\n",
      "weighted avg       0.37      0.40      0.34      1761\n",
      "\n",
      "Test Set Accuracy: 0.403\n",
      "Test Set Precision: 0.403\n",
      "Test Set Recall: 0.403\n",
      "Test Set F1-Score: 0.403\n",
      "\n",
      "\n"
     ]
    },
    {
     "data": {
      "image/png": "[encoded data removed]",
      "text/plain": [
       "<Figure size 432x288 with 4 Axes>"
      ]
     },
     "metadata": {
      "needs_background": "light"
     },
     "output_type": "display_data"
    }
   ],
   "source": [
    "#Fit and predict model and show results\n",
    "xgbresult = model_fit(X_train, y_train, X_test, y_test, xgb, 'XGBoost')"
   ]
  },
  {
   "cell_type": "code",
   "execution_count": 43,
   "metadata": {},
   "outputs": [
    {
     "name": "stdout",
     "output_type": "stream",
     "text": [
      "Mean XGboost Cross-Val Score (k=3):  37.05%\n"
     ]
    }
   ],
   "source": [
    "#Investigate XGB cross validation score \n",
    "xgb_mean_cv = cross_val_score(xgb, X, y, cv=3).mean()\n",
    "\n",
    "print(f\"Mean XGboost Cross-Val Score (k=3): {xgb_mean_cv: .2%}\")"
   ]
  },
  {
   "cell_type": "code",
   "execution_count": 44,
   "metadata": {},
   "outputs": [
    {
     "data": {
      "text/html": [
       "<div>\n",
       "<style scoped>\n",
       "    .dataframe tbody tr th:only-of-type {\n",
       "        vertical-align: middle;\n",
       "    }\n",
       "\n",
       "    .dataframe tbody tr th {\n",
       "        vertical-align: top;\n",
       "    }\n",
       "\n",
       "    .dataframe thead th {\n",
       "        text-align: right;\n",
       "    }\n",
       "</style>\n",
       "<table border=\"1\" class=\"dataframe\">\n",
       "  <thead>\n",
       "    <tr style=\"text-align: right;\">\n",
       "      <th></th>\n",
       "      <th>feature</th>\n",
       "      <th>feature_importance</th>\n",
       "    </tr>\n",
       "  </thead>\n",
       "  <tbody>\n",
       "    <tr>\n",
       "      <th>0</th>\n",
       "      <td>decade_2010</td>\n",
       "      <td>0.138983</td>\n",
       "    </tr>\n",
       "    <tr>\n",
       "      <th>1</th>\n",
       "      <td>decade_2000</td>\n",
       "      <td>0.063754</td>\n",
       "    </tr>\n",
       "    <tr>\n",
       "      <th>2</th>\n",
       "      <td>genre_indie</td>\n",
       "      <td>0.053428</td>\n",
       "    </tr>\n",
       "    <tr>\n",
       "      <th>3</th>\n",
       "      <td>genre_dance</td>\n",
       "      <td>0.046822</td>\n",
       "    </tr>\n",
       "    <tr>\n",
       "      <th>4</th>\n",
       "      <td>genre_electronic</td>\n",
       "      <td>0.038890</td>\n",
       "    </tr>\n",
       "    <tr>\n",
       "      <th>5</th>\n",
       "      <td>genre_hip hop</td>\n",
       "      <td>0.033928</td>\n",
       "    </tr>\n",
       "    <tr>\n",
       "      <th>6</th>\n",
       "      <td>genre_pop</td>\n",
       "      <td>0.033653</td>\n",
       "    </tr>\n",
       "    <tr>\n",
       "      <th>7</th>\n",
       "      <td>genre_punk</td>\n",
       "      <td>0.031088</td>\n",
       "    </tr>\n",
       "    <tr>\n",
       "      <th>8</th>\n",
       "      <td>genre_soul</td>\n",
       "      <td>0.030609</td>\n",
       "    </tr>\n",
       "    <tr>\n",
       "      <th>9</th>\n",
       "      <td>is_explicit</td>\n",
       "      <td>0.029773</td>\n",
       "    </tr>\n",
       "    <tr>\n",
       "      <th>10</th>\n",
       "      <td>decade_1970</td>\n",
       "      <td>0.029644</td>\n",
       "    </tr>\n",
       "    <tr>\n",
       "      <th>11</th>\n",
       "      <td>instrumentalness</td>\n",
       "      <td>0.028676</td>\n",
       "    </tr>\n",
       "    <tr>\n",
       "      <th>12</th>\n",
       "      <td>decade_1990</td>\n",
       "      <td>0.027893</td>\n",
       "    </tr>\n",
       "    <tr>\n",
       "      <th>13</th>\n",
       "      <td>genre_rock</td>\n",
       "      <td>0.027722</td>\n",
       "    </tr>\n",
       "    <tr>\n",
       "      <th>14</th>\n",
       "      <td>loudness</td>\n",
       "      <td>0.026347</td>\n",
       "    </tr>\n",
       "    <tr>\n",
       "      <th>15</th>\n",
       "      <td>duration_ms</td>\n",
       "      <td>0.026039</td>\n",
       "    </tr>\n",
       "    <tr>\n",
       "      <th>16</th>\n",
       "      <td>energy</td>\n",
       "      <td>0.024793</td>\n",
       "    </tr>\n",
       "    <tr>\n",
       "      <th>17</th>\n",
       "      <td>key</td>\n",
       "      <td>0.024567</td>\n",
       "    </tr>\n",
       "    <tr>\n",
       "      <th>18</th>\n",
       "      <td>valence</td>\n",
       "      <td>0.024183</td>\n",
       "    </tr>\n",
       "    <tr>\n",
       "      <th>19</th>\n",
       "      <td>danceability</td>\n",
       "      <td>0.023559</td>\n",
       "    </tr>\n",
       "    <tr>\n",
       "      <th>20</th>\n",
       "      <td>tempo</td>\n",
       "      <td>0.023182</td>\n",
       "    </tr>\n",
       "    <tr>\n",
       "      <th>21</th>\n",
       "      <td>acousticness</td>\n",
       "      <td>0.022687</td>\n",
       "    </tr>\n",
       "    <tr>\n",
       "      <th>22</th>\n",
       "      <td>genre_acoustic</td>\n",
       "      <td>0.022541</td>\n",
       "    </tr>\n",
       "    <tr>\n",
       "      <th>23</th>\n",
       "      <td>liveness</td>\n",
       "      <td>0.021655</td>\n",
       "    </tr>\n",
       "    <tr>\n",
       "      <th>24</th>\n",
       "      <td>speechiness</td>\n",
       "      <td>0.020717</td>\n",
       "    </tr>\n",
       "    <tr>\n",
       "      <th>25</th>\n",
       "      <td>decade_1980</td>\n",
       "      <td>0.020706</td>\n",
       "    </tr>\n",
       "    <tr>\n",
       "      <th>26</th>\n",
       "      <td>mode</td>\n",
       "      <td>0.018537</td>\n",
       "    </tr>\n",
       "    <tr>\n",
       "      <th>27</th>\n",
       "      <td>genre_rap</td>\n",
       "      <td>0.018336</td>\n",
       "    </tr>\n",
       "    <tr>\n",
       "      <th>28</th>\n",
       "      <td>genre_house</td>\n",
       "      <td>0.017554</td>\n",
       "    </tr>\n",
       "    <tr>\n",
       "      <th>29</th>\n",
       "      <td>decade_1960</td>\n",
       "      <td>0.017435</td>\n",
       "    </tr>\n",
       "    <tr>\n",
       "      <th>30</th>\n",
       "      <td>genre_r&amp;b</td>\n",
       "      <td>0.016883</td>\n",
       "    </tr>\n",
       "    <tr>\n",
       "      <th>31</th>\n",
       "      <td>genre_country</td>\n",
       "      <td>0.015417</td>\n",
       "    </tr>\n",
       "  </tbody>\n",
       "</table>\n",
       "</div>"
      ],
      "text/plain": [
       "             feature  feature_importance\n",
       "0        decade_2010            0.138983\n",
       "1        decade_2000            0.063754\n",
       "2        genre_indie            0.053428\n",
       "3        genre_dance            0.046822\n",
       "4   genre_electronic            0.038890\n",
       "5      genre_hip hop            0.033928\n",
       "6          genre_pop            0.033653\n",
       "7         genre_punk            0.031088\n",
       "8         genre_soul            0.030609\n",
       "9        is_explicit            0.029773\n",
       "10       decade_1970            0.029644\n",
       "11  instrumentalness            0.028676\n",
       "12       decade_1990            0.027893\n",
       "13        genre_rock            0.027722\n",
       "14          loudness            0.026347\n",
       "15       duration_ms            0.026039\n",
       "16            energy            0.024793\n",
       "17               key            0.024567\n",
       "18           valence            0.024183\n",
       "19      danceability            0.023559\n",
       "20             tempo            0.023182\n",
       "21      acousticness            0.022687\n",
       "22    genre_acoustic            0.022541\n",
       "23          liveness            0.021655\n",
       "24       speechiness            0.020717\n",
       "25       decade_1980            0.020706\n",
       "26              mode            0.018537\n",
       "27         genre_rap            0.018336\n",
       "28       genre_house            0.017554\n",
       "29       decade_1960            0.017435\n",
       "30         genre_r&b            0.016883\n",
       "31     genre_country            0.015417"
      ]
     },
     "execution_count": 44,
     "metadata": {},
     "output_type": "execute_result"
    }
   ],
   "source": [
    "#Look at feature importance for the XGBoost model \n",
    "xgb_features = features_df(X_train.columns, xgb.feature_importances_)\n",
    "xgb_features"
   ]
  },
  {
   "cell_type": "markdown",
   "metadata": {},
   "source": [
    "## 6. Support Vector Machines"
   ]
  },
  {
   "cell_type": "code",
   "execution_count": 45,
   "metadata": {},
   "outputs": [],
   "source": [
    "#Instansiate the support vecotrs vanilla model\n",
    "svclassifier = SVC(random_state=42)"
   ]
  },
  {
   "cell_type": "code",
   "execution_count": 46,
   "metadata": {},
   "outputs": [
    {
     "name": "stdout",
     "output_type": "stream",
     "text": [
      "\n",
      "\n",
      "Train Score Results\n",
      "              precision    recall  f1-score   support\n",
      "\n",
      "           1       1.00      0.01      0.02       683\n",
      "           2       0.50      0.36      0.42      1491\n",
      "           3       0.44      0.81      0.57      1981\n",
      "           4       0.56      0.30      0.39       972\n",
      "           5       0.00      0.00      0.00       153\n",
      "\n",
      "    accuracy                           0.46      5280\n",
      "   macro avg       0.50      0.30      0.28      5280\n",
      "weighted avg       0.54      0.46      0.40      5280\n",
      "\n",
      "Train Set Accuracy: 0.461\n",
      "Train Set Precision: 0.461\n",
      "Train Set Recall: 0.461\n",
      "Train Set F1-Score: 0.461\n",
      "\n",
      "\n",
      "Test Score Results\n",
      "              precision    recall  f1-score   support\n",
      "\n",
      "           1       0.00      0.00      0.00       233\n",
      "           2       0.40      0.30      0.34       490\n",
      "           3       0.40      0.75      0.52       667\n",
      "           4       0.39      0.20      0.27       315\n",
      "           5       0.00      0.00      0.00        56\n",
      "\n",
      "    accuracy                           0.40      1761\n",
      "   macro avg       0.24      0.25      0.23      1761\n",
      "weighted avg       0.33      0.40      0.34      1761\n",
      "\n",
      "Test Set Accuracy: 0.402\n",
      "Test Set Precision: 0.402\n",
      "Test Set Recall: 0.402\n",
      "Test Set F1-Score: 0.402\n",
      "\n",
      "\n"
     ]
    },
    {
     "data": {
      "image/png": "[encoded data removed]",
      "text/plain": [
       "<Figure size 432x288 with 4 Axes>"
      ]
     },
     "metadata": {
      "needs_background": "light"
     },
     "output_type": "display_data"
    }
   ],
   "source": [
    "#Fit and predict model and show results. Note we are using the scaled data for the SVM model \n",
    "svmresult = model_fit(X_train_scaled, y_train, X_test_scaled, y_test, svclassifier, 'SVM')"
   ]
  },
  {
   "cell_type": "markdown",
   "metadata": {},
   "source": [
    "## All Vanilla Results"
   ]
  },
  {
   "cell_type": "code",
   "execution_count": 47,
   "metadata": {},
   "outputs": [],
   "source": [
    "#Create list of all the Vanilla model results \n",
    "result_list = [knnresult, bayesresult, decisiontreeresult, baggingresult, \n",
    "                randomforestresult, adbresult, xgbresult, svmresult]"
   ]
  },
  {
   "cell_type": "code",
   "execution_count": 48,
   "metadata": {},
   "outputs": [],
   "source": [
    "#Convert results into a dataframe \n",
    "df_results = pd.DataFrame.from_dict(result_list, orient='columns')\n",
    "df_results = df_results.set_index('model')"
   ]
  },
  {
   "cell_type": "code",
   "execution_count": 49,
   "metadata": {},
   "outputs": [
    {
     "data": {
      "text/html": [
       "<div>\n",
       "<style scoped>\n",
       "    .dataframe tbody tr th:only-of-type {\n",
       "        vertical-align: middle;\n",
       "    }\n",
       "\n",
       "    .dataframe tbody tr th {\n",
       "        vertical-align: top;\n",
       "    }\n",
       "\n",
       "    .dataframe thead th {\n",
       "        text-align: right;\n",
       "    }\n",
       "</style>\n",
       "<table border=\"1\" class=\"dataframe\">\n",
       "  <thead>\n",
       "    <tr style=\"text-align: right;\">\n",
       "      <th></th>\n",
       "      <th>train_accuracy</th>\n",
       "      <th>train_precision</th>\n",
       "      <th>train_recall</th>\n",
       "      <th>train_f1</th>\n",
       "      <th>test_accuracy</th>\n",
       "      <th>test_precision</th>\n",
       "      <th>test_recall</th>\n",
       "      <th>test_f1</th>\n",
       "    </tr>\n",
       "    <tr>\n",
       "      <th>model</th>\n",
       "      <th></th>\n",
       "      <th></th>\n",
       "      <th></th>\n",
       "      <th></th>\n",
       "      <th></th>\n",
       "      <th></th>\n",
       "      <th></th>\n",
       "      <th></th>\n",
       "    </tr>\n",
       "  </thead>\n",
       "  <tbody>\n",
       "    <tr>\n",
       "      <th>knn</th>\n",
       "      <td>0.555</td>\n",
       "      <td>0.555</td>\n",
       "      <td>0.555</td>\n",
       "      <td>0.555</td>\n",
       "      <td>0.348</td>\n",
       "      <td>0.348</td>\n",
       "      <td>0.348</td>\n",
       "      <td>0.348</td>\n",
       "    </tr>\n",
       "    <tr>\n",
       "      <th>bayes</th>\n",
       "      <td>0.375</td>\n",
       "      <td>0.375</td>\n",
       "      <td>0.375</td>\n",
       "      <td>0.375</td>\n",
       "      <td>0.382</td>\n",
       "      <td>0.382</td>\n",
       "      <td>0.382</td>\n",
       "      <td>0.382</td>\n",
       "    </tr>\n",
       "    <tr>\n",
       "      <th>decisiontree</th>\n",
       "      <td>0.996</td>\n",
       "      <td>0.996</td>\n",
       "      <td>0.996</td>\n",
       "      <td>0.996</td>\n",
       "      <td>0.299</td>\n",
       "      <td>0.299</td>\n",
       "      <td>0.299</td>\n",
       "      <td>0.299</td>\n",
       "    </tr>\n",
       "    <tr>\n",
       "      <th>bagging</th>\n",
       "      <td>0.995</td>\n",
       "      <td>0.995</td>\n",
       "      <td>0.995</td>\n",
       "      <td>0.995</td>\n",
       "      <td>0.370</td>\n",
       "      <td>0.370</td>\n",
       "      <td>0.370</td>\n",
       "      <td>0.370</td>\n",
       "    </tr>\n",
       "    <tr>\n",
       "      <th>randomforest</th>\n",
       "      <td>0.996</td>\n",
       "      <td>0.996</td>\n",
       "      <td>0.996</td>\n",
       "      <td>0.996</td>\n",
       "      <td>0.398</td>\n",
       "      <td>0.398</td>\n",
       "      <td>0.398</td>\n",
       "      <td>0.398</td>\n",
       "    </tr>\n",
       "    <tr>\n",
       "      <th>Adaboost</th>\n",
       "      <td>0.408</td>\n",
       "      <td>0.408</td>\n",
       "      <td>0.408</td>\n",
       "      <td>0.408</td>\n",
       "      <td>0.393</td>\n",
       "      <td>0.393</td>\n",
       "      <td>0.393</td>\n",
       "      <td>0.393</td>\n",
       "    </tr>\n",
       "    <tr>\n",
       "      <th>XGBoost</th>\n",
       "      <td>0.503</td>\n",
       "      <td>0.503</td>\n",
       "      <td>0.503</td>\n",
       "      <td>0.503</td>\n",
       "      <td>0.403</td>\n",
       "      <td>0.403</td>\n",
       "      <td>0.403</td>\n",
       "      <td>0.403</td>\n",
       "    </tr>\n",
       "    <tr>\n",
       "      <th>SVM</th>\n",
       "      <td>0.461</td>\n",
       "      <td>0.461</td>\n",
       "      <td>0.461</td>\n",
       "      <td>0.461</td>\n",
       "      <td>0.402</td>\n",
       "      <td>0.402</td>\n",
       "      <td>0.402</td>\n",
       "      <td>0.402</td>\n",
       "    </tr>\n",
       "  </tbody>\n",
       "</table>\n",
       "</div>"
      ],
      "text/plain": [
       "              train_accuracy  train_precision  train_recall  train_f1  \\\n",
       "model                                                                   \n",
       "knn                    0.555            0.555         0.555     0.555   \n",
       "bayes                  0.375            0.375         0.375     0.375   \n",
       "decisiontree           0.996            0.996         0.996     0.996   \n",
       "bagging                0.995            0.995         0.995     0.995   \n",
       "randomforest           0.996            0.996         0.996     0.996   \n",
       "Adaboost               0.408            0.408         0.408     0.408   \n",
       "XGBoost                0.503            0.503         0.503     0.503   \n",
       "SVM                    0.461            0.461         0.461     0.461   \n",
       "\n",
       "              test_accuracy  test_precision  test_recall  test_f1  \n",
       "model                                                              \n",
       "knn                   0.348           0.348        0.348    0.348  \n",
       "bayes                 0.382           0.382        0.382    0.382  \n",
       "decisiontree          0.299           0.299        0.299    0.299  \n",
       "bagging               0.370           0.370        0.370    0.370  \n",
       "randomforest          0.398           0.398        0.398    0.398  \n",
       "Adaboost              0.393           0.393        0.393    0.393  \n",
       "XGBoost               0.403           0.403        0.403    0.403  \n",
       "SVM                   0.402           0.402        0.402    0.402  "
      ]
     },
     "execution_count": 49,
     "metadata": {},
     "output_type": "execute_result"
    }
   ],
   "source": [
    "#Preview results \n",
    "df_results"
   ]
  },
  {
   "cell_type": "markdown",
   "metadata": {},
   "source": [
    "For this analysis, the goal is to optimize test precision. This is because we do not want any false positives in our model and want to ensure that ratings are classified correctly. Additionally, the model is less sensitive to false negatives, as an incorrect rating of 2 if the actual rating is 3, will not have a significant impact on the interpretability of our model. Therefore, I will further tune XGBoost and SVM models as these models had the highest test precision scores in the vanilla models."
   ]
  },
  {
   "cell_type": "markdown",
   "metadata": {},
   "source": [
    "# Section B. Tuning Models"
   ]
  },
  {
   "cell_type": "code",
   "execution_count": 50,
   "metadata": {},
   "outputs": [
    {
     "data": {
      "text/plain": [
       "{'model': 'XGBoost',\n",
       " 'train_accuracy': 0.503,\n",
       " 'train_precision': 0.503,\n",
       " 'train_recall': 0.503,\n",
       " 'train_f1': 0.503,\n",
       " 'test_accuracy': 0.403,\n",
       " 'test_precision': 0.403,\n",
       " 'test_recall': 0.403,\n",
       " 'test_f1': 0.403}"
      ]
     },
     "execution_count": 50,
     "metadata": {},
     "output_type": "execute_result"
    }
   ],
   "source": [
    "#Preview XGBoost results again \n",
    "xgbresult"
   ]
  },
  {
   "cell_type": "code",
   "execution_count": 51,
   "metadata": {},
   "outputs": [],
   "source": [
    "#Build parameter grid to be used in GridSearch to find the best hyperparameters\n",
    "param_grid = {\n",
    "    'objective': [\"multi:softprob\"],\n",
    "    'gamma': [0.5, 1, 1.5, 2, 5],\n",
    "    'learning_rate': [.1, .15, 1], \n",
    "    'subsample': [.6, .8, 1],\n",
    "    'colsample_bytree': [0.6, 0.8, 1.0],\n",
    "    'n_estimators': [50, 100]\n",
    "}\n",
    "gs_xgb = GridSearchCV(xgb, param_grid, scoring='precision_micro', cv=3)"
   ]
  },
  {
   "cell_type": "code",
   "execution_count": 52,
   "metadata": {},
   "outputs": [
    {
     "data": {
      "text/plain": [
       "GridSearchCV(cv=3, estimator=XGBClassifier(objective='multi:softprob'),\n",
       "             param_grid={'colsample_bytree': [0.6, 0.8, 1.0],\n",
       "                         'gamma': [0.5, 1, 1.5, 2, 5],\n",
       "                         'learning_rate': [0.1, 0.15, 1],\n",
       "                         'n_estimators': [50, 100],\n",
       "                         'objective': ['multi:softprob'],\n",
       "                         'subsample': [0.6, 0.8, 1]},\n",
       "             scoring='precision_micro')"
      ]
     },
     "execution_count": 52,
     "metadata": {},
     "output_type": "execute_result"
    }
   ],
   "source": [
    "#Fit the gridsearch with our X and Y train \n",
    "gs_xgb.fit(X_train, y_train)"
   ]
  },
  {
   "cell_type": "code",
   "execution_count": 53,
   "metadata": {},
   "outputs": [
    {
     "name": "stdout",
     "output_type": "stream",
     "text": [
      "Train Precision: 0.4041666666666666\n",
      "Test Precision: 0.3975014196479273\n",
      "{'colsample_bytree': 1.0, 'gamma': 5, 'learning_rate': 0.1, 'n_estimators': 50, 'objective': 'multi:softprob', 'subsample': 0.6}\n"
     ]
    }
   ],
   "source": [
    "#Display the best possible recall results as well as the best parameters\n",
    "print(f'Train Precision: {gs_xgb.best_score_}')\n",
    "xgbtest_precision = precision_score(y_test, gs_xgb.predict(X_test), average='micro')\n",
    "print(f'Test Precision: {xgbtest_precision}')\n",
    "print(gs_xgb.best_params_)"
   ]
  },
  {
   "cell_type": "code",
   "execution_count": 1,
   "metadata": {},
   "outputs": [
    {
     "ename": "NameError",
     "evalue": "name 'cross_val_score' is not defined",
     "output_type": "error",
     "traceback": [
      "\u001b[0;31m---------------------------------------------------------------------------\u001b[0m",
      "\u001b[0;31mNameError\u001b[0m                                 Traceback (most recent call last)",
      "\u001b[0;32m<ipython-input-1-9cb0476e1fd3>\u001b[0m in \u001b[0;36m<module>\u001b[0;34m()\u001b[0m\n\u001b[1;32m      1\u001b[0m \u001b[0;31m#Investigate XGB cross validation score\u001b[0m\u001b[0;34m\u001b[0m\u001b[0;34m\u001b[0m\u001b[0;34m\u001b[0m\u001b[0m\n\u001b[0;32m----> 2\u001b[0;31m \u001b[0mxgb_tuned_mean_cv\u001b[0m \u001b[0;34m=\u001b[0m \u001b[0mcross_val_score\u001b[0m\u001b[0;34m(\u001b[0m\u001b[0mgs_xgb\u001b[0m\u001b[0;34m,\u001b[0m \u001b[0mX\u001b[0m\u001b[0;34m,\u001b[0m \u001b[0my\u001b[0m\u001b[0;34m,\u001b[0m \u001b[0mcv\u001b[0m\u001b[0;34m=\u001b[0m\u001b[0;36m3\u001b[0m\u001b[0;34m)\u001b[0m\u001b[0;34m.\u001b[0m\u001b[0mmean\u001b[0m\u001b[0;34m(\u001b[0m\u001b[0;34m)\u001b[0m\u001b[0;34m\u001b[0m\u001b[0;34m\u001b[0m\u001b[0m\n\u001b[0m\u001b[1;32m      3\u001b[0m \u001b[0;34m\u001b[0m\u001b[0m\n\u001b[1;32m      4\u001b[0m \u001b[0mprint\u001b[0m\u001b[0;34m(\u001b[0m\u001b[0;34mf\"Mean XGboost Cross-Val Score (k=3): {xgb_tuned_mean_cv: .2%}\"\u001b[0m\u001b[0;34m)\u001b[0m\u001b[0;34m\u001b[0m\u001b[0;34m\u001b[0m\u001b[0m\n",
      "\u001b[0;31mNameError\u001b[0m: name 'cross_val_score' is not defined"
     ]
    }
   ],
   "source": [
    "#Investigate XGB cross validation score \n",
    "xgb_tuned_mean_cv = cross_val_score(gs_xgb, X, y, cv=3).mean()\n",
    "\n",
    "print(f\"Mean XGboost Cross-Val Score (k=3): {xgb_tuned_mean_cv: .2%}\")"
   ]
  },
  {
   "cell_type": "markdown",
   "metadata": {},
   "source": [
    "Next, I will use the predict_proba method to get Predited Probabilities for ratings. By utilizing the probability of obtaining a certain ratings, it allows the actual ratings to take on non-integer values. This will likely reduce the errors that are found between the actual ratings and the future predicted ratings, as the numbers are not restriced to strict integer values. For now I will only collect these predicted ratings, and will later utilize these values in a future recommendation systme."
   ]
  },
  {
   "cell_type": "code",
   "execution_count": 64,
   "metadata": {},
   "outputs": [],
   "source": [
    "#Find the probabilities of X (the track ratings)\n",
    "probs = xgb.predict_proba(X)\n",
    "\n",
    "#Multiply the probabilties by the values of the ratings (ratings 1-5, respectively)\n",
    "result = np.array([1,2,3,4,5]) * probs\n",
    "\n",
    "#Get the final predicted ratings by summing the results across columns \n",
    "predictedratings = np.sum(result, axis=1)"
   ]
  },
  {
   "cell_type": "code",
   "execution_count": 65,
   "metadata": {},
   "outputs": [],
   "source": [
    "#Append these predicted ratings to the X dataframe \n",
    "X['predicted ratings'] = predictedratings"
   ]
  },
  {
   "cell_type": "code",
   "execution_count": 66,
   "metadata": {},
   "outputs": [
    {
     "data": {
      "text/html": [
       "<div>\n",
       "<style scoped>\n",
       "    .dataframe tbody tr th:only-of-type {\n",
       "        vertical-align: middle;\n",
       "    }\n",
       "\n",
       "    .dataframe tbody tr th {\n",
       "        vertical-align: top;\n",
       "    }\n",
       "\n",
       "    .dataframe thead th {\n",
       "        text-align: right;\n",
       "    }\n",
       "</style>\n",
       "<table border=\"1\" class=\"dataframe\">\n",
       "  <thead>\n",
       "    <tr style=\"text-align: right;\">\n",
       "      <th></th>\n",
       "      <th>is_explicit</th>\n",
       "      <th>danceability</th>\n",
       "      <th>energy</th>\n",
       "      <th>key</th>\n",
       "      <th>loudness</th>\n",
       "      <th>mode</th>\n",
       "      <th>speechiness</th>\n",
       "      <th>acousticness</th>\n",
       "      <th>instrumentalness</th>\n",
       "      <th>liveness</th>\n",
       "      <th>...</th>\n",
       "      <th>genre_hip hop</th>\n",
       "      <th>genre_house</th>\n",
       "      <th>genre_indie</th>\n",
       "      <th>genre_pop</th>\n",
       "      <th>genre_punk</th>\n",
       "      <th>genre_r&amp;b</th>\n",
       "      <th>genre_rap</th>\n",
       "      <th>genre_rock</th>\n",
       "      <th>genre_soul</th>\n",
       "      <th>predicted ratings</th>\n",
       "    </tr>\n",
       "  </thead>\n",
       "  <tbody>\n",
       "    <tr>\n",
       "      <th>0</th>\n",
       "      <td>0</td>\n",
       "      <td>0.638</td>\n",
       "      <td>0.826</td>\n",
       "      <td>8</td>\n",
       "      <td>-4.968</td>\n",
       "      <td>1</td>\n",
       "      <td>0.0479</td>\n",
       "      <td>0.139000</td>\n",
       "      <td>0.000000</td>\n",
       "      <td>0.0803</td>\n",
       "      <td>...</td>\n",
       "      <td>0</td>\n",
       "      <td>0</td>\n",
       "      <td>0</td>\n",
       "      <td>0</td>\n",
       "      <td>0</td>\n",
       "      <td>0</td>\n",
       "      <td>0</td>\n",
       "      <td>0</td>\n",
       "      <td>0</td>\n",
       "      <td>2.879912</td>\n",
       "    </tr>\n",
       "    <tr>\n",
       "      <th>1</th>\n",
       "      <td>0</td>\n",
       "      <td>0.791</td>\n",
       "      <td>0.754</td>\n",
       "      <td>0</td>\n",
       "      <td>-3.729</td>\n",
       "      <td>1</td>\n",
       "      <td>0.0569</td>\n",
       "      <td>0.004460</td>\n",
       "      <td>0.000000</td>\n",
       "      <td>0.1630</td>\n",
       "      <td>...</td>\n",
       "      <td>0</td>\n",
       "      <td>0</td>\n",
       "      <td>0</td>\n",
       "      <td>0</td>\n",
       "      <td>0</td>\n",
       "      <td>0</td>\n",
       "      <td>0</td>\n",
       "      <td>0</td>\n",
       "      <td>0</td>\n",
       "      <td>2.969021</td>\n",
       "    </tr>\n",
       "    <tr>\n",
       "      <th>2</th>\n",
       "      <td>0</td>\n",
       "      <td>0.649</td>\n",
       "      <td>0.815</td>\n",
       "      <td>3</td>\n",
       "      <td>-3.796</td>\n",
       "      <td>0</td>\n",
       "      <td>0.0415</td>\n",
       "      <td>0.001250</td>\n",
       "      <td>0.000043</td>\n",
       "      <td>0.6710</td>\n",
       "      <td>...</td>\n",
       "      <td>0</td>\n",
       "      <td>0</td>\n",
       "      <td>0</td>\n",
       "      <td>0</td>\n",
       "      <td>0</td>\n",
       "      <td>0</td>\n",
       "      <td>0</td>\n",
       "      <td>0</td>\n",
       "      <td>0</td>\n",
       "      <td>2.768275</td>\n",
       "    </tr>\n",
       "    <tr>\n",
       "      <th>3</th>\n",
       "      <td>0</td>\n",
       "      <td>0.699</td>\n",
       "      <td>0.760</td>\n",
       "      <td>5</td>\n",
       "      <td>-3.173</td>\n",
       "      <td>1</td>\n",
       "      <td>0.0677</td>\n",
       "      <td>0.002230</td>\n",
       "      <td>0.000000</td>\n",
       "      <td>0.1320</td>\n",
       "      <td>...</td>\n",
       "      <td>0</td>\n",
       "      <td>0</td>\n",
       "      <td>0</td>\n",
       "      <td>0</td>\n",
       "      <td>0</td>\n",
       "      <td>0</td>\n",
       "      <td>0</td>\n",
       "      <td>0</td>\n",
       "      <td>0</td>\n",
       "      <td>3.096658</td>\n",
       "    </tr>\n",
       "    <tr>\n",
       "      <th>4</th>\n",
       "      <td>0</td>\n",
       "      <td>0.678</td>\n",
       "      <td>0.918</td>\n",
       "      <td>5</td>\n",
       "      <td>-4.630</td>\n",
       "      <td>1</td>\n",
       "      <td>0.0355</td>\n",
       "      <td>0.000417</td>\n",
       "      <td>0.000000</td>\n",
       "      <td>0.0744</td>\n",
       "      <td>...</td>\n",
       "      <td>0</td>\n",
       "      <td>0</td>\n",
       "      <td>0</td>\n",
       "      <td>0</td>\n",
       "      <td>0</td>\n",
       "      <td>0</td>\n",
       "      <td>0</td>\n",
       "      <td>0</td>\n",
       "      <td>0</td>\n",
       "      <td>2.780582</td>\n",
       "    </tr>\n",
       "  </tbody>\n",
       "</table>\n",
       "<p>5 rows × 33 columns</p>\n",
       "</div>"
      ],
      "text/plain": [
       "   is_explicit  danceability  energy  key  loudness  mode  speechiness  \\\n",
       "0            0         0.638   0.826    8    -4.968     1       0.0479   \n",
       "1            0         0.791   0.754    0    -3.729     1       0.0569   \n",
       "2            0         0.649   0.815    3    -3.796     0       0.0415   \n",
       "3            0         0.699   0.760    5    -3.173     1       0.0677   \n",
       "4            0         0.678   0.918    5    -4.630     1       0.0355   \n",
       "\n",
       "   acousticness  instrumentalness  liveness  ...  genre_hip hop  genre_house  \\\n",
       "0      0.139000          0.000000    0.0803  ...              0            0   \n",
       "1      0.004460          0.000000    0.1630  ...              0            0   \n",
       "2      0.001250          0.000043    0.6710  ...              0            0   \n",
       "3      0.002230          0.000000    0.1320  ...              0            0   \n",
       "4      0.000417          0.000000    0.0744  ...              0            0   \n",
       "\n",
       "   genre_indie  genre_pop  genre_punk  genre_r&b  genre_rap  genre_rock  \\\n",
       "0            0          0           0          0          0           0   \n",
       "1            0          0           0          0          0           0   \n",
       "2            0          0           0          0          0           0   \n",
       "3            0          0           0          0          0           0   \n",
       "4            0          0           0          0          0           0   \n",
       "\n",
       "   genre_soul  predicted ratings  \n",
       "0           0           2.879912  \n",
       "1           0           2.969021  \n",
       "2           0           2.768275  \n",
       "3           0           3.096658  \n",
       "4           0           2.780582  \n",
       "\n",
       "[5 rows x 33 columns]"
      ]
     },
     "execution_count": 66,
     "metadata": {},
     "output_type": "execute_result"
    }
   ],
   "source": [
    "#Look at the first 5 rows of the X Dataframe. Notice that predicted ratings is now a new column \n",
    "X.head()"
   ]
  },
  {
   "cell_type": "code",
   "execution_count": 78,
   "metadata": {},
   "outputs": [],
   "source": [
    "#Append the X dataframe to the 'data' dataframe in order to include relevant columns \n",
    "df_predictions = pd.concat([X, data[['artist', 'artist_id', 'album', 'track_name','track_id', 'genrecategory']]], axis=1)"
   ]
  },
  {
   "cell_type": "code",
   "execution_count": 79,
   "metadata": {
    "scrolled": true
   },
   "outputs": [
    {
     "name": "stdout",
     "output_type": "stream",
     "text": [
      "<class 'pandas.core.frame.DataFrame'>\n",
      "RangeIndex: 7041 entries, 0 to 7040\n",
      "Data columns (total 39 columns):\n",
      "is_explicit          7041 non-null int64\n",
      "danceability         7041 non-null float64\n",
      "energy               7041 non-null float64\n",
      "key                  7041 non-null int64\n",
      "loudness             7041 non-null float64\n",
      "mode                 7041 non-null int64\n",
      "speechiness          7041 non-null float64\n",
      "acousticness         7041 non-null float64\n",
      "instrumentalness     7041 non-null float64\n",
      "liveness             7041 non-null float64\n",
      "valence              7041 non-null float64\n",
      "tempo                7041 non-null float64\n",
      "duration_ms          7041 non-null int64\n",
      "decade_1960          7041 non-null int64\n",
      "decade_1970          7041 non-null int64\n",
      "decade_1980          7041 non-null int64\n",
      "decade_1990          7041 non-null int64\n",
      "decade_2000          7041 non-null int64\n",
      "decade_2010          7041 non-null int64\n",
      "genre_acoustic       7041 non-null int64\n",
      "genre_country        7041 non-null int64\n",
      "genre_dance          7041 non-null int64\n",
      "genre_electronic     7041 non-null int64\n",
      "genre_hip hop        7041 non-null int64\n",
      "genre_house          7041 non-null int64\n",
      "genre_indie          7041 non-null int64\n",
      "genre_pop            7041 non-null int64\n",
      "genre_punk           7041 non-null int64\n",
      "genre_r&b            7041 non-null int64\n",
      "genre_rap            7041 non-null int64\n",
      "genre_rock           7041 non-null int64\n",
      "genre_soul           7041 non-null int64\n",
      "predicted ratings    7041 non-null float64\n",
      "artist               7041 non-null object\n",
      "artist_id            7041 non-null object\n",
      "album                7041 non-null object\n",
      "track_name           7041 non-null object\n",
      "track_id             7041 non-null object\n",
      "genrecategory        7041 non-null object\n",
      "dtypes: float64(10), int64(23), object(6)\n",
      "memory usage: 2.1+ MB\n"
     ]
    }
   ],
   "source": [
    "#Check columns of our predictions dataframe are all present \n",
    "df_predictions.info()"
   ]
  },
  {
   "cell_type": "code",
   "execution_count": 80,
   "metadata": {},
   "outputs": [],
   "source": [
    "#Export this predictions dataframe to a separate csv file for future recommendation system models\n",
    "df_predictions.to_csv('predictionsdf')"
   ]
  },
  {
   "cell_type": "markdown",
   "metadata": {},
   "source": [
    "### SVM Tuning "
   ]
  },
  {
   "cell_type": "code",
   "execution_count": 75,
   "metadata": {},
   "outputs": [],
   "source": [
    "#Define hyperparameters for GridSerach\n",
    "param_grid = {'C': [0.1, 1, 10, 100, 1000],  \n",
    "              'gamma': [1, 0.1, 0.01, 0.001, 0.0001], \n",
    "              'decision_function_shape': ['ovo'],\n",
    "              'kernel': ['rbf']}  \n",
    "  \n",
    "svmgrid = GridSearchCV(SVC(), param_grid, refit = True, verbose = 3) "
   ]
  },
  {
   "cell_type": "code",
   "execution_count": 76,
   "metadata": {},
   "outputs": [
    {
     "name": "stdout",
     "output_type": "stream",
     "text": [
      "Fitting 5 folds for each of 25 candidates, totalling 125 fits\n",
      "[CV] C=0.1, decision_function_shape=ovo, gamma=1, kernel=rbf .........\n"
     ]
    },
    {
     "name": "stderr",
     "output_type": "stream",
     "text": [
      "[Parallel(n_jobs=1)]: Using backend SequentialBackend with 1 concurrent workers.\n"
     ]
    },
    {
     "name": "stdout",
     "output_type": "stream",
     "text": [
      "[CV]  C=0.1, decision_function_shape=ovo, gamma=1, kernel=rbf, score=0.376, total=   1.5s\n",
      "[CV] C=0.1, decision_function_shape=ovo, gamma=1, kernel=rbf .........\n"
     ]
    },
    {
     "name": "stderr",
     "output_type": "stream",
     "text": [
      "[Parallel(n_jobs=1)]: Done   1 out of   1 | elapsed:    1.5s remaining:    0.0s\n"
     ]
    },
    {
     "name": "stdout",
     "output_type": "stream",
     "text": [
      "[CV]  C=0.1, decision_function_shape=ovo, gamma=1, kernel=rbf, score=0.375, total=   1.6s\n",
      "[CV] C=0.1, decision_function_shape=ovo, gamma=1, kernel=rbf .........\n"
     ]
    },
    {
     "name": "stderr",
     "output_type": "stream",
     "text": [
      "[Parallel(n_jobs=1)]: Done   2 out of   2 | elapsed:    3.1s remaining:    0.0s\n"
     ]
    },
    {
     "name": "stdout",
     "output_type": "stream",
     "text": [
      "[CV]  C=0.1, decision_function_shape=ovo, gamma=1, kernel=rbf, score=0.375, total=   1.7s\n",
      "[CV] C=0.1, decision_function_shape=ovo, gamma=1, kernel=rbf .........\n",
      "[CV]  C=0.1, decision_function_shape=ovo, gamma=1, kernel=rbf, score=0.375, total=   1.8s\n",
      "[CV] C=0.1, decision_function_shape=ovo, gamma=1, kernel=rbf .........\n",
      "[CV]  C=0.1, decision_function_shape=ovo, gamma=1, kernel=rbf, score=0.375, total=   1.4s\n",
      "[CV] C=0.1, decision_function_shape=ovo, gamma=0.1, kernel=rbf .......\n",
      "[CV]  C=0.1, decision_function_shape=ovo, gamma=0.1, kernel=rbf, score=0.376, total=   1.7s\n",
      "[CV] C=0.1, decision_function_shape=ovo, gamma=0.1, kernel=rbf .......\n",
      "[CV]  C=0.1, decision_function_shape=ovo, gamma=0.1, kernel=rbf, score=0.375, total=   1.6s\n",
      "[CV] C=0.1, decision_function_shape=ovo, gamma=0.1, kernel=rbf .......\n",
      "[CV]  C=0.1, decision_function_shape=ovo, gamma=0.1, kernel=rbf, score=0.375, total=   1.7s\n",
      "[CV] C=0.1, decision_function_shape=ovo, gamma=0.1, kernel=rbf .......\n",
      "[CV]  C=0.1, decision_function_shape=ovo, gamma=0.1, kernel=rbf, score=0.375, total=   1.6s\n",
      "[CV] C=0.1, decision_function_shape=ovo, gamma=0.1, kernel=rbf .......\n",
      "[CV]  C=0.1, decision_function_shape=ovo, gamma=0.1, kernel=rbf, score=0.375, total=   1.4s\n",
      "[CV] C=0.1, decision_function_shape=ovo, gamma=0.01, kernel=rbf ......\n",
      "[CV]  C=0.1, decision_function_shape=ovo, gamma=0.01, kernel=rbf, score=0.376, total=   1.5s\n",
      "[CV] C=0.1, decision_function_shape=ovo, gamma=0.01, kernel=rbf ......\n",
      "[CV]  C=0.1, decision_function_shape=ovo, gamma=0.01, kernel=rbf, score=0.375, total=   1.4s\n",
      "[CV] C=0.1, decision_function_shape=ovo, gamma=0.01, kernel=rbf ......\n",
      "[CV]  C=0.1, decision_function_shape=ovo, gamma=0.01, kernel=rbf, score=0.375, total=   1.4s\n",
      "[CV] C=0.1, decision_function_shape=ovo, gamma=0.01, kernel=rbf ......\n",
      "[CV]  C=0.1, decision_function_shape=ovo, gamma=0.01, kernel=rbf, score=0.375, total=   1.6s\n",
      "[CV] C=0.1, decision_function_shape=ovo, gamma=0.01, kernel=rbf ......\n",
      "[CV]  C=0.1, decision_function_shape=ovo, gamma=0.01, kernel=rbf, score=0.375, total=   1.3s\n",
      "[CV] C=0.1, decision_function_shape=ovo, gamma=0.001, kernel=rbf .....\n",
      "[CV]  C=0.1, decision_function_shape=ovo, gamma=0.001, kernel=rbf, score=0.376, total=   1.3s\n",
      "[CV] C=0.1, decision_function_shape=ovo, gamma=0.001, kernel=rbf .....\n",
      "[CV]  C=0.1, decision_function_shape=ovo, gamma=0.001, kernel=rbf, score=0.375, total=   1.4s\n",
      "[CV] C=0.1, decision_function_shape=ovo, gamma=0.001, kernel=rbf .....\n",
      "[CV]  C=0.1, decision_function_shape=ovo, gamma=0.001, kernel=rbf, score=0.375, total=   1.4s\n",
      "[CV] C=0.1, decision_function_shape=ovo, gamma=0.001, kernel=rbf .....\n",
      "[CV]  C=0.1, decision_function_shape=ovo, gamma=0.001, kernel=rbf, score=0.375, total=   1.3s\n",
      "[CV] C=0.1, decision_function_shape=ovo, gamma=0.001, kernel=rbf .....\n",
      "[CV]  C=0.1, decision_function_shape=ovo, gamma=0.001, kernel=rbf, score=0.375, total=   1.4s\n",
      "[CV] C=0.1, decision_function_shape=ovo, gamma=0.0001, kernel=rbf ....\n",
      "[CV]  C=0.1, decision_function_shape=ovo, gamma=0.0001, kernel=rbf, score=0.376, total=   1.3s\n",
      "[CV] C=0.1, decision_function_shape=ovo, gamma=0.0001, kernel=rbf ....\n",
      "[CV]  C=0.1, decision_function_shape=ovo, gamma=0.0001, kernel=rbf, score=0.375, total=   1.4s\n",
      "[CV] C=0.1, decision_function_shape=ovo, gamma=0.0001, kernel=rbf ....\n",
      "[CV]  C=0.1, decision_function_shape=ovo, gamma=0.0001, kernel=rbf, score=0.375, total=   1.3s\n",
      "[CV] C=0.1, decision_function_shape=ovo, gamma=0.0001, kernel=rbf ....\n",
      "[CV]  C=0.1, decision_function_shape=ovo, gamma=0.0001, kernel=rbf, score=0.375, total=   1.2s\n",
      "[CV] C=0.1, decision_function_shape=ovo, gamma=0.0001, kernel=rbf ....\n",
      "[CV]  C=0.1, decision_function_shape=ovo, gamma=0.0001, kernel=rbf, score=0.375, total=   1.2s\n",
      "[CV] C=1, decision_function_shape=ovo, gamma=1, kernel=rbf ...........\n",
      "[CV]  C=1, decision_function_shape=ovo, gamma=1, kernel=rbf, score=0.382, total=   1.4s\n",
      "[CV] C=1, decision_function_shape=ovo, gamma=1, kernel=rbf ...........\n",
      "[CV]  C=1, decision_function_shape=ovo, gamma=1, kernel=rbf, score=0.378, total=   1.5s\n",
      "[CV] C=1, decision_function_shape=ovo, gamma=1, kernel=rbf ...........\n",
      "[CV]  C=1, decision_function_shape=ovo, gamma=1, kernel=rbf, score=0.383, total=   1.5s\n",
      "[CV] C=1, decision_function_shape=ovo, gamma=1, kernel=rbf ...........\n",
      "[CV]  C=1, decision_function_shape=ovo, gamma=1, kernel=rbf, score=0.376, total=   1.5s\n",
      "[CV] C=1, decision_function_shape=ovo, gamma=1, kernel=rbf ...........\n",
      "[CV]  C=1, decision_function_shape=ovo, gamma=1, kernel=rbf, score=0.384, total=   1.6s\n",
      "[CV] C=1, decision_function_shape=ovo, gamma=0.1, kernel=rbf .........\n",
      "[CV]  C=1, decision_function_shape=ovo, gamma=0.1, kernel=rbf, score=0.381, total=   1.5s\n",
      "[CV] C=1, decision_function_shape=ovo, gamma=0.1, kernel=rbf .........\n",
      "[CV]  C=1, decision_function_shape=ovo, gamma=0.1, kernel=rbf, score=0.380, total=   1.5s\n",
      "[CV] C=1, decision_function_shape=ovo, gamma=0.1, kernel=rbf .........\n",
      "[CV]  C=1, decision_function_shape=ovo, gamma=0.1, kernel=rbf, score=0.382, total=   1.6s\n",
      "[CV] C=1, decision_function_shape=ovo, gamma=0.1, kernel=rbf .........\n",
      "[CV]  C=1, decision_function_shape=ovo, gamma=0.1, kernel=rbf, score=0.376, total=   1.5s\n",
      "[CV] C=1, decision_function_shape=ovo, gamma=0.1, kernel=rbf .........\n",
      "[CV]  C=1, decision_function_shape=ovo, gamma=0.1, kernel=rbf, score=0.383, total=   1.5s\n",
      "[CV] C=1, decision_function_shape=ovo, gamma=0.01, kernel=rbf ........\n",
      "[CV]  C=1, decision_function_shape=ovo, gamma=0.01, kernel=rbf, score=0.381, total=   1.4s\n",
      "[CV] C=1, decision_function_shape=ovo, gamma=0.01, kernel=rbf ........\n",
      "[CV]  C=1, decision_function_shape=ovo, gamma=0.01, kernel=rbf, score=0.377, total=   1.8s\n",
      "[CV] C=1, decision_function_shape=ovo, gamma=0.01, kernel=rbf ........\n",
      "[CV]  C=1, decision_function_shape=ovo, gamma=0.01, kernel=rbf, score=0.377, total=   1.5s\n",
      "[CV] C=1, decision_function_shape=ovo, gamma=0.01, kernel=rbf ........\n",
      "[CV]  C=1, decision_function_shape=ovo, gamma=0.01, kernel=rbf, score=0.381, total=   1.5s\n",
      "[CV] C=1, decision_function_shape=ovo, gamma=0.01, kernel=rbf ........\n",
      "[CV]  C=1, decision_function_shape=ovo, gamma=0.01, kernel=rbf, score=0.382, total=   1.5s\n",
      "[CV] C=1, decision_function_shape=ovo, gamma=0.001, kernel=rbf .......\n",
      "[CV]  C=1, decision_function_shape=ovo, gamma=0.001, kernel=rbf, score=0.348, total=   1.8s\n",
      "[CV] C=1, decision_function_shape=ovo, gamma=0.001, kernel=rbf .......\n",
      "[CV]  C=1, decision_function_shape=ovo, gamma=0.001, kernel=rbf, score=0.351, total=   1.7s\n",
      "[CV] C=1, decision_function_shape=ovo, gamma=0.001, kernel=rbf .......\n",
      "[CV]  C=1, decision_function_shape=ovo, gamma=0.001, kernel=rbf, score=0.352, total=   1.5s\n",
      "[CV] C=1, decision_function_shape=ovo, gamma=0.001, kernel=rbf .......\n",
      "[CV]  C=1, decision_function_shape=ovo, gamma=0.001, kernel=rbf, score=0.366, total=   1.6s\n",
      "[CV] C=1, decision_function_shape=ovo, gamma=0.001, kernel=rbf .......\n",
      "[CV]  C=1, decision_function_shape=ovo, gamma=0.001, kernel=rbf, score=0.365, total=   1.5s\n",
      "[CV] C=1, decision_function_shape=ovo, gamma=0.0001, kernel=rbf ......\n",
      "[CV]  C=1, decision_function_shape=ovo, gamma=0.0001, kernel=rbf, score=0.330, total=   1.3s\n",
      "[CV] C=1, decision_function_shape=ovo, gamma=0.0001, kernel=rbf ......\n",
      "[CV]  C=1, decision_function_shape=ovo, gamma=0.0001, kernel=rbf, score=0.314, total=   1.4s\n",
      "[CV] C=1, decision_function_shape=ovo, gamma=0.0001, kernel=rbf ......\n",
      "[CV]  C=1, decision_function_shape=ovo, gamma=0.0001, kernel=rbf, score=0.352, total=   1.3s\n",
      "[CV] C=1, decision_function_shape=ovo, gamma=0.0001, kernel=rbf ......\n",
      "[CV]  C=1, decision_function_shape=ovo, gamma=0.0001, kernel=rbf, score=0.351, total=   1.4s\n",
      "[CV] C=1, decision_function_shape=ovo, gamma=0.0001, kernel=rbf ......\n",
      "[CV]  C=1, decision_function_shape=ovo, gamma=0.0001, kernel=rbf, score=0.347, total=   1.4s\n",
      "[CV] C=10, decision_function_shape=ovo, gamma=1, kernel=rbf ..........\n",
      "[CV]  C=10, decision_function_shape=ovo, gamma=1, kernel=rbf, score=0.382, total=   1.8s\n",
      "[CV] C=10, decision_function_shape=ovo, gamma=1, kernel=rbf ..........\n",
      "[CV]  C=10, decision_function_shape=ovo, gamma=1, kernel=rbf, score=0.378, total=   1.5s\n",
      "[CV] C=10, decision_function_shape=ovo, gamma=1, kernel=rbf ..........\n",
      "[CV]  C=10, decision_function_shape=ovo, gamma=1, kernel=rbf, score=0.382, total=   1.6s\n",
      "[CV] C=10, decision_function_shape=ovo, gamma=1, kernel=rbf ..........\n"
     ]
    },
    {
     "name": "stdout",
     "output_type": "stream",
     "text": [
      "[CV]  C=10, decision_function_shape=ovo, gamma=1, kernel=rbf, score=0.376, total=   1.7s\n",
      "[CV] C=10, decision_function_shape=ovo, gamma=1, kernel=rbf ..........\n",
      "[CV]  C=10, decision_function_shape=ovo, gamma=1, kernel=rbf, score=0.384, total=   1.7s\n",
      "[CV] C=10, decision_function_shape=ovo, gamma=0.1, kernel=rbf ........\n",
      "[CV]  C=10, decision_function_shape=ovo, gamma=0.1, kernel=rbf, score=0.381, total=   1.6s\n",
      "[CV] C=10, decision_function_shape=ovo, gamma=0.1, kernel=rbf ........\n",
      "[CV]  C=10, decision_function_shape=ovo, gamma=0.1, kernel=rbf, score=0.380, total=   1.6s\n",
      "[CV] C=10, decision_function_shape=ovo, gamma=0.1, kernel=rbf ........\n",
      "[CV]  C=10, decision_function_shape=ovo, gamma=0.1, kernel=rbf, score=0.381, total=   1.7s\n",
      "[CV] C=10, decision_function_shape=ovo, gamma=0.1, kernel=rbf ........\n",
      "[CV]  C=10, decision_function_shape=ovo, gamma=0.1, kernel=rbf, score=0.377, total=   1.6s\n",
      "[CV] C=10, decision_function_shape=ovo, gamma=0.1, kernel=rbf ........\n",
      "[CV]  C=10, decision_function_shape=ovo, gamma=0.1, kernel=rbf, score=0.383, total=   1.7s\n",
      "[CV] C=10, decision_function_shape=ovo, gamma=0.01, kernel=rbf .......\n",
      "[CV]  C=10, decision_function_shape=ovo, gamma=0.01, kernel=rbf, score=0.372, total=   1.8s\n",
      "[CV] C=10, decision_function_shape=ovo, gamma=0.01, kernel=rbf .......\n",
      "[CV]  C=10, decision_function_shape=ovo, gamma=0.01, kernel=rbf, score=0.361, total=   1.5s\n",
      "[CV] C=10, decision_function_shape=ovo, gamma=0.01, kernel=rbf .......\n",
      "[CV]  C=10, decision_function_shape=ovo, gamma=0.01, kernel=rbf, score=0.369, total=   1.6s\n",
      "[CV] C=10, decision_function_shape=ovo, gamma=0.01, kernel=rbf .......\n",
      "[CV]  C=10, decision_function_shape=ovo, gamma=0.01, kernel=rbf, score=0.371, total=   1.8s\n",
      "[CV] C=10, decision_function_shape=ovo, gamma=0.01, kernel=rbf .......\n",
      "[CV]  C=10, decision_function_shape=ovo, gamma=0.01, kernel=rbf, score=0.377, total=   1.9s\n",
      "[CV] C=10, decision_function_shape=ovo, gamma=0.001, kernel=rbf ......\n",
      "[CV]  C=10, decision_function_shape=ovo, gamma=0.001, kernel=rbf, score=0.318, total=   1.7s\n",
      "[CV] C=10, decision_function_shape=ovo, gamma=0.001, kernel=rbf ......\n",
      "[CV]  C=10, decision_function_shape=ovo, gamma=0.001, kernel=rbf, score=0.322, total=   2.2s\n",
      "[CV] C=10, decision_function_shape=ovo, gamma=0.001, kernel=rbf ......\n",
      "[CV]  C=10, decision_function_shape=ovo, gamma=0.001, kernel=rbf, score=0.332, total=   2.1s\n",
      "[CV] C=10, decision_function_shape=ovo, gamma=0.001, kernel=rbf ......\n",
      "[CV]  C=10, decision_function_shape=ovo, gamma=0.001, kernel=rbf, score=0.337, total=   2.1s\n",
      "[CV] C=10, decision_function_shape=ovo, gamma=0.001, kernel=rbf ......\n",
      "[CV]  C=10, decision_function_shape=ovo, gamma=0.001, kernel=rbf, score=0.325, total=   1.6s\n",
      "[CV] C=10, decision_function_shape=ovo, gamma=0.0001, kernel=rbf .....\n",
      "[CV]  C=10, decision_function_shape=ovo, gamma=0.0001, kernel=rbf, score=0.291, total=   1.9s\n",
      "[CV] C=10, decision_function_shape=ovo, gamma=0.0001, kernel=rbf .....\n",
      "[CV]  C=10, decision_function_shape=ovo, gamma=0.0001, kernel=rbf, score=0.280, total=   2.2s\n",
      "[CV] C=10, decision_function_shape=ovo, gamma=0.0001, kernel=rbf .....\n",
      "[CV]  C=10, decision_function_shape=ovo, gamma=0.0001, kernel=rbf, score=0.303, total=   2.0s\n",
      "[CV] C=10, decision_function_shape=ovo, gamma=0.0001, kernel=rbf .....\n",
      "[CV]  C=10, decision_function_shape=ovo, gamma=0.0001, kernel=rbf, score=0.301, total=   1.9s\n",
      "[CV] C=10, decision_function_shape=ovo, gamma=0.0001, kernel=rbf .....\n",
      "[CV]  C=10, decision_function_shape=ovo, gamma=0.0001, kernel=rbf, score=0.291, total=   2.3s\n",
      "[CV] C=100, decision_function_shape=ovo, gamma=1, kernel=rbf .........\n",
      "[CV]  C=100, decision_function_shape=ovo, gamma=1, kernel=rbf, score=0.382, total=   2.1s\n",
      "[CV] C=100, decision_function_shape=ovo, gamma=1, kernel=rbf .........\n",
      "[CV]  C=100, decision_function_shape=ovo, gamma=1, kernel=rbf, score=0.379, total=   1.6s\n",
      "[CV] C=100, decision_function_shape=ovo, gamma=1, kernel=rbf .........\n",
      "[CV]  C=100, decision_function_shape=ovo, gamma=1, kernel=rbf, score=0.382, total=   1.7s\n",
      "[CV] C=100, decision_function_shape=ovo, gamma=1, kernel=rbf .........\n",
      "[CV]  C=100, decision_function_shape=ovo, gamma=1, kernel=rbf, score=0.376, total=   1.6s\n",
      "[CV] C=100, decision_function_shape=ovo, gamma=1, kernel=rbf .........\n",
      "[CV]  C=100, decision_function_shape=ovo, gamma=1, kernel=rbf, score=0.385, total=   1.6s\n",
      "[CV] C=100, decision_function_shape=ovo, gamma=0.1, kernel=rbf .......\n",
      "[CV]  C=100, decision_function_shape=ovo, gamma=0.1, kernel=rbf, score=0.381, total=   1.7s\n",
      "[CV] C=100, decision_function_shape=ovo, gamma=0.1, kernel=rbf .......\n",
      "[CV]  C=100, decision_function_shape=ovo, gamma=0.1, kernel=rbf, score=0.380, total=   1.7s\n",
      "[CV] C=100, decision_function_shape=ovo, gamma=0.1, kernel=rbf .......\n",
      "[CV]  C=100, decision_function_shape=ovo, gamma=0.1, kernel=rbf, score=0.381, total=   1.7s\n",
      "[CV] C=100, decision_function_shape=ovo, gamma=0.1, kernel=rbf .......\n",
      "[CV]  C=100, decision_function_shape=ovo, gamma=0.1, kernel=rbf, score=0.377, total=   1.7s\n",
      "[CV] C=100, decision_function_shape=ovo, gamma=0.1, kernel=rbf .......\n",
      "[CV]  C=100, decision_function_shape=ovo, gamma=0.1, kernel=rbf, score=0.383, total=   1.7s\n",
      "[CV] C=100, decision_function_shape=ovo, gamma=0.01, kernel=rbf ......\n",
      "[CV]  C=100, decision_function_shape=ovo, gamma=0.01, kernel=rbf, score=0.372, total=   1.7s\n",
      "[CV] C=100, decision_function_shape=ovo, gamma=0.01, kernel=rbf ......\n",
      "[CV]  C=100, decision_function_shape=ovo, gamma=0.01, kernel=rbf, score=0.361, total=   1.6s\n",
      "[CV] C=100, decision_function_shape=ovo, gamma=0.01, kernel=rbf ......\n",
      "[CV]  C=100, decision_function_shape=ovo, gamma=0.01, kernel=rbf, score=0.369, total=   1.7s\n",
      "[CV] C=100, decision_function_shape=ovo, gamma=0.01, kernel=rbf ......\n",
      "[CV]  C=100, decision_function_shape=ovo, gamma=0.01, kernel=rbf, score=0.371, total=   1.6s\n",
      "[CV] C=100, decision_function_shape=ovo, gamma=0.01, kernel=rbf ......\n",
      "[CV]  C=100, decision_function_shape=ovo, gamma=0.01, kernel=rbf, score=0.377, total=   1.7s\n",
      "[CV] C=100, decision_function_shape=ovo, gamma=0.001, kernel=rbf .....\n",
      "[CV]  C=100, decision_function_shape=ovo, gamma=0.001, kernel=rbf, score=0.324, total=   1.7s\n",
      "[CV] C=100, decision_function_shape=ovo, gamma=0.001, kernel=rbf .....\n",
      "[CV]  C=100, decision_function_shape=ovo, gamma=0.001, kernel=rbf, score=0.320, total=   1.7s\n",
      "[CV] C=100, decision_function_shape=ovo, gamma=0.001, kernel=rbf .....\n",
      "[CV]  C=100, decision_function_shape=ovo, gamma=0.001, kernel=rbf, score=0.330, total=   1.7s\n",
      "[CV] C=100, decision_function_shape=ovo, gamma=0.001, kernel=rbf .....\n",
      "[CV]  C=100, decision_function_shape=ovo, gamma=0.001, kernel=rbf, score=0.334, total=   1.7s\n",
      "[CV] C=100, decision_function_shape=ovo, gamma=0.001, kernel=rbf .....\n",
      "[CV]  C=100, decision_function_shape=ovo, gamma=0.001, kernel=rbf, score=0.327, total=   1.7s\n",
      "[CV] C=100, decision_function_shape=ovo, gamma=0.0001, kernel=rbf ....\n",
      "[CV]  C=100, decision_function_shape=ovo, gamma=0.0001, kernel=rbf, score=0.283, total=   2.1s\n",
      "[CV] C=100, decision_function_shape=ovo, gamma=0.0001, kernel=rbf ....\n",
      "[CV]  C=100, decision_function_shape=ovo, gamma=0.0001, kernel=rbf, score=0.274, total=   2.1s\n",
      "[CV] C=100, decision_function_shape=ovo, gamma=0.0001, kernel=rbf ....\n",
      "[CV]  C=100, decision_function_shape=ovo, gamma=0.0001, kernel=rbf, score=0.295, total=   2.0s\n",
      "[CV] C=100, decision_function_shape=ovo, gamma=0.0001, kernel=rbf ....\n",
      "[CV]  C=100, decision_function_shape=ovo, gamma=0.0001, kernel=rbf, score=0.300, total=   2.0s\n",
      "[CV] C=100, decision_function_shape=ovo, gamma=0.0001, kernel=rbf ....\n",
      "[CV]  C=100, decision_function_shape=ovo, gamma=0.0001, kernel=rbf, score=0.276, total=   2.1s\n",
      "[CV] C=1000, decision_function_shape=ovo, gamma=1, kernel=rbf ........\n",
      "[CV]  C=1000, decision_function_shape=ovo, gamma=1, kernel=rbf, score=0.382, total=   2.5s\n",
      "[CV] C=1000, decision_function_shape=ovo, gamma=1, kernel=rbf ........\n",
      "[CV]  C=1000, decision_function_shape=ovo, gamma=1, kernel=rbf, score=0.379, total=   1.9s\n",
      "[CV] C=1000, decision_function_shape=ovo, gamma=1, kernel=rbf ........\n",
      "[CV]  C=1000, decision_function_shape=ovo, gamma=1, kernel=rbf, score=0.382, total=   1.9s\n",
      "[CV] C=1000, decision_function_shape=ovo, gamma=1, kernel=rbf ........\n",
      "[CV]  C=1000, decision_function_shape=ovo, gamma=1, kernel=rbf, score=0.376, total=   1.8s\n",
      "[CV] C=1000, decision_function_shape=ovo, gamma=1, kernel=rbf ........\n"
     ]
    },
    {
     "name": "stdout",
     "output_type": "stream",
     "text": [
      "[CV]  C=1000, decision_function_shape=ovo, gamma=1, kernel=rbf, score=0.385, total=   1.5s\n",
      "[CV] C=1000, decision_function_shape=ovo, gamma=0.1, kernel=rbf ......\n",
      "[CV]  C=1000, decision_function_shape=ovo, gamma=0.1, kernel=rbf, score=0.381, total=   1.6s\n",
      "[CV] C=1000, decision_function_shape=ovo, gamma=0.1, kernel=rbf ......\n",
      "[CV]  C=1000, decision_function_shape=ovo, gamma=0.1, kernel=rbf, score=0.381, total=   1.6s\n",
      "[CV] C=1000, decision_function_shape=ovo, gamma=0.1, kernel=rbf ......\n",
      "[CV]  C=1000, decision_function_shape=ovo, gamma=0.1, kernel=rbf, score=0.381, total=   1.6s\n",
      "[CV] C=1000, decision_function_shape=ovo, gamma=0.1, kernel=rbf ......\n",
      "[CV]  C=1000, decision_function_shape=ovo, gamma=0.1, kernel=rbf, score=0.377, total=   1.5s\n",
      "[CV] C=1000, decision_function_shape=ovo, gamma=0.1, kernel=rbf ......\n",
      "[CV]  C=1000, decision_function_shape=ovo, gamma=0.1, kernel=rbf, score=0.384, total=   1.5s\n",
      "[CV] C=1000, decision_function_shape=ovo, gamma=0.01, kernel=rbf .....\n",
      "[CV]  C=1000, decision_function_shape=ovo, gamma=0.01, kernel=rbf, score=0.372, total=   1.5s\n",
      "[CV] C=1000, decision_function_shape=ovo, gamma=0.01, kernel=rbf .....\n",
      "[CV]  C=1000, decision_function_shape=ovo, gamma=0.01, kernel=rbf, score=0.361, total=   1.5s\n",
      "[CV] C=1000, decision_function_shape=ovo, gamma=0.01, kernel=rbf .....\n",
      "[CV]  C=1000, decision_function_shape=ovo, gamma=0.01, kernel=rbf, score=0.369, total=   1.5s\n",
      "[CV] C=1000, decision_function_shape=ovo, gamma=0.01, kernel=rbf .....\n",
      "[CV]  C=1000, decision_function_shape=ovo, gamma=0.01, kernel=rbf, score=0.371, total=   1.5s\n",
      "[CV] C=1000, decision_function_shape=ovo, gamma=0.01, kernel=rbf .....\n",
      "[CV]  C=1000, decision_function_shape=ovo, gamma=0.01, kernel=rbf, score=0.377, total=   1.5s\n",
      "[CV] C=1000, decision_function_shape=ovo, gamma=0.001, kernel=rbf ....\n",
      "[CV]  C=1000, decision_function_shape=ovo, gamma=0.001, kernel=rbf, score=0.324, total=   1.5s\n",
      "[CV] C=1000, decision_function_shape=ovo, gamma=0.001, kernel=rbf ....\n",
      "[CV]  C=1000, decision_function_shape=ovo, gamma=0.001, kernel=rbf, score=0.320, total=   1.5s\n",
      "[CV] C=1000, decision_function_shape=ovo, gamma=0.001, kernel=rbf ....\n",
      "[CV]  C=1000, decision_function_shape=ovo, gamma=0.001, kernel=rbf, score=0.330, total=   1.7s\n",
      "[CV] C=1000, decision_function_shape=ovo, gamma=0.001, kernel=rbf ....\n",
      "[CV]  C=1000, decision_function_shape=ovo, gamma=0.001, kernel=rbf, score=0.334, total=   1.5s\n",
      "[CV] C=1000, decision_function_shape=ovo, gamma=0.001, kernel=rbf ....\n",
      "[CV]  C=1000, decision_function_shape=ovo, gamma=0.001, kernel=rbf, score=0.327, total=   1.5s\n",
      "[CV] C=1000, decision_function_shape=ovo, gamma=0.0001, kernel=rbf ...\n",
      "[CV]  C=1000, decision_function_shape=ovo, gamma=0.0001, kernel=rbf, score=0.275, total=   2.0s\n",
      "[CV] C=1000, decision_function_shape=ovo, gamma=0.0001, kernel=rbf ...\n",
      "[CV]  C=1000, decision_function_shape=ovo, gamma=0.0001, kernel=rbf, score=0.274, total=   2.1s\n",
      "[CV] C=1000, decision_function_shape=ovo, gamma=0.0001, kernel=rbf ...\n",
      "[CV]  C=1000, decision_function_shape=ovo, gamma=0.0001, kernel=rbf, score=0.290, total=   2.1s\n",
      "[CV] C=1000, decision_function_shape=ovo, gamma=0.0001, kernel=rbf ...\n",
      "[CV]  C=1000, decision_function_shape=ovo, gamma=0.0001, kernel=rbf, score=0.306, total=   2.2s\n",
      "[CV] C=1000, decision_function_shape=ovo, gamma=0.0001, kernel=rbf ...\n",
      "[CV]  C=1000, decision_function_shape=ovo, gamma=0.0001, kernel=rbf, score=0.276, total=   2.1s\n"
     ]
    },
    {
     "name": "stderr",
     "output_type": "stream",
     "text": [
      "[Parallel(n_jobs=1)]: Done 125 out of 125 | elapsed:  3.4min finished\n"
     ]
    },
    {
     "data": {
      "text/plain": [
       "GridSearchCV(estimator=SVC(),\n",
       "             param_grid={'C': [0.1, 1, 10, 100, 1000],\n",
       "                         'decision_function_shape': ['ovo'],\n",
       "                         'gamma': [1, 0.1, 0.01, 0.001, 0.0001],\n",
       "                         'kernel': ['rbf']},\n",
       "             verbose=3)"
      ]
     },
     "execution_count": 76,
     "metadata": {},
     "output_type": "execute_result"
    }
   ],
   "source": [
    "#Fit the GridSearch model \n",
    "svmgrid.fit(X_train, y_train) "
   ]
  },
  {
   "cell_type": "code",
   "execution_count": 77,
   "metadata": {
    "scrolled": true
   },
   "outputs": [
    {
     "name": "stdout",
     "output_type": "stream",
     "text": [
      "Train Precision: 0.38068181818181823\n",
      "Test Precision: 0.426716625223256\n",
      "{'C': 100, 'decision_function_shape': 'ovo', 'gamma': 1, 'kernel': 'rbf'}\n"
     ]
    }
   ],
   "source": [
    "#Display the best possible precision results as well as the best parameters\n",
    "print(f'Train Precision: {svmgrid.best_score_}')\n",
    "svmtest_precision = precision_score(y_test, svmgrid.predict(X_test), average='weighted')\n",
    "print(f'Test Precision: {svmtest_precision}')\n",
    "print(svmgrid.best_params_)"
   ]
  },
  {
   "cell_type": "code",
   "execution_count": null,
   "metadata": {},
   "outputs": [],
   "source": [
    "#Investigate SVM 3-fold cross validation score \n",
    "svm_tuned_mean_cv = cross_val_score(svmgrid, X, y, cv=3).mean()\n",
    "\n",
    "print(f\"Mean SVM Cross-Val Score (k=3): {svm_tuned_mean_cv: .2%}\")"
   ]
  },
  {
   "cell_type": "markdown",
   "metadata": {},
   "source": [
    "The test precision results improve slightly to approx. 0.427. While this is some increase, it is not a significant improvement. Overall, both the XGBoost and SVM tuned models perform only marginally better. This is likely due to the fact that there are many extraneous factors that could impact a song's popularity, outside of their audio features. For example, the popularity of the artist, how catchy the lyrics are, and how often the song is played on the radio are all features that could impact the popularity of a song. Our model is missing these features, and therefore we are likely not capturing the full impact on popularity, which can explain our model's average results."
   ]
  },
  {
   "cell_type": "markdown",
   "metadata": {},
   "source": [
    "### Conclusion"
   ]
  },
  {
   "cell_type": "markdown",
   "metadata": {},
   "source": [
    "The main purpose of creating a classification model in the context of a recommendation system is to provide a solution for the \"cold start problem\". If there are new users who come to use our platform who we do not have existing ratings for, we can use their information in our classification model in order to generate predicted ratings. These predicted ratings can be used as a proxy for original ratings, and later on in a recommendation system, we will be able to provide recommendations to these new users. \n",
    "\n",
    "In this specific project, the XGBoost model does not perform significantly better once it is tuned with hyperparameters, however I will use this model going forward, due to the probabilistic nature of the ratings' results. Having these probabilistic ratings allows for more exactness in our ratings, and can potentially provide us with less errors when calculating estimated ratings from our future recommendation system."
   ]
  }
 ],
 "metadata": {
  "kernelspec": {
   "display_name": "Python 3",
   "language": "python",
   "name": "python3"
  },
  "language_info": {
   "codemirror_mode": {
    "name": "ipython",
    "version": 3
   },
   "file_extension": ".py",
   "mimetype": "text/x-python",
   "name": "python",
   "nbconvert_exporter": "python",
   "pygments_lexer": "ipython3",
   "version": "3.6.9"
  }
 },
 "nbformat": 4,
 "nbformat_minor": 4
}
