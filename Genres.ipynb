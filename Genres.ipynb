{
 "cells": [
  {
   "cell_type": "code",
   "execution_count": 1,
   "metadata": {},
   "outputs": [],
   "source": [
    "import pandas as pd "
   ]
  },
  {
   "cell_type": "code",
   "execution_count": 16,
   "metadata": {},
   "outputs": [],
   "source": [
    "df = pd.read_csv('modelingdata')"
   ]
  },
  {
   "cell_type": "code",
   "execution_count": 3,
   "metadata": {
    "scrolled": true
   },
   "outputs": [
    {
     "name": "stdout",
     "output_type": "stream",
     "text": [
      "<class 'pandas.core.frame.DataFrame'>\n",
      "RangeIndex: 7041 entries, 0 to 7040\n",
      "Data columns (total 23 columns):\n",
      "Unnamed: 0          7041 non-null int64\n",
      "is_explicit         7041 non-null int64\n",
      "track_id            7041 non-null object\n",
      "danceability        7041 non-null float64\n",
      "energy              7041 non-null float64\n",
      "key                 7041 non-null int64\n",
      "loudness            7041 non-null float64\n",
      "mode                7041 non-null int64\n",
      "speechiness         7041 non-null float64\n",
      "acousticness        7041 non-null float64\n",
      "instrumentalness    7041 non-null float64\n",
      "liveness            7041 non-null float64\n",
      "valence             7041 non-null float64\n",
      "tempo               7041 non-null float64\n",
      "duration_ms         7041 non-null int64\n",
      "genres              7041 non-null object\n",
      "ratings             7041 non-null int64\n",
      "decade_1960         7041 non-null int64\n",
      "decade_1970         7041 non-null int64\n",
      "decade_1980         7041 non-null int64\n",
      "decade_1990         7041 non-null int64\n",
      "decade_2000         7041 non-null int64\n",
      "decade_2010         7041 non-null int64\n",
      "dtypes: float64(9), int64(12), object(2)\n",
      "memory usage: 1.2+ MB\n"
     ]
    }
   ],
   "source": [
    "df.info()"
   ]
  },
  {
   "cell_type": "code",
   "execution_count": 4,
   "metadata": {},
   "outputs": [
    {
     "data": {
      "text/plain": [
       "474"
      ]
     },
     "execution_count": 4,
     "metadata": {},
     "output_type": "execute_result"
    }
   ],
   "source": [
    "df['genres'].nunique()"
   ]
  },
  {
   "cell_type": "code",
   "execution_count": 17,
   "metadata": {},
   "outputs": [],
   "source": [
    "df['genres'] = df['genres'].astype('str')"
   ]
  },
  {
   "cell_type": "code",
   "execution_count": 6,
   "metadata": {
    "scrolled": true
   },
   "outputs": [
    {
     "data": {
      "text/plain": [
       "dance pop                     1001\n",
       "unknown                        264\n",
       "alternative dance              262\n",
       "electropop                     246\n",
       "album rock                     238\n",
       "                              ... \n",
       "hi-nrg                           1\n",
       "teen pop                         1\n",
       "russian dance pop                1\n",
       "christian alternative rock       1\n",
       "minneapolis sound                1\n",
       "Name: genres, Length: 474, dtype: int64"
      ]
     },
     "execution_count": 6,
     "metadata": {},
     "output_type": "execute_result"
    }
   ],
   "source": [
    "df['genres'].value_counts()"
   ]
  },
  {
   "cell_type": "code",
   "execution_count": 18,
   "metadata": {},
   "outputs": [
    {
     "data": {
      "text/plain": [
       "0"
      ]
     },
     "execution_count": 18,
     "metadata": {},
     "output_type": "execute_result"
    }
   ],
   "source": [
    "df['genres'].isna().sum()"
   ]
  },
  {
   "cell_type": "code",
   "execution_count": 8,
   "metadata": {},
   "outputs": [],
   "source": [
    "# #Rename all \n",
    "# substring1 = 'unknown'\n",
    "# substring2 = \"dance\"\n",
    "# substring3 = \"rock\"\n",
    "# substring4 = \"indie\"\n",
    "# substring5 = 'rap'\n",
    "# substring6 = \"country\"\n",
    "# substring7 = 'elect'\n",
    "# substring8 = 'hip hop'\n",
    "# substring9 = 'house'\n",
    "# substring10 = 'soul'\n",
    "# substring11 = 'acoustic'\n",
    "# substring12 = 'jazz'\n",
    "\n",
    "        "
   ]
  },
  {
   "cell_type": "code",
   "execution_count": 9,
   "metadata": {},
   "outputs": [],
   "source": [
    "# df['genrecategory'].value_counts()"
   ]
  },
  {
   "cell_type": "code",
   "execution_count": 121,
   "metadata": {},
   "outputs": [],
   "source": [
    "def genrecategory(value):\n",
    "    if 'country' in value:\n",
    "        return 'country'\n",
    "    elif 'dance' in value:\n",
    "        return 'dance'\n",
    "    elif 'rock' in value:\n",
    "        return 'rock'\n",
    "    elif 'indie' in value:\n",
    "        return 'indie'\n",
    "    elif 'rap' in value:\n",
    "        return 'rap'\n",
    "    elif 'elect' in value:\n",
    "        return 'electronic'\n",
    "    elif 'hip hop' in value:\n",
    "        return 'hip hop'\n",
    "    elif 'house' in value:\n",
    "        return 'house'\n",
    "    elif 'soul' in value:\n",
    "        return 'soul'\n",
    "    elif 'acoustic' in value:\n",
    "        return 'acoustic'\n",
    "    elif 'emo' in value:\n",
    "        return 'punk'\n",
    "    elif 'pop' in value:\n",
    "        return 'pop'\n",
    "    elif 'r&b' in value:\n",
    "        return 'r&b'\n",
    "    elif 'metal' in value:\n",
    "        return 'punk'\n",
    "    elif 'unknown' in value:\n",
    "        return 'Other'\n",
    "    elif 'boy band' in value:\n",
    "        return 'pop'\n",
    "    elif 'punk' in value:\n",
    "        return 'punk'\n",
    "    elif 'permanent wave' in value:\n",
    "        return 'punk'\n",
    "    elif 'edm' in value:\n",
    "        return 'dance'\n",
    "    elif 'neo mellow' in value:\n",
    "        return 'pop'\n",
    "    elif 'hopebeat' in value:\n",
    "        return 'indie'\n",
    "    elif 'funk' in value:\n",
    "        return 'indie'\n",
    "    elif 'adult standards' in value:\n",
    "        return 'pop'\n",
    "    elif 'disney' in value:\n",
    "        return 'pop'\n",
    "    elif 'beatlesque' in value:\n",
    "        return 'rock'\n",
    "    elif 'reggae fusion' in value:\n",
    "        return 'indie'\n",
    "    elif 'hollywood' in value:\n",
    "        return 'pop'\n",
    "    else:\n",
    "        return 'Other'"
   ]
  },
  {
   "cell_type": "code",
   "execution_count": 122,
   "metadata": {},
   "outputs": [],
   "source": [
    "df['genrecategory'] = df['genres'].map(lambda n: genrecategory(n))"
   ]
  },
  {
   "cell_type": "code",
   "execution_count": 78,
   "metadata": {},
   "outputs": [
    {
     "data": {
      "text/html": [
       "<div>\n",
       "<style scoped>\n",
       "    .dataframe tbody tr th:only-of-type {\n",
       "        vertical-align: middle;\n",
       "    }\n",
       "\n",
       "    .dataframe tbody tr th {\n",
       "        vertical-align: top;\n",
       "    }\n",
       "\n",
       "    .dataframe thead th {\n",
       "        text-align: right;\n",
       "    }\n",
       "</style>\n",
       "<table border=\"1\" class=\"dataframe\">\n",
       "  <thead>\n",
       "    <tr style=\"text-align: right;\">\n",
       "      <th></th>\n",
       "      <th>Unnamed: 0</th>\n",
       "      <th>is_explicit</th>\n",
       "      <th>track_id</th>\n",
       "      <th>danceability</th>\n",
       "      <th>energy</th>\n",
       "      <th>key</th>\n",
       "      <th>loudness</th>\n",
       "      <th>mode</th>\n",
       "      <th>speechiness</th>\n",
       "      <th>acousticness</th>\n",
       "      <th>...</th>\n",
       "      <th>duration_ms</th>\n",
       "      <th>genres</th>\n",
       "      <th>ratings</th>\n",
       "      <th>decade_1960</th>\n",
       "      <th>decade_1970</th>\n",
       "      <th>decade_1980</th>\n",
       "      <th>decade_1990</th>\n",
       "      <th>decade_2000</th>\n",
       "      <th>decade_2010</th>\n",
       "      <th>genrecategory</th>\n",
       "    </tr>\n",
       "  </thead>\n",
       "  <tbody>\n",
       "    <tr>\n",
       "      <th>0</th>\n",
       "      <td>0</td>\n",
       "      <td>0</td>\n",
       "      <td>4lCv7b86sLynZbXhfScfm2</td>\n",
       "      <td>0.638</td>\n",
       "      <td>0.826</td>\n",
       "      <td>8</td>\n",
       "      <td>-4.968</td>\n",
       "      <td>1</td>\n",
       "      <td>0.0479</td>\n",
       "      <td>0.139000</td>\n",
       "      <td>...</td>\n",
       "      <td>227880</td>\n",
       "      <td>dance pop</td>\n",
       "      <td>4</td>\n",
       "      <td>0</td>\n",
       "      <td>0</td>\n",
       "      <td>0</td>\n",
       "      <td>0</td>\n",
       "      <td>0</td>\n",
       "      <td>1</td>\n",
       "      <td>dance</td>\n",
       "    </tr>\n",
       "    <tr>\n",
       "      <th>1</th>\n",
       "      <td>1</td>\n",
       "      <td>0</td>\n",
       "      <td>6tS3XVuOyu10897O3ae7bi</td>\n",
       "      <td>0.791</td>\n",
       "      <td>0.754</td>\n",
       "      <td>0</td>\n",
       "      <td>-3.729</td>\n",
       "      <td>1</td>\n",
       "      <td>0.0569</td>\n",
       "      <td>0.004460</td>\n",
       "      <td>...</td>\n",
       "      <td>234653</td>\n",
       "      <td>dance pop</td>\n",
       "      <td>4</td>\n",
       "      <td>0</td>\n",
       "      <td>0</td>\n",
       "      <td>0</td>\n",
       "      <td>0</td>\n",
       "      <td>0</td>\n",
       "      <td>1</td>\n",
       "      <td>dance</td>\n",
       "    </tr>\n",
       "    <tr>\n",
       "      <th>2</th>\n",
       "      <td>2</td>\n",
       "      <td>0</td>\n",
       "      <td>455AfCsOhhLPRc68sE01D8</td>\n",
       "      <td>0.649</td>\n",
       "      <td>0.815</td>\n",
       "      <td>3</td>\n",
       "      <td>-3.796</td>\n",
       "      <td>0</td>\n",
       "      <td>0.0415</td>\n",
       "      <td>0.001250</td>\n",
       "      <td>...</td>\n",
       "      <td>230747</td>\n",
       "      <td>dance pop</td>\n",
       "      <td>4</td>\n",
       "      <td>0</td>\n",
       "      <td>0</td>\n",
       "      <td>0</td>\n",
       "      <td>0</td>\n",
       "      <td>0</td>\n",
       "      <td>1</td>\n",
       "      <td>dance</td>\n",
       "    </tr>\n",
       "    <tr>\n",
       "      <th>3</th>\n",
       "      <td>4</td>\n",
       "      <td>0</td>\n",
       "      <td>14iN3o8ptQ8cFVZTEmyQRV</td>\n",
       "      <td>0.699</td>\n",
       "      <td>0.760</td>\n",
       "      <td>5</td>\n",
       "      <td>-3.173</td>\n",
       "      <td>1</td>\n",
       "      <td>0.0677</td>\n",
       "      <td>0.002230</td>\n",
       "      <td>...</td>\n",
       "      <td>179640</td>\n",
       "      <td>dance pop</td>\n",
       "      <td>4</td>\n",
       "      <td>0</td>\n",
       "      <td>0</td>\n",
       "      <td>0</td>\n",
       "      <td>0</td>\n",
       "      <td>1</td>\n",
       "      <td>0</td>\n",
       "      <td>dance</td>\n",
       "    </tr>\n",
       "    <tr>\n",
       "      <th>4</th>\n",
       "      <td>6</td>\n",
       "      <td>0</td>\n",
       "      <td>1nZzRJbFvCEct3uzu04ZoL</td>\n",
       "      <td>0.678</td>\n",
       "      <td>0.918</td>\n",
       "      <td>5</td>\n",
       "      <td>-4.630</td>\n",
       "      <td>1</td>\n",
       "      <td>0.0355</td>\n",
       "      <td>0.000417</td>\n",
       "      <td>...</td>\n",
       "      <td>216160</td>\n",
       "      <td>dance pop</td>\n",
       "      <td>4</td>\n",
       "      <td>0</td>\n",
       "      <td>0</td>\n",
       "      <td>0</td>\n",
       "      <td>0</td>\n",
       "      <td>0</td>\n",
       "      <td>1</td>\n",
       "      <td>dance</td>\n",
       "    </tr>\n",
       "  </tbody>\n",
       "</table>\n",
       "<p>5 rows × 24 columns</p>\n",
       "</div>"
      ],
      "text/plain": [
       "   Unnamed: 0  is_explicit                track_id  danceability  energy  key  \\\n",
       "0           0            0  4lCv7b86sLynZbXhfScfm2         0.638   0.826    8   \n",
       "1           1            0  6tS3XVuOyu10897O3ae7bi         0.791   0.754    0   \n",
       "2           2            0  455AfCsOhhLPRc68sE01D8         0.649   0.815    3   \n",
       "3           4            0  14iN3o8ptQ8cFVZTEmyQRV         0.699   0.760    5   \n",
       "4           6            0  1nZzRJbFvCEct3uzu04ZoL         0.678   0.918    5   \n",
       "\n",
       "   loudness  mode  speechiness  acousticness  ...  duration_ms     genres  \\\n",
       "0    -4.968     1       0.0479      0.139000  ...       227880  dance pop   \n",
       "1    -3.729     1       0.0569      0.004460  ...       234653  dance pop   \n",
       "2    -3.796     0       0.0415      0.001250  ...       230747  dance pop   \n",
       "3    -3.173     1       0.0677      0.002230  ...       179640  dance pop   \n",
       "4    -4.630     1       0.0355      0.000417  ...       216160  dance pop   \n",
       "\n",
       "   ratings  decade_1960  decade_1970 decade_1980  decade_1990  decade_2000  \\\n",
       "0        4            0            0           0            0            0   \n",
       "1        4            0            0           0            0            0   \n",
       "2        4            0            0           0            0            0   \n",
       "3        4            0            0           0            0            1   \n",
       "4        4            0            0           0            0            0   \n",
       "\n",
       "   decade_2010  genrecategory  \n",
       "0            1          dance  \n",
       "1            1          dance  \n",
       "2            1          dance  \n",
       "3            0          dance  \n",
       "4            1          dance  \n",
       "\n",
       "[5 rows x 24 columns]"
      ]
     },
     "execution_count": 78,
     "metadata": {},
     "output_type": "execute_result"
    }
   ],
   "source": [
    "df.head()"
   ]
  },
  {
   "cell_type": "code",
   "execution_count": 123,
   "metadata": {},
   "outputs": [
    {
     "data": {
      "text/plain": [
       "dance         1513\n",
       "pop           1363\n",
       "rock           958\n",
       "Other          896\n",
       "indie          708\n",
       "punk           320\n",
       "electronic     304\n",
       "hip hop        256\n",
       "country        148\n",
       "r&b            147\n",
       "soul           144\n",
       "acoustic       139\n",
       "rap            100\n",
       "house           45\n",
       "Name: genrecategory, dtype: int64"
      ]
     },
     "execution_count": 123,
     "metadata": {},
     "output_type": "execute_result"
    }
   ],
   "source": [
    "df['genrecategory'].value_counts()"
   ]
  },
  {
   "cell_type": "code",
   "execution_count": 124,
   "metadata": {},
   "outputs": [],
   "source": [
    "temp = df[df['genrecategory']==\"Other\"]"
   ]
  },
  {
   "cell_type": "code",
   "execution_count": 125,
   "metadata": {},
   "outputs": [
    {
     "data": {
      "text/plain": [
       "unknown               264\n",
       "francoton              43\n",
       "a cappella             37\n",
       "downtempo              32\n",
       "anthem worship         20\n",
       "                     ... \n",
       "nashville sound         1\n",
       "swedish synth           1\n",
       "classic hardstyle       1\n",
       "classic girl group      1\n",
       "bmore                   1\n",
       "Name: genres, Length: 129, dtype: int64"
      ]
     },
     "execution_count": 125,
     "metadata": {},
     "output_type": "execute_result"
    }
   ],
   "source": [
    "temp['genres'].value_counts()"
   ]
  },
  {
   "cell_type": "code",
   "execution_count": 10,
   "metadata": {},
   "outputs": [],
   "source": [
    "substring1 = 'unknown'\n",
    "substring2 = \"dance\"\n",
    "\n",
    "for genre in df['genres']:\n",
    "    if substring1 in genre:\n",
    "        df = df.append({'genrecategory':substring1}, ignore_index=True)\n",
    "    elif substring2 in genre:\n",
    "        df = df.append({'genrecategory':substring2}, ignore_index=True)"
   ]
  },
  {
   "cell_type": "code",
   "execution_count": 11,
   "metadata": {
    "scrolled": true
   },
   "outputs": [
    {
     "data": {
      "text/html": [
       "<div>\n",
       "<style scoped>\n",
       "    .dataframe tbody tr th:only-of-type {\n",
       "        vertical-align: middle;\n",
       "    }\n",
       "\n",
       "    .dataframe tbody tr th {\n",
       "        vertical-align: top;\n",
       "    }\n",
       "\n",
       "    .dataframe thead th {\n",
       "        text-align: right;\n",
       "    }\n",
       "</style>\n",
       "<table border=\"1\" class=\"dataframe\">\n",
       "  <thead>\n",
       "    <tr style=\"text-align: right;\">\n",
       "      <th></th>\n",
       "      <th>Unnamed: 0</th>\n",
       "      <th>is_explicit</th>\n",
       "      <th>track_id</th>\n",
       "      <th>danceability</th>\n",
       "      <th>energy</th>\n",
       "      <th>key</th>\n",
       "      <th>loudness</th>\n",
       "      <th>mode</th>\n",
       "      <th>speechiness</th>\n",
       "      <th>acousticness</th>\n",
       "      <th>...</th>\n",
       "      <th>duration_ms</th>\n",
       "      <th>genres</th>\n",
       "      <th>ratings</th>\n",
       "      <th>decade_1960</th>\n",
       "      <th>decade_1970</th>\n",
       "      <th>decade_1980</th>\n",
       "      <th>decade_1990</th>\n",
       "      <th>decade_2000</th>\n",
       "      <th>decade_2010</th>\n",
       "      <th>genrecategory</th>\n",
       "    </tr>\n",
       "  </thead>\n",
       "  <tbody>\n",
       "    <tr>\n",
       "      <th>0</th>\n",
       "      <td>0.0</td>\n",
       "      <td>0.0</td>\n",
       "      <td>4lCv7b86sLynZbXhfScfm2</td>\n",
       "      <td>0.638</td>\n",
       "      <td>0.826</td>\n",
       "      <td>8.0</td>\n",
       "      <td>-4.968</td>\n",
       "      <td>1.0</td>\n",
       "      <td>0.0479</td>\n",
       "      <td>0.139000</td>\n",
       "      <td>...</td>\n",
       "      <td>227880.0</td>\n",
       "      <td>dance pop</td>\n",
       "      <td>4.0</td>\n",
       "      <td>0.0</td>\n",
       "      <td>0.0</td>\n",
       "      <td>0.0</td>\n",
       "      <td>0.0</td>\n",
       "      <td>0.0</td>\n",
       "      <td>1.0</td>\n",
       "      <td>NaN</td>\n",
       "    </tr>\n",
       "    <tr>\n",
       "      <th>1</th>\n",
       "      <td>1.0</td>\n",
       "      <td>0.0</td>\n",
       "      <td>6tS3XVuOyu10897O3ae7bi</td>\n",
       "      <td>0.791</td>\n",
       "      <td>0.754</td>\n",
       "      <td>0.0</td>\n",
       "      <td>-3.729</td>\n",
       "      <td>1.0</td>\n",
       "      <td>0.0569</td>\n",
       "      <td>0.004460</td>\n",
       "      <td>...</td>\n",
       "      <td>234653.0</td>\n",
       "      <td>dance pop</td>\n",
       "      <td>4.0</td>\n",
       "      <td>0.0</td>\n",
       "      <td>0.0</td>\n",
       "      <td>0.0</td>\n",
       "      <td>0.0</td>\n",
       "      <td>0.0</td>\n",
       "      <td>1.0</td>\n",
       "      <td>NaN</td>\n",
       "    </tr>\n",
       "    <tr>\n",
       "      <th>2</th>\n",
       "      <td>2.0</td>\n",
       "      <td>0.0</td>\n",
       "      <td>455AfCsOhhLPRc68sE01D8</td>\n",
       "      <td>0.649</td>\n",
       "      <td>0.815</td>\n",
       "      <td>3.0</td>\n",
       "      <td>-3.796</td>\n",
       "      <td>0.0</td>\n",
       "      <td>0.0415</td>\n",
       "      <td>0.001250</td>\n",
       "      <td>...</td>\n",
       "      <td>230747.0</td>\n",
       "      <td>dance pop</td>\n",
       "      <td>4.0</td>\n",
       "      <td>0.0</td>\n",
       "      <td>0.0</td>\n",
       "      <td>0.0</td>\n",
       "      <td>0.0</td>\n",
       "      <td>0.0</td>\n",
       "      <td>1.0</td>\n",
       "      <td>NaN</td>\n",
       "    </tr>\n",
       "    <tr>\n",
       "      <th>3</th>\n",
       "      <td>4.0</td>\n",
       "      <td>0.0</td>\n",
       "      <td>14iN3o8ptQ8cFVZTEmyQRV</td>\n",
       "      <td>0.699</td>\n",
       "      <td>0.760</td>\n",
       "      <td>5.0</td>\n",
       "      <td>-3.173</td>\n",
       "      <td>1.0</td>\n",
       "      <td>0.0677</td>\n",
       "      <td>0.002230</td>\n",
       "      <td>...</td>\n",
       "      <td>179640.0</td>\n",
       "      <td>dance pop</td>\n",
       "      <td>4.0</td>\n",
       "      <td>0.0</td>\n",
       "      <td>0.0</td>\n",
       "      <td>0.0</td>\n",
       "      <td>0.0</td>\n",
       "      <td>1.0</td>\n",
       "      <td>0.0</td>\n",
       "      <td>NaN</td>\n",
       "    </tr>\n",
       "    <tr>\n",
       "      <th>4</th>\n",
       "      <td>6.0</td>\n",
       "      <td>0.0</td>\n",
       "      <td>1nZzRJbFvCEct3uzu04ZoL</td>\n",
       "      <td>0.678</td>\n",
       "      <td>0.918</td>\n",
       "      <td>5.0</td>\n",
       "      <td>-4.630</td>\n",
       "      <td>1.0</td>\n",
       "      <td>0.0355</td>\n",
       "      <td>0.000417</td>\n",
       "      <td>...</td>\n",
       "      <td>216160.0</td>\n",
       "      <td>dance pop</td>\n",
       "      <td>4.0</td>\n",
       "      <td>0.0</td>\n",
       "      <td>0.0</td>\n",
       "      <td>0.0</td>\n",
       "      <td>0.0</td>\n",
       "      <td>0.0</td>\n",
       "      <td>1.0</td>\n",
       "      <td>NaN</td>\n",
       "    </tr>\n",
       "  </tbody>\n",
       "</table>\n",
       "<p>5 rows × 24 columns</p>\n",
       "</div>"
      ],
      "text/plain": [
       "   Unnamed: 0  is_explicit                track_id  danceability  energy  key  \\\n",
       "0         0.0          0.0  4lCv7b86sLynZbXhfScfm2         0.638   0.826  8.0   \n",
       "1         1.0          0.0  6tS3XVuOyu10897O3ae7bi         0.791   0.754  0.0   \n",
       "2         2.0          0.0  455AfCsOhhLPRc68sE01D8         0.649   0.815  3.0   \n",
       "3         4.0          0.0  14iN3o8ptQ8cFVZTEmyQRV         0.699   0.760  5.0   \n",
       "4         6.0          0.0  1nZzRJbFvCEct3uzu04ZoL         0.678   0.918  5.0   \n",
       "\n",
       "   loudness  mode  speechiness  acousticness  ...  duration_ms     genres  \\\n",
       "0    -4.968   1.0       0.0479      0.139000  ...     227880.0  dance pop   \n",
       "1    -3.729   1.0       0.0569      0.004460  ...     234653.0  dance pop   \n",
       "2    -3.796   0.0       0.0415      0.001250  ...     230747.0  dance pop   \n",
       "3    -3.173   1.0       0.0677      0.002230  ...     179640.0  dance pop   \n",
       "4    -4.630   1.0       0.0355      0.000417  ...     216160.0  dance pop   \n",
       "\n",
       "   ratings  decade_1960  decade_1970 decade_1980  decade_1990  decade_2000  \\\n",
       "0      4.0          0.0          0.0         0.0          0.0          0.0   \n",
       "1      4.0          0.0          0.0         0.0          0.0          0.0   \n",
       "2      4.0          0.0          0.0         0.0          0.0          0.0   \n",
       "3      4.0          0.0          0.0         0.0          0.0          1.0   \n",
       "4      4.0          0.0          0.0         0.0          0.0          0.0   \n",
       "\n",
       "   decade_2010  genrecategory  \n",
       "0          1.0            NaN  \n",
       "1          1.0            NaN  \n",
       "2          1.0            NaN  \n",
       "3          0.0            NaN  \n",
       "4          1.0            NaN  \n",
       "\n",
       "[5 rows x 24 columns]"
      ]
     },
     "execution_count": 11,
     "metadata": {},
     "output_type": "execute_result"
    }
   ],
   "source": [
    "df.head()"
   ]
  },
  {
   "cell_type": "code",
   "execution_count": 12,
   "metadata": {},
   "outputs": [
    {
     "data": {
      "text/plain": [
       "(8721,)"
      ]
     },
     "execution_count": 12,
     "metadata": {},
     "output_type": "execute_result"
    }
   ],
   "source": [
    "df['genrecategory'].shape"
   ]
  },
  {
   "cell_type": "code",
   "execution_count": null,
   "metadata": {},
   "outputs": [],
   "source": []
  }
 ],
 "metadata": {
  "kernelspec": {
   "display_name": "Python 3",
   "language": "python",
   "name": "python3"
  },
  "language_info": {
   "codemirror_mode": {
    "name": "ipython",
    "version": 3
   },
   "file_extension": ".py",
   "mimetype": "text/x-python",
   "name": "python",
   "nbconvert_exporter": "python",
   "pygments_lexer": "ipython3",
   "version": "3.6.9"
  }
 },
 "nbformat": 4,
 "nbformat_minor": 4
}
