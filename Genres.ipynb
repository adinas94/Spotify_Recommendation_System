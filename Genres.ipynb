{
 "cells": [
  {
   "cell_type": "code",
   "execution_count": 23,
   "metadata": {},
   "outputs": [],
   "source": [
    "import pandas as pd "
   ]
  },
  {
   "cell_type": "code",
   "execution_count": 24,
   "metadata": {},
   "outputs": [],
   "source": [
    "df = pd.read_csv('modelingdata')"
   ]
  },
  {
   "cell_type": "code",
   "execution_count": 25,
   "metadata": {
    "scrolled": true
   },
   "outputs": [
    {
     "name": "stdout",
     "output_type": "stream",
     "text": [
      "<class 'pandas.core.frame.DataFrame'>\n",
      "RangeIndex: 7041 entries, 0 to 7040\n",
      "Data columns (total 23 columns):\n",
      "Unnamed: 0          7041 non-null int64\n",
      "is_explicit         7041 non-null int64\n",
      "track_id            7041 non-null object\n",
      "danceability        7041 non-null float64\n",
      "energy              7041 non-null float64\n",
      "key                 7041 non-null int64\n",
      "loudness            7041 non-null float64\n",
      "mode                7041 non-null int64\n",
      "speechiness         7041 non-null float64\n",
      "acousticness        7041 non-null float64\n",
      "instrumentalness    7041 non-null float64\n",
      "liveness            7041 non-null float64\n",
      "valence             7041 non-null float64\n",
      "tempo               7041 non-null float64\n",
      "duration_ms         7041 non-null int64\n",
      "genres              7041 non-null object\n",
      "ratings             7041 non-null int64\n",
      "decade_1960         7041 non-null int64\n",
      "decade_1970         7041 non-null int64\n",
      "decade_1980         7041 non-null int64\n",
      "decade_1990         7041 non-null int64\n",
      "decade_2000         7041 non-null int64\n",
      "decade_2010         7041 non-null int64\n",
      "dtypes: float64(9), int64(12), object(2)\n",
      "memory usage: 1.2+ MB\n"
     ]
    }
   ],
   "source": [
    "df.info()"
   ]
  },
  {
   "cell_type": "code",
   "execution_count": 26,
   "metadata": {},
   "outputs": [
    {
     "data": {
      "text/plain": [
       "474"
      ]
     },
     "execution_count": 26,
     "metadata": {},
     "output_type": "execute_result"
    }
   ],
   "source": [
    "df['genres'].nunique()"
   ]
  },
  {
   "cell_type": "code",
   "execution_count": 27,
   "metadata": {},
   "outputs": [],
   "source": [
    "df['genres'] = df['genres'].astype('str')"
   ]
  },
  {
   "cell_type": "code",
   "execution_count": 28,
   "metadata": {
    "scrolled": true
   },
   "outputs": [
    {
     "data": {
      "text/plain": [
       "dance pop               1001\n",
       "unknown                  264\n",
       "alternative dance        262\n",
       "electropop               246\n",
       "album rock               238\n",
       "                        ... \n",
       "albanian hip hop           1\n",
       "moroccan pop               1\n",
       "deep pop edm               1\n",
       "portuguese pop             1\n",
       "north carolina indie       1\n",
       "Name: genres, Length: 474, dtype: int64"
      ]
     },
     "execution_count": 28,
     "metadata": {},
     "output_type": "execute_result"
    }
   ],
   "source": [
    "df['genres'].value_counts()"
   ]
  },
  {
   "cell_type": "code",
   "execution_count": 29,
   "metadata": {},
   "outputs": [
    {
     "data": {
      "text/plain": [
       "0"
      ]
     },
     "execution_count": 29,
     "metadata": {},
     "output_type": "execute_result"
    }
   ],
   "source": [
    "df['genres'].isna().sum()"
   ]
  },
  {
   "cell_type": "code",
   "execution_count": 30,
   "metadata": {},
   "outputs": [],
   "source": [
    "#Rename all \n",
    "substring1 = 'unknown'\n",
    "substring2 = \"dance\"\n",
    "substring3 = \"rock\"\n",
    "substring4 = \"indie\"\n",
    "substring5 = 'rap'\n",
    "substring6 = \"country\"\n",
    "substring7 = 'elect'\n",
    "substring8 = 'hip hop'\n",
    "substring9 = 'house'\n",
    "substring10 = 'soul'\n",
    "substring11 = 'acoustic'\n",
    "substring12 = 'jazz'\n",
    "\n",
    "for genre in df['genres']:\n",
    "    if substring1 in genre:\n",
    "        df = df.append({'genrecategory':substring1}, ignore_index=True)\n",
    "    elif substring2 in genre:\n",
    "        df = df.append({'genrecategory':substring2}, ignore_index=True)\n",
    "    elif substring3 in genre:\n",
    "        df = df.append({'genrecategory':substring3}, ignore_index=True)\n",
    "    elif substring4 in genre:\n",
    "        df = df.append({'genrecategory':substring4}, ignore_index=True)\n",
    "    elif substring5 in genre:\n",
    "        df = df.append({'genrecategory':substring5}, ignore_index=True)\n",
    "    elif substring6 in genre:\n",
    "        df = df.append({'genrecategory':substring6}, ignore_index=True)\n",
    "    elif substring7 in genre:\n",
    "        df = df.append({'genrecategory':substring7}, ignore_index=True)\n",
    "    elif substring8 in genre:\n",
    "        df = df.append({'genrecategory':substring8}, ignore_index=True)\n",
    "    elif substring9 in genre:\n",
    "        df = df.append({'genrecategory':substring9}, ignore_index=True)\n",
    "    elif substring10 in genre:\n",
    "        df = df.append({'genrecategory':substring10}, ignore_index=True)\n",
    "    elif substring11 in genre:\n",
    "        df = df.append({'genrecategory':substring11}, ignore_index=True)\n",
    "    elif substring11 in genre:\n",
    "        df = df.append({'genrecategory':substring11}, ignore_index=True)\n",
    "#     else:\n",
    "#         df = df.append({'genrecategory':\"other\"}, ignore_index=True)\n",
    "        "
   ]
  },
  {
   "cell_type": "code",
   "execution_count": 34,
   "metadata": {},
   "outputs": [
    {
     "data": {
      "text/plain": [
       "dance       1416\n",
       "rock         938\n",
       "indie        616\n",
       "elect        304\n",
       "unknown      264\n",
       "hip hop      256\n",
       "country      146\n",
       "soul         144\n",
       "acoustic     139\n",
       "rap          100\n",
       "house         45\n",
       "Name: genrecategory, dtype: int64"
      ]
     },
     "execution_count": 34,
     "metadata": {},
     "output_type": "execute_result"
    }
   ],
   "source": [
    "df['genrecategory'].value_counts()"
   ]
  },
  {
   "cell_type": "code",
   "execution_count": 39,
   "metadata": {},
   "outputs": [
    {
     "data": {
      "text/plain": [
       "(11409,)"
      ]
     },
     "execution_count": 39,
     "metadata": {},
     "output_type": "execute_result"
    }
   ],
   "source": [
    "df['genrecategory'].shape"
   ]
  },
  {
   "cell_type": "code",
   "execution_count": null,
   "metadata": {},
   "outputs": [],
   "source": []
  }
 ],
 "metadata": {
  "kernelspec": {
   "display_name": "Python 3",
   "language": "python",
   "name": "python3"
  },
  "language_info": {
   "codemirror_mode": {
    "name": "ipython",
    "version": 3
   },
   "file_extension": ".py",
   "mimetype": "text/x-python",
   "name": "python",
   "nbconvert_exporter": "python",
   "pygments_lexer": "ipython3",
   "version": "3.6.9"
  }
 },
 "nbformat": 4,
 "nbformat_minor": 4
}
