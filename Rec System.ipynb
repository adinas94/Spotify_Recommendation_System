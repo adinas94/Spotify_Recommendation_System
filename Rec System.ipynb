{
 "cells": [
  {
   "cell_type": "markdown",
   "metadata": {},
   "source": [
    "# Recommendation System"
   ]
  },
  {
   "cell_type": "code",
   "execution_count": 1,
   "metadata": {},
   "outputs": [],
   "source": [
    "#import necessary packages \n",
    "import pandas as pd\n",
    "import numpy as np\n",
    "from surprise import SVD\n",
    "from surprise.prediction_algorithms import KNNWithMeans, KNNBasic, KNNBaseline\n",
    "from surprise import Dataset, Reader\n",
    "from surprise import accuracy\n",
    "from surprise.model_selection import cross_validate, train_test_split, GridSearchCV"
   ]
  },
  {
   "cell_type": "code",
   "execution_count": 2,
   "metadata": {},
   "outputs": [],
   "source": [
    "#import dataframe \n",
    "df = pd.read_csv('modelingdata')\n",
    "df.drop(['Unnamed: 0'], axis=1, inplace=True)"
   ]
  },
  {
   "cell_type": "code",
   "execution_count": 3,
   "metadata": {
    "scrolled": true
   },
   "outputs": [
    {
     "data": {
      "text/html": [
       "<div>\n",
       "<style scoped>\n",
       "    .dataframe tbody tr th:only-of-type {\n",
       "        vertical-align: middle;\n",
       "    }\n",
       "\n",
       "    .dataframe tbody tr th {\n",
       "        vertical-align: top;\n",
       "    }\n",
       "\n",
       "    .dataframe thead th {\n",
       "        text-align: right;\n",
       "    }\n",
       "</style>\n",
       "<table border=\"1\" class=\"dataframe\">\n",
       "  <thead>\n",
       "    <tr style=\"text-align: right;\">\n",
       "      <th></th>\n",
       "      <th>artist</th>\n",
       "      <th>artist_id</th>\n",
       "      <th>album</th>\n",
       "      <th>track_name</th>\n",
       "      <th>is_explicit</th>\n",
       "      <th>track_id</th>\n",
       "      <th>danceability</th>\n",
       "      <th>energy</th>\n",
       "      <th>key</th>\n",
       "      <th>loudness</th>\n",
       "      <th>...</th>\n",
       "      <th>genre_electronic</th>\n",
       "      <th>genre_hip hop</th>\n",
       "      <th>genre_house</th>\n",
       "      <th>genre_indie</th>\n",
       "      <th>genre_pop</th>\n",
       "      <th>genre_punk</th>\n",
       "      <th>genre_r&amp;b</th>\n",
       "      <th>genre_rap</th>\n",
       "      <th>genre_rock</th>\n",
       "      <th>genre_soul</th>\n",
       "    </tr>\n",
       "  </thead>\n",
       "  <tbody>\n",
       "    <tr>\n",
       "      <th>0</th>\n",
       "      <td>Katy Perry</td>\n",
       "      <td>6jJ0s89eD6GaHleKKya26X</td>\n",
       "      <td>Katy Perry - Teenage Dream: The Complete Confe...</td>\n",
       "      <td>Firework</td>\n",
       "      <td>0</td>\n",
       "      <td>4lCv7b86sLynZbXhfScfm2</td>\n",
       "      <td>0.638</td>\n",
       "      <td>0.826</td>\n",
       "      <td>8</td>\n",
       "      <td>-4.968</td>\n",
       "      <td>...</td>\n",
       "      <td>0</td>\n",
       "      <td>0</td>\n",
       "      <td>0</td>\n",
       "      <td>0</td>\n",
       "      <td>0</td>\n",
       "      <td>0</td>\n",
       "      <td>0</td>\n",
       "      <td>0</td>\n",
       "      <td>0</td>\n",
       "      <td>0</td>\n",
       "    </tr>\n",
       "    <tr>\n",
       "      <th>1</th>\n",
       "      <td>Katy Perry</td>\n",
       "      <td>6jJ0s89eD6GaHleKKya26X</td>\n",
       "      <td>Katy Perry - Teenage Dream: The Complete Confe...</td>\n",
       "      <td>California Gurls</td>\n",
       "      <td>0</td>\n",
       "      <td>6tS3XVuOyu10897O3ae7bi</td>\n",
       "      <td>0.791</td>\n",
       "      <td>0.754</td>\n",
       "      <td>0</td>\n",
       "      <td>-3.729</td>\n",
       "      <td>...</td>\n",
       "      <td>0</td>\n",
       "      <td>0</td>\n",
       "      <td>0</td>\n",
       "      <td>0</td>\n",
       "      <td>0</td>\n",
       "      <td>0</td>\n",
       "      <td>0</td>\n",
       "      <td>0</td>\n",
       "      <td>0</td>\n",
       "      <td>0</td>\n",
       "    </tr>\n",
       "  </tbody>\n",
       "</table>\n",
       "<p>2 rows × 39 columns</p>\n",
       "</div>"
      ],
      "text/plain": [
       "       artist               artist_id  \\\n",
       "0  Katy Perry  6jJ0s89eD6GaHleKKya26X   \n",
       "1  Katy Perry  6jJ0s89eD6GaHleKKya26X   \n",
       "\n",
       "                                               album        track_name  \\\n",
       "0  Katy Perry - Teenage Dream: The Complete Confe...          Firework   \n",
       "1  Katy Perry - Teenage Dream: The Complete Confe...  California Gurls   \n",
       "\n",
       "   is_explicit                track_id  danceability  energy  key  loudness  \\\n",
       "0            0  4lCv7b86sLynZbXhfScfm2         0.638   0.826    8    -4.968   \n",
       "1            0  6tS3XVuOyu10897O3ae7bi         0.791   0.754    0    -3.729   \n",
       "\n",
       "   ...  genre_electronic  genre_hip hop  genre_house  genre_indie  genre_pop  \\\n",
       "0  ...                 0              0            0            0          0   \n",
       "1  ...                 0              0            0            0          0   \n",
       "\n",
       "   genre_punk  genre_r&b  genre_rap  genre_rock  genre_soul  \n",
       "0           0          0          0           0           0  \n",
       "1           0          0          0           0           0  \n",
       "\n",
       "[2 rows x 39 columns]"
      ]
     },
     "execution_count": 3,
     "metadata": {},
     "output_type": "execute_result"
    }
   ],
   "source": [
    "#Explore first two rows of dataframe \n",
    "df.head(2)"
   ]
  },
  {
   "cell_type": "code",
   "execution_count": 4,
   "metadata": {},
   "outputs": [
    {
     "name": "stdout",
     "output_type": "stream",
     "text": [
      "<class 'pandas.core.frame.DataFrame'>\n",
      "RangeIndex: 7041 entries, 0 to 7040\n",
      "Data columns (total 39 columns):\n",
      "artist              7041 non-null object\n",
      "artist_id           7041 non-null object\n",
      "album               7041 non-null object\n",
      "track_name          7041 non-null object\n",
      "is_explicit         7041 non-null int64\n",
      "track_id            7041 non-null object\n",
      "danceability        7041 non-null float64\n",
      "energy              7041 non-null float64\n",
      "key                 7041 non-null int64\n",
      "loudness            7041 non-null float64\n",
      "mode                7041 non-null int64\n",
      "speechiness         7041 non-null float64\n",
      "acousticness        7041 non-null float64\n",
      "instrumentalness    7041 non-null float64\n",
      "liveness            7041 non-null float64\n",
      "valence             7041 non-null float64\n",
      "tempo               7041 non-null float64\n",
      "duration_ms         7041 non-null int64\n",
      "ratings             7041 non-null int64\n",
      "decade_1960         7041 non-null int64\n",
      "decade_1970         7041 non-null int64\n",
      "decade_1980         7041 non-null int64\n",
      "decade_1990         7041 non-null int64\n",
      "decade_2000         7041 non-null int64\n",
      "decade_2010         7041 non-null int64\n",
      "genrecategory       7041 non-null object\n",
      "genre_acoustic      7041 non-null int64\n",
      "genre_country       7041 non-null int64\n",
      "genre_dance         7041 non-null int64\n",
      "genre_electronic    7041 non-null int64\n",
      "genre_hip hop       7041 non-null int64\n",
      "genre_house         7041 non-null int64\n",
      "genre_indie         7041 non-null int64\n",
      "genre_pop           7041 non-null int64\n",
      "genre_punk          7041 non-null int64\n",
      "genre_r&b           7041 non-null int64\n",
      "genre_rap           7041 non-null int64\n",
      "genre_rock          7041 non-null int64\n",
      "genre_soul          7041 non-null int64\n",
      "dtypes: float64(9), int64(24), object(6)\n",
      "memory usage: 2.1+ MB\n"
     ]
    }
   ],
   "source": [
    "df.info()"
   ]
  },
  {
   "cell_type": "code",
   "execution_count": 5,
   "metadata": {
    "scrolled": false
   },
   "outputs": [
    {
     "data": {
      "text/plain": [
       "Various Artists        467\n",
       "Panic! At The Disco     63\n",
       "Passion Pit             56\n",
       "Bastille                51\n",
       "Twenty One Pilots       43\n",
       "Name: artist, dtype: int64"
      ]
     },
     "execution_count": 5,
     "metadata": {},
     "output_type": "execute_result"
    }
   ],
   "source": [
    "#See which artists have been rated the most \n",
    "df['artist'].value_counts().head()"
   ]
  },
  {
   "cell_type": "code",
   "execution_count": 6,
   "metadata": {},
   "outputs": [
    {
     "data": {
      "text/plain": [
       "Closer       8\n",
       "Smile        8\n",
       "Hurricane    8\n",
       "Gold         8\n",
       "Heaven       7\n",
       "Name: track_name, dtype: int64"
      ]
     },
     "execution_count": 6,
     "metadata": {},
     "output_type": "execute_result"
    }
   ],
   "source": [
    "#See which tracks have been rated the most \n",
    "df['track_name'].value_counts().head()"
   ]
  },
  {
   "cell_type": "code",
   "execution_count": 7,
   "metadata": {},
   "outputs": [
    {
     "data": {
      "text/plain": [
       "3    2648\n",
       "2    1981\n",
       "4    1287\n",
       "1     916\n",
       "5     209\n",
       "Name: ratings, dtype: int64"
      ]
     },
     "execution_count": 7,
     "metadata": {},
     "output_type": "execute_result"
    }
   ],
   "source": [
    "#View the distribution of ratings \n",
    "df['ratings'].value_counts()"
   ]
  },
  {
   "cell_type": "code",
   "execution_count": 8,
   "metadata": {
    "scrolled": true
   },
   "outputs": [],
   "source": [
    "#Create a dataframe that contains artist ID, track ID, and ratings to then be put into surprise\n",
    "dataset = df[['artist_id','track_id', 'ratings']]"
   ]
  },
  {
   "cell_type": "code",
   "execution_count": 9,
   "metadata": {},
   "outputs": [
    {
     "data": {
      "text/plain": [
       "0.9995669406116341"
      ]
     },
     "execution_count": 9,
     "metadata": {},
     "output_type": "execute_result"
    }
   ],
   "source": [
    "#Check sparsity of matrix\n",
    "numratings = len(dataset['ratings'])\n",
    "numusers = len(dataset['artist_id'].unique())\n",
    "numitems = len(dataset['track_id'].unique())\n",
    "\n",
    "sparse = 1 - (numratings / (numusers*numitems))\n",
    "sparse"
   ]
  },
  {
   "cell_type": "code",
   "execution_count": 10,
   "metadata": {},
   "outputs": [],
   "source": [
    "#Filter out artists who only appear once in dataset \n",
    "dataset = dataset.groupby('artist_id').filter(lambda x: len(x)>1)"
   ]
  },
  {
   "cell_type": "code",
   "execution_count": 11,
   "metadata": {},
   "outputs": [
    {
     "data": {
      "text/plain": [
       "0.9990345136236665"
      ]
     },
     "execution_count": 11,
     "metadata": {},
     "output_type": "execute_result"
    }
   ],
   "source": [
    "#Check sparsity of matrixagain \n",
    "numratings = len(dataset['ratings'])\n",
    "numusers = len(dataset['artist_id'].unique())\n",
    "numitems = len(dataset['track_id'].unique())\n",
    "\n",
    "sparse = 1 - (numratings / (numusers*numitems))\n",
    "sparse"
   ]
  },
  {
   "cell_type": "code",
   "execution_count": 12,
   "metadata": {},
   "outputs": [
    {
     "data": {
      "text/plain": [
       "1045"
      ]
     },
     "execution_count": 12,
     "metadata": {},
     "output_type": "execute_result"
    }
   ],
   "source": [
    "#print number of unique artists \n",
    "dataset['artist_id'].nunique()"
   ]
  },
  {
   "cell_type": "code",
   "execution_count": 13,
   "metadata": {
    "scrolled": true
   },
   "outputs": [
    {
     "data": {
      "text/plain": [
       "artist_id    0\n",
       "track_id     0\n",
       "ratings      0\n",
       "dtype: int64"
      ]
     },
     "execution_count": 13,
     "metadata": {},
     "output_type": "execute_result"
    }
   ],
   "source": [
    "#Check for NA values \n",
    "dataset.isna().sum()"
   ]
  },
  {
   "cell_type": "markdown",
   "metadata": {},
   "source": [
    "### Baseline Model"
   ]
  },
  {
   "cell_type": "code",
   "execution_count": 14,
   "metadata": {},
   "outputs": [],
   "source": [
    "#Instansiate reader and data \n",
    "reader = Reader(rating_scale=(1, 5))\n",
    "data = Dataset.load_from_df(dataset, reader)"
   ]
  },
  {
   "cell_type": "code",
   "execution_count": 15,
   "metadata": {},
   "outputs": [],
   "source": [
    "#Train test split with test sizre of 20% \n",
    "trainset, testset = train_test_split(data, test_size=.25)"
   ]
  },
  {
   "cell_type": "code",
   "execution_count": 16,
   "metadata": {},
   "outputs": [
    {
     "name": "stdout",
     "output_type": "stream",
     "text": [
      "Number of artists in train set :  1016 \n",
      "\n",
      "Number of tracks in train set :  4285 \n",
      "\n"
     ]
    }
   ],
   "source": [
    "# Print number of uses and items for the trainset \n",
    "print('Number of artists in train set : ', trainset.n_users, '\\n')\n",
    "print('Number of tracks in train set : ', trainset.n_items, '\\n')"
   ]
  },
  {
   "cell_type": "code",
   "execution_count": 17,
   "metadata": {},
   "outputs": [],
   "source": [
    "#Instansiate a baseline model using KNNBaseline \n",
    "baseline = SVD(random_state=42)"
   ]
  },
  {
   "cell_type": "code",
   "execution_count": 18,
   "metadata": {},
   "outputs": [
    {
     "data": {
      "text/plain": [
       "<surprise.prediction_algorithms.matrix_factorization.SVD at 0x7ff5aab9c780>"
      ]
     },
     "execution_count": 18,
     "metadata": {},
     "output_type": "execute_result"
    }
   ],
   "source": [
    "#Fit model on the trainset \n",
    "baseline.fit(trainset)"
   ]
  },
  {
   "cell_type": "code",
   "execution_count": 19,
   "metadata": {},
   "outputs": [],
   "source": [
    "#Predict on the test set \n",
    "baselinepreds = baseline.test(testset)"
   ]
  },
  {
   "cell_type": "code",
   "execution_count": 20,
   "metadata": {},
   "outputs": [
    {
     "name": "stdout",
     "output_type": "stream",
     "text": [
      "RMSE: 0.8857\n",
      "MAE:  0.7002\n"
     ]
    },
    {
     "data": {
      "text/plain": [
       "0.7001737499472982"
      ]
     },
     "execution_count": 20,
     "metadata": {},
     "output_type": "execute_result"
    }
   ],
   "source": [
    "#Check RMSE and MAE results \n",
    "accuracy.rmse(baselinepreds)\n",
    "accuracy.mae(baselinepreds)"
   ]
  },
  {
   "cell_type": "code",
   "execution_count": 21,
   "metadata": {},
   "outputs": [
    {
     "name": "stdout",
     "output_type": "stream",
     "text": [
      "Evaluating RMSE, MAE of algorithm SVD on 3 split(s).\n",
      "\n",
      "                  Fold 1  Fold 2  Fold 3  Mean    Std     \n",
      "RMSE (testset)    0.8915  0.8890  0.9162  0.8989  0.0123  \n",
      "MAE (testset)     0.7061  0.7074  0.7301  0.7145  0.0110  \n",
      "Fit time          0.26    0.19    0.19    0.21    0.03    \n",
      "Test time         0.01    0.01    0.01    0.01    0.00    \n"
     ]
    }
   ],
   "source": [
    "#Run 3-fold cross validation on the data and print results \n",
    "cv_baseline = cross_validate(baseline, data, measures=['RMSE', 'MAE'], cv=3, verbose=True)"
   ]
  },
  {
   "cell_type": "code",
   "execution_count": 22,
   "metadata": {},
   "outputs": [
    {
     "name": "stdout",
     "output_type": "stream",
     "text": [
      "('test_rmse', array([0.89148856, 0.88897634, 0.9162494 ]))\n",
      "('test_mae', array([0.70613668, 0.70738549, 0.73012634]))\n",
      "('fit_time', (0.2607543468475342, 0.18927788734436035, 0.1892683506011963))\n",
      "('test_time', (0.009683847427368164, 0.010174036026000977, 0.009617090225219727))\n"
     ]
    }
   ],
   "source": [
    "# Print out the RMSE score for each fold \n",
    "for i in cv_baseline.items():\n",
    "    print(i)"
   ]
  },
  {
   "cell_type": "code",
   "execution_count": 23,
   "metadata": {},
   "outputs": [
    {
     "data": {
      "text/plain": [
       "0.8989047657307285"
      ]
     },
     "execution_count": 23,
     "metadata": {},
     "output_type": "execute_result"
    }
   ],
   "source": [
    "#Find the average test RMSE from the 3-Fold cross-validation\n",
    "np.mean(cv_baseline['test_rmse'])"
   ]
  },
  {
   "cell_type": "markdown",
   "metadata": {},
   "source": [
    "### Model 1"
   ]
  },
  {
   "cell_type": "code",
   "execution_count": 24,
   "metadata": {},
   "outputs": [],
   "source": [
    "#Set parameters for GridSearch on SVD model \n",
    "parameters = {'n_factors': [25, 50, 75, 100],\n",
    "             'reg_all': [0.01, 0.02, 0.03, 0.04, 0.05],\n",
    "             'n_epochs': [20, 30, 40, 50, 60],\n",
    "             'lr_all': [.005, .01, .05, .1]}\n",
    "gridsvd = GridSearchCV(SVD, param_grid=parameters, n_jobs=-1)"
   ]
  },
  {
   "cell_type": "code",
   "execution_count": 25,
   "metadata": {},
   "outputs": [],
   "source": [
    "#Fit SVD model on data\n",
    "# gridsvd.fit(data)"
   ]
  },
  {
   "cell_type": "code",
   "execution_count": 26,
   "metadata": {},
   "outputs": [],
   "source": [
    "# #Print best score and best parameters from the GridSearch \n",
    "# print(gridsvd.best_score)\n",
    "# print(gridsvd.best_params)"
   ]
  },
  {
   "cell_type": "code",
   "execution_count": 27,
   "metadata": {},
   "outputs": [],
   "source": [
    "#Reinstantiate the model with the best parameters fromGridSearch \n",
    "svdtuned = SVD(n_factors=25,\n",
    "               reg_all=0.01,\n",
    "               n_epochs=60,\n",
    "               lr_all=0.05)"
   ]
  },
  {
   "cell_type": "code",
   "execution_count": 28,
   "metadata": {},
   "outputs": [],
   "source": [
    "#Fit and predict the model \n",
    "svdtuned.fit(trainset)\n",
    "svdpreds = svdtuned.test(testset)"
   ]
  },
  {
   "cell_type": "code",
   "execution_count": 29,
   "metadata": {},
   "outputs": [
    {
     "name": "stdout",
     "output_type": "stream",
     "text": [
      "RMSE: 0.8403\n",
      "MAE:  0.6576\n"
     ]
    },
    {
     "data": {
      "text/plain": [
       "0.6575908821676951"
      ]
     },
     "execution_count": 29,
     "metadata": {},
     "output_type": "execute_result"
    }
   ],
   "source": [
    "#Print RMSE and MAE results \n",
    "accuracy.rmse(svdpreds)\n",
    "accuracy.mae(svdpreds)"
   ]
  },
  {
   "cell_type": "code",
   "execution_count": 30,
   "metadata": {},
   "outputs": [
    {
     "name": "stdout",
     "output_type": "stream",
     "text": [
      "Evaluating RMSE, MAE of algorithm SVD on 3 split(s).\n",
      "\n",
      "                  Fold 1  Fold 2  Fold 3  Mean    Std     \n",
      "RMSE (testset)    0.8550  0.8733  0.8691  0.8658  0.0078  \n",
      "MAE (testset)     0.6700  0.6804  0.6794  0.6766  0.0047  \n",
      "Fit time          0.27    0.25    0.24    0.25    0.01    \n",
      "Test time         0.01    0.01    0.01    0.01    0.00    \n"
     ]
    }
   ],
   "source": [
    "#Perform 3-Fold cross validation for SVD tuned model\n",
    "cv_svd_tuned = cross_validate(svdtuned, data, measures=['RMSE', 'MAE'], cv=3, verbose=True)"
   ]
  },
  {
   "cell_type": "code",
   "execution_count": 31,
   "metadata": {},
   "outputs": [
    {
     "name": "stdout",
     "output_type": "stream",
     "text": [
      "('test_rmse', array([0.85500167, 0.87330733, 0.86909099]))\n",
      "('test_mae', array([0.67002479, 0.68044425, 0.67939343]))\n",
      "('fit_time', (0.2679901123046875, 0.24591374397277832, 0.24193406105041504))\n",
      "('test_time', (0.009573221206665039, 0.009369850158691406, 0.009450912475585938))\n"
     ]
    }
   ],
   "source": [
    "#Display the results for all 3-folds \n",
    "for i in cv_svd_tuned.items():\n",
    "    print(i)"
   ]
  },
  {
   "cell_type": "code",
   "execution_count": 32,
   "metadata": {},
   "outputs": [
    {
     "data": {
      "text/plain": [
       "0.8657999955806662"
      ]
     },
     "execution_count": 32,
     "metadata": {},
     "output_type": "execute_result"
    }
   ],
   "source": [
    "# Print out the average RMSE score for the test set\n",
    "np.mean(cv_svd_tuned['test_rmse'])"
   ]
  },
  {
   "cell_type": "markdown",
   "metadata": {},
   "source": [
    "## Model 2 "
   ]
  },
  {
   "cell_type": "code",
   "execution_count": 33,
   "metadata": {},
   "outputs": [],
   "source": [
    "# Set parameters to be used in KNN models \n",
    "knn_params = {'name': ['cosine', 'pearson'],\n",
    "              'user_based':[True, False], \n",
    "              'min_support':[True, False],\n",
    "            'min_k' : [1, 2]}"
   ]
  },
  {
   "cell_type": "code",
   "execution_count": 34,
   "metadata": {},
   "outputs": [
    {
     "name": "stdout",
     "output_type": "stream",
     "text": [
      "Computing the msd similarity matrix...\n",
      "Done computing similarity matrix.\n",
      "Computing the msd similarity matrix...\n",
      "Done computing similarity matrix.\n",
      "Computing the msd similarity matrix...\n",
      "Done computing similarity matrix.\n",
      "Computing the msd similarity matrix...\n",
      "Done computing similarity matrix.\n",
      "Computing the msd similarity matrix...\n",
      "Done computing similarity matrix.\n",
      "Computing the msd similarity matrix...\n",
      "Done computing similarity matrix.\n",
      "Computing the msd similarity matrix...\n",
      "Done computing similarity matrix.\n",
      "Computing the msd similarity matrix...\n",
      "Done computing similarity matrix.\n",
      "Computing the msd similarity matrix...\n",
      "Done computing similarity matrix.\n",
      "Computing the msd similarity matrix...\n",
      "Done computing similarity matrix.\n",
      "Computing the msd similarity matrix...\n",
      "Done computing similarity matrix.\n",
      "Computing the msd similarity matrix...\n",
      "Done computing similarity matrix.\n",
      "Computing the msd similarity matrix...\n",
      "Done computing similarity matrix.\n",
      "Computing the msd similarity matrix...\n",
      "Done computing similarity matrix.\n",
      "Computing the msd similarity matrix...\n",
      "Done computing similarity matrix.\n",
      "Computing the msd similarity matrix...\n",
      "Done computing similarity matrix.\n",
      "Computing the msd similarity matrix...\n",
      "Done computing similarity matrix.\n",
      "Computing the msd similarity matrix...\n",
      "Done computing similarity matrix.\n",
      "Computing the msd similarity matrix...\n",
      "Done computing similarity matrix.\n",
      "Computing the msd similarity matrix...\n",
      "Done computing similarity matrix.\n",
      "Computing the msd similarity matrix...\n",
      "Done computing similarity matrix.\n",
      "Computing the msd similarity matrix...\n",
      "Done computing similarity matrix.\n",
      "Computing the msd similarity matrix...\n",
      "Done computing similarity matrix.\n",
      "Computing the msd similarity matrix...\n",
      "Done computing similarity matrix.\n",
      "Computing the msd similarity matrix...\n",
      "Done computing similarity matrix.\n",
      "Computing the msd similarity matrix...\n",
      "Done computing similarity matrix.\n",
      "Computing the msd similarity matrix...\n",
      "Done computing similarity matrix.\n",
      "Computing the msd similarity matrix...\n",
      "Done computing similarity matrix.\n",
      "Computing the msd similarity matrix...\n",
      "Done computing similarity matrix.\n",
      "Computing the msd similarity matrix...\n",
      "Done computing similarity matrix.\n",
      "Computing the msd similarity matrix...\n",
      "Done computing similarity matrix.\n",
      "Computing the msd similarity matrix...\n",
      "Done computing similarity matrix.\n",
      "Computing the msd similarity matrix...\n",
      "Done computing similarity matrix.\n",
      "Computing the msd similarity matrix...\n",
      "Done computing similarity matrix.\n",
      "Computing the msd similarity matrix...\n",
      "Done computing similarity matrix.\n",
      "Computing the msd similarity matrix...\n",
      "Done computing similarity matrix.\n",
      "Computing the msd similarity matrix...\n",
      "Done computing similarity matrix.\n",
      "Computing the msd similarity matrix...\n",
      "Done computing similarity matrix.\n",
      "Computing the msd similarity matrix...\n",
      "Done computing similarity matrix.\n",
      "Computing the msd similarity matrix...\n",
      "Done computing similarity matrix.\n",
      "Computing the msd similarity matrix...\n",
      "Done computing similarity matrix.\n",
      "Computing the msd similarity matrix...\n",
      "Done computing similarity matrix.\n",
      "Computing the msd similarity matrix...\n",
      "Done computing similarity matrix.\n",
      "Computing the msd similarity matrix...\n",
      "Done computing similarity matrix.\n",
      "Computing the msd similarity matrix...\n",
      "Done computing similarity matrix.\n",
      "Computing the msd similarity matrix...\n",
      "Done computing similarity matrix.\n",
      "Computing the msd similarity matrix...\n",
      "Done computing similarity matrix.\n",
      "Computing the msd similarity matrix...\n",
      "Done computing similarity matrix.\n"
     ]
    }
   ],
   "source": [
    "# Apply GridSearch to the KNN Basic model to identify the best parameters\n",
    "gsknnbasic = GridSearchCV(KNNBasic, knn_params, measures=['rmse', 'mae'], cv=3)\n",
    "gsknnbasic.fit(data)"
   ]
  },
  {
   "cell_type": "code",
   "execution_count": 35,
   "metadata": {},
   "outputs": [
    {
     "name": "stdout",
     "output_type": "stream",
     "text": [
      "{'rmse': 0.9820100416824887, 'mae': 0.7896943268952548}\n",
      "{'rmse': {'name': 'cosine', 'user_based': True, 'min_support': True, 'min_k': 1}, 'mae': {'name': 'cosine', 'user_based': True, 'min_support': True, 'min_k': 1}}\n"
     ]
    }
   ],
   "source": [
    "#Display the best scores and parameters from GridSearch\n",
    "print(gsknnbasic.best_score)\n",
    "print(gsknnbasic.best_params)"
   ]
  },
  {
   "cell_type": "code",
   "execution_count": 36,
   "metadata": {},
   "outputs": [],
   "source": [
    "#Reinstantiate the model with the best parameters from GridSearch \n",
    "knnbasic_tuned = KNNBasic(sim_options={'name': 'cosine', \n",
    "                                       'user_based': True, \n",
    "                                       'min_support':True, \n",
    "                                       'min_k':1, })"
   ]
  },
  {
   "cell_type": "code",
   "execution_count": 37,
   "metadata": {},
   "outputs": [
    {
     "name": "stdout",
     "output_type": "stream",
     "text": [
      "Computing the cosine similarity matrix...\n",
      "Done computing similarity matrix.\n"
     ]
    }
   ],
   "source": [
    "\n",
    "#Fit on the train set and predict on the test set \n",
    "knnbasic_tuned.fit(trainset)\n",
    "knnbpreds = knnbasic_tuned.test(testset)"
   ]
  },
  {
   "cell_type": "code",
   "execution_count": 38,
   "metadata": {},
   "outputs": [
    {
     "name": "stdout",
     "output_type": "stream",
     "text": [
      "RMSE: 0.9786\n",
      "MAE:  0.7848\n"
     ]
    },
    {
     "data": {
      "text/plain": [
       "0.7847530864197529"
      ]
     },
     "execution_count": 38,
     "metadata": {},
     "output_type": "execute_result"
    }
   ],
   "source": [
    "#Print RMSE and MAE results \n",
    "accuracy.rmse(knnbpreds)\n",
    "accuracy.mae(knnbpreds)"
   ]
  },
  {
   "cell_type": "code",
   "execution_count": 39,
   "metadata": {},
   "outputs": [
    {
     "name": "stdout",
     "output_type": "stream",
     "text": [
      "Computing the cosine similarity matrix...\n",
      "Done computing similarity matrix.\n",
      "Computing the cosine similarity matrix...\n",
      "Done computing similarity matrix.\n",
      "Computing the cosine similarity matrix...\n",
      "Done computing similarity matrix.\n",
      "Evaluating RMSE, MAE of algorithm KNNBasic on 3 split(s).\n",
      "\n",
      "                  Fold 1  Fold 2  Fold 3  Mean    Std     \n",
      "RMSE (testset)    0.9808  0.9791  0.9882  0.9827  0.0040  \n",
      "MAE (testset)     0.7865  0.7918  0.7955  0.7913  0.0037  \n",
      "Fit time          0.05    0.03    0.02    0.03    0.01    \n",
      "Test time         0.02    0.02    0.03    0.03    0.00    \n"
     ]
    }
   ],
   "source": [
    "#Conduct cross validation for the KNNBasic tuned model \n",
    "cv_knn_basic = cross_validate(knnbasic_tuned, data, measures=['RMSE', 'MAE'], cv=3, verbose=True)"
   ]
  },
  {
   "cell_type": "code",
   "execution_count": 40,
   "metadata": {},
   "outputs": [
    {
     "name": "stdout",
     "output_type": "stream",
     "text": [
      "('test_rmse', array([0.98084022, 0.9790853 , 0.98824853]))\n",
      "('test_mae', array([0.78654392, 0.79176242, 0.79545302]))\n",
      "('fit_time', (0.05079388618469238, 0.03497791290283203, 0.019175052642822266))\n",
      "('test_time', (0.024798870086669922, 0.022083759307861328, 0.030164003372192383))\n"
     ]
    }
   ],
   "source": [
    "# Print out results from the cross-valdiatoin \n",
    "for i in cv_knn_basic.items():\n",
    "    print(i)"
   ]
  },
  {
   "cell_type": "code",
   "execution_count": 41,
   "metadata": {},
   "outputs": [
    {
     "data": {
      "text/plain": [
       "0.9827246822657424"
      ]
     },
     "execution_count": 41,
     "metadata": {},
     "output_type": "execute_result"
    }
   ],
   "source": [
    "# Print out the average RMSE score for the test set\n",
    "np.mean(cv_knn_basic['test_rmse'])"
   ]
  },
  {
   "cell_type": "markdown",
   "metadata": {},
   "source": [
    "### Model 3"
   ]
  },
  {
   "cell_type": "code",
   "execution_count": 42,
   "metadata": {},
   "outputs": [
    {
     "name": "stdout",
     "output_type": "stream",
     "text": [
      "Estimating biases using als...\n",
      "Computing the msd similarity matrix...\n",
      "Done computing similarity matrix.\n",
      "Estimating biases using als...\n",
      "Computing the msd similarity matrix...\n",
      "Done computing similarity matrix.\n",
      "Estimating biases using als...\n",
      "Computing the msd similarity matrix...\n",
      "Done computing similarity matrix.\n",
      "Estimating biases using als...\n",
      "Computing the msd similarity matrix...\n",
      "Done computing similarity matrix.\n",
      "Estimating biases using als...\n",
      "Computing the msd similarity matrix...\n",
      "Done computing similarity matrix.\n",
      "Estimating biases using als...\n",
      "Computing the msd similarity matrix...\n",
      "Done computing similarity matrix.\n",
      "Estimating biases using als...\n",
      "Computing the msd similarity matrix...\n",
      "Done computing similarity matrix.\n",
      "Estimating biases using als...\n",
      "Computing the msd similarity matrix...\n",
      "Done computing similarity matrix.\n",
      "Estimating biases using als...\n",
      "Computing the msd similarity matrix...\n",
      "Done computing similarity matrix.\n",
      "Estimating biases using als...\n",
      "Computing the msd similarity matrix...\n",
      "Done computing similarity matrix.\n",
      "Estimating biases using als...\n",
      "Computing the msd similarity matrix...\n",
      "Done computing similarity matrix.\n",
      "Estimating biases using als...\n",
      "Computing the msd similarity matrix...\n",
      "Done computing similarity matrix.\n",
      "Estimating biases using als...\n",
      "Computing the msd similarity matrix...\n",
      "Done computing similarity matrix.\n",
      "Estimating biases using als...\n",
      "Computing the msd similarity matrix...\n",
      "Done computing similarity matrix.\n",
      "Estimating biases using als...\n",
      "Computing the msd similarity matrix...\n",
      "Done computing similarity matrix.\n",
      "Estimating biases using als...\n",
      "Computing the msd similarity matrix...\n",
      "Done computing similarity matrix.\n",
      "Estimating biases using als...\n",
      "Computing the msd similarity matrix...\n",
      "Done computing similarity matrix.\n",
      "Estimating biases using als...\n",
      "Computing the msd similarity matrix...\n",
      "Done computing similarity matrix.\n",
      "Estimating biases using als...\n",
      "Computing the msd similarity matrix...\n",
      "Done computing similarity matrix.\n",
      "Estimating biases using als...\n",
      "Computing the msd similarity matrix...\n",
      "Done computing similarity matrix.\n",
      "Estimating biases using als...\n",
      "Computing the msd similarity matrix...\n",
      "Done computing similarity matrix.\n",
      "Estimating biases using als...\n",
      "Computing the msd similarity matrix...\n",
      "Done computing similarity matrix.\n",
      "Estimating biases using als...\n",
      "Computing the msd similarity matrix...\n",
      "Done computing similarity matrix.\n",
      "Estimating biases using als...\n",
      "Computing the msd similarity matrix...\n",
      "Done computing similarity matrix.\n",
      "Estimating biases using als...\n",
      "Computing the msd similarity matrix...\n",
      "Done computing similarity matrix.\n",
      "Estimating biases using als...\n",
      "Computing the msd similarity matrix...\n",
      "Done computing similarity matrix.\n",
      "Estimating biases using als...\n",
      "Computing the msd similarity matrix...\n",
      "Done computing similarity matrix.\n",
      "Estimating biases using als...\n",
      "Computing the msd similarity matrix...\n",
      "Done computing similarity matrix.\n",
      "Estimating biases using als...\n",
      "Computing the msd similarity matrix...\n",
      "Done computing similarity matrix.\n",
      "Estimating biases using als...\n",
      "Computing the msd similarity matrix...\n",
      "Done computing similarity matrix.\n",
      "Estimating biases using als...\n",
      "Computing the msd similarity matrix...\n",
      "Done computing similarity matrix.\n",
      "Estimating biases using als...\n",
      "Computing the msd similarity matrix...\n",
      "Done computing similarity matrix.\n",
      "Estimating biases using als...\n",
      "Computing the msd similarity matrix...\n",
      "Done computing similarity matrix.\n",
      "Estimating biases using als...\n",
      "Computing the msd similarity matrix...\n",
      "Done computing similarity matrix.\n",
      "Estimating biases using als...\n",
      "Computing the msd similarity matrix...\n",
      "Done computing similarity matrix.\n",
      "Estimating biases using als...\n",
      "Computing the msd similarity matrix...\n",
      "Done computing similarity matrix.\n",
      "Estimating biases using als...\n",
      "Computing the msd similarity matrix...\n",
      "Done computing similarity matrix.\n",
      "Estimating biases using als...\n",
      "Computing the msd similarity matrix...\n",
      "Done computing similarity matrix.\n",
      "Estimating biases using als...\n",
      "Computing the msd similarity matrix...\n",
      "Done computing similarity matrix.\n",
      "Estimating biases using als...\n",
      "Computing the msd similarity matrix...\n",
      "Done computing similarity matrix.\n",
      "Estimating biases using als...\n",
      "Computing the msd similarity matrix...\n",
      "Done computing similarity matrix.\n",
      "Estimating biases using als...\n",
      "Computing the msd similarity matrix...\n",
      "Done computing similarity matrix.\n",
      "Estimating biases using als...\n",
      "Computing the msd similarity matrix...\n",
      "Done computing similarity matrix.\n",
      "Estimating biases using als...\n",
      "Computing the msd similarity matrix...\n",
      "Done computing similarity matrix.\n",
      "Estimating biases using als...\n",
      "Computing the msd similarity matrix...\n",
      "Done computing similarity matrix.\n",
      "Estimating biases using als...\n",
      "Computing the msd similarity matrix...\n",
      "Done computing similarity matrix.\n",
      "Estimating biases using als...\n",
      "Computing the msd similarity matrix...\n",
      "Done computing similarity matrix.\n",
      "Estimating biases using als...\n",
      "Computing the msd similarity matrix...\n",
      "Done computing similarity matrix.\n"
     ]
    }
   ],
   "source": [
    "#Apply KNN GridSearch parameters on the KNNBaseline model \n",
    "gsknnbaseline = GridSearchCV(KNNBaseline, knn_params, measures=['rmse', 'mae'], cv=3)\n",
    "gsknnbaseline.fit(data)"
   ]
  },
  {
   "cell_type": "code",
   "execution_count": 43,
   "metadata": {},
   "outputs": [
    {
     "name": "stdout",
     "output_type": "stream",
     "text": [
      "{'rmse': 0.9178782974217485, 'mae': 0.7292162720147898}\n",
      "{'rmse': {'name': 'cosine', 'user_based': True, 'min_support': True, 'min_k': 1}, 'mae': {'name': 'cosine', 'user_based': True, 'min_support': True, 'min_k': 1}}\n"
     ]
    }
   ],
   "source": [
    "#Display the best score and the best parameters \n",
    "print(gsknnbaseline.best_score)\n",
    "print(gsknnbaseline.best_params)"
   ]
  },
  {
   "cell_type": "code",
   "execution_count": 44,
   "metadata": {},
   "outputs": [],
   "source": [
    "#Reinstantiate the model with the best parameters from GridSearch \n",
    "knnbaseline_tuned = KNNBaseline(sim_options={'name': 'cosine', \n",
    "                                       'user_based': True, \n",
    "                                       'min_support':True, \n",
    "                                       'min_k':1, })"
   ]
  },
  {
   "cell_type": "code",
   "execution_count": 45,
   "metadata": {},
   "outputs": [
    {
     "name": "stdout",
     "output_type": "stream",
     "text": [
      "Estimating biases using als...\n",
      "Computing the cosine similarity matrix...\n",
      "Done computing similarity matrix.\n"
     ]
    }
   ],
   "source": [
    "#fit the trainset and predict on the test set \n",
    "knnbaseline_tuned.fit(trainset)\n",
    "knnbaselinepreds = knnbaseline_tuned.test(testset)"
   ]
  },
  {
   "cell_type": "code",
   "execution_count": 46,
   "metadata": {},
   "outputs": [
    {
     "name": "stdout",
     "output_type": "stream",
     "text": [
      "RMSE: 0.9075\n",
      "MAE:  0.7198\n"
     ]
    },
    {
     "data": {
      "text/plain": [
       "0.7198343981573058"
      ]
     },
     "execution_count": 46,
     "metadata": {},
     "output_type": "execute_result"
    }
   ],
   "source": [
    "#Print the RMSE and MAE scores \n",
    "accuracy.rmse(knnbaselinepreds)\n",
    "accuracy.mae(knnbaselinepreds)"
   ]
  },
  {
   "cell_type": "code",
   "execution_count": 47,
   "metadata": {},
   "outputs": [
    {
     "name": "stdout",
     "output_type": "stream",
     "text": [
      "Estimating biases using als...\n",
      "Computing the cosine similarity matrix...\n",
      "Done computing similarity matrix.\n",
      "Estimating biases using als...\n",
      "Computing the cosine similarity matrix...\n",
      "Done computing similarity matrix.\n",
      "Estimating biases using als...\n",
      "Computing the cosine similarity matrix...\n",
      "Done computing similarity matrix.\n",
      "Evaluating RMSE, MAE of algorithm KNNBaseline on 3 split(s).\n",
      "\n",
      "                  Fold 1  Fold 2  Fold 3  Mean    Std     \n",
      "RMSE (testset)    0.9186  0.9165  0.9170  0.9174  0.0009  \n",
      "MAE (testset)     0.7285  0.7221  0.7363  0.7290  0.0058  \n",
      "Fit time          0.08    0.07    0.06    0.07    0.01    \n",
      "Test time         0.03    0.03    0.02    0.02    0.00    \n"
     ]
    }
   ],
   "source": [
    "#Perform 3 fold cross validation \n",
    "cv_knn_baseline = cross_validate(knnbaseline_tuned, data, measures=['RMSE', 'MAE'], cv=3, verbose=True)"
   ]
  },
  {
   "cell_type": "code",
   "execution_count": 48,
   "metadata": {},
   "outputs": [
    {
     "data": {
      "text/plain": [
       "0.9173791057356828"
      ]
     },
     "execution_count": 48,
     "metadata": {},
     "output_type": "execute_result"
    }
   ],
   "source": [
    "#Show the mean RMSE score for the test set \n",
    "np.mean(cv_knn_baseline['test_rmse'])"
   ]
  },
  {
   "cell_type": "markdown",
   "metadata": {},
   "source": [
    "### Model 4"
   ]
  },
  {
   "cell_type": "markdown",
   "metadata": {},
   "source": [
    "Our final model will look at the KNN Wtih Means algorithm, and apply a GridSearch similar to the KNN models above to tune our hyperparameters further."
   ]
  },
  {
   "cell_type": "code",
   "execution_count": 49,
   "metadata": {
    "scrolled": true
   },
   "outputs": [
    {
     "name": "stdout",
     "output_type": "stream",
     "text": [
      "Computing the msd similarity matrix...\n",
      "Done computing similarity matrix.\n",
      "Computing the msd similarity matrix...\n",
      "Done computing similarity matrix.\n",
      "Computing the msd similarity matrix...\n",
      "Done computing similarity matrix.\n",
      "Computing the msd similarity matrix...\n",
      "Done computing similarity matrix.\n",
      "Computing the msd similarity matrix...\n",
      "Done computing similarity matrix.\n",
      "Computing the msd similarity matrix...\n",
      "Done computing similarity matrix.\n",
      "Computing the msd similarity matrix...\n",
      "Done computing similarity matrix.\n",
      "Computing the msd similarity matrix...\n",
      "Done computing similarity matrix.\n",
      "Computing the msd similarity matrix...\n",
      "Done computing similarity matrix.\n",
      "Computing the msd similarity matrix...\n",
      "Done computing similarity matrix.\n",
      "Computing the msd similarity matrix...\n",
      "Done computing similarity matrix.\n",
      "Computing the msd similarity matrix...\n",
      "Done computing similarity matrix.\n",
      "Computing the msd similarity matrix...\n",
      "Done computing similarity matrix.\n",
      "Computing the msd similarity matrix...\n",
      "Done computing similarity matrix.\n",
      "Computing the msd similarity matrix...\n",
      "Done computing similarity matrix.\n",
      "Computing the msd similarity matrix...\n",
      "Done computing similarity matrix.\n",
      "Computing the msd similarity matrix...\n",
      "Done computing similarity matrix.\n",
      "Computing the msd similarity matrix...\n",
      "Done computing similarity matrix.\n",
      "Computing the msd similarity matrix...\n",
      "Done computing similarity matrix.\n",
      "Computing the msd similarity matrix...\n",
      "Done computing similarity matrix.\n",
      "Computing the msd similarity matrix...\n",
      "Done computing similarity matrix.\n",
      "Computing the msd similarity matrix...\n",
      "Done computing similarity matrix.\n",
      "Computing the msd similarity matrix...\n",
      "Done computing similarity matrix.\n",
      "Computing the msd similarity matrix...\n",
      "Done computing similarity matrix.\n",
      "Computing the msd similarity matrix...\n",
      "Done computing similarity matrix.\n",
      "Computing the msd similarity matrix...\n",
      "Done computing similarity matrix.\n",
      "Computing the msd similarity matrix...\n",
      "Done computing similarity matrix.\n",
      "Computing the msd similarity matrix...\n",
      "Done computing similarity matrix.\n",
      "Computing the msd similarity matrix...\n",
      "Done computing similarity matrix.\n",
      "Computing the msd similarity matrix...\n",
      "Done computing similarity matrix.\n",
      "Computing the msd similarity matrix...\n",
      "Done computing similarity matrix.\n",
      "Computing the msd similarity matrix...\n",
      "Done computing similarity matrix.\n",
      "Computing the msd similarity matrix...\n",
      "Done computing similarity matrix.\n",
      "Computing the msd similarity matrix...\n",
      "Done computing similarity matrix.\n",
      "Computing the msd similarity matrix...\n",
      "Done computing similarity matrix.\n",
      "Computing the msd similarity matrix...\n",
      "Done computing similarity matrix.\n",
      "Computing the msd similarity matrix...\n",
      "Done computing similarity matrix.\n",
      "Computing the msd similarity matrix...\n",
      "Done computing similarity matrix.\n",
      "Computing the msd similarity matrix...\n",
      "Done computing similarity matrix.\n",
      "Computing the msd similarity matrix...\n",
      "Done computing similarity matrix.\n",
      "Computing the msd similarity matrix...\n",
      "Done computing similarity matrix.\n",
      "Computing the msd similarity matrix...\n",
      "Done computing similarity matrix.\n",
      "Computing the msd similarity matrix...\n",
      "Done computing similarity matrix.\n",
      "Computing the msd similarity matrix...\n",
      "Done computing similarity matrix.\n",
      "Computing the msd similarity matrix...\n",
      "Done computing similarity matrix.\n",
      "Computing the msd similarity matrix...\n",
      "Done computing similarity matrix.\n",
      "Computing the msd similarity matrix...\n",
      "Done computing similarity matrix.\n",
      "Computing the msd similarity matrix...\n",
      "Done computing similarity matrix.\n"
     ]
    }
   ],
   "source": [
    "#Apply GridSearch to the KNNWithMeans model \n",
    "gsknnWM = GridSearchCV(KNNWithMeans, knn_params, measures=['rmse', 'mae'], cv=3)\n",
    "gsknnWM.fit(data)"
   ]
  },
  {
   "cell_type": "code",
   "execution_count": 50,
   "metadata": {},
   "outputs": [
    {
     "name": "stdout",
     "output_type": "stream",
     "text": [
      "{'rmse': 0.9819834425705305, 'mae': 0.7897893156828704}\n",
      "{'rmse': {'name': 'cosine', 'user_based': True, 'min_support': True, 'min_k': 1}, 'mae': {'name': 'cosine', 'user_based': True, 'min_support': True, 'min_k': 1}}\n"
     ]
    }
   ],
   "source": [
    "#Display the best score and best parameters from GridSearch \n",
    "print(gsknnWM.best_score)\n",
    "print(gsknnWM.best_params)"
   ]
  },
  {
   "cell_type": "code",
   "execution_count": 51,
   "metadata": {},
   "outputs": [],
   "source": [
    "#Reinstansiate the model with the best parameters \n",
    "knnwm_tuned = KNNWithMeans(sim_options={'name': 'cosine', \n",
    "                                       'user_based': True, \n",
    "                                       'min_support':True, \n",
    "                                       'min_k':1, })"
   ]
  },
  {
   "cell_type": "code",
   "execution_count": 52,
   "metadata": {},
   "outputs": [
    {
     "name": "stdout",
     "output_type": "stream",
     "text": [
      "Computing the cosine similarity matrix...\n",
      "Done computing similarity matrix.\n"
     ]
    }
   ],
   "source": [
    "#Fit on the trainset, predict on the testset \n",
    "knnwm_tuned.fit(trainset)\n",
    "knnwmpreds = knnwm_tuned.test(testset)"
   ]
  },
  {
   "cell_type": "code",
   "execution_count": 53,
   "metadata": {},
   "outputs": [
    {
     "name": "stdout",
     "output_type": "stream",
     "text": [
      "RMSE: 0.9786\n",
      "MAE:  0.7848\n"
     ]
    },
    {
     "data": {
      "text/plain": [
       "0.7847530864197529"
      ]
     },
     "execution_count": 53,
     "metadata": {},
     "output_type": "execute_result"
    }
   ],
   "source": [
    "#Print RMSE and MAE results\n",
    "accuracy.rmse(knnwmpreds)\n",
    "accuracy.mae(knnwmpreds)"
   ]
  },
  {
   "cell_type": "code",
   "execution_count": 54,
   "metadata": {},
   "outputs": [
    {
     "name": "stdout",
     "output_type": "stream",
     "text": [
      "Computing the cosine similarity matrix...\n",
      "Done computing similarity matrix.\n",
      "Computing the cosine similarity matrix...\n",
      "Done computing similarity matrix.\n",
      "Computing the cosine similarity matrix...\n",
      "Done computing similarity matrix.\n",
      "Evaluating RMSE, MAE of algorithm KNNWithMeans on 3 split(s).\n",
      "\n",
      "                  Fold 1  Fold 2  Fold 3  Mean    Std     \n",
      "RMSE (testset)    0.9768  0.9856  0.9836  0.9820  0.0038  \n",
      "MAE (testset)     0.7809  0.7942  0.7945  0.7899  0.0063  \n",
      "Fit time          0.05    0.07    0.06    0.06    0.01    \n",
      "Test time         0.02    0.02    0.03    0.02    0.00    \n"
     ]
    }
   ],
   "source": [
    "#Perform 3-Fold cross validation on KNNWithMeans model \n",
    "cv_knn_wm = cross_validate(knnwm_tuned, data, measures=['RMSE', 'MAE'], cv=3, verbose=True)"
   ]
  },
  {
   "cell_type": "code",
   "execution_count": 55,
   "metadata": {},
   "outputs": [
    {
     "data": {
      "text/plain": [
       "0.9820225591179222"
      ]
     },
     "execution_count": 55,
     "metadata": {},
     "output_type": "execute_result"
    }
   ],
   "source": [
    "#Print the average RMSE score for the test set \n",
    "np.mean(cv_knn_wm['test_rmse'])"
   ]
  },
  {
   "cell_type": "markdown",
   "metadata": {},
   "source": [
    "## All Results"
   ]
  },
  {
   "cell_type": "code",
   "execution_count": 56,
   "metadata": {},
   "outputs": [
    {
     "name": "stdout",
     "output_type": "stream",
     "text": [
      "RMSE: 0.8857\n",
      "MAE:  0.7002\n",
      "RMSE: 0.8403\n",
      "MAE:  0.6576\n",
      "RMSE: 0.9786\n",
      "MAE:  0.7848\n",
      "RMSE: 0.9075\n",
      "MAE:  0.7198\n",
      "RMSE: 0.9786\n",
      "MAE:  0.7848\n"
     ]
    }
   ],
   "source": [
    "#Create a dictionary for each models' results \n",
    "baselineresult = {'model': 'baseline','RMSE': accuracy.rmse(baselinepreds), 'MAE': accuracy.mae(baselinepreds), 'CV': np.mean(cv_baseline['test_rmse'])}\n",
    "svdresult = {'model':'svd', 'RMSE': accuracy.rmse(svdpreds), 'MAE': accuracy.mae(svdpreds), 'CV': np.mean(cv_svd_tuned['test_rmse'])}\n",
    "knnbasicresult = {'model':'knnbasic','RMSE': accuracy.rmse(knnbpreds), 'MAE': accuracy.mae(knnbpreds), 'CV': np.mean(cv_knn_basic['test_rmse'])}\n",
    "knnbaselineresult = {'model':'knnbaseline','RMSE': accuracy.rmse(knnbaselinepreds), 'MAE': accuracy.mae(knnbaselinepreds), 'CV': np.mean(cv_knn_baseline['test_rmse'])}\n",
    "knnwmresult = {'model':'knnwm','RMSE': accuracy.rmse(knnwmpreds), 'MAE': accuracy.mae(knnwmpreds), 'CV': np.mean(cv_knn_wm['test_rmse'])}"
   ]
  },
  {
   "cell_type": "code",
   "execution_count": 57,
   "metadata": {},
   "outputs": [],
   "source": [
    "#Combine all the results into a list \n",
    "result_list = [baselineresult, svdresult, knnbasicresult, knnbaselineresult, knnwmresult]"
   ]
  },
  {
   "cell_type": "code",
   "execution_count": 58,
   "metadata": {},
   "outputs": [],
   "source": [
    "#Transform the results lists into a DataFrame \n",
    "df_results_updated = pd.DataFrame.from_dict(result_list, orient='columns')\n",
    "df_results_updated = df_results_updated.set_index('model')"
   ]
  },
  {
   "cell_type": "code",
   "execution_count": 59,
   "metadata": {},
   "outputs": [
    {
     "data": {
      "text/html": [
       "<div>\n",
       "<style scoped>\n",
       "    .dataframe tbody tr th:only-of-type {\n",
       "        vertical-align: middle;\n",
       "    }\n",
       "\n",
       "    .dataframe tbody tr th {\n",
       "        vertical-align: top;\n",
       "    }\n",
       "\n",
       "    .dataframe thead th {\n",
       "        text-align: right;\n",
       "    }\n",
       "</style>\n",
       "<table border=\"1\" class=\"dataframe\">\n",
       "  <thead>\n",
       "    <tr style=\"text-align: right;\">\n",
       "      <th></th>\n",
       "      <th>RMSE</th>\n",
       "      <th>MAE</th>\n",
       "      <th>CV</th>\n",
       "    </tr>\n",
       "    <tr>\n",
       "      <th>model</th>\n",
       "      <th></th>\n",
       "      <th></th>\n",
       "      <th></th>\n",
       "    </tr>\n",
       "  </thead>\n",
       "  <tbody>\n",
       "    <tr>\n",
       "      <th>baseline</th>\n",
       "      <td>0.885673</td>\n",
       "      <td>0.700174</td>\n",
       "      <td>0.898905</td>\n",
       "    </tr>\n",
       "    <tr>\n",
       "      <th>svd</th>\n",
       "      <td>0.840344</td>\n",
       "      <td>0.657591</td>\n",
       "      <td>0.865800</td>\n",
       "    </tr>\n",
       "    <tr>\n",
       "      <th>knnbasic</th>\n",
       "      <td>0.978584</td>\n",
       "      <td>0.784753</td>\n",
       "      <td>0.982725</td>\n",
       "    </tr>\n",
       "    <tr>\n",
       "      <th>knnbaseline</th>\n",
       "      <td>0.907467</td>\n",
       "      <td>0.719834</td>\n",
       "      <td>0.917379</td>\n",
       "    </tr>\n",
       "    <tr>\n",
       "      <th>knnwm</th>\n",
       "      <td>0.978584</td>\n",
       "      <td>0.784753</td>\n",
       "      <td>0.982023</td>\n",
       "    </tr>\n",
       "  </tbody>\n",
       "</table>\n",
       "</div>"
      ],
      "text/plain": [
       "                 RMSE       MAE        CV\n",
       "model                                    \n",
       "baseline     0.885673  0.700174  0.898905\n",
       "svd          0.840344  0.657591  0.865800\n",
       "knnbasic     0.978584  0.784753  0.982725\n",
       "knnbaseline  0.907467  0.719834  0.917379\n",
       "knnwm        0.978584  0.784753  0.982023"
      ]
     },
     "execution_count": 59,
     "metadata": {},
     "output_type": "execute_result"
    }
   ],
   "source": [
    "#Display the results for all of the models \n",
    "df_results_updated"
   ]
  },
  {
   "cell_type": "markdown",
   "metadata": {},
   "source": [
    "Our results show that only the SVD model performs better than the baseline, in terms of RMSE, MAE, and CV. Going forward, this is the model we will use for our recommendation system, as the KNN models in this circumstance all produce higher error results."
   ]
  },
  {
   "cell_type": "markdown",
   "metadata": {},
   "source": [
    "### Generating New Ratings"
   ]
  },
  {
   "cell_type": "code",
   "execution_count": 60,
   "metadata": {},
   "outputs": [],
   "source": [
    "#Define function that can generate new user movie ratings \n",
    "def song_rater(song_df,num, genre=None):\n",
    "    #Create new artist with artist_id = 1000\n",
    "    artistid = 1000\n",
    "    \n",
    "    #Create an empty list of ratings \n",
    "    rating_list = []\n",
    "    \n",
    "    #For all number of ratings, provide a random movie sample within the specified genre for the user to rate \n",
    "    while num > 0:\n",
    "        if genre:\n",
    "            song = song_df[song_df['genrecategory'].str.contains(genre)].sample(1)\n",
    "        else:\n",
    "            song = song_df.sample(1)\n",
    "        print(song)\n",
    "    \n",
    "    #Provide user with a prompt to rate the movie, then print the userID, movieID, then title, then append \n",
    "    #results to the rating_list \n",
    "        rating = input('How do you rate this song on a scale of 1-5, press n if you have not listened to it :\\n')\n",
    "        if rating == 'n':\n",
    "            continue\n",
    "        else:\n",
    "            rating_one_song = {'artist_id':artistid, 'track_id':song['track_id'].values[0], \n",
    "                               'ratings':rating,'track_name':song['track_name'],\n",
    "                                'artist':song['artist'].values[0], \n",
    "                               'genrecategory':song['genrecategory'].values[0]}\n",
    "            rating_list.append(rating_one_song) \n",
    "            num -= 1\n",
    "    return rating_list"
   ]
  },
  {
   "cell_type": "code",
   "execution_count": 61,
   "metadata": {
    "scrolled": true
   },
   "outputs": [
    {
     "data": {
      "text/html": [
       "<div>\n",
       "<style scoped>\n",
       "    .dataframe tbody tr th:only-of-type {\n",
       "        vertical-align: middle;\n",
       "    }\n",
       "\n",
       "    .dataframe tbody tr th {\n",
       "        vertical-align: top;\n",
       "    }\n",
       "\n",
       "    .dataframe thead th {\n",
       "        text-align: right;\n",
       "    }\n",
       "</style>\n",
       "<table border=\"1\" class=\"dataframe\">\n",
       "  <thead>\n",
       "    <tr style=\"text-align: right;\">\n",
       "      <th></th>\n",
       "      <th>artist_id</th>\n",
       "      <th>track_id</th>\n",
       "      <th>ratings</th>\n",
       "      <th>track_name</th>\n",
       "      <th>artist</th>\n",
       "      <th>genrecategory</th>\n",
       "    </tr>\n",
       "  </thead>\n",
       "  <tbody>\n",
       "    <tr>\n",
       "      <th>0</th>\n",
       "      <td>6jJ0s89eD6GaHleKKya26X</td>\n",
       "      <td>4lCv7b86sLynZbXhfScfm2</td>\n",
       "      <td>4</td>\n",
       "      <td>Firework</td>\n",
       "      <td>Katy Perry</td>\n",
       "      <td>dance</td>\n",
       "    </tr>\n",
       "    <tr>\n",
       "      <th>1</th>\n",
       "      <td>6jJ0s89eD6GaHleKKya26X</td>\n",
       "      <td>6tS3XVuOyu10897O3ae7bi</td>\n",
       "      <td>4</td>\n",
       "      <td>California Gurls</td>\n",
       "      <td>Katy Perry</td>\n",
       "      <td>dance</td>\n",
       "    </tr>\n",
       "    <tr>\n",
       "      <th>2</th>\n",
       "      <td>6jJ0s89eD6GaHleKKya26X</td>\n",
       "      <td>455AfCsOhhLPRc68sE01D8</td>\n",
       "      <td>4</td>\n",
       "      <td>Last Friday Night (T.G.I.F.)</td>\n",
       "      <td>Katy Perry</td>\n",
       "      <td>dance</td>\n",
       "    </tr>\n",
       "    <tr>\n",
       "      <th>3</th>\n",
       "      <td>6jJ0s89eD6GaHleKKya26X</td>\n",
       "      <td>14iN3o8ptQ8cFVZTEmyQRV</td>\n",
       "      <td>4</td>\n",
       "      <td>I Kissed A Girl</td>\n",
       "      <td>Katy Perry</td>\n",
       "      <td>dance</td>\n",
       "    </tr>\n",
       "    <tr>\n",
       "      <th>4</th>\n",
       "      <td>6jJ0s89eD6GaHleKKya26X</td>\n",
       "      <td>1nZzRJbFvCEct3uzu04ZoL</td>\n",
       "      <td>4</td>\n",
       "      <td>Part Of Me</td>\n",
       "      <td>Katy Perry</td>\n",
       "      <td>dance</td>\n",
       "    </tr>\n",
       "  </tbody>\n",
       "</table>\n",
       "</div>"
      ],
      "text/plain": [
       "                artist_id                track_id  ratings  \\\n",
       "0  6jJ0s89eD6GaHleKKya26X  4lCv7b86sLynZbXhfScfm2        4   \n",
       "1  6jJ0s89eD6GaHleKKya26X  6tS3XVuOyu10897O3ae7bi        4   \n",
       "2  6jJ0s89eD6GaHleKKya26X  455AfCsOhhLPRc68sE01D8        4   \n",
       "3  6jJ0s89eD6GaHleKKya26X  14iN3o8ptQ8cFVZTEmyQRV        4   \n",
       "4  6jJ0s89eD6GaHleKKya26X  1nZzRJbFvCEct3uzu04ZoL        4   \n",
       "\n",
       "                     track_name      artist genrecategory  \n",
       "0                      Firework  Katy Perry         dance  \n",
       "1              California Gurls  Katy Perry         dance  \n",
       "2  Last Friday Night (T.G.I.F.)  Katy Perry         dance  \n",
       "3               I Kissed A Girl  Katy Perry         dance  \n",
       "4                    Part Of Me  Katy Perry         dance  "
      ]
     },
     "execution_count": 61,
     "metadata": {},
     "output_type": "execute_result"
    }
   ],
   "source": [
    "#Select relevant columns for new dataframe \n",
    "dfnew = df[['artist_id', 'track_id', 'ratings', 'track_name', 'artist','genrecategory']]\n",
    "dfnew.head()"
   ]
  },
  {
   "cell_type": "code",
   "execution_count": 62,
   "metadata": {},
   "outputs": [
    {
     "name": "stdout",
     "output_type": "stream",
     "text": [
      "                   artist_id                track_id  ratings track_name  \\\n",
      "4975  6ssXMmc5EOUrauZxirM910  3oqBOAsqRMKUHc8MGx4o72        3      Death   \n",
      "\n",
      "          artist genrecategory  \n",
      "4975  White Lies         dance  \n",
      "How do you rate this song on a scale of 1-5, press n if you have not listened to it :\n",
      "3\n",
      "                   artist_id                track_id  ratings track_name  \\\n",
      "1087  0oeUpvxWsC8bWS6SnpU8b9  2s9M78CDrQDjB2D827XXr4        3     Higher   \n",
      "\n",
      "                    artist genrecategory  \n",
      "1087  The Naked And Famous         dance  \n",
      "How do you rate this song on a scale of 1-5, press n if you have not listened to it :\n",
      "2\n",
      "                   artist_id                track_id  ratings     track_name  \\\n",
      "2990  6VuMaDnrHyPL1p4EHjYLi7  2uEJanMvnA1dXgX1ASnPQm        3  One Call Away   \n",
      "\n",
      "            artist genrecategory  \n",
      "2990  Charlie Puth         dance  \n",
      "How do you rate this song on a scale of 1-5, press n if you have not listened to it :\n",
      "1\n"
     ]
    }
   ],
   "source": [
    "#Apply the song rater function to our new dataframe to generate new ratings \n",
    "artistrating = song_rater(dfnew, 3, 'dance')"
   ]
  },
  {
   "cell_type": "code",
   "execution_count": 63,
   "metadata": {},
   "outputs": [
    {
     "data": {
      "text/plain": [
       "[{'artist_id': 1000,\n",
       "  'track_id': '3oqBOAsqRMKUHc8MGx4o72',\n",
       "  'ratings': '3',\n",
       "  'track_name': 4975    Death\n",
       "  Name: track_name, dtype: object,\n",
       "  'artist': 'White Lies',\n",
       "  'genrecategory': 'dance'},\n",
       " {'artist_id': 1000,\n",
       "  'track_id': '2s9M78CDrQDjB2D827XXr4',\n",
       "  'ratings': '2',\n",
       "  'track_name': 1087    Higher\n",
       "  Name: track_name, dtype: object,\n",
       "  'artist': 'The Naked And Famous',\n",
       "  'genrecategory': 'dance'},\n",
       " {'artist_id': 1000,\n",
       "  'track_id': '2uEJanMvnA1dXgX1ASnPQm',\n",
       "  'ratings': '1',\n",
       "  'track_name': 2990    One Call Away\n",
       "  Name: track_name, dtype: object,\n",
       "  'artist': 'Charlie Puth',\n",
       "  'genrecategory': 'dance'}]"
      ]
     },
     "execution_count": 63,
     "metadata": {},
     "output_type": "execute_result"
    }
   ],
   "source": [
    "#investigate the response of the new ratings \n",
    "artistrating"
   ]
  },
  {
   "cell_type": "code",
   "execution_count": 64,
   "metadata": {},
   "outputs": [],
   "source": [
    "#Add new ratings to our existing DataFrame\n",
    "new_ratings_df = dataset.append(artistrating,ignore_index=True, sort=False)"
   ]
  },
  {
   "cell_type": "code",
   "execution_count": 65,
   "metadata": {},
   "outputs": [
    {
     "data": {
      "text/html": [
       "<div>\n",
       "<style scoped>\n",
       "    .dataframe tbody tr th:only-of-type {\n",
       "        vertical-align: middle;\n",
       "    }\n",
       "\n",
       "    .dataframe tbody tr th {\n",
       "        vertical-align: top;\n",
       "    }\n",
       "\n",
       "    .dataframe thead th {\n",
       "        text-align: right;\n",
       "    }\n",
       "</style>\n",
       "<table border=\"1\" class=\"dataframe\">\n",
       "  <thead>\n",
       "    <tr style=\"text-align: right;\">\n",
       "      <th></th>\n",
       "      <th>artist_id</th>\n",
       "      <th>track_id</th>\n",
       "      <th>ratings</th>\n",
       "    </tr>\n",
       "  </thead>\n",
       "  <tbody>\n",
       "    <tr>\n",
       "      <th>0</th>\n",
       "      <td>6jJ0s89eD6GaHleKKya26X</td>\n",
       "      <td>4lCv7b86sLynZbXhfScfm2</td>\n",
       "      <td>4</td>\n",
       "    </tr>\n",
       "    <tr>\n",
       "      <th>1</th>\n",
       "      <td>6jJ0s89eD6GaHleKKya26X</td>\n",
       "      <td>6tS3XVuOyu10897O3ae7bi</td>\n",
       "      <td>4</td>\n",
       "    </tr>\n",
       "    <tr>\n",
       "      <th>2</th>\n",
       "      <td>6jJ0s89eD6GaHleKKya26X</td>\n",
       "      <td>455AfCsOhhLPRc68sE01D8</td>\n",
       "      <td>4</td>\n",
       "    </tr>\n",
       "    <tr>\n",
       "      <th>3</th>\n",
       "      <td>6jJ0s89eD6GaHleKKya26X</td>\n",
       "      <td>14iN3o8ptQ8cFVZTEmyQRV</td>\n",
       "      <td>4</td>\n",
       "    </tr>\n",
       "    <tr>\n",
       "      <th>4</th>\n",
       "      <td>6jJ0s89eD6GaHleKKya26X</td>\n",
       "      <td>1nZzRJbFvCEct3uzu04ZoL</td>\n",
       "      <td>4</td>\n",
       "    </tr>\n",
       "  </tbody>\n",
       "</table>\n",
       "</div>"
      ],
      "text/plain": [
       "                artist_id                track_id ratings\n",
       "0  6jJ0s89eD6GaHleKKya26X  4lCv7b86sLynZbXhfScfm2       4\n",
       "1  6jJ0s89eD6GaHleKKya26X  6tS3XVuOyu10897O3ae7bi       4\n",
       "2  6jJ0s89eD6GaHleKKya26X  455AfCsOhhLPRc68sE01D8       4\n",
       "3  6jJ0s89eD6GaHleKKya26X  14iN3o8ptQ8cFVZTEmyQRV       4\n",
       "4  6jJ0s89eD6GaHleKKya26X  1nZzRJbFvCEct3uzu04ZoL       4"
      ]
     },
     "execution_count": 65,
     "metadata": {},
     "output_type": "execute_result"
    }
   ],
   "source": [
    "#Drop certain columns so our dataset is ready to be put into surprise \n",
    "new_ratings_df = new_ratings_df.drop(['track_name', 'artist', 'genrecategory'], axis=1)\n",
    "new_ratings_df.head()"
   ]
  },
  {
   "cell_type": "markdown",
   "metadata": {},
   "source": [
    "### Make Predictions with New Artist Ratings "
   ]
  },
  {
   "cell_type": "markdown",
   "metadata": {},
   "source": [
    "First, we will redo the same modeling process as above in order to find predictions for the above movies."
   ]
  },
  {
   "cell_type": "code",
   "execution_count": 66,
   "metadata": {},
   "outputs": [],
   "source": [
    "#Reinstantiate the dataset object with our new ratings dataframe \n",
    "new_data = Dataset.load_from_df(new_ratings_df,reader)"
   ]
  },
  {
   "cell_type": "code",
   "execution_count": 67,
   "metadata": {},
   "outputs": [
    {
     "data": {
      "text/plain": [
       "<surprise.prediction_algorithms.matrix_factorization.SVD at 0x7ff5adfc6160>"
      ]
     },
     "execution_count": 67,
     "metadata": {},
     "output_type": "execute_result"
    }
   ],
   "source": [
    "#Rerun the SVD model with the same hyperparameters as before\n",
    "svd_ = SVD(n_factors= 25, reg_all=0.01, n_epochs=60, lr_all=0.05)\n",
    "#Fit the new model\n",
    "svd_.fit(new_data.build_full_trainset())"
   ]
  },
  {
   "cell_type": "code",
   "execution_count": 68,
   "metadata": {},
   "outputs": [],
   "source": [
    "# make predictions for the user based on the artist id that was generated \n",
    "list_of_tracks = []\n",
    "for t_id in dataset['track_id'].unique():\n",
    "    list_of_tracks.append( (t_id,svd_.predict(1000,t_id)[3]))"
   ]
  },
  {
   "cell_type": "code",
   "execution_count": 107,
   "metadata": {},
   "outputs": [],
   "source": [
    "# make predictions for the user based on the artist id that was generated \n",
    "list_of_tracks = []\n",
    "for t_id in new_ratings_df['track_id'].unique():\n",
    "    list_of_tracks.append( (t_id,svd_.predict(1000,t_id)[3]))"
   ]
  },
  {
   "cell_type": "code",
   "execution_count": 111,
   "metadata": {},
   "outputs": [],
   "source": [
    "# order the predictions from highest to lowest rated\n",
    "ranked_tracks = sorted(list_of_tracks, key=lambda x:x[1], reverse=True)"
   ]
  },
  {
   "cell_type": "code",
   "execution_count": 113,
   "metadata": {
    "scrolled": false
   },
   "outputs": [
    {
     "name": "stdout",
     "output_type": "stream",
     "text": [
      "Recommendation #  1 :  [['Let Her Go' 'Passenger']] \n",
      "\n",
      "Recommendation #  2 :  [['Everybody Wants To Rule The World' 'Tears For Fears']] \n",
      "\n",
      "Recommendation #  3 :  [['Rockabye (feat. Sean Paul & Anne-Marie)' 'Clean Bandit']] \n",
      "\n",
      "Recommendation #  4 :  [['Little Do You Know' 'Alex & Sierra']] \n",
      "\n",
      "Recommendation #  5 :  [['Call Me Maybe' 'Carly Rae Jepsen']] \n",
      "\n"
     ]
    }
   ],
   "source": [
    "# Create a function to return the top n recommended tracks for the user \n",
    "def recommended_tracks(artistrating,track_title_df,n):\n",
    "        for idx, rec in enumerate(artistrating):\n",
    "            track_name = track_title_df.loc[track_title_df['track_id'] == (rec[0])][['track_name', 'artist']].values\n",
    "            print('Recommendation # ', idx+1, ': ', track_name, '\\n')\n",
    "            n-= 1\n",
    "            if n == 0:\n",
    "                break\n",
    "            \n",
    "recommended_tracks(ranked_tracks, dfnew, 5)"
   ]
  },
  {
   "cell_type": "markdown",
   "metadata": {},
   "source": [
    "# Models Using Predicted Ratings"
   ]
  },
  {
   "cell_type": "markdown",
   "metadata": {},
   "source": [
    "Through our classification model, by tuning XGBoost, I was able to build a model with predicted ratings as the proxy for ratings. I will now repeat the steps above that were conducted for the SVD model to see how this model performs and how/if the recommendation results differ."
   ]
  },
  {
   "cell_type": "code",
   "execution_count": 78,
   "metadata": {},
   "outputs": [],
   "source": [
    "#Import the predictions dataframe \n",
    "dfpreds = pd.read_csv('predictionsdf')"
   ]
  },
  {
   "cell_type": "code",
   "execution_count": 79,
   "metadata": {},
   "outputs": [],
   "source": [
    "#Extract relevant columns to use in surprise \n",
    "preds = dfpreds[['artist_id', 'track_id', 'predicted ratings']]"
   ]
  },
  {
   "cell_type": "code",
   "execution_count": 80,
   "metadata": {},
   "outputs": [],
   "source": [
    "#Re-nstansiate reader and data \n",
    "reader = Reader(rating_scale=(1, 5))\n",
    "preds_data = Dataset.load_from_df(preds, reader)"
   ]
  },
  {
   "cell_type": "code",
   "execution_count": 103,
   "metadata": {},
   "outputs": [],
   "source": [
    "trainset, testset = train_test_split(preds_data, test_size=.2)"
   ]
  },
  {
   "cell_type": "code",
   "execution_count": 81,
   "metadata": {},
   "outputs": [],
   "source": [
    "#Set parameters for GridSearch on SVD model \n",
    "parameters = {'n_factors': [25, 50, 75, 100],\n",
    "             'reg_all': [0.01, 0.02, 0.03, 0.04, 0.05],\n",
    "             'n_epochs': [20, 30, 40, 50, 60],\n",
    "             'lr_all': [.005, .01, .05, .1]}\n",
    "gridsvd2 = GridSearchCV(SVD, param_grid=parameters, n_jobs=-1)"
   ]
  },
  {
   "cell_type": "code",
   "execution_count": 141,
   "metadata": {},
   "outputs": [],
   "source": [
    "#Refit the model \n",
    "gridsvd2.fit(preds_data)"
   ]
  },
  {
   "cell_type": "code",
   "execution_count": 142,
   "metadata": {},
   "outputs": [
    {
     "name": "stdout",
     "output_type": "stream",
     "text": [
      "{'rmse': 0.24689911163065625, 'mae': 0.18738378654529492}\n",
      "{'rmse': {'n_factors': 25, 'reg_all': 0.01, 'n_epochs': 30, 'lr_all': 0.05}, 'mae': {'n_factors': 25, 'reg_all': 0.01, 'n_epochs': 50, 'lr_all': 0.05}}\n"
     ]
    }
   ],
   "source": [
    "#Print best score and best parameters from the GridSearch \n",
    "print(gridsvd2.best_score)\n",
    "print(gridsvd2.best_params)"
   ]
  },
  {
   "cell_type": "code",
   "execution_count": 104,
   "metadata": {},
   "outputs": [],
   "source": [
    "#Reinstantiate the model with the best parameters fromGridSearch \n",
    "svdtuned2 = SVD(n_factors=25,\n",
    "               reg_all=0.01,\n",
    "               n_epochs=20,\n",
    "               lr_all=0.1)"
   ]
  },
  {
   "cell_type": "code",
   "execution_count": 105,
   "metadata": {},
   "outputs": [],
   "source": [
    "#Fit and predict the model \n",
    "svdtuned2.fit(trainset)\n",
    "svdpreds2 = svdtuned2.test(testset)"
   ]
  },
  {
   "cell_type": "code",
   "execution_count": 106,
   "metadata": {},
   "outputs": [
    {
     "name": "stdout",
     "output_type": "stream",
     "text": [
      "RMSE: 0.2391\n",
      "MAE:  0.1805\n"
     ]
    },
    {
     "data": {
      "text/plain": [
       "0.180511686683097"
      ]
     },
     "execution_count": 106,
     "metadata": {},
     "output_type": "execute_result"
    }
   ],
   "source": [
    "#Print RMSE and MAE results \n",
    "accuracy.rmse(svdpreds2)\n",
    "accuracy.mae(svdpreds2)"
   ]
  },
  {
   "cell_type": "markdown",
   "metadata": {},
   "source": [
    "The RMSE is approx. 0.24 and MAE is 0.18; significantly stronger results to the SVD model with the integer ratings. The next step here would be to see how what tracks our recommendation system provides using these new ratings."
   ]
  },
  {
   "cell_type": "markdown",
   "metadata": {},
   "source": [
    "### Generating New Ratings for New Model "
   ]
  },
  {
   "cell_type": "code",
   "execution_count": 89,
   "metadata": {},
   "outputs": [
    {
     "data": {
      "text/html": [
       "<div>\n",
       "<style scoped>\n",
       "    .dataframe tbody tr th:only-of-type {\n",
       "        vertical-align: middle;\n",
       "    }\n",
       "\n",
       "    .dataframe tbody tr th {\n",
       "        vertical-align: top;\n",
       "    }\n",
       "\n",
       "    .dataframe thead th {\n",
       "        text-align: right;\n",
       "    }\n",
       "</style>\n",
       "<table border=\"1\" class=\"dataframe\">\n",
       "  <thead>\n",
       "    <tr style=\"text-align: right;\">\n",
       "      <th></th>\n",
       "      <th>Unnamed: 0</th>\n",
       "      <th>is_explicit</th>\n",
       "      <th>danceability</th>\n",
       "      <th>energy</th>\n",
       "      <th>key</th>\n",
       "      <th>loudness</th>\n",
       "      <th>mode</th>\n",
       "      <th>speechiness</th>\n",
       "      <th>acousticness</th>\n",
       "      <th>instrumentalness</th>\n",
       "      <th>...</th>\n",
       "      <th>genre_rap</th>\n",
       "      <th>genre_rock</th>\n",
       "      <th>genre_soul</th>\n",
       "      <th>predicted ratings</th>\n",
       "      <th>artist</th>\n",
       "      <th>artist_id</th>\n",
       "      <th>album</th>\n",
       "      <th>track_name</th>\n",
       "      <th>track_id</th>\n",
       "      <th>genrecategory</th>\n",
       "    </tr>\n",
       "  </thead>\n",
       "  <tbody>\n",
       "    <tr>\n",
       "      <th>0</th>\n",
       "      <td>0</td>\n",
       "      <td>0</td>\n",
       "      <td>0.638</td>\n",
       "      <td>0.826</td>\n",
       "      <td>8</td>\n",
       "      <td>-4.968</td>\n",
       "      <td>1</td>\n",
       "      <td>0.0479</td>\n",
       "      <td>0.13900</td>\n",
       "      <td>0.0</td>\n",
       "      <td>...</td>\n",
       "      <td>0</td>\n",
       "      <td>0</td>\n",
       "      <td>0</td>\n",
       "      <td>2.879912</td>\n",
       "      <td>Katy Perry</td>\n",
       "      <td>6jJ0s89eD6GaHleKKya26X</td>\n",
       "      <td>Katy Perry - Teenage Dream: The Complete Confe...</td>\n",
       "      <td>Firework</td>\n",
       "      <td>4lCv7b86sLynZbXhfScfm2</td>\n",
       "      <td>dance</td>\n",
       "    </tr>\n",
       "    <tr>\n",
       "      <th>1</th>\n",
       "      <td>1</td>\n",
       "      <td>0</td>\n",
       "      <td>0.791</td>\n",
       "      <td>0.754</td>\n",
       "      <td>0</td>\n",
       "      <td>-3.729</td>\n",
       "      <td>1</td>\n",
       "      <td>0.0569</td>\n",
       "      <td>0.00446</td>\n",
       "      <td>0.0</td>\n",
       "      <td>...</td>\n",
       "      <td>0</td>\n",
       "      <td>0</td>\n",
       "      <td>0</td>\n",
       "      <td>2.969021</td>\n",
       "      <td>Katy Perry</td>\n",
       "      <td>6jJ0s89eD6GaHleKKya26X</td>\n",
       "      <td>Katy Perry - Teenage Dream: The Complete Confe...</td>\n",
       "      <td>California Gurls</td>\n",
       "      <td>6tS3XVuOyu10897O3ae7bi</td>\n",
       "      <td>dance</td>\n",
       "    </tr>\n",
       "  </tbody>\n",
       "</table>\n",
       "<p>2 rows × 40 columns</p>\n",
       "</div>"
      ],
      "text/plain": [
       "   Unnamed: 0  is_explicit  danceability  energy  key  loudness  mode  \\\n",
       "0           0            0         0.638   0.826    8    -4.968     1   \n",
       "1           1            0         0.791   0.754    0    -3.729     1   \n",
       "\n",
       "   speechiness  acousticness  instrumentalness  ...  genre_rap  genre_rock  \\\n",
       "0       0.0479       0.13900               0.0  ...          0           0   \n",
       "1       0.0569       0.00446               0.0  ...          0           0   \n",
       "\n",
       "   genre_soul  predicted ratings      artist               artist_id  \\\n",
       "0           0           2.879912  Katy Perry  6jJ0s89eD6GaHleKKya26X   \n",
       "1           0           2.969021  Katy Perry  6jJ0s89eD6GaHleKKya26X   \n",
       "\n",
       "                                               album        track_name  \\\n",
       "0  Katy Perry - Teenage Dream: The Complete Confe...          Firework   \n",
       "1  Katy Perry - Teenage Dream: The Complete Confe...  California Gurls   \n",
       "\n",
       "                 track_id  genrecategory  \n",
       "0  4lCv7b86sLynZbXhfScfm2          dance  \n",
       "1  6tS3XVuOyu10897O3ae7bi          dance  \n",
       "\n",
       "[2 rows x 40 columns]"
      ]
     },
     "execution_count": 89,
     "metadata": {},
     "output_type": "execute_result"
    }
   ],
   "source": [
    "dfpreds.head(2)"
   ]
  },
  {
   "cell_type": "code",
   "execution_count": 86,
   "metadata": {},
   "outputs": [],
   "source": [
    "new_preds_rating = dfpreds[['artist_id', 'track_id', 'predicted ratings', 'track_name', 'artist','genrecategory']]"
   ]
  },
  {
   "cell_type": "code",
   "execution_count": 87,
   "metadata": {},
   "outputs": [
    {
     "name": "stdout",
     "output_type": "stream",
     "text": [
      "                   artist_id                track_id  predicted ratings  \\\n",
      "6811  2YcTXkrGXpftY9AR0BKEz0  4L2xR5yPVI6zdJhqVIznRE           2.637705   \n",
      "\n",
      "           track_name        artist genrecategory  \n",
      "6811  Hard Drive Home  Bailey Bryan       country  \n",
      "How do you rate this song on a scale of 1-5, press n if you have not listened to it :\n",
      "3\n",
      "                   artist_id                track_id  predicted ratings  \\\n",
      "1918  4xFUf1FHVy696Q1JQZMTRj  46W2wkCzFerbeQbNz3EIaa           2.539707   \n",
      "\n",
      "       track_name            artist genrecategory  \n",
      "1918  Smoke Break  Carrie Underwood       country  \n",
      "How do you rate this song on a scale of 1-5, press n if you have not listened to it :\n",
      "2.4\n",
      "                   artist_id                track_id  predicted ratings  \\\n",
      "4195  7z5WFjZAIYejWy0NI5lv4T  2IOvJJrN6RajoMOd9TyGra           2.635329   \n",
      "\n",
      "         track_name      artist genrecategory  \n",
      "4195  Road Trippin'  Dan + Shay       country  \n",
      "How do you rate this song on a scale of 1-5, press n if you have not listened to it :\n",
      "3.6\n"
     ]
    }
   ],
   "source": [
    "#Apply the song rater function to our new dataframe to generate new ratings \n",
    "artistrating2 = song_rater(new_preds_rating, 3, 'country')"
   ]
  },
  {
   "cell_type": "code",
   "execution_count": 88,
   "metadata": {},
   "outputs": [
    {
     "data": {
      "text/plain": [
       "[{'artist_id': 1000,\n",
       "  'track_id': '4L2xR5yPVI6zdJhqVIznRE',\n",
       "  'ratings': '3',\n",
       "  'track_name': 6811    Hard Drive Home\n",
       "  Name: track_name, dtype: object,\n",
       "  'artist': 'Bailey Bryan',\n",
       "  'genrecategory': 'country'},\n",
       " {'artist_id': 1000,\n",
       "  'track_id': '46W2wkCzFerbeQbNz3EIaa',\n",
       "  'ratings': '2.4',\n",
       "  'track_name': 1918    Smoke Break\n",
       "  Name: track_name, dtype: object,\n",
       "  'artist': 'Carrie Underwood',\n",
       "  'genrecategory': 'country'},\n",
       " {'artist_id': 1000,\n",
       "  'track_id': '2IOvJJrN6RajoMOd9TyGra',\n",
       "  'ratings': '3.6',\n",
       "  'track_name': 4195    Road Trippin'\n",
       "  Name: track_name, dtype: object,\n",
       "  'artist': 'Dan + Shay',\n",
       "  'genrecategory': 'country'}]"
      ]
     },
     "execution_count": 88,
     "metadata": {},
     "output_type": "execute_result"
    }
   ],
   "source": [
    "# Investigate new ratings \n",
    "artistrating2"
   ]
  },
  {
   "cell_type": "code",
   "execution_count": 90,
   "metadata": {},
   "outputs": [],
   "source": [
    "#Add new ratings to our existing DataFrame\n",
    "new_preds_df = dfpreds.append(artistrating2,ignore_index=True, sort=False)"
   ]
  },
  {
   "cell_type": "code",
   "execution_count": 92,
   "metadata": {},
   "outputs": [
    {
     "data": {
      "text/html": [
       "<div>\n",
       "<style scoped>\n",
       "    .dataframe tbody tr th:only-of-type {\n",
       "        vertical-align: middle;\n",
       "    }\n",
       "\n",
       "    .dataframe tbody tr th {\n",
       "        vertical-align: top;\n",
       "    }\n",
       "\n",
       "    .dataframe thead th {\n",
       "        text-align: right;\n",
       "    }\n",
       "</style>\n",
       "<table border=\"1\" class=\"dataframe\">\n",
       "  <thead>\n",
       "    <tr style=\"text-align: right;\">\n",
       "      <th></th>\n",
       "      <th>artist_id</th>\n",
       "      <th>track_id</th>\n",
       "      <th>predicted ratings</th>\n",
       "    </tr>\n",
       "  </thead>\n",
       "  <tbody>\n",
       "    <tr>\n",
       "      <th>0</th>\n",
       "      <td>6jJ0s89eD6GaHleKKya26X</td>\n",
       "      <td>4lCv7b86sLynZbXhfScfm2</td>\n",
       "      <td>2.879912</td>\n",
       "    </tr>\n",
       "    <tr>\n",
       "      <th>1</th>\n",
       "      <td>6jJ0s89eD6GaHleKKya26X</td>\n",
       "      <td>6tS3XVuOyu10897O3ae7bi</td>\n",
       "      <td>2.969021</td>\n",
       "    </tr>\n",
       "    <tr>\n",
       "      <th>2</th>\n",
       "      <td>6jJ0s89eD6GaHleKKya26X</td>\n",
       "      <td>455AfCsOhhLPRc68sE01D8</td>\n",
       "      <td>2.768275</td>\n",
       "    </tr>\n",
       "    <tr>\n",
       "      <th>3</th>\n",
       "      <td>6jJ0s89eD6GaHleKKya26X</td>\n",
       "      <td>14iN3o8ptQ8cFVZTEmyQRV</td>\n",
       "      <td>3.096658</td>\n",
       "    </tr>\n",
       "    <tr>\n",
       "      <th>4</th>\n",
       "      <td>6jJ0s89eD6GaHleKKya26X</td>\n",
       "      <td>1nZzRJbFvCEct3uzu04ZoL</td>\n",
       "      <td>2.780582</td>\n",
       "    </tr>\n",
       "  </tbody>\n",
       "</table>\n",
       "</div>"
      ],
      "text/plain": [
       "                artist_id                track_id  predicted ratings\n",
       "0  6jJ0s89eD6GaHleKKya26X  4lCv7b86sLynZbXhfScfm2           2.879912\n",
       "1  6jJ0s89eD6GaHleKKya26X  6tS3XVuOyu10897O3ae7bi           2.969021\n",
       "2  6jJ0s89eD6GaHleKKya26X  455AfCsOhhLPRc68sE01D8           2.768275\n",
       "3  6jJ0s89eD6GaHleKKya26X  14iN3o8ptQ8cFVZTEmyQRV           3.096658\n",
       "4  6jJ0s89eD6GaHleKKya26X  1nZzRJbFvCEct3uzu04ZoL           2.780582"
      ]
     },
     "execution_count": 92,
     "metadata": {},
     "output_type": "execute_result"
    }
   ],
   "source": [
    "#Drop certain columns so our dataset is ready to be put into surprise \n",
    "new_preds_df = new_preds_df[['artist_id', 'track_id', 'predicted ratings']]\n",
    "new_preds_df.head()"
   ]
  },
  {
   "cell_type": "markdown",
   "metadata": {},
   "source": [
    "### Making Recommendations on New Model"
   ]
  },
  {
   "cell_type": "code",
   "execution_count": 120,
   "metadata": {},
   "outputs": [],
   "source": [
    "#Reinstantiate the dataset object with our new ratings dataframe \n",
    "new_preds = Dataset.load_from_df(new_preds_df,reader)"
   ]
  },
  {
   "cell_type": "code",
   "execution_count": 121,
   "metadata": {},
   "outputs": [],
   "source": [
    "# make predictions for the user based on the artist id that was generated \n",
    "list_of_tracks = []\n",
    "for t_id in new_preds_df['track_id'].unique():\n",
    "    list_of_tracks.append( (t_id,svd_.predict(1000,t_id)[3]))"
   ]
  },
  {
   "cell_type": "code",
   "execution_count": 122,
   "metadata": {},
   "outputs": [],
   "source": [
    "# order the predictions from highest to lowest rated\n",
    "ranked_tracks = sorted(list_of_tracks, key=lambda x:x[1], reverse=True)"
   ]
  },
  {
   "cell_type": "code",
   "execution_count": 123,
   "metadata": {
    "scrolled": true
   },
   "outputs": [
    {
     "name": "stdout",
     "output_type": "stream",
     "text": [
      "Recommendation #  1 :  [['Let Her Go' 'Passenger']] \n",
      "\n",
      "Recommendation #  2 :  [['Everybody Wants To Rule The World' 'Tears For Fears']] \n",
      "\n",
      "Recommendation #  3 :  [['Rockabye (feat. Sean Paul & Anne-Marie)' 'Clean Bandit']] \n",
      "\n",
      "Recommendation #  4 :  [['Little Do You Know' 'Alex & Sierra']] \n",
      "\n",
      "Recommendation #  5 :  [['Call Me Maybe' 'Carly Rae Jepsen']] \n",
      "\n"
     ]
    }
   ],
   "source": [
    "recommended_tracks(ranked_tracks, dfpreds, 5)"
   ]
  },
  {
   "cell_type": "markdown",
   "metadata": {},
   "source": [
    "# Extracting Predictions for all Artists and Tracks"
   ]
  },
  {
   "cell_type": "markdown",
   "metadata": {},
   "source": [
    "Our final step in the process will be to create a Dataframe that includes all the estimated ratings for every combination of artist_id and track_id. Once this information is clearly presented in a Dataframe, we will be able to conduct some post-modeling EDA to determine how or if trends from our estimators differ from our original ratings."
   ]
  },
  {
   "cell_type": "code",
   "execution_count": 124,
   "metadata": {},
   "outputs": [],
   "source": [
    "#Create list of unique aritst_ids and track_ids \n",
    "artistids = new_preds_df['artist_id'].unique()\n",
    "trackids = new_preds_df['track_id'].unique()"
   ]
  },
  {
   "cell_type": "code",
   "execution_count": 125,
   "metadata": {},
   "outputs": [],
   "source": [
    "#Create a list and append the artist_id, , and estimated ratings \n",
    "estimations = [] \n",
    "for u in artistids:\n",
    "    for m in trackids:\n",
    "        predicted = svdtuned2.predict(u, m)\n",
    "        estimations.append([u, m, predicted[3]])"
   ]
  },
  {
   "cell_type": "code",
   "execution_count": 135,
   "metadata": {},
   "outputs": [],
   "source": [
    "#Convert the list to a dataframe\n",
    "df_estimated = pd.DataFrame(estimations)"
   ]
  },
  {
   "cell_type": "code",
   "execution_count": 136,
   "metadata": {},
   "outputs": [],
   "source": [
    "#rename columns of DataFrame \n",
    "df_estimated = df_estimated.rename(columns={0: 'artist_id', 1: 'track_id', 2:'estimatedrating'})"
   ]
  },
  {
   "cell_type": "code",
   "execution_count": 137,
   "metadata": {},
   "outputs": [
    {
     "data": {
      "text/html": [
       "<div>\n",
       "<style scoped>\n",
       "    .dataframe tbody tr th:only-of-type {\n",
       "        vertical-align: middle;\n",
       "    }\n",
       "\n",
       "    .dataframe tbody tr th {\n",
       "        vertical-align: top;\n",
       "    }\n",
       "\n",
       "    .dataframe thead th {\n",
       "        text-align: right;\n",
       "    }\n",
       "</style>\n",
       "<table border=\"1\" class=\"dataframe\">\n",
       "  <thead>\n",
       "    <tr style=\"text-align: right;\">\n",
       "      <th></th>\n",
       "      <th>artist_id</th>\n",
       "      <th>track_id</th>\n",
       "      <th>estimatedrating</th>\n",
       "    </tr>\n",
       "  </thead>\n",
       "  <tbody>\n",
       "    <tr>\n",
       "      <th>0</th>\n",
       "      <td>6jJ0s89eD6GaHleKKya26X</td>\n",
       "      <td>4lCv7b86sLynZbXhfScfm2</td>\n",
       "      <td>2.879891</td>\n",
       "    </tr>\n",
       "    <tr>\n",
       "      <th>1</th>\n",
       "      <td>6jJ0s89eD6GaHleKKya26X</td>\n",
       "      <td>6tS3XVuOyu10897O3ae7bi</td>\n",
       "      <td>2.962680</td>\n",
       "    </tr>\n",
       "    <tr>\n",
       "      <th>2</th>\n",
       "      <td>6jJ0s89eD6GaHleKKya26X</td>\n",
       "      <td>455AfCsOhhLPRc68sE01D8</td>\n",
       "      <td>2.776802</td>\n",
       "    </tr>\n",
       "    <tr>\n",
       "      <th>3</th>\n",
       "      <td>6jJ0s89eD6GaHleKKya26X</td>\n",
       "      <td>14iN3o8ptQ8cFVZTEmyQRV</td>\n",
       "      <td>3.089513</td>\n",
       "    </tr>\n",
       "    <tr>\n",
       "      <th>4</th>\n",
       "      <td>6jJ0s89eD6GaHleKKya26X</td>\n",
       "      <td>1nZzRJbFvCEct3uzu04ZoL</td>\n",
       "      <td>2.784924</td>\n",
       "    </tr>\n",
       "  </tbody>\n",
       "</table>\n",
       "</div>"
      ],
      "text/plain": [
       "                artist_id                track_id  estimatedrating\n",
       "0  6jJ0s89eD6GaHleKKya26X  4lCv7b86sLynZbXhfScfm2         2.879891\n",
       "1  6jJ0s89eD6GaHleKKya26X  6tS3XVuOyu10897O3ae7bi         2.962680\n",
       "2  6jJ0s89eD6GaHleKKya26X  455AfCsOhhLPRc68sE01D8         2.776802\n",
       "3  6jJ0s89eD6GaHleKKya26X  14iN3o8ptQ8cFVZTEmyQRV         3.089513\n",
       "4  6jJ0s89eD6GaHleKKya26X  1nZzRJbFvCEct3uzu04ZoL         2.784924"
      ]
     },
     "execution_count": 137,
     "metadata": {},
     "output_type": "execute_result"
    }
   ],
   "source": [
    "#Investigate the first 5 rows of the new dataframe \n",
    "df_estimated.head()"
   ]
  },
  {
   "cell_type": "code",
   "execution_count": 143,
   "metadata": {},
   "outputs": [],
   "source": [
    "#Save estimated ratings to csv file \n",
    "df_estimated.to_csv('df_estimated')"
   ]
  },
  {
   "cell_type": "code",
   "execution_count": null,
   "metadata": {},
   "outputs": [],
   "source": []
  }
 ],
 "metadata": {
  "kernelspec": {
   "display_name": "Python 3",
   "language": "python",
   "name": "python3"
  },
  "language_info": {
   "codemirror_mode": {
    "name": "ipython",
    "version": 3
   },
   "file_extension": ".py",
   "mimetype": "text/x-python",
   "name": "python",
   "nbconvert_exporter": "python",
   "pygments_lexer": "ipython3",
   "version": "3.6.9"
  }
 },
 "nbformat": 4,
 "nbformat_minor": 4
}
