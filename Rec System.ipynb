{
 "cells": [
  {
   "cell_type": "markdown",
   "metadata": {},
   "source": [
    "# Recommendation System"
   ]
  },
  {
   "cell_type": "code",
   "execution_count": 1,
   "metadata": {},
   "outputs": [],
   "source": [
    "#import necessary packages \n",
    "import pandas as pd\n",
    "import numpy as np\n",
    "from surprise import SVD\n",
    "from surprise.prediction_algorithms import KNNWithMeans, KNNBasic, KNNBaseline\n",
    "from surprise import Dataset, Reader\n",
    "from surprise import accuracy\n",
    "from surprise.model_selection import cross_validate, train_test_split, GridSearchCV"
   ]
  },
  {
   "cell_type": "code",
   "execution_count": 2,
   "metadata": {},
   "outputs": [],
   "source": [
    "#import dataframe \n",
    "df = pd.read_csv('modelingdata')\n",
    "df.drop(['Unnamed: 0'], axis=1, inplace=True)"
   ]
  },
  {
   "cell_type": "code",
   "execution_count": 3,
   "metadata": {
    "scrolled": true
   },
   "outputs": [
    {
     "data": {
      "text/html": [
       "<div>\n",
       "<style scoped>\n",
       "    .dataframe tbody tr th:only-of-type {\n",
       "        vertical-align: middle;\n",
       "    }\n",
       "\n",
       "    .dataframe tbody tr th {\n",
       "        vertical-align: top;\n",
       "    }\n",
       "\n",
       "    .dataframe thead th {\n",
       "        text-align: right;\n",
       "    }\n",
       "</style>\n",
       "<table border=\"1\" class=\"dataframe\">\n",
       "  <thead>\n",
       "    <tr style=\"text-align: right;\">\n",
       "      <th></th>\n",
       "      <th>artist</th>\n",
       "      <th>artist_id</th>\n",
       "      <th>album</th>\n",
       "      <th>track_name</th>\n",
       "      <th>is_explicit</th>\n",
       "      <th>track_id</th>\n",
       "      <th>danceability</th>\n",
       "      <th>energy</th>\n",
       "      <th>key</th>\n",
       "      <th>loudness</th>\n",
       "      <th>...</th>\n",
       "      <th>genre_electronic</th>\n",
       "      <th>genre_hip hop</th>\n",
       "      <th>genre_house</th>\n",
       "      <th>genre_indie</th>\n",
       "      <th>genre_pop</th>\n",
       "      <th>genre_punk</th>\n",
       "      <th>genre_r&amp;b</th>\n",
       "      <th>genre_rap</th>\n",
       "      <th>genre_rock</th>\n",
       "      <th>genre_soul</th>\n",
       "    </tr>\n",
       "  </thead>\n",
       "  <tbody>\n",
       "    <tr>\n",
       "      <th>0</th>\n",
       "      <td>Katy Perry</td>\n",
       "      <td>6jJ0s89eD6GaHleKKya26X</td>\n",
       "      <td>Katy Perry - Teenage Dream: The Complete Confe...</td>\n",
       "      <td>Firework</td>\n",
       "      <td>0</td>\n",
       "      <td>4lCv7b86sLynZbXhfScfm2</td>\n",
       "      <td>0.638</td>\n",
       "      <td>0.826</td>\n",
       "      <td>8</td>\n",
       "      <td>-4.968</td>\n",
       "      <td>...</td>\n",
       "      <td>0</td>\n",
       "      <td>0</td>\n",
       "      <td>0</td>\n",
       "      <td>0</td>\n",
       "      <td>0</td>\n",
       "      <td>0</td>\n",
       "      <td>0</td>\n",
       "      <td>0</td>\n",
       "      <td>0</td>\n",
       "      <td>0</td>\n",
       "    </tr>\n",
       "    <tr>\n",
       "      <th>1</th>\n",
       "      <td>Katy Perry</td>\n",
       "      <td>6jJ0s89eD6GaHleKKya26X</td>\n",
       "      <td>Katy Perry - Teenage Dream: The Complete Confe...</td>\n",
       "      <td>California Gurls</td>\n",
       "      <td>0</td>\n",
       "      <td>6tS3XVuOyu10897O3ae7bi</td>\n",
       "      <td>0.791</td>\n",
       "      <td>0.754</td>\n",
       "      <td>0</td>\n",
       "      <td>-3.729</td>\n",
       "      <td>...</td>\n",
       "      <td>0</td>\n",
       "      <td>0</td>\n",
       "      <td>0</td>\n",
       "      <td>0</td>\n",
       "      <td>0</td>\n",
       "      <td>0</td>\n",
       "      <td>0</td>\n",
       "      <td>0</td>\n",
       "      <td>0</td>\n",
       "      <td>0</td>\n",
       "    </tr>\n",
       "  </tbody>\n",
       "</table>\n",
       "<p>2 rows × 39 columns</p>\n",
       "</div>"
      ],
      "text/plain": [
       "       artist               artist_id  \\\n",
       "0  Katy Perry  6jJ0s89eD6GaHleKKya26X   \n",
       "1  Katy Perry  6jJ0s89eD6GaHleKKya26X   \n",
       "\n",
       "                                               album        track_name  \\\n",
       "0  Katy Perry - Teenage Dream: The Complete Confe...          Firework   \n",
       "1  Katy Perry - Teenage Dream: The Complete Confe...  California Gurls   \n",
       "\n",
       "   is_explicit                track_id  danceability  energy  key  loudness  \\\n",
       "0            0  4lCv7b86sLynZbXhfScfm2         0.638   0.826    8    -4.968   \n",
       "1            0  6tS3XVuOyu10897O3ae7bi         0.791   0.754    0    -3.729   \n",
       "\n",
       "   ...  genre_electronic  genre_hip hop  genre_house  genre_indie  genre_pop  \\\n",
       "0  ...                 0              0            0            0          0   \n",
       "1  ...                 0              0            0            0          0   \n",
       "\n",
       "   genre_punk  genre_r&b  genre_rap  genre_rock  genre_soul  \n",
       "0           0          0          0           0           0  \n",
       "1           0          0          0           0           0  \n",
       "\n",
       "[2 rows x 39 columns]"
      ]
     },
     "execution_count": 3,
     "metadata": {},
     "output_type": "execute_result"
    }
   ],
   "source": [
    "#Explore first two rows of dataframe \n",
    "df.head(2)"
   ]
  },
  {
   "cell_type": "code",
   "execution_count": 4,
   "metadata": {},
   "outputs": [
    {
     "name": "stdout",
     "output_type": "stream",
     "text": [
      "<class 'pandas.core.frame.DataFrame'>\n",
      "RangeIndex: 7041 entries, 0 to 7040\n",
      "Data columns (total 39 columns):\n",
      "artist              7041 non-null object\n",
      "artist_id           7041 non-null object\n",
      "album               7041 non-null object\n",
      "track_name          7041 non-null object\n",
      "is_explicit         7041 non-null int64\n",
      "track_id            7041 non-null object\n",
      "danceability        7041 non-null float64\n",
      "energy              7041 non-null float64\n",
      "key                 7041 non-null int64\n",
      "loudness            7041 non-null float64\n",
      "mode                7041 non-null int64\n",
      "speechiness         7041 non-null float64\n",
      "acousticness        7041 non-null float64\n",
      "instrumentalness    7041 non-null float64\n",
      "liveness            7041 non-null float64\n",
      "valence             7041 non-null float64\n",
      "tempo               7041 non-null float64\n",
      "duration_ms         7041 non-null int64\n",
      "ratings             7041 non-null int64\n",
      "decade_1960         7041 non-null int64\n",
      "decade_1970         7041 non-null int64\n",
      "decade_1980         7041 non-null int64\n",
      "decade_1990         7041 non-null int64\n",
      "decade_2000         7041 non-null int64\n",
      "decade_2010         7041 non-null int64\n",
      "genrecategory       7041 non-null object\n",
      "genre_acoustic      7041 non-null int64\n",
      "genre_country       7041 non-null int64\n",
      "genre_dance         7041 non-null int64\n",
      "genre_electronic    7041 non-null int64\n",
      "genre_hip hop       7041 non-null int64\n",
      "genre_house         7041 non-null int64\n",
      "genre_indie         7041 non-null int64\n",
      "genre_pop           7041 non-null int64\n",
      "genre_punk          7041 non-null int64\n",
      "genre_r&b           7041 non-null int64\n",
      "genre_rap           7041 non-null int64\n",
      "genre_rock          7041 non-null int64\n",
      "genre_soul          7041 non-null int64\n",
      "dtypes: float64(9), int64(24), object(6)\n",
      "memory usage: 2.1+ MB\n"
     ]
    }
   ],
   "source": [
    "df.info()"
   ]
  },
  {
   "cell_type": "code",
   "execution_count": 5,
   "metadata": {
    "scrolled": false
   },
   "outputs": [
    {
     "data": {
      "text/plain": [
       "Various Artists        467\n",
       "Panic! At The Disco     63\n",
       "Passion Pit             56\n",
       "Bastille                51\n",
       "Twenty One Pilots       43\n",
       "Name: artist, dtype: int64"
      ]
     },
     "execution_count": 5,
     "metadata": {},
     "output_type": "execute_result"
    }
   ],
   "source": [
    "#See which artists have been rated the most \n",
    "df['artist'].value_counts().head()"
   ]
  },
  {
   "cell_type": "code",
   "execution_count": 6,
   "metadata": {},
   "outputs": [
    {
     "data": {
      "text/plain": [
       "Smile        8\n",
       "Closer       8\n",
       "Gold         8\n",
       "Hurricane    8\n",
       "Heaven       7\n",
       "Name: track_name, dtype: int64"
      ]
     },
     "execution_count": 6,
     "metadata": {},
     "output_type": "execute_result"
    }
   ],
   "source": [
    "#See which tracks have been rated the most \n",
    "df['track_name'].value_counts().head()"
   ]
  },
  {
   "cell_type": "code",
   "execution_count": 7,
   "metadata": {},
   "outputs": [
    {
     "data": {
      "text/plain": [
       "3    2648\n",
       "2    1981\n",
       "4    1287\n",
       "1     916\n",
       "5     209\n",
       "Name: ratings, dtype: int64"
      ]
     },
     "execution_count": 7,
     "metadata": {},
     "output_type": "execute_result"
    }
   ],
   "source": [
    "#View the distribution of ratings \n",
    "df['ratings'].value_counts()"
   ]
  },
  {
   "cell_type": "code",
   "execution_count": 8,
   "metadata": {
    "scrolled": true
   },
   "outputs": [],
   "source": [
    "#Create a dataframe that contains artist ID, track ID, and ratings to then be put into surprise\n",
    "dataset = df[['artist_id','track_id', 'ratings']]"
   ]
  },
  {
   "cell_type": "code",
   "execution_count": 9,
   "metadata": {},
   "outputs": [
    {
     "data": {
      "text/plain": [
       "0.9995669406116341"
      ]
     },
     "execution_count": 9,
     "metadata": {},
     "output_type": "execute_result"
    }
   ],
   "source": [
    "#Check sparsity of matrix\n",
    "numratings = len(dataset['ratings'])\n",
    "numusers = len(dataset['artist_id'].unique())\n",
    "numitems = len(dataset['track_id'].unique())\n",
    "\n",
    "sparse = 1 - (numratings / (numusers*numitems))\n",
    "sparse"
   ]
  },
  {
   "cell_type": "code",
   "execution_count": 10,
   "metadata": {},
   "outputs": [],
   "source": [
    "#Filter out artists who only appear once in dataset \n",
    "dataset = dataset.groupby('artist_id').filter(lambda x: len(x)>1)"
   ]
  },
  {
   "cell_type": "code",
   "execution_count": 11,
   "metadata": {},
   "outputs": [
    {
     "data": {
      "text/plain": [
       "0.9990345136236665"
      ]
     },
     "execution_count": 11,
     "metadata": {},
     "output_type": "execute_result"
    }
   ],
   "source": [
    "#Check sparsity of matrixagain \n",
    "numratings = len(dataset['ratings'])\n",
    "numusers = len(dataset['artist_id'].unique())\n",
    "numitems = len(dataset['track_id'].unique())\n",
    "\n",
    "sparse = 1 - (numratings / (numusers*numitems))\n",
    "sparse"
   ]
  },
  {
   "cell_type": "code",
   "execution_count": 12,
   "metadata": {},
   "outputs": [
    {
     "data": {
      "text/plain": [
       "1045"
      ]
     },
     "execution_count": 12,
     "metadata": {},
     "output_type": "execute_result"
    }
   ],
   "source": [
    "#print number of unique artists \n",
    "dataset['artist_id'].nunique()"
   ]
  },
  {
   "cell_type": "code",
   "execution_count": 13,
   "metadata": {
    "scrolled": true
   },
   "outputs": [
    {
     "data": {
      "text/plain": [
       "artist_id    0\n",
       "track_id     0\n",
       "ratings      0\n",
       "dtype: int64"
      ]
     },
     "execution_count": 13,
     "metadata": {},
     "output_type": "execute_result"
    }
   ],
   "source": [
    "#Check for NA values \n",
    "dataset.isna().sum()"
   ]
  },
  {
   "cell_type": "markdown",
   "metadata": {},
   "source": [
    "### Baseline Model"
   ]
  },
  {
   "cell_type": "code",
   "execution_count": 14,
   "metadata": {},
   "outputs": [],
   "source": [
    "#Instansiate reader and data \n",
    "reader = Reader(rating_scale=(1, 5))\n",
    "data = Dataset.load_from_df(dataset, reader)"
   ]
  },
  {
   "cell_type": "code",
   "execution_count": 15,
   "metadata": {},
   "outputs": [],
   "source": [
    "#Train test split with test sizre of 20% \n",
    "trainset, testset = train_test_split(data, test_size=.25)"
   ]
  },
  {
   "cell_type": "code",
   "execution_count": 16,
   "metadata": {},
   "outputs": [
    {
     "name": "stdout",
     "output_type": "stream",
     "text": [
      "Number of artists in train set :  1020 \n",
      "\n",
      "Number of tracks in train set :  4285 \n",
      "\n"
     ]
    }
   ],
   "source": [
    "# Print number of uses and items for the trainset \n",
    "print('Number of artists in train set : ', trainset.n_users, '\\n')\n",
    "print('Number of tracks in train set : ', trainset.n_items, '\\n')"
   ]
  },
  {
   "cell_type": "code",
   "execution_count": 17,
   "metadata": {},
   "outputs": [],
   "source": [
    "#Instansiate a baseline model using KNNBaseline \n",
    "baseline = SVD(random_state=42)"
   ]
  },
  {
   "cell_type": "code",
   "execution_count": 18,
   "metadata": {},
   "outputs": [
    {
     "data": {
      "text/plain": [
       "<surprise.prediction_algorithms.matrix_factorization.SVD at 0x7ff04f9bf438>"
      ]
     },
     "execution_count": 18,
     "metadata": {},
     "output_type": "execute_result"
    }
   ],
   "source": [
    "#Fit model on the trainset \n",
    "baseline.fit(trainset)"
   ]
  },
  {
   "cell_type": "code",
   "execution_count": 19,
   "metadata": {},
   "outputs": [],
   "source": [
    "#Predict on the test set \n",
    "baselinepreds = baseline.test(testset)"
   ]
  },
  {
   "cell_type": "code",
   "execution_count": 20,
   "metadata": {},
   "outputs": [
    {
     "name": "stdout",
     "output_type": "stream",
     "text": [
      "RMSE: 0.9174\n",
      "MAE:  0.7279\n"
     ]
    },
    {
     "data": {
      "text/plain": [
       "0.7278677479994704"
      ]
     },
     "execution_count": 20,
     "metadata": {},
     "output_type": "execute_result"
    }
   ],
   "source": [
    "#Check RMSE and MAE results \n",
    "accuracy.rmse(baselinepreds)\n",
    "accuracy.mae(baselinepreds)"
   ]
  },
  {
   "cell_type": "code",
   "execution_count": 21,
   "metadata": {},
   "outputs": [
    {
     "name": "stdout",
     "output_type": "stream",
     "text": [
      "Evaluating RMSE, MAE of algorithm SVD on 3 split(s).\n",
      "\n",
      "                  Fold 1  Fold 2  Fold 3  Mean    Std     \n",
      "RMSE (testset)    0.9104  0.8906  0.8996  0.9002  0.0081  \n",
      "MAE (testset)     0.7220  0.7135  0.7136  0.7164  0.0040  \n",
      "Fit time          0.38    0.41    0.49    0.43    0.05    \n",
      "Test time         0.02    0.02    0.07    0.04    0.02    \n"
     ]
    }
   ],
   "source": [
    "#Run 3-fold cross validation on the data and print results \n",
    "cv_baseline = cross_validate(baseline, data, measures=['RMSE', 'MAE'], cv=3, verbose=True)"
   ]
  },
  {
   "cell_type": "code",
   "execution_count": 22,
   "metadata": {},
   "outputs": [
    {
     "name": "stdout",
     "output_type": "stream",
     "text": [
      "('test_rmse', array([0.91035896, 0.89061547, 0.89956751]))\n",
      "('test_mae', array([0.72202339, 0.71351398, 0.71355515]))\n",
      "('fit_time', (0.37886500358581543, 0.41103696823120117, 0.48760294914245605))\n",
      "('test_time', (0.01959395408630371, 0.020930051803588867, 0.06996798515319824))\n"
     ]
    }
   ],
   "source": [
    "# Print out the RMSE score for each fold \n",
    "for i in cv_baseline.items():\n",
    "    print(i)"
   ]
  },
  {
   "cell_type": "code",
   "execution_count": 23,
   "metadata": {},
   "outputs": [
    {
     "data": {
      "text/plain": [
       "0.9001806463295913"
      ]
     },
     "execution_count": 23,
     "metadata": {},
     "output_type": "execute_result"
    }
   ],
   "source": [
    "#Find the average test RMSE from the 3-Fold cross-validation\n",
    "np.mean(cv_baseline['test_rmse'])"
   ]
  },
  {
   "cell_type": "markdown",
   "metadata": {},
   "source": [
    "### Model 1"
   ]
  },
  {
   "cell_type": "code",
   "execution_count": 24,
   "metadata": {},
   "outputs": [],
   "source": [
    "#Set parameters for GridSearch on SVD model \n",
    "parameters = {'n_factors': [25, 50, 75, 100],\n",
    "             'reg_all': [0.01, 0.02, 0.03, 0.04, 0.05],\n",
    "             'n_epochs': [20, 30, 40, 50, 60],\n",
    "             'lr_all': [.005, .01, .05, .1]}\n",
    "gridsvd = GridSearchCV(SVD, param_grid=parameters, n_jobs=-1)"
   ]
  },
  {
   "cell_type": "code",
   "execution_count": 25,
   "metadata": {},
   "outputs": [],
   "source": [
    "# #Fit SVD model on data\n",
    "# gridsvd.fit(data)"
   ]
  },
  {
   "cell_type": "code",
   "execution_count": 26,
   "metadata": {},
   "outputs": [],
   "source": [
    "# #Print best score and best parameters from the GridSearch \n",
    "# print(gridsvd.best_score)\n",
    "# print(gridsvd.best_params)"
   ]
  },
  {
   "cell_type": "code",
   "execution_count": 27,
   "metadata": {},
   "outputs": [],
   "source": [
    "#Reinstantiate the model with the best parameters fromGridSearch \n",
    "svdtuned = SVD(n_factors=25,\n",
    "               reg_all=0.01,\n",
    "               n_epochs=60,\n",
    "               lr_all=0.05)"
   ]
  },
  {
   "cell_type": "code",
   "execution_count": 28,
   "metadata": {},
   "outputs": [],
   "source": [
    "#Fit and predict the model \n",
    "svdtuned.fit(trainset)\n",
    "svdpreds = svdtuned.test(testset)"
   ]
  },
  {
   "cell_type": "code",
   "execution_count": 29,
   "metadata": {},
   "outputs": [
    {
     "name": "stdout",
     "output_type": "stream",
     "text": [
      "RMSE: 0.8755\n",
      "MAE:  0.6881\n"
     ]
    },
    {
     "data": {
      "text/plain": [
       "0.6881069166424868"
      ]
     },
     "execution_count": 29,
     "metadata": {},
     "output_type": "execute_result"
    }
   ],
   "source": [
    "#Print RMSE and MAE results \n",
    "accuracy.rmse(svdpreds)\n",
    "accuracy.mae(svdpreds)"
   ]
  },
  {
   "cell_type": "code",
   "execution_count": 30,
   "metadata": {},
   "outputs": [
    {
     "name": "stdout",
     "output_type": "stream",
     "text": [
      "Evaluating RMSE, MAE of algorithm SVD on 3 split(s).\n",
      "\n",
      "                  Fold 1  Fold 2  Fold 3  Mean    Std     \n",
      "RMSE (testset)    0.8477  0.8446  0.8773  0.8565  0.0147  \n",
      "MAE (testset)     0.6684  0.6579  0.6832  0.6698  0.0104  \n",
      "Fit time          0.53    0.51    0.42    0.49    0.05    \n",
      "Test time         0.02    0.02    0.02    0.02    0.00    \n"
     ]
    }
   ],
   "source": [
    "#Perform 3-Fold cross validation for SVD tuned model\n",
    "cv_svd_tuned = cross_validate(svdtuned, data, measures=['RMSE', 'MAE'], cv=3, verbose=True)"
   ]
  },
  {
   "cell_type": "code",
   "execution_count": 31,
   "metadata": {},
   "outputs": [
    {
     "name": "stdout",
     "output_type": "stream",
     "text": [
      "('test_rmse', array([0.84772001, 0.84455008, 0.87730094]))\n",
      "('test_mae', array([0.66836533, 0.65794285, 0.68323986]))\n",
      "('fit_time', (0.530498743057251, 0.5117919445037842, 0.42044997215270996))\n",
      "('test_time', (0.02103590965270996, 0.02325725555419922, 0.02090597152709961))\n"
     ]
    }
   ],
   "source": [
    "#Display the results for all 3-folds \n",
    "for i in cv_svd_tuned.items():\n",
    "    print(i)"
   ]
  },
  {
   "cell_type": "code",
   "execution_count": 32,
   "metadata": {},
   "outputs": [
    {
     "data": {
      "text/plain": [
       "0.8565236772941107"
      ]
     },
     "execution_count": 32,
     "metadata": {},
     "output_type": "execute_result"
    }
   ],
   "source": [
    "# Print out the average RMSE score for the test set\n",
    "np.mean(cv_svd_tuned['test_rmse'])"
   ]
  },
  {
   "cell_type": "markdown",
   "metadata": {},
   "source": [
    "## Model 2 "
   ]
  },
  {
   "cell_type": "code",
   "execution_count": 33,
   "metadata": {},
   "outputs": [],
   "source": [
    "# Set parameters to be used in KNN models \n",
    "knn_params = {'name': ['cosine', 'pearson'],\n",
    "              'user_based':[True, False], \n",
    "              'min_support':[True, False],\n",
    "            'min_k' : [1, 2]}"
   ]
  },
  {
   "cell_type": "code",
   "execution_count": 34,
   "metadata": {},
   "outputs": [
    {
     "name": "stdout",
     "output_type": "stream",
     "text": [
      "Computing the msd similarity matrix...\n",
      "Done computing similarity matrix.\n",
      "Computing the msd similarity matrix...\n",
      "Done computing similarity matrix.\n",
      "Computing the msd similarity matrix...\n",
      "Done computing similarity matrix.\n",
      "Computing the msd similarity matrix...\n",
      "Done computing similarity matrix.\n",
      "Computing the msd similarity matrix...\n",
      "Done computing similarity matrix.\n",
      "Computing the msd similarity matrix...\n",
      "Done computing similarity matrix.\n",
      "Computing the msd similarity matrix...\n",
      "Done computing similarity matrix.\n",
      "Computing the msd similarity matrix...\n",
      "Done computing similarity matrix.\n",
      "Computing the msd similarity matrix...\n",
      "Done computing similarity matrix.\n",
      "Computing the msd similarity matrix...\n",
      "Done computing similarity matrix.\n",
      "Computing the msd similarity matrix...\n",
      "Done computing similarity matrix.\n",
      "Computing the msd similarity matrix...\n",
      "Done computing similarity matrix.\n",
      "Computing the msd similarity matrix...\n",
      "Done computing similarity matrix.\n",
      "Computing the msd similarity matrix...\n",
      "Done computing similarity matrix.\n",
      "Computing the msd similarity matrix...\n",
      "Done computing similarity matrix.\n",
      "Computing the msd similarity matrix...\n",
      "Done computing similarity matrix.\n",
      "Computing the msd similarity matrix...\n",
      "Done computing similarity matrix.\n",
      "Computing the msd similarity matrix...\n",
      "Done computing similarity matrix.\n",
      "Computing the msd similarity matrix...\n",
      "Done computing similarity matrix.\n",
      "Computing the msd similarity matrix...\n",
      "Done computing similarity matrix.\n",
      "Computing the msd similarity matrix...\n",
      "Done computing similarity matrix.\n",
      "Computing the msd similarity matrix...\n",
      "Done computing similarity matrix.\n",
      "Computing the msd similarity matrix...\n",
      "Done computing similarity matrix.\n",
      "Computing the msd similarity matrix...\n",
      "Done computing similarity matrix.\n",
      "Computing the msd similarity matrix...\n",
      "Done computing similarity matrix.\n",
      "Computing the msd similarity matrix...\n",
      "Done computing similarity matrix.\n",
      "Computing the msd similarity matrix...\n",
      "Done computing similarity matrix.\n",
      "Computing the msd similarity matrix...\n",
      "Done computing similarity matrix.\n",
      "Computing the msd similarity matrix...\n",
      "Done computing similarity matrix.\n",
      "Computing the msd similarity matrix...\n",
      "Done computing similarity matrix.\n",
      "Computing the msd similarity matrix...\n",
      "Done computing similarity matrix.\n",
      "Computing the msd similarity matrix...\n",
      "Done computing similarity matrix.\n",
      "Computing the msd similarity matrix...\n",
      "Done computing similarity matrix.\n",
      "Computing the msd similarity matrix...\n",
      "Done computing similarity matrix.\n",
      "Computing the msd similarity matrix...\n",
      "Done computing similarity matrix.\n",
      "Computing the msd similarity matrix...\n",
      "Done computing similarity matrix.\n",
      "Computing the msd similarity matrix...\n",
      "Done computing similarity matrix.\n",
      "Computing the msd similarity matrix...\n",
      "Done computing similarity matrix.\n",
      "Computing the msd similarity matrix...\n",
      "Done computing similarity matrix.\n",
      "Computing the msd similarity matrix...\n",
      "Done computing similarity matrix.\n",
      "Computing the msd similarity matrix...\n",
      "Done computing similarity matrix.\n",
      "Computing the msd similarity matrix...\n",
      "Done computing similarity matrix.\n",
      "Computing the msd similarity matrix...\n",
      "Done computing similarity matrix.\n",
      "Computing the msd similarity matrix...\n",
      "Done computing similarity matrix.\n",
      "Computing the msd similarity matrix...\n",
      "Done computing similarity matrix.\n",
      "Computing the msd similarity matrix...\n",
      "Done computing similarity matrix.\n",
      "Computing the msd similarity matrix...\n",
      "Done computing similarity matrix.\n",
      "Computing the msd similarity matrix...\n",
      "Done computing similarity matrix.\n"
     ]
    }
   ],
   "source": [
    "# Apply GridSearch to the KNN Basic model to identify the best parameters\n",
    "gsknnbasic = GridSearchCV(KNNBasic, knn_params, measures=['rmse', 'mae'], cv=3)\n",
    "gsknnbasic.fit(data)"
   ]
  },
  {
   "cell_type": "code",
   "execution_count": 35,
   "metadata": {},
   "outputs": [
    {
     "name": "stdout",
     "output_type": "stream",
     "text": [
      "{'rmse': 0.9821118908262614, 'mae': 0.790287181712963}\n",
      "{'rmse': {'name': 'cosine', 'user_based': True, 'min_support': True, 'min_k': 1}, 'mae': {'name': 'cosine', 'user_based': True, 'min_support': True, 'min_k': 1}}\n"
     ]
    }
   ],
   "source": [
    "#Display the best scores and parameters from GridSearch\n",
    "print(gsknnbasic.best_score)\n",
    "print(gsknnbasic.best_params)"
   ]
  },
  {
   "cell_type": "code",
   "execution_count": 36,
   "metadata": {},
   "outputs": [],
   "source": [
    "#Reinstantiate the model with the best parameters from GridSearch \n",
    "knnbasic_tuned = KNNBasic(sim_options={'name': 'cosine', \n",
    "                                       'user_based': True, \n",
    "                                       'min_support':True, \n",
    "                                       'min_k':1, })"
   ]
  },
  {
   "cell_type": "code",
   "execution_count": 37,
   "metadata": {},
   "outputs": [
    {
     "name": "stdout",
     "output_type": "stream",
     "text": [
      "Computing the cosine similarity matrix...\n",
      "Done computing similarity matrix.\n"
     ]
    }
   ],
   "source": [
    "\n",
    "#Fit on the train set and predict on the test set \n",
    "knnbasic_tuned.fit(trainset)\n",
    "knnbpreds = knnbasic_tuned.test(testset)"
   ]
  },
  {
   "cell_type": "code",
   "execution_count": 38,
   "metadata": {},
   "outputs": [
    {
     "name": "stdout",
     "output_type": "stream",
     "text": [
      "RMSE: 1.0089\n",
      "MAE:  0.8082\n"
     ]
    },
    {
     "data": {
      "text/plain": [
       "0.8081648662551442"
      ]
     },
     "execution_count": 38,
     "metadata": {},
     "output_type": "execute_result"
    }
   ],
   "source": [
    "#Print RMSE and MAE results \n",
    "accuracy.rmse(knnbpreds)\n",
    "accuracy.mae(knnbpreds)"
   ]
  },
  {
   "cell_type": "code",
   "execution_count": 39,
   "metadata": {},
   "outputs": [
    {
     "name": "stdout",
     "output_type": "stream",
     "text": [
      "Computing the cosine similarity matrix...\n",
      "Done computing similarity matrix.\n",
      "Computing the cosine similarity matrix...\n",
      "Done computing similarity matrix.\n",
      "Computing the cosine similarity matrix...\n",
      "Done computing similarity matrix.\n",
      "Evaluating RMSE, MAE of algorithm KNNBasic on 3 split(s).\n",
      "\n",
      "                  Fold 1  Fold 2  Fold 3  Mean    Std     \n",
      "RMSE (testset)    0.9682  0.9843  0.9932  0.9819  0.0103  \n",
      "MAE (testset)     0.7774  0.7918  0.7999  0.7897  0.0093  \n",
      "Fit time          0.07    0.04    0.04    0.05    0.01    \n",
      "Test time         0.04    0.04    0.03    0.03    0.01    \n"
     ]
    }
   ],
   "source": [
    "#Conduct cross validation for the KNNBasic tuned model \n",
    "cv_knn_basic = cross_validate(knnbasic_tuned, data, measures=['RMSE', 'MAE'], cv=3, verbose=True)"
   ]
  },
  {
   "cell_type": "code",
   "execution_count": 40,
   "metadata": {},
   "outputs": [
    {
     "name": "stdout",
     "output_type": "stream",
     "text": [
      "('test_rmse', array([0.96822418, 0.98432748, 0.99320123]))\n",
      "('test_mae', array([0.77739977, 0.79176975, 0.79993381]))\n",
      "('fit_time', (0.07319283485412598, 0.03970789909362793, 0.043701887130737305))\n",
      "('test_time', (0.03602719306945801, 0.038458824157714844, 0.026499271392822266))\n"
     ]
    }
   ],
   "source": [
    "# Print out results from the cross-valdiatoin \n",
    "for i in cv_knn_basic.items():\n",
    "    print(i)"
   ]
  },
  {
   "cell_type": "code",
   "execution_count": 41,
   "metadata": {},
   "outputs": [
    {
     "data": {
      "text/plain": [
       "0.9819176293281574"
      ]
     },
     "execution_count": 41,
     "metadata": {},
     "output_type": "execute_result"
    }
   ],
   "source": [
    "# Print out the average RMSE score for the test set\n",
    "np.mean(cv_knn_basic['test_rmse'])"
   ]
  },
  {
   "cell_type": "markdown",
   "metadata": {},
   "source": [
    "### Model 3"
   ]
  },
  {
   "cell_type": "code",
   "execution_count": 42,
   "metadata": {},
   "outputs": [
    {
     "name": "stdout",
     "output_type": "stream",
     "text": [
      "Estimating biases using als...\n",
      "Computing the msd similarity matrix...\n",
      "Done computing similarity matrix.\n",
      "Estimating biases using als...\n",
      "Computing the msd similarity matrix...\n",
      "Done computing similarity matrix.\n",
      "Estimating biases using als...\n",
      "Computing the msd similarity matrix...\n",
      "Done computing similarity matrix.\n",
      "Estimating biases using als...\n",
      "Computing the msd similarity matrix...\n",
      "Done computing similarity matrix.\n",
      "Estimating biases using als...\n",
      "Computing the msd similarity matrix...\n",
      "Done computing similarity matrix.\n",
      "Estimating biases using als...\n",
      "Computing the msd similarity matrix...\n",
      "Done computing similarity matrix.\n",
      "Estimating biases using als...\n",
      "Computing the msd similarity matrix...\n",
      "Done computing similarity matrix.\n",
      "Estimating biases using als...\n",
      "Computing the msd similarity matrix...\n",
      "Done computing similarity matrix.\n",
      "Estimating biases using als...\n",
      "Computing the msd similarity matrix...\n",
      "Done computing similarity matrix.\n",
      "Estimating biases using als...\n",
      "Computing the msd similarity matrix...\n",
      "Done computing similarity matrix.\n",
      "Estimating biases using als...\n",
      "Computing the msd similarity matrix...\n",
      "Done computing similarity matrix.\n",
      "Estimating biases using als...\n",
      "Computing the msd similarity matrix...\n",
      "Done computing similarity matrix.\n",
      "Estimating biases using als...\n",
      "Computing the msd similarity matrix...\n",
      "Done computing similarity matrix.\n",
      "Estimating biases using als...\n",
      "Computing the msd similarity matrix...\n",
      "Done computing similarity matrix.\n",
      "Estimating biases using als...\n",
      "Computing the msd similarity matrix...\n",
      "Done computing similarity matrix.\n",
      "Estimating biases using als...\n",
      "Computing the msd similarity matrix...\n",
      "Done computing similarity matrix.\n",
      "Estimating biases using als...\n",
      "Computing the msd similarity matrix...\n",
      "Done computing similarity matrix.\n",
      "Estimating biases using als...\n",
      "Computing the msd similarity matrix...\n",
      "Done computing similarity matrix.\n",
      "Estimating biases using als...\n",
      "Computing the msd similarity matrix...\n",
      "Done computing similarity matrix.\n",
      "Estimating biases using als...\n",
      "Computing the msd similarity matrix...\n",
      "Done computing similarity matrix.\n",
      "Estimating biases using als...\n",
      "Computing the msd similarity matrix...\n",
      "Done computing similarity matrix.\n",
      "Estimating biases using als...\n",
      "Computing the msd similarity matrix...\n",
      "Done computing similarity matrix.\n",
      "Estimating biases using als...\n",
      "Computing the msd similarity matrix...\n",
      "Done computing similarity matrix.\n",
      "Estimating biases using als...\n",
      "Computing the msd similarity matrix...\n",
      "Done computing similarity matrix.\n",
      "Estimating biases using als...\n",
      "Computing the msd similarity matrix...\n",
      "Done computing similarity matrix.\n",
      "Estimating biases using als...\n",
      "Computing the msd similarity matrix...\n",
      "Done computing similarity matrix.\n",
      "Estimating biases using als...\n",
      "Computing the msd similarity matrix...\n",
      "Done computing similarity matrix.\n",
      "Estimating biases using als...\n",
      "Computing the msd similarity matrix...\n",
      "Done computing similarity matrix.\n",
      "Estimating biases using als...\n",
      "Computing the msd similarity matrix...\n",
      "Done computing similarity matrix.\n",
      "Estimating biases using als...\n",
      "Computing the msd similarity matrix...\n",
      "Done computing similarity matrix.\n",
      "Estimating biases using als...\n",
      "Computing the msd similarity matrix...\n",
      "Done computing similarity matrix.\n",
      "Estimating biases using als...\n",
      "Computing the msd similarity matrix...\n",
      "Done computing similarity matrix.\n",
      "Estimating biases using als...\n",
      "Computing the msd similarity matrix...\n",
      "Done computing similarity matrix.\n",
      "Estimating biases using als...\n",
      "Computing the msd similarity matrix...\n",
      "Done computing similarity matrix.\n",
      "Estimating biases using als...\n",
      "Computing the msd similarity matrix...\n",
      "Done computing similarity matrix.\n",
      "Estimating biases using als...\n",
      "Computing the msd similarity matrix...\n",
      "Done computing similarity matrix.\n",
      "Estimating biases using als...\n",
      "Computing the msd similarity matrix...\n",
      "Done computing similarity matrix.\n",
      "Estimating biases using als...\n",
      "Computing the msd similarity matrix...\n",
      "Done computing similarity matrix.\n",
      "Estimating biases using als...\n",
      "Computing the msd similarity matrix...\n",
      "Done computing similarity matrix.\n",
      "Estimating biases using als...\n",
      "Computing the msd similarity matrix...\n",
      "Done computing similarity matrix.\n",
      "Estimating biases using als...\n",
      "Computing the msd similarity matrix...\n",
      "Done computing similarity matrix.\n",
      "Estimating biases using als...\n",
      "Computing the msd similarity matrix...\n",
      "Done computing similarity matrix.\n",
      "Estimating biases using als...\n",
      "Computing the msd similarity matrix...\n",
      "Done computing similarity matrix.\n",
      "Estimating biases using als...\n",
      "Computing the msd similarity matrix...\n",
      "Done computing similarity matrix.\n",
      "Estimating biases using als...\n",
      "Computing the msd similarity matrix...\n",
      "Done computing similarity matrix.\n",
      "Estimating biases using als...\n",
      "Computing the msd similarity matrix...\n",
      "Done computing similarity matrix.\n",
      "Estimating biases using als...\n",
      "Computing the msd similarity matrix...\n",
      "Done computing similarity matrix.\n",
      "Estimating biases using als...\n",
      "Computing the msd similarity matrix...\n",
      "Done computing similarity matrix.\n"
     ]
    }
   ],
   "source": [
    "#Apply KNN GridSearch parameters on the KNNBaseline model \n",
    "gsknnbaseline = GridSearchCV(KNNBaseline, knn_params, measures=['rmse', 'mae'], cv=3)\n",
    "gsknnbaseline.fit(data)"
   ]
  },
  {
   "cell_type": "code",
   "execution_count": 43,
   "metadata": {},
   "outputs": [
    {
     "name": "stdout",
     "output_type": "stream",
     "text": [
      "{'rmse': 0.9186507145842991, 'mae': 0.7311023655091113}\n",
      "{'rmse': {'name': 'cosine', 'user_based': True, 'min_support': True, 'min_k': 1}, 'mae': {'name': 'cosine', 'user_based': True, 'min_support': True, 'min_k': 1}}\n"
     ]
    }
   ],
   "source": [
    "#Display the best score and the best parameters \n",
    "print(gsknnbaseline.best_score)\n",
    "print(gsknnbaseline.best_params)"
   ]
  },
  {
   "cell_type": "code",
   "execution_count": 44,
   "metadata": {},
   "outputs": [],
   "source": [
    "#Reinstantiate the model with the best parameters from GridSearch \n",
    "knnbaseline_tuned = KNNBaseline(sim_options={'name': 'cosine', \n",
    "                                       'user_based': True, \n",
    "                                       'min_support':True, \n",
    "                                       'min_k':1, })"
   ]
  },
  {
   "cell_type": "code",
   "execution_count": 45,
   "metadata": {},
   "outputs": [
    {
     "name": "stdout",
     "output_type": "stream",
     "text": [
      "Estimating biases using als...\n",
      "Computing the cosine similarity matrix...\n",
      "Done computing similarity matrix.\n"
     ]
    }
   ],
   "source": [
    "#fit the trainset and predict on the test set \n",
    "knnbaseline_tuned.fit(trainset)\n",
    "knnbaselinepreds = knnbaseline_tuned.test(testset)"
   ]
  },
  {
   "cell_type": "code",
   "execution_count": 46,
   "metadata": {},
   "outputs": [
    {
     "name": "stdout",
     "output_type": "stream",
     "text": [
      "RMSE: 0.9379\n",
      "MAE:  0.7435\n"
     ]
    },
    {
     "data": {
      "text/plain": [
       "0.743518312915291"
      ]
     },
     "execution_count": 46,
     "metadata": {},
     "output_type": "execute_result"
    }
   ],
   "source": [
    "#Print the RMSE and MAE scores \n",
    "accuracy.rmse(knnbaselinepreds)\n",
    "accuracy.mae(knnbaselinepreds)"
   ]
  },
  {
   "cell_type": "code",
   "execution_count": 47,
   "metadata": {},
   "outputs": [
    {
     "name": "stdout",
     "output_type": "stream",
     "text": [
      "Estimating biases using als...\n",
      "Computing the cosine similarity matrix...\n",
      "Done computing similarity matrix.\n",
      "Estimating biases using als...\n",
      "Computing the cosine similarity matrix...\n",
      "Done computing similarity matrix.\n",
      "Estimating biases using als...\n",
      "Computing the cosine similarity matrix...\n",
      "Done computing similarity matrix.\n",
      "Evaluating RMSE, MAE of algorithm KNNBaseline on 3 split(s).\n",
      "\n",
      "                  Fold 1  Fold 2  Fold 3  Mean    Std     \n",
      "RMSE (testset)    0.9199  0.9112  0.9205  0.9172  0.0043  \n",
      "MAE (testset)     0.7344  0.7195  0.7314  0.7285  0.0064  \n",
      "Fit time          0.09    0.06    0.07    0.07    0.01    \n",
      "Test time         0.02    0.02    0.07    0.04    0.02    \n"
     ]
    }
   ],
   "source": [
    "#Perform 3 fold cross validation \n",
    "cv_knn_baseline = cross_validate(knnbaseline_tuned, data, measures=['RMSE', 'MAE'], cv=3, verbose=True)"
   ]
  },
  {
   "cell_type": "code",
   "execution_count": 48,
   "metadata": {},
   "outputs": [
    {
     "data": {
      "text/plain": [
       "0.9171864630917428"
      ]
     },
     "execution_count": 48,
     "metadata": {},
     "output_type": "execute_result"
    }
   ],
   "source": [
    "#Show the mean RMSE score for the test set \n",
    "np.mean(cv_knn_baseline['test_rmse'])"
   ]
  },
  {
   "cell_type": "markdown",
   "metadata": {},
   "source": [
    "### Model 4"
   ]
  },
  {
   "cell_type": "markdown",
   "metadata": {},
   "source": [
    "Our final model will look at the KNN Wtih Means algorithm, and apply a GridSearch similar to the KNN models above to tune our hyperparameters further."
   ]
  },
  {
   "cell_type": "code",
   "execution_count": 49,
   "metadata": {
    "scrolled": true
   },
   "outputs": [
    {
     "name": "stdout",
     "output_type": "stream",
     "text": [
      "Computing the msd similarity matrix...\n",
      "Done computing similarity matrix.\n",
      "Computing the msd similarity matrix...\n",
      "Done computing similarity matrix.\n",
      "Computing the msd similarity matrix...\n",
      "Done computing similarity matrix.\n",
      "Computing the msd similarity matrix...\n",
      "Done computing similarity matrix.\n",
      "Computing the msd similarity matrix...\n",
      "Done computing similarity matrix.\n",
      "Computing the msd similarity matrix...\n",
      "Done computing similarity matrix.\n",
      "Computing the msd similarity matrix...\n",
      "Done computing similarity matrix.\n",
      "Computing the msd similarity matrix...\n",
      "Done computing similarity matrix.\n",
      "Computing the msd similarity matrix...\n",
      "Done computing similarity matrix.\n",
      "Computing the msd similarity matrix...\n",
      "Done computing similarity matrix.\n",
      "Computing the msd similarity matrix...\n",
      "Done computing similarity matrix.\n",
      "Computing the msd similarity matrix...\n",
      "Done computing similarity matrix.\n",
      "Computing the msd similarity matrix...\n",
      "Done computing similarity matrix.\n",
      "Computing the msd similarity matrix...\n",
      "Done computing similarity matrix.\n",
      "Computing the msd similarity matrix...\n",
      "Done computing similarity matrix.\n",
      "Computing the msd similarity matrix...\n",
      "Done computing similarity matrix.\n",
      "Computing the msd similarity matrix...\n",
      "Done computing similarity matrix.\n",
      "Computing the msd similarity matrix...\n",
      "Done computing similarity matrix.\n",
      "Computing the msd similarity matrix...\n",
      "Done computing similarity matrix.\n",
      "Computing the msd similarity matrix...\n",
      "Done computing similarity matrix.\n",
      "Computing the msd similarity matrix...\n",
      "Done computing similarity matrix.\n",
      "Computing the msd similarity matrix...\n",
      "Done computing similarity matrix.\n",
      "Computing the msd similarity matrix...\n",
      "Done computing similarity matrix.\n",
      "Computing the msd similarity matrix...\n",
      "Done computing similarity matrix.\n",
      "Computing the msd similarity matrix...\n",
      "Done computing similarity matrix.\n",
      "Computing the msd similarity matrix...\n",
      "Done computing similarity matrix.\n",
      "Computing the msd similarity matrix...\n",
      "Done computing similarity matrix.\n",
      "Computing the msd similarity matrix...\n",
      "Done computing similarity matrix.\n",
      "Computing the msd similarity matrix...\n",
      "Done computing similarity matrix.\n",
      "Computing the msd similarity matrix...\n",
      "Done computing similarity matrix.\n",
      "Computing the msd similarity matrix...\n",
      "Done computing similarity matrix.\n",
      "Computing the msd similarity matrix...\n",
      "Done computing similarity matrix.\n",
      "Computing the msd similarity matrix...\n",
      "Done computing similarity matrix.\n",
      "Computing the msd similarity matrix...\n",
      "Done computing similarity matrix.\n",
      "Computing the msd similarity matrix...\n",
      "Done computing similarity matrix.\n",
      "Computing the msd similarity matrix...\n",
      "Done computing similarity matrix.\n",
      "Computing the msd similarity matrix...\n",
      "Done computing similarity matrix.\n",
      "Computing the msd similarity matrix...\n",
      "Done computing similarity matrix.\n",
      "Computing the msd similarity matrix...\n",
      "Done computing similarity matrix.\n",
      "Computing the msd similarity matrix...\n",
      "Done computing similarity matrix.\n",
      "Computing the msd similarity matrix...\n",
      "Done computing similarity matrix.\n",
      "Computing the msd similarity matrix...\n",
      "Done computing similarity matrix.\n",
      "Computing the msd similarity matrix...\n",
      "Done computing similarity matrix.\n",
      "Computing the msd similarity matrix...\n",
      "Done computing similarity matrix.\n",
      "Computing the msd similarity matrix...\n",
      "Done computing similarity matrix.\n",
      "Computing the msd similarity matrix...\n",
      "Done computing similarity matrix.\n",
      "Computing the msd similarity matrix...\n",
      "Done computing similarity matrix.\n",
      "Computing the msd similarity matrix...\n",
      "Done computing similarity matrix.\n"
     ]
    }
   ],
   "source": [
    "#Apply GridSearch to the KNNWithMeans model \n",
    "gsknnWM = GridSearchCV(KNNWithMeans, knn_params, measures=['rmse', 'mae'], cv=3)\n",
    "gsknnWM.fit(data)"
   ]
  },
  {
   "cell_type": "code",
   "execution_count": 50,
   "metadata": {},
   "outputs": [
    {
     "name": "stdout",
     "output_type": "stream",
     "text": [
      "{'rmse': 0.9821298685500585, 'mae': 0.7898775679976852}\n",
      "{'rmse': {'name': 'cosine', 'user_based': True, 'min_support': True, 'min_k': 1}, 'mae': {'name': 'cosine', 'user_based': True, 'min_support': True, 'min_k': 1}}\n"
     ]
    }
   ],
   "source": [
    "#Display the best score and best parameters from GridSearch \n",
    "print(gsknnWM.best_score)\n",
    "print(gsknnWM.best_params)"
   ]
  },
  {
   "cell_type": "code",
   "execution_count": 51,
   "metadata": {},
   "outputs": [],
   "source": [
    "#Reinstansiate the model with the best parameters \n",
    "knnwm_tuned = KNNWithMeans(sim_options={'name': 'cosine', \n",
    "                                       'user_based': True, \n",
    "                                       'min_support':True, \n",
    "                                       'min_k':1, })"
   ]
  },
  {
   "cell_type": "code",
   "execution_count": 52,
   "metadata": {},
   "outputs": [
    {
     "name": "stdout",
     "output_type": "stream",
     "text": [
      "Computing the cosine similarity matrix...\n",
      "Done computing similarity matrix.\n"
     ]
    }
   ],
   "source": [
    "#Fit on the trainset, predict on the testset \n",
    "knnwm_tuned.fit(trainset)\n",
    "knnwmpreds = knnwm_tuned.test(testset)"
   ]
  },
  {
   "cell_type": "code",
   "execution_count": 53,
   "metadata": {},
   "outputs": [
    {
     "name": "stdout",
     "output_type": "stream",
     "text": [
      "RMSE: 1.0089\n",
      "MAE:  0.8082\n"
     ]
    },
    {
     "data": {
      "text/plain": [
       "0.8081648662551442"
      ]
     },
     "execution_count": 53,
     "metadata": {},
     "output_type": "execute_result"
    }
   ],
   "source": [
    "#Print RMSE and MAE results\n",
    "accuracy.rmse(knnwmpreds)\n",
    "accuracy.mae(knnwmpreds)"
   ]
  },
  {
   "cell_type": "code",
   "execution_count": 54,
   "metadata": {},
   "outputs": [
    {
     "name": "stdout",
     "output_type": "stream",
     "text": [
      "Computing the cosine similarity matrix...\n",
      "Done computing similarity matrix.\n",
      "Computing the cosine similarity matrix...\n",
      "Done computing similarity matrix.\n",
      "Computing the cosine similarity matrix...\n",
      "Done computing similarity matrix.\n",
      "Evaluating RMSE, MAE of algorithm KNNWithMeans on 3 split(s).\n",
      "\n",
      "                  Fold 1  Fold 2  Fold 3  Mean    Std     \n",
      "RMSE (testset)    0.9839  0.9818  0.9805  0.9820  0.0014  \n",
      "MAE (testset)     0.7895  0.7853  0.7948  0.7899  0.0039  \n",
      "Fit time          0.07    0.07    0.07    0.07    0.00    \n",
      "Test time         0.03    0.02    0.02    0.02    0.00    \n"
     ]
    }
   ],
   "source": [
    "#Perform 3-Fold cross validation on KNNWithMeans model \n",
    "cv_knn_wm = cross_validate(knnwm_tuned, data, measures=['RMSE', 'MAE'], cv=3, verbose=True)"
   ]
  },
  {
   "cell_type": "code",
   "execution_count": 55,
   "metadata": {},
   "outputs": [
    {
     "data": {
      "text/plain": [
       "0.98203399188777"
      ]
     },
     "execution_count": 55,
     "metadata": {},
     "output_type": "execute_result"
    }
   ],
   "source": [
    "#Print the average RMSE score for the test set \n",
    "np.mean(cv_knn_wm['test_rmse'])"
   ]
  },
  {
   "cell_type": "markdown",
   "metadata": {},
   "source": [
    "## All Results"
   ]
  },
  {
   "cell_type": "code",
   "execution_count": 56,
   "metadata": {},
   "outputs": [
    {
     "name": "stdout",
     "output_type": "stream",
     "text": [
      "RMSE: 0.9174\n",
      "MAE:  0.7279\n",
      "RMSE: 0.8755\n",
      "MAE:  0.6881\n",
      "RMSE: 1.0089\n",
      "MAE:  0.8082\n",
      "RMSE: 0.9379\n",
      "MAE:  0.7435\n",
      "RMSE: 1.0089\n",
      "MAE:  0.8082\n"
     ]
    }
   ],
   "source": [
    "#Create a dictionary for each models' results \n",
    "baselineresult = {'model': 'baseline','RMSE': accuracy.rmse(baselinepreds), 'MAE': accuracy.mae(baselinepreds), 'CV': np.mean(cv_baseline['test_rmse'])}\n",
    "svdresult = {'model':'svd', 'RMSE': accuracy.rmse(svdpreds), 'MAE': accuracy.mae(svdpreds), 'CV': np.mean(cv_svd_tuned['test_rmse'])}\n",
    "knnbasicresult = {'model':'knnbasic','RMSE': accuracy.rmse(knnbpreds), 'MAE': accuracy.mae(knnbpreds), 'CV': np.mean(cv_knn_basic['test_rmse'])}\n",
    "knnbaselineresult = {'model':'knnbaseline','RMSE': accuracy.rmse(knnbaselinepreds), 'MAE': accuracy.mae(knnbaselinepreds), 'CV': np.mean(cv_knn_baseline['test_rmse'])}\n",
    "knnwmresult = {'model':'knnwm','RMSE': accuracy.rmse(knnwmpreds), 'MAE': accuracy.mae(knnwmpreds), 'CV': np.mean(cv_knn_wm['test_rmse'])}"
   ]
  },
  {
   "cell_type": "code",
   "execution_count": 57,
   "metadata": {},
   "outputs": [],
   "source": [
    "#Combine all the results into a list \n",
    "result_list = [baselineresult, svdresult, knnbasicresult, knnbaselineresult, knnwmresult]"
   ]
  },
  {
   "cell_type": "code",
   "execution_count": 58,
   "metadata": {},
   "outputs": [],
   "source": [
    "#Transform the results lists into a DataFrame \n",
    "df_results_updated = pd.DataFrame.from_dict(result_list, orient='columns')\n",
    "df_results_updated = df_results_updated.set_index('model')"
   ]
  },
  {
   "cell_type": "code",
   "execution_count": 59,
   "metadata": {},
   "outputs": [
    {
     "data": {
      "text/html": [
       "<div>\n",
       "<style scoped>\n",
       "    .dataframe tbody tr th:only-of-type {\n",
       "        vertical-align: middle;\n",
       "    }\n",
       "\n",
       "    .dataframe tbody tr th {\n",
       "        vertical-align: top;\n",
       "    }\n",
       "\n",
       "    .dataframe thead th {\n",
       "        text-align: right;\n",
       "    }\n",
       "</style>\n",
       "<table border=\"1\" class=\"dataframe\">\n",
       "  <thead>\n",
       "    <tr style=\"text-align: right;\">\n",
       "      <th></th>\n",
       "      <th>RMSE</th>\n",
       "      <th>MAE</th>\n",
       "      <th>CV</th>\n",
       "    </tr>\n",
       "    <tr>\n",
       "      <th>model</th>\n",
       "      <th></th>\n",
       "      <th></th>\n",
       "      <th></th>\n",
       "    </tr>\n",
       "  </thead>\n",
       "  <tbody>\n",
       "    <tr>\n",
       "      <th>baseline</th>\n",
       "      <td>0.917355</td>\n",
       "      <td>0.727868</td>\n",
       "      <td>0.900181</td>\n",
       "    </tr>\n",
       "    <tr>\n",
       "      <th>svd</th>\n",
       "      <td>0.875458</td>\n",
       "      <td>0.688107</td>\n",
       "      <td>0.856524</td>\n",
       "    </tr>\n",
       "    <tr>\n",
       "      <th>knnbasic</th>\n",
       "      <td>1.008935</td>\n",
       "      <td>0.808165</td>\n",
       "      <td>0.981918</td>\n",
       "    </tr>\n",
       "    <tr>\n",
       "      <th>knnbaseline</th>\n",
       "      <td>0.937859</td>\n",
       "      <td>0.743518</td>\n",
       "      <td>0.917186</td>\n",
       "    </tr>\n",
       "    <tr>\n",
       "      <th>knnwm</th>\n",
       "      <td>1.008935</td>\n",
       "      <td>0.808165</td>\n",
       "      <td>0.982034</td>\n",
       "    </tr>\n",
       "  </tbody>\n",
       "</table>\n",
       "</div>"
      ],
      "text/plain": [
       "                 RMSE       MAE        CV\n",
       "model                                    \n",
       "baseline     0.917355  0.727868  0.900181\n",
       "svd          0.875458  0.688107  0.856524\n",
       "knnbasic     1.008935  0.808165  0.981918\n",
       "knnbaseline  0.937859  0.743518  0.917186\n",
       "knnwm        1.008935  0.808165  0.982034"
      ]
     },
     "execution_count": 59,
     "metadata": {},
     "output_type": "execute_result"
    }
   ],
   "source": [
    "#Display the results for all of the models \n",
    "df_results_updated"
   ]
  },
  {
   "cell_type": "markdown",
   "metadata": {},
   "source": [
    "Our results show that only the SVD model performs better than the baseline, in terms of RMSE, MAE, and CV. Going forward, this is the model we will use for our recommendation system, as the KNN models in this circumstance all produce higher error results."
   ]
  },
  {
   "cell_type": "markdown",
   "metadata": {},
   "source": [
    "### Generating New Ratings"
   ]
  },
  {
   "cell_type": "code",
   "execution_count": 60,
   "metadata": {},
   "outputs": [],
   "source": [
    "#Define function that can generate new user movie ratings \n",
    "def song_rater(song_df,num, genre=None):\n",
    "    #Create new artist with artist_id = 1000\n",
    "    artistid = 1000\n",
    "    \n",
    "    #Create an empty list of ratings \n",
    "    rating_list = []\n",
    "    \n",
    "    #For all number of ratings, provide a random movie sample within the specified genre for the user to rate \n",
    "    while num > 0:\n",
    "        if genre:\n",
    "            song = song_df[song_df['genrecategory'].str.contains(genre)].sample(1)\n",
    "        else:\n",
    "            song = song_df.sample(1)\n",
    "        print(song)\n",
    "    \n",
    "    #Provide user with a prompt to rate the movie, then print the userID, movieID, then title, then append \n",
    "    #results to the rating_list \n",
    "        rating = input('How do you rate this song on a scale of 1-5, press n if you have not listened to it :\\n')\n",
    "        if rating == 'n':\n",
    "            continue\n",
    "        else:\n",
    "            rating_one_song = {'artist_id':artistid, 'track_id':song['track_id'].values[0], \n",
    "                               'ratings':rating,'track_name':song['track_name'],\n",
    "                                'artist':song['artist'].values[0], \n",
    "                               'genrecategory':song['genrecategory'].values[0]}\n",
    "            rating_list.append(rating_one_song) \n",
    "            num -= 1\n",
    "    return rating_list"
   ]
  },
  {
   "cell_type": "code",
   "execution_count": 61,
   "metadata": {
    "scrolled": true
   },
   "outputs": [
    {
     "data": {
      "text/html": [
       "<div>\n",
       "<style scoped>\n",
       "    .dataframe tbody tr th:only-of-type {\n",
       "        vertical-align: middle;\n",
       "    }\n",
       "\n",
       "    .dataframe tbody tr th {\n",
       "        vertical-align: top;\n",
       "    }\n",
       "\n",
       "    .dataframe thead th {\n",
       "        text-align: right;\n",
       "    }\n",
       "</style>\n",
       "<table border=\"1\" class=\"dataframe\">\n",
       "  <thead>\n",
       "    <tr style=\"text-align: right;\">\n",
       "      <th></th>\n",
       "      <th>artist_id</th>\n",
       "      <th>track_id</th>\n",
       "      <th>ratings</th>\n",
       "      <th>track_name</th>\n",
       "      <th>artist</th>\n",
       "      <th>genrecategory</th>\n",
       "    </tr>\n",
       "  </thead>\n",
       "  <tbody>\n",
       "    <tr>\n",
       "      <th>0</th>\n",
       "      <td>6jJ0s89eD6GaHleKKya26X</td>\n",
       "      <td>4lCv7b86sLynZbXhfScfm2</td>\n",
       "      <td>4</td>\n",
       "      <td>Firework</td>\n",
       "      <td>Katy Perry</td>\n",
       "      <td>dance</td>\n",
       "    </tr>\n",
       "    <tr>\n",
       "      <th>1</th>\n",
       "      <td>6jJ0s89eD6GaHleKKya26X</td>\n",
       "      <td>6tS3XVuOyu10897O3ae7bi</td>\n",
       "      <td>4</td>\n",
       "      <td>California Gurls</td>\n",
       "      <td>Katy Perry</td>\n",
       "      <td>dance</td>\n",
       "    </tr>\n",
       "    <tr>\n",
       "      <th>2</th>\n",
       "      <td>6jJ0s89eD6GaHleKKya26X</td>\n",
       "      <td>455AfCsOhhLPRc68sE01D8</td>\n",
       "      <td>4</td>\n",
       "      <td>Last Friday Night (T.G.I.F.)</td>\n",
       "      <td>Katy Perry</td>\n",
       "      <td>dance</td>\n",
       "    </tr>\n",
       "    <tr>\n",
       "      <th>3</th>\n",
       "      <td>6jJ0s89eD6GaHleKKya26X</td>\n",
       "      <td>14iN3o8ptQ8cFVZTEmyQRV</td>\n",
       "      <td>4</td>\n",
       "      <td>I Kissed A Girl</td>\n",
       "      <td>Katy Perry</td>\n",
       "      <td>dance</td>\n",
       "    </tr>\n",
       "    <tr>\n",
       "      <th>4</th>\n",
       "      <td>6jJ0s89eD6GaHleKKya26X</td>\n",
       "      <td>1nZzRJbFvCEct3uzu04ZoL</td>\n",
       "      <td>4</td>\n",
       "      <td>Part Of Me</td>\n",
       "      <td>Katy Perry</td>\n",
       "      <td>dance</td>\n",
       "    </tr>\n",
       "  </tbody>\n",
       "</table>\n",
       "</div>"
      ],
      "text/plain": [
       "                artist_id                track_id  ratings  \\\n",
       "0  6jJ0s89eD6GaHleKKya26X  4lCv7b86sLynZbXhfScfm2        4   \n",
       "1  6jJ0s89eD6GaHleKKya26X  6tS3XVuOyu10897O3ae7bi        4   \n",
       "2  6jJ0s89eD6GaHleKKya26X  455AfCsOhhLPRc68sE01D8        4   \n",
       "3  6jJ0s89eD6GaHleKKya26X  14iN3o8ptQ8cFVZTEmyQRV        4   \n",
       "4  6jJ0s89eD6GaHleKKya26X  1nZzRJbFvCEct3uzu04ZoL        4   \n",
       "\n",
       "                     track_name      artist genrecategory  \n",
       "0                      Firework  Katy Perry         dance  \n",
       "1              California Gurls  Katy Perry         dance  \n",
       "2  Last Friday Night (T.G.I.F.)  Katy Perry         dance  \n",
       "3               I Kissed A Girl  Katy Perry         dance  \n",
       "4                    Part Of Me  Katy Perry         dance  "
      ]
     },
     "execution_count": 61,
     "metadata": {},
     "output_type": "execute_result"
    }
   ],
   "source": [
    "#Select relevant columns for new dataframe \n",
    "dfnew = df[['artist_id', 'track_id', 'ratings', 'track_name', 'artist','genrecategory']]\n",
    "dfnew.head()"
   ]
  },
  {
   "cell_type": "code",
   "execution_count": 62,
   "metadata": {},
   "outputs": [
    {
     "name": "stdout",
     "output_type": "stream",
     "text": [
      "                   artist_id                track_id  ratings   track_name  \\\n",
      "2993  6VuMaDnrHyPL1p4EHjYLi7  6GBMbvX7sqyOxT5wWK4hgN        3  Dangerously   \n",
      "\n",
      "            artist genrecategory  \n",
      "2993  Charlie Puth         dance  \n",
      "How do you rate this song on a scale of 1-5, press n if you have not listened to it :\n",
      "3\n",
      "                   artist_id                track_id  ratings    track_name  \\\n",
      "3650  4sTQVOfp9vEMCemLw50sbu  7dpVgrdC2trdefUVOtYRrf        3  Pillow Fight   \n",
      "\n",
      "        artist genrecategory  \n",
      "3650  Galantis         dance  \n",
      "How do you rate this song on a scale of 1-5, press n if you have not listened to it :\n",
      "4\n",
      "                   artist_id                track_id  ratings  \\\n",
      "4990  4eZebkMFU3xelF8mbZYXyl  1pnwoWbZcS77Dx0jQVYK8X        3   \n",
      "\n",
      "                        track_name    artist genrecategory  \n",
      "4990  Till Sunrise (feat. Mammals)  Goldroom         dance  \n",
      "How do you rate this song on a scale of 1-5, press n if you have not listened to it :\n",
      "2\n"
     ]
    }
   ],
   "source": [
    "#Apply the song rater function to our new dataframe to generate new ratings \n",
    "artistrating = song_rater(dfnew, 3, 'dance')"
   ]
  },
  {
   "cell_type": "code",
   "execution_count": 63,
   "metadata": {},
   "outputs": [
    {
     "data": {
      "text/plain": [
       "[{'artist_id': 1000,\n",
       "  'track_id': '6GBMbvX7sqyOxT5wWK4hgN',\n",
       "  'ratings': '3',\n",
       "  'track_name': 2993    Dangerously\n",
       "  Name: track_name, dtype: object,\n",
       "  'artist': 'Charlie Puth',\n",
       "  'genrecategory': 'dance'},\n",
       " {'artist_id': 1000,\n",
       "  'track_id': '7dpVgrdC2trdefUVOtYRrf',\n",
       "  'ratings': '4',\n",
       "  'track_name': 3650    Pillow Fight\n",
       "  Name: track_name, dtype: object,\n",
       "  'artist': 'Galantis',\n",
       "  'genrecategory': 'dance'},\n",
       " {'artist_id': 1000,\n",
       "  'track_id': '1pnwoWbZcS77Dx0jQVYK8X',\n",
       "  'ratings': '2',\n",
       "  'track_name': 4990    Till Sunrise (feat. Mammals)\n",
       "  Name: track_name, dtype: object,\n",
       "  'artist': 'Goldroom',\n",
       "  'genrecategory': 'dance'}]"
      ]
     },
     "execution_count": 63,
     "metadata": {},
     "output_type": "execute_result"
    }
   ],
   "source": [
    "#investigate the response of the new ratings \n",
    "artistrating"
   ]
  },
  {
   "cell_type": "code",
   "execution_count": 64,
   "metadata": {},
   "outputs": [],
   "source": [
    "#Add new ratings to our existing DataFrame\n",
    "new_ratings_df = dataset.append(artistrating,ignore_index=True, sort=False)"
   ]
  },
  {
   "cell_type": "code",
   "execution_count": 65,
   "metadata": {},
   "outputs": [
    {
     "data": {
      "text/html": [
       "<div>\n",
       "<style scoped>\n",
       "    .dataframe tbody tr th:only-of-type {\n",
       "        vertical-align: middle;\n",
       "    }\n",
       "\n",
       "    .dataframe tbody tr th {\n",
       "        vertical-align: top;\n",
       "    }\n",
       "\n",
       "    .dataframe thead th {\n",
       "        text-align: right;\n",
       "    }\n",
       "</style>\n",
       "<table border=\"1\" class=\"dataframe\">\n",
       "  <thead>\n",
       "    <tr style=\"text-align: right;\">\n",
       "      <th></th>\n",
       "      <th>artist_id</th>\n",
       "      <th>track_id</th>\n",
       "      <th>ratings</th>\n",
       "    </tr>\n",
       "  </thead>\n",
       "  <tbody>\n",
       "    <tr>\n",
       "      <th>0</th>\n",
       "      <td>6jJ0s89eD6GaHleKKya26X</td>\n",
       "      <td>4lCv7b86sLynZbXhfScfm2</td>\n",
       "      <td>4</td>\n",
       "    </tr>\n",
       "    <tr>\n",
       "      <th>1</th>\n",
       "      <td>6jJ0s89eD6GaHleKKya26X</td>\n",
       "      <td>6tS3XVuOyu10897O3ae7bi</td>\n",
       "      <td>4</td>\n",
       "    </tr>\n",
       "    <tr>\n",
       "      <th>2</th>\n",
       "      <td>6jJ0s89eD6GaHleKKya26X</td>\n",
       "      <td>455AfCsOhhLPRc68sE01D8</td>\n",
       "      <td>4</td>\n",
       "    </tr>\n",
       "    <tr>\n",
       "      <th>3</th>\n",
       "      <td>6jJ0s89eD6GaHleKKya26X</td>\n",
       "      <td>14iN3o8ptQ8cFVZTEmyQRV</td>\n",
       "      <td>4</td>\n",
       "    </tr>\n",
       "    <tr>\n",
       "      <th>4</th>\n",
       "      <td>6jJ0s89eD6GaHleKKya26X</td>\n",
       "      <td>1nZzRJbFvCEct3uzu04ZoL</td>\n",
       "      <td>4</td>\n",
       "    </tr>\n",
       "  </tbody>\n",
       "</table>\n",
       "</div>"
      ],
      "text/plain": [
       "                artist_id                track_id ratings\n",
       "0  6jJ0s89eD6GaHleKKya26X  4lCv7b86sLynZbXhfScfm2       4\n",
       "1  6jJ0s89eD6GaHleKKya26X  6tS3XVuOyu10897O3ae7bi       4\n",
       "2  6jJ0s89eD6GaHleKKya26X  455AfCsOhhLPRc68sE01D8       4\n",
       "3  6jJ0s89eD6GaHleKKya26X  14iN3o8ptQ8cFVZTEmyQRV       4\n",
       "4  6jJ0s89eD6GaHleKKya26X  1nZzRJbFvCEct3uzu04ZoL       4"
      ]
     },
     "execution_count": 65,
     "metadata": {},
     "output_type": "execute_result"
    }
   ],
   "source": [
    "#Drop certain columns so our dataset is ready to be put into surprise \n",
    "new_ratings_df = new_ratings_df.drop(['track_name', 'artist', 'genrecategory'], axis=1)\n",
    "new_ratings_df.head()"
   ]
  },
  {
   "cell_type": "markdown",
   "metadata": {},
   "source": [
    "### Make Predictions with New Artist Ratings "
   ]
  },
  {
   "cell_type": "markdown",
   "metadata": {},
   "source": [
    "First, we will redo the same modeling process as above in order to find predictions for the above movies."
   ]
  },
  {
   "cell_type": "code",
   "execution_count": 66,
   "metadata": {},
   "outputs": [],
   "source": [
    "#Reinstantiate the dataset object with our new ratings dataframe \n",
    "new_data = Dataset.load_from_df(new_ratings_df,reader)"
   ]
  },
  {
   "cell_type": "code",
   "execution_count": 67,
   "metadata": {},
   "outputs": [
    {
     "data": {
      "text/plain": [
       "<surprise.prediction_algorithms.matrix_factorization.SVD at 0x7ff0534201d0>"
      ]
     },
     "execution_count": 67,
     "metadata": {},
     "output_type": "execute_result"
    }
   ],
   "source": [
    "#Rerun the SVD model with the same hyperparameters as before\n",
    "svd_ = SVD(n_factors= 25, reg_all=0.01, n_epochs=60, lr_all=0.05)\n",
    "#Fit the new model\n",
    "svd_.fit(new_data.build_full_trainset())"
   ]
  },
  {
   "cell_type": "code",
   "execution_count": 68,
   "metadata": {},
   "outputs": [],
   "source": [
    "# make predictions for the user based on the artist id that was generated \n",
    "list_of_tracks = []\n",
    "for t_id in dataset['track_id'].unique():\n",
    "    list_of_tracks.append( (t_id,svd_.predict(1000,t_id)[3]))"
   ]
  },
  {
   "cell_type": "code",
   "execution_count": 69,
   "metadata": {},
   "outputs": [],
   "source": [
    "# make predictions for the user based on the artist id that was generated \n",
    "list_of_tracks = []\n",
    "for t_id in new_ratings_df['track_id'].unique():\n",
    "    list_of_tracks.append( (t_id,svd_.predict(1000,t_id)[3]))"
   ]
  },
  {
   "cell_type": "code",
   "execution_count": 70,
   "metadata": {},
   "outputs": [],
   "source": [
    "# order the predictions from highest to lowest rated\n",
    "ranked_tracks = sorted(list_of_tracks, key=lambda x:x[1], reverse=True)"
   ]
  },
  {
   "cell_type": "code",
   "execution_count": 71,
   "metadata": {
    "scrolled": false
   },
   "outputs": [
    {
     "name": "stdout",
     "output_type": "stream",
     "text": [
      "Recommendation #  1 :  [['Should I Stay or Should I Go - Remastered' 'The Clash']] \n",
      "\n",
      "Recommendation #  2 :  [[\"i hate u, i love u (feat. olivia o'brien)\" 'gnash']] \n",
      "\n",
      "Recommendation #  3 :  [['Human' \"Rag'n'Bone Man\"]] \n",
      "\n",
      "Recommendation #  4 :  [['Mr. Jones' 'Counting Crows']] \n",
      "\n",
      "Recommendation #  5 :  [['Rich Girl' 'Gwen Stefani']] \n",
      "\n"
     ]
    }
   ],
   "source": [
    "# Create a function to return the top n recommended tracks for the user \n",
    "def recommended_tracks(artistrating,track_title_df,n):\n",
    "        for idx, rec in enumerate(artistrating):\n",
    "            track_name = track_title_df.loc[track_title_df['track_id'] == (rec[0])][['track_name', 'artist']].values\n",
    "            print('Recommendation # ', idx+1, ': ', track_name, '\\n')\n",
    "            n-= 1\n",
    "            if n == 0:\n",
    "                break\n",
    "            \n",
    "recommended_tracks(ranked_tracks, dfnew, 5)"
   ]
  },
  {
   "cell_type": "markdown",
   "metadata": {},
   "source": [
    "# Models Using Predicted Ratings"
   ]
  },
  {
   "cell_type": "markdown",
   "metadata": {},
   "source": [
    "Through our classification model, by tuning XGBoost, I was able to build a model with predicted ratings as the proxy for ratings. I will now repeat the steps above that were conducted for the SVD model to see how this model performs and how/if the recommendation results differ."
   ]
  },
  {
   "cell_type": "code",
   "execution_count": 72,
   "metadata": {},
   "outputs": [],
   "source": [
    "#Import the predictions dataframe \n",
    "dfpreds = pd.read_csv('predictionsdf')"
   ]
  },
  {
   "cell_type": "code",
   "execution_count": 73,
   "metadata": {},
   "outputs": [],
   "source": [
    "#Extract relevant columns to use in surprise \n",
    "preds = dfpreds[['artist_id', 'track_id', 'predicted ratings']]"
   ]
  },
  {
   "cell_type": "code",
   "execution_count": 74,
   "metadata": {},
   "outputs": [],
   "source": [
    "#Re-nstansiate reader and data \n",
    "reader = Reader(rating_scale=(1, 5))\n",
    "preds_data = Dataset.load_from_df(preds, reader)"
   ]
  },
  {
   "cell_type": "code",
   "execution_count": 75,
   "metadata": {},
   "outputs": [],
   "source": [
    "trainset, testset = train_test_split(preds_data, test_size=.2)"
   ]
  },
  {
   "cell_type": "code",
   "execution_count": 76,
   "metadata": {},
   "outputs": [],
   "source": [
    "#Set parameters for GridSearch on SVD model \n",
    "parameters = {'n_factors': [25, 50, 75, 100],\n",
    "             'reg_all': [0.01, 0.02, 0.03, 0.04, 0.05],\n",
    "             'n_epochs': [20, 30, 40, 50, 60],\n",
    "             'lr_all': [.005, .01, .05, .1]}\n",
    "gridsvd2 = GridSearchCV(SVD, param_grid=parameters, n_jobs=-1)"
   ]
  },
  {
   "cell_type": "code",
   "execution_count": 77,
   "metadata": {},
   "outputs": [],
   "source": [
    "#Refit the model \n",
    "# gridsvd2.fit(preds_data)"
   ]
  },
  {
   "cell_type": "code",
   "execution_count": 78,
   "metadata": {},
   "outputs": [],
   "source": [
    "#Print best score and best parameters from the GridSearch \n",
    "# print(gridsvd2.best_score)\n",
    "# print(gridsvd2.best_params)"
   ]
  },
  {
   "cell_type": "code",
   "execution_count": 79,
   "metadata": {},
   "outputs": [],
   "source": [
    "#Reinstantiate the model with the best parameters fromGridSearch \n",
    "svdtuned2 = SVD(n_factors=25,\n",
    "               reg_all=0.01,\n",
    "               n_epochs=30,\n",
    "               lr_all=0.05)"
   ]
  },
  {
   "cell_type": "code",
   "execution_count": 80,
   "metadata": {},
   "outputs": [],
   "source": [
    "#Fit and predict the model \n",
    "svdtuned2.fit(trainset)\n",
    "svdpreds2 = svdtuned2.test(testset)"
   ]
  },
  {
   "cell_type": "code",
   "execution_count": 81,
   "metadata": {},
   "outputs": [
    {
     "name": "stdout",
     "output_type": "stream",
     "text": [
      "RMSE: 0.2450\n",
      "MAE:  0.1859\n"
     ]
    },
    {
     "data": {
      "text/plain": [
       "0.18594162954299742"
      ]
     },
     "execution_count": 81,
     "metadata": {},
     "output_type": "execute_result"
    }
   ],
   "source": [
    "#Print RMSE and MAE results \n",
    "accuracy.rmse(svdpreds2)\n",
    "accuracy.mae(svdpreds2)"
   ]
  },
  {
   "cell_type": "markdown",
   "metadata": {},
   "source": [
    "The RMSE is approx. 0.24 and MAE is 0.18; significantly stronger results to the SVD model with the integer ratings. The next step here would be to see how what tracks our recommendation system provides using these new ratings."
   ]
  },
  {
   "cell_type": "markdown",
   "metadata": {},
   "source": [
    "### Generating New Ratings for New Model "
   ]
  },
  {
   "cell_type": "code",
   "execution_count": 82,
   "metadata": {},
   "outputs": [
    {
     "data": {
      "text/html": [
       "<div>\n",
       "<style scoped>\n",
       "    .dataframe tbody tr th:only-of-type {\n",
       "        vertical-align: middle;\n",
       "    }\n",
       "\n",
       "    .dataframe tbody tr th {\n",
       "        vertical-align: top;\n",
       "    }\n",
       "\n",
       "    .dataframe thead th {\n",
       "        text-align: right;\n",
       "    }\n",
       "</style>\n",
       "<table border=\"1\" class=\"dataframe\">\n",
       "  <thead>\n",
       "    <tr style=\"text-align: right;\">\n",
       "      <th></th>\n",
       "      <th>Unnamed: 0</th>\n",
       "      <th>is_explicit</th>\n",
       "      <th>danceability</th>\n",
       "      <th>energy</th>\n",
       "      <th>key</th>\n",
       "      <th>loudness</th>\n",
       "      <th>mode</th>\n",
       "      <th>speechiness</th>\n",
       "      <th>acousticness</th>\n",
       "      <th>instrumentalness</th>\n",
       "      <th>...</th>\n",
       "      <th>genre_rap</th>\n",
       "      <th>genre_rock</th>\n",
       "      <th>genre_soul</th>\n",
       "      <th>predicted ratings</th>\n",
       "      <th>artist</th>\n",
       "      <th>artist_id</th>\n",
       "      <th>album</th>\n",
       "      <th>track_name</th>\n",
       "      <th>track_id</th>\n",
       "      <th>genrecategory</th>\n",
       "    </tr>\n",
       "  </thead>\n",
       "  <tbody>\n",
       "    <tr>\n",
       "      <th>0</th>\n",
       "      <td>0</td>\n",
       "      <td>0</td>\n",
       "      <td>0.638</td>\n",
       "      <td>0.826</td>\n",
       "      <td>8</td>\n",
       "      <td>-4.968</td>\n",
       "      <td>1</td>\n",
       "      <td>0.0479</td>\n",
       "      <td>0.13900</td>\n",
       "      <td>0.0</td>\n",
       "      <td>...</td>\n",
       "      <td>0</td>\n",
       "      <td>0</td>\n",
       "      <td>0</td>\n",
       "      <td>2.879912</td>\n",
       "      <td>Katy Perry</td>\n",
       "      <td>6jJ0s89eD6GaHleKKya26X</td>\n",
       "      <td>Katy Perry - Teenage Dream: The Complete Confe...</td>\n",
       "      <td>Firework</td>\n",
       "      <td>4lCv7b86sLynZbXhfScfm2</td>\n",
       "      <td>dance</td>\n",
       "    </tr>\n",
       "    <tr>\n",
       "      <th>1</th>\n",
       "      <td>1</td>\n",
       "      <td>0</td>\n",
       "      <td>0.791</td>\n",
       "      <td>0.754</td>\n",
       "      <td>0</td>\n",
       "      <td>-3.729</td>\n",
       "      <td>1</td>\n",
       "      <td>0.0569</td>\n",
       "      <td>0.00446</td>\n",
       "      <td>0.0</td>\n",
       "      <td>...</td>\n",
       "      <td>0</td>\n",
       "      <td>0</td>\n",
       "      <td>0</td>\n",
       "      <td>2.969021</td>\n",
       "      <td>Katy Perry</td>\n",
       "      <td>6jJ0s89eD6GaHleKKya26X</td>\n",
       "      <td>Katy Perry - Teenage Dream: The Complete Confe...</td>\n",
       "      <td>California Gurls</td>\n",
       "      <td>6tS3XVuOyu10897O3ae7bi</td>\n",
       "      <td>dance</td>\n",
       "    </tr>\n",
       "  </tbody>\n",
       "</table>\n",
       "<p>2 rows × 40 columns</p>\n",
       "</div>"
      ],
      "text/plain": [
       "   Unnamed: 0  is_explicit  danceability  energy  key  loudness  mode  \\\n",
       "0           0            0         0.638   0.826    8    -4.968     1   \n",
       "1           1            0         0.791   0.754    0    -3.729     1   \n",
       "\n",
       "   speechiness  acousticness  instrumentalness  ...  genre_rap  genre_rock  \\\n",
       "0       0.0479       0.13900               0.0  ...          0           0   \n",
       "1       0.0569       0.00446               0.0  ...          0           0   \n",
       "\n",
       "   genre_soul  predicted ratings      artist               artist_id  \\\n",
       "0           0           2.879912  Katy Perry  6jJ0s89eD6GaHleKKya26X   \n",
       "1           0           2.969021  Katy Perry  6jJ0s89eD6GaHleKKya26X   \n",
       "\n",
       "                                               album        track_name  \\\n",
       "0  Katy Perry - Teenage Dream: The Complete Confe...          Firework   \n",
       "1  Katy Perry - Teenage Dream: The Complete Confe...  California Gurls   \n",
       "\n",
       "                 track_id  genrecategory  \n",
       "0  4lCv7b86sLynZbXhfScfm2          dance  \n",
       "1  6tS3XVuOyu10897O3ae7bi          dance  \n",
       "\n",
       "[2 rows x 40 columns]"
      ]
     },
     "execution_count": 82,
     "metadata": {},
     "output_type": "execute_result"
    }
   ],
   "source": [
    "dfpreds.head(2)"
   ]
  },
  {
   "cell_type": "code",
   "execution_count": 83,
   "metadata": {},
   "outputs": [],
   "source": [
    "new_preds_rating = dfpreds[['artist_id', 'track_id', 'predicted ratings', 'track_name', 'artist','genrecategory']]"
   ]
  },
  {
   "cell_type": "code",
   "execution_count": 84,
   "metadata": {},
   "outputs": [
    {
     "name": "stdout",
     "output_type": "stream",
     "text": [
      "                   artist_id                track_id  predicted ratings  \\\n",
      "3346  2xLEV2jDreAOcpJXFNoXyt  0aJhLmZV80gfqL8x9yDIpn           2.524404   \n",
      "\n",
      "           track_name                    artist genrecategory  \n",
      "3346  Fine and Mellow  Hurray For The Riff Raff       country  \n",
      "How do you rate this song on a scale of 1-5, press n if you have not listened to it :\n",
      "3.2\n",
      "                   artist_id                track_id  predicted ratings  \\\n",
      "1379  2DnqqkzzDKm3vAoyHtn8So  4KoecuyOpZaNFZ0UqVsllc           3.212297   \n",
      "\n",
      "     track_name         artist genrecategory  \n",
      "1379  Follow Me  Uncle Kracker       country  \n",
      "How do you rate this song on a scale of 1-5, press n if you have not listened to it :\n",
      "4.1\n",
      "                   artist_id                track_id  predicted ratings  \\\n",
      "4197  7z5WFjZAIYejWy0NI5lv4T  2pLw1tu9QEGeidJKBZRaZI           2.555068   \n",
      "\n",
      "         track_name      artist genrecategory  \n",
      "4197  Already Ready  Dan + Shay       country  \n",
      "How do you rate this song on a scale of 1-5, press n if you have not listened to it :\n",
      "2.5\n"
     ]
    }
   ],
   "source": [
    "#Apply the song rater function to our new dataframe to generate new ratings \n",
    "artistrating2 = song_rater(new_preds_rating, 3, 'country')"
   ]
  },
  {
   "cell_type": "code",
   "execution_count": 85,
   "metadata": {},
   "outputs": [
    {
     "data": {
      "text/plain": [
       "[{'artist_id': 1000,\n",
       "  'track_id': '0aJhLmZV80gfqL8x9yDIpn',\n",
       "  'ratings': '3.2',\n",
       "  'track_name': 3346    Fine and Mellow\n",
       "  Name: track_name, dtype: object,\n",
       "  'artist': 'Hurray For The Riff Raff',\n",
       "  'genrecategory': 'country'},\n",
       " {'artist_id': 1000,\n",
       "  'track_id': '4KoecuyOpZaNFZ0UqVsllc',\n",
       "  'ratings': '4.1',\n",
       "  'track_name': 1379    Follow Me\n",
       "  Name: track_name, dtype: object,\n",
       "  'artist': 'Uncle Kracker',\n",
       "  'genrecategory': 'country'},\n",
       " {'artist_id': 1000,\n",
       "  'track_id': '2pLw1tu9QEGeidJKBZRaZI',\n",
       "  'ratings': '2.5',\n",
       "  'track_name': 4197    Already Ready\n",
       "  Name: track_name, dtype: object,\n",
       "  'artist': 'Dan + Shay',\n",
       "  'genrecategory': 'country'}]"
      ]
     },
     "execution_count": 85,
     "metadata": {},
     "output_type": "execute_result"
    }
   ],
   "source": [
    "# Investigate new ratings \n",
    "artistrating2"
   ]
  },
  {
   "cell_type": "code",
   "execution_count": 86,
   "metadata": {},
   "outputs": [],
   "source": [
    "#Add new ratings to our existing DataFrame\n",
    "new_preds_df = dfpreds.append(artistrating2,ignore_index=True, sort=False)"
   ]
  },
  {
   "cell_type": "code",
   "execution_count": 87,
   "metadata": {},
   "outputs": [
    {
     "data": {
      "text/html": [
       "<div>\n",
       "<style scoped>\n",
       "    .dataframe tbody tr th:only-of-type {\n",
       "        vertical-align: middle;\n",
       "    }\n",
       "\n",
       "    .dataframe tbody tr th {\n",
       "        vertical-align: top;\n",
       "    }\n",
       "\n",
       "    .dataframe thead th {\n",
       "        text-align: right;\n",
       "    }\n",
       "</style>\n",
       "<table border=\"1\" class=\"dataframe\">\n",
       "  <thead>\n",
       "    <tr style=\"text-align: right;\">\n",
       "      <th></th>\n",
       "      <th>artist_id</th>\n",
       "      <th>track_id</th>\n",
       "      <th>predicted ratings</th>\n",
       "    </tr>\n",
       "  </thead>\n",
       "  <tbody>\n",
       "    <tr>\n",
       "      <th>0</th>\n",
       "      <td>6jJ0s89eD6GaHleKKya26X</td>\n",
       "      <td>4lCv7b86sLynZbXhfScfm2</td>\n",
       "      <td>2.879912</td>\n",
       "    </tr>\n",
       "    <tr>\n",
       "      <th>1</th>\n",
       "      <td>6jJ0s89eD6GaHleKKya26X</td>\n",
       "      <td>6tS3XVuOyu10897O3ae7bi</td>\n",
       "      <td>2.969021</td>\n",
       "    </tr>\n",
       "    <tr>\n",
       "      <th>2</th>\n",
       "      <td>6jJ0s89eD6GaHleKKya26X</td>\n",
       "      <td>455AfCsOhhLPRc68sE01D8</td>\n",
       "      <td>2.768275</td>\n",
       "    </tr>\n",
       "    <tr>\n",
       "      <th>3</th>\n",
       "      <td>6jJ0s89eD6GaHleKKya26X</td>\n",
       "      <td>14iN3o8ptQ8cFVZTEmyQRV</td>\n",
       "      <td>3.096658</td>\n",
       "    </tr>\n",
       "    <tr>\n",
       "      <th>4</th>\n",
       "      <td>6jJ0s89eD6GaHleKKya26X</td>\n",
       "      <td>1nZzRJbFvCEct3uzu04ZoL</td>\n",
       "      <td>2.780582</td>\n",
       "    </tr>\n",
       "  </tbody>\n",
       "</table>\n",
       "</div>"
      ],
      "text/plain": [
       "                artist_id                track_id  predicted ratings\n",
       "0  6jJ0s89eD6GaHleKKya26X  4lCv7b86sLynZbXhfScfm2           2.879912\n",
       "1  6jJ0s89eD6GaHleKKya26X  6tS3XVuOyu10897O3ae7bi           2.969021\n",
       "2  6jJ0s89eD6GaHleKKya26X  455AfCsOhhLPRc68sE01D8           2.768275\n",
       "3  6jJ0s89eD6GaHleKKya26X  14iN3o8ptQ8cFVZTEmyQRV           3.096658\n",
       "4  6jJ0s89eD6GaHleKKya26X  1nZzRJbFvCEct3uzu04ZoL           2.780582"
      ]
     },
     "execution_count": 87,
     "metadata": {},
     "output_type": "execute_result"
    }
   ],
   "source": [
    "#Drop certain columns so our dataset is ready to be put into surprise \n",
    "new_preds_df = new_preds_df[['artist_id', 'track_id', 'predicted ratings']]\n",
    "new_preds_df.head()"
   ]
  },
  {
   "cell_type": "markdown",
   "metadata": {},
   "source": [
    "### Making Recommendations on New Model"
   ]
  },
  {
   "cell_type": "code",
   "execution_count": 88,
   "metadata": {},
   "outputs": [],
   "source": [
    "#Reinstantiate the dataset object with our new ratings dataframe \n",
    "new_preds = Dataset.load_from_df(new_preds_df,reader)"
   ]
  },
  {
   "cell_type": "code",
   "execution_count": 89,
   "metadata": {},
   "outputs": [],
   "source": [
    "# make predictions for the user based on the artist id that was generated \n",
    "list_of_tracks = []\n",
    "for t_id in new_preds_df['track_id'].unique():\n",
    "    list_of_tracks.append( (t_id,svd_.predict(1000,t_id)[3]))"
   ]
  },
  {
   "cell_type": "code",
   "execution_count": 90,
   "metadata": {},
   "outputs": [],
   "source": [
    "# order the predictions from highest to lowest rated\n",
    "ranked_tracks = sorted(list_of_tracks, key=lambda x:x[1], reverse=True)"
   ]
  },
  {
   "cell_type": "code",
   "execution_count": 91,
   "metadata": {
    "scrolled": true
   },
   "outputs": [
    {
     "name": "stdout",
     "output_type": "stream",
     "text": [
      "Recommendation #  1 :  [['Should I Stay or Should I Go - Remastered' 'The Clash']] \n",
      "\n",
      "Recommendation #  2 :  [[\"i hate u, i love u (feat. olivia o'brien)\" 'gnash']] \n",
      "\n",
      "Recommendation #  3 :  [['Human' \"Rag'n'Bone Man\"]] \n",
      "\n",
      "Recommendation #  4 :  [['Mr. Jones' 'Counting Crows']] \n",
      "\n",
      "Recommendation #  5 :  [['Rich Girl' 'Gwen Stefani']] \n",
      "\n"
     ]
    }
   ],
   "source": [
    "recommended_tracks(ranked_tracks, dfpreds, 5)"
   ]
  },
  {
   "cell_type": "markdown",
   "metadata": {},
   "source": [
    "# Extracting Predictions for all Artists and Tracks"
   ]
  },
  {
   "cell_type": "markdown",
   "metadata": {},
   "source": [
    "Our final step in the process will be to create a Dataframe that includes all the estimated ratings for every combination of artist_id and track_id. Once this information is clearly presented in a Dataframe, we will be able to conduct some post-modeling EDA to determine how or if trends from our estimators differ from our original ratings."
   ]
  },
  {
   "cell_type": "code",
   "execution_count": 92,
   "metadata": {},
   "outputs": [],
   "source": [
    "#Create list of unique aritst_ids and track_ids \n",
    "artistids = new_preds_df['artist_id'].unique()\n",
    "trackids = new_preds_df['track_id'].unique()"
   ]
  },
  {
   "cell_type": "code",
   "execution_count": 93,
   "metadata": {},
   "outputs": [],
   "source": [
    "#Create a list and append the artist_id, , and estimated ratings \n",
    "estimations = [] \n",
    "for u in artistids:\n",
    "    for m in trackids:\n",
    "        predicted = svdtuned2.predict(u, m)\n",
    "        estimations.append([u, m, predicted[3]])"
   ]
  },
  {
   "cell_type": "code",
   "execution_count": 94,
   "metadata": {},
   "outputs": [],
   "source": [
    "#Convert the list to a dataframe\n",
    "df_estimated = pd.DataFrame(estimations)"
   ]
  },
  {
   "cell_type": "code",
   "execution_count": 95,
   "metadata": {},
   "outputs": [],
   "source": [
    "#rename columns of DataFrame \n",
    "df_estimated = df_estimated.rename(columns={0: 'artist_id', 1: 'track_id', 2:'estimatedrating'})"
   ]
  },
  {
   "cell_type": "code",
   "execution_count": 96,
   "metadata": {},
   "outputs": [
    {
     "data": {
      "text/html": [
       "<div>\n",
       "<style scoped>\n",
       "    .dataframe tbody tr th:only-of-type {\n",
       "        vertical-align: middle;\n",
       "    }\n",
       "\n",
       "    .dataframe tbody tr th {\n",
       "        vertical-align: top;\n",
       "    }\n",
       "\n",
       "    .dataframe thead th {\n",
       "        text-align: right;\n",
       "    }\n",
       "</style>\n",
       "<table border=\"1\" class=\"dataframe\">\n",
       "  <thead>\n",
       "    <tr style=\"text-align: right;\">\n",
       "      <th></th>\n",
       "      <th>artist_id</th>\n",
       "      <th>track_id</th>\n",
       "      <th>estimatedrating</th>\n",
       "    </tr>\n",
       "  </thead>\n",
       "  <tbody>\n",
       "    <tr>\n",
       "      <th>0</th>\n",
       "      <td>6jJ0s89eD6GaHleKKya26X</td>\n",
       "      <td>4lCv7b86sLynZbXhfScfm2</td>\n",
       "      <td>2.890218</td>\n",
       "    </tr>\n",
       "    <tr>\n",
       "      <th>1</th>\n",
       "      <td>6jJ0s89eD6GaHleKKya26X</td>\n",
       "      <td>6tS3XVuOyu10897O3ae7bi</td>\n",
       "      <td>2.957886</td>\n",
       "    </tr>\n",
       "    <tr>\n",
       "      <th>2</th>\n",
       "      <td>6jJ0s89eD6GaHleKKya26X</td>\n",
       "      <td>455AfCsOhhLPRc68sE01D8</td>\n",
       "      <td>2.792440</td>\n",
       "    </tr>\n",
       "    <tr>\n",
       "      <th>3</th>\n",
       "      <td>6jJ0s89eD6GaHleKKya26X</td>\n",
       "      <td>14iN3o8ptQ8cFVZTEmyQRV</td>\n",
       "      <td>3.082172</td>\n",
       "    </tr>\n",
       "    <tr>\n",
       "      <th>4</th>\n",
       "      <td>6jJ0s89eD6GaHleKKya26X</td>\n",
       "      <td>1nZzRJbFvCEct3uzu04ZoL</td>\n",
       "      <td>2.801297</td>\n",
       "    </tr>\n",
       "  </tbody>\n",
       "</table>\n",
       "</div>"
      ],
      "text/plain": [
       "                artist_id                track_id  estimatedrating\n",
       "0  6jJ0s89eD6GaHleKKya26X  4lCv7b86sLynZbXhfScfm2         2.890218\n",
       "1  6jJ0s89eD6GaHleKKya26X  6tS3XVuOyu10897O3ae7bi         2.957886\n",
       "2  6jJ0s89eD6GaHleKKya26X  455AfCsOhhLPRc68sE01D8         2.792440\n",
       "3  6jJ0s89eD6GaHleKKya26X  14iN3o8ptQ8cFVZTEmyQRV         3.082172\n",
       "4  6jJ0s89eD6GaHleKKya26X  1nZzRJbFvCEct3uzu04ZoL         2.801297"
      ]
     },
     "execution_count": 96,
     "metadata": {},
     "output_type": "execute_result"
    }
   ],
   "source": [
    "#Investigate the first 5 rows of the new dataframe \n",
    "df_estimated.head()"
   ]
  },
  {
   "cell_type": "code",
   "execution_count": 99,
   "metadata": {},
   "outputs": [],
   "source": [
    "# #Take sample of 10,000 rows from our dataframe to use as sample for post model EDA \n",
    "# df_estimated_sample = df_estimated.sample(n=100000, random_state=10)"
   ]
  },
  {
   "cell_type": "code",
   "execution_count": null,
   "metadata": {},
   "outputs": [],
   "source": [
    "# df_estimated.to_csv('df_estimated')"
   ]
  }
 ],
 "metadata": {
  "kernelspec": {
   "display_name": "Python 3",
   "language": "python",
   "name": "python3"
  },
  "language_info": {
   "codemirror_mode": {
    "name": "ipython",
    "version": 3
   },
   "file_extension": ".py",
   "mimetype": "text/x-python",
   "name": "python",
   "nbconvert_exporter": "python",
   "pygments_lexer": "ipython3",
   "version": "3.6.9"
  }
 },
 "nbformat": 4,
 "nbformat_minor": 4
}
